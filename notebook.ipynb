{
 "cells": [
  {
   "cell_type": "code",
   "execution_count": 5,
   "metadata": {},
   "outputs": [
    {
     "data": {
      "text/plain": [
       "{'ResponseMetadata': {'RequestId': '0RG4GDRCM81KGVQF',\n",
       "  'HostId': '4djI55p2auFpBZNpP3N6GnG2ZsdLYi9Y2GAoKYZz2laXFlXsU9ANdgJYwkGqREkj4NVw48OjADCgM4Xu3Ujv4WCFyiqABLXNFWHuMlKFrBA=',\n",
       "  'HTTPStatusCode': 200,\n",
       "  'HTTPHeaders': {'x-amz-id-2': '4djI55p2auFpBZNpP3N6GnG2ZsdLYi9Y2GAoKYZz2laXFlXsU9ANdgJYwkGqREkj4NVw48OjADCgM4Xu3Ujv4WCFyiqABLXNFWHuMlKFrBA=',\n",
       "   'x-amz-request-id': '0RG4GDRCM81KGVQF',\n",
       "   'date': 'Sat, 13 Jan 2024 00:12:55 GMT',\n",
       "   'last-modified': 'Sat, 13 Jan 2024 00:12:09 GMT',\n",
       "   'etag': '\"51221b1484a16999fee4056d311567e4\"',\n",
       "   'x-amz-server-side-encryption': 'AES256',\n",
       "   'accept-ranges': 'bytes',\n",
       "   'content-type': 'binary/octet-stream',\n",
       "   'server': 'AmazonS3',\n",
       "   'content-length': '13308'},\n",
       "  'RetryAttempts': 0},\n",
       " 'AcceptRanges': 'bytes',\n",
       " 'LastModified': datetime.datetime(2024, 1, 13, 0, 12, 9, tzinfo=tzutc()),\n",
       " 'ContentLength': 13308,\n",
       " 'ETag': '\"51221b1484a16999fee4056d311567e4\"',\n",
       " 'ContentType': 'binary/octet-stream',\n",
       " 'ServerSideEncryption': 'AES256',\n",
       " 'Metadata': {},\n",
       " 'Body': <botocore.response.StreamingBody at 0x25611a99c60>}"
      ]
     },
     "execution_count": 5,
     "metadata": {},
     "output_type": "execute_result"
    }
   ],
   "source": [
    "import boto3\n",
    "import json\n",
    "\n",
    "s3 = boto3.client('s3')\n",
    "bucket_name = 'exam-pas'\n",
    "file_key = 'user_links.json'\n",
    "\n",
    "response = s3.get_object(Bucket=bucket_name, Key=file_key)\n",
    "#user_data = json.loads(response['Body'].read().decode('utf-8'))\n",
    "response\n"
   ]
  },
  {
   "cell_type": "code",
   "execution_count": 4,
   "metadata": {},
   "outputs": [
    {
     "data": {
      "text/plain": [
       "{'joaozinho@gmail.com': {'event_id': 'evt_1OUeisD1X8yObih9UyVjDqci',\n",
       "  'checkout_session_id': 'cs_test_a1Hqw7i4VSF5qYziWl65n8g1wnXiEYJBUzStV9ECpLujMHcxiQJxIRk8MH',\n",
       "  'user_identifier': 'ca1144bf-3d60-486d-8886-f313dd604fe8'},\n",
       " 'pedrinho@gmail.com': {'event_id': 'evt_1OUerdD1X8yObih9HB8gtWHq',\n",
       "  'checkout_session_id': 'cs_test_a1YE2X63Z0H1UP9Bvtjp6BpnwNmPV8j3yoxQSxRyb2DVCzsAazp2u19WAS',\n",
       "  'user_identifier': 'c7d3e6b4-638d-40cc-ac38-da67657b0cc3'},\n",
       " 'laurinha@gmail.com': {'event_id': 'evt_1OV2KOD1X8yObih9DQHBwK1e',\n",
       "  'checkout_session_id': 'cs_test_a1pUYJINuz454lO4WdqCVw1KYKrioa06m0sGbp5LA2o2sRvBpaRGezpjDB',\n",
       "  'user_identifier': '3f4704c0-bcc1-4b1b-be9f-4e19509b3a8a'},\n",
       " 'cazcao@gmail.com': {'event_id': 'evt_1OVKlpD1X8yObih9pAsA5j8X',\n",
       "  'checkout_session_id': 'cs_test_a11PgL1v0qayk12kV05noYZvruWVpx2paEtOjAJGARkwWwmKufFNeb9OJv',\n",
       "  'user_identifier': '7072357f-5144-4e34-b2f8-7261e2cf3a55'},\n",
       " 'magali@gmail.com': {'event_id': 'evt_1OVKtsD1X8yObih9hnfS4PGj',\n",
       "  'checkout_session_id': 'cs_test_a1CW8kf4Em5WNv6u29iTtY2BgEBaAiJHwhCEQN2ToQlXubkObMKY5xzhmn',\n",
       "  'user_identifier': 'f51c6219-f40f-40f6-b53a-8888a53c2548'},\n",
       " 'bentinho@gmail.com': {'event_id': 'evt_1OVMwVD1X8yObih9g50azlFj',\n",
       "  'checkout_session_id': 'cs_test_a1otBJHavS2Ce8ELOago0zpJYg0pc0jpv9T7xIwbPUiTxTjsaZFwL8oB9h',\n",
       "  'user_identifier': 'bb4caf6d-915d-46f0-a621-c684772f67dd'},\n",
       " 'francisco@gmail.com': {'event_id': 'evt_1OVNYpD1X8yObih9BH39YXG3',\n",
       "  'checkout_session_id': 'cs_test_a1ASbvjxFACS6SG0zNBvpjvGZOVmdCd7yAW3SMVI8tQq18bPj2NPUE1txc',\n",
       "  'user_identifier': 'b0d274c7-578e-4f6e-98a4-f7be51764463'},\n",
       " 'xyz@gmail.com': {'event_id': 'evt_1OVNeWD1X8yObih9vdUGJPzd',\n",
       "  'checkout_session_id': 'cs_test_a1x3S7eY0dzbB3w3tXTqi5VbCG9hd64u5b76G74RhnmB21Bdyi0ZRWlTXJ',\n",
       "  'user_identifier': '39c3709c-0323-4593-8574-8ab054b135f5'},\n",
       " 'abc@gmail.com': {'event_id': 'evt_1OVNi4D1X8yObih9QHJuzdD1',\n",
       "  'checkout_session_id': 'cs_test_a1uPdhfwzc9aKbRqQoxnbwgYTkhAr7rO7OUvMexZ23qkbXcXP4f88OX5Gu',\n",
       "  'user_identifier': '87e3b9f8-2221-4ed1-a99a-ddc8e9e47865'},\n",
       " 'bartolomeu@gmail.com': {'event_id': 'evt_1OVNpeD1X8yObih9ApCqFIxU',\n",
       "  'checkout_session_id': 'cs_test_a1a75kadgWhksFvf9jNQLvWWbR7W6WHhEL1bxTHQIsgqRHuALAgUCJ5HC0',\n",
       "  'user_identifier': '5862cdd5-e5b1-49d8-aba4-35c455025469'},\n",
       " 'tintin@gmail.com': {'event_id': 'evt_1OVNUgD1X8yObih92xpNVV48',\n",
       "  'checkout_session_id': 'cs_test_a10jAD8rhgqsSP0ZNUfEAkZHsHBR7E0jXc1YPNgzWfy4plKecIg5xCEyiF',\n",
       "  'user_identifier': 'd1702f15-08e6-4304-b4c6-037dffe8df3d'},\n",
       " 'bento@gmail.com': {'event_id': 'evt_1OVeejD1X8yObih9JyguCEul',\n",
       "  'checkout_session_id': 'cs_test_a1vl6RQKlmCna07QBq474C8kKt5em3CfJcRFHWbSmp2icGnhrZDIl1a2xv',\n",
       "  'user_identifier': '0c83dafa-0188-41e3-be75-addea438a542'},\n",
       " 'jpmarinho.martins@gmail.com': {'event_id': 'evt_1OVepSD1X8yObih9UTQx78jE',\n",
       "  'checkout_session_id': 'cs_test_a1MbkmGyxRfRkzcbIfG9EHDpHKRBILSAPjv86LcqAJGZsV5zst5kRoLxnB',\n",
       "  'user_identifier': '2c93cae9-32a4-4ec3-b3a9-3decd83a6e6a'},\n",
       " 'gaminha@gmail.com': {'event_id': 'evt_1OVj5HD1X8yObih93yG3C0mh',\n",
       "  'checkout_session_id': 'cs_test_a1uaGO1CdowVUFsYgn55KexTibmBX6fP7IqWW4Fcg8atMAWZ8Lnqj39jpF',\n",
       "  'user_identifier': '64f32dde-7a09-4929-80fb-7c74ae1bb3bd'},\n",
       " 'yury@gmail.com': {'event_id': 'evt_1OVkmuD1X8yObih9c149kvUS',\n",
       "  'checkout_session_id': 'cs_test_a1OWTpOdZCJRonQe1IiPh8eIneGwA3JWQSxKQ7yUhv7CgvA2883NHX2oGk',\n",
       "  'user_identifier': '2e00d5fc-ceac-488e-94bf-d7a9da76eeae'},\n",
       " 'mikestopcontinues@gmail.com': {'event_id': 'evt_1OVsLLD1X8yObih9KbmOFFqD',\n",
       "  'checkout_session_id': 'cs_test_a1cDiIfNhMe4JA5Wkft4XnHupWdYs4gMTRRFaGe1ugXTjkhyYIs8WVDXBk',\n",
       "  'user_identifier': 'df8a8bb5-1e21-4f97-9826-f0da59f59c93'},\n",
       " 'nando@gmail.com': {'event_id': 'evt_1OWeXjD1X8yObih9eEH6me11',\n",
       "  'checkout_session_id': 'cs_test_a1JusJBcJ4T64NDpD6ZOi1V7mbnPXik5dvYjwt4hMy5ECw8rlG4HitpQem',\n",
       "  'user_identifier': 'c31c1135-8a63-4a57-ba4b-bf0d1a1aa820'},\n",
       " 'kefera@gmail.com': {'event_id': 'evt_1OWgAMD1X8yObih9deQ56aVd',\n",
       "  'checkout_session_id': 'cs_test_a1GztzU3Ihx6yyajSDn0s0bVuX1fcVzmueVTLEhIMCG6CmYt2DUTNk6POZ',\n",
       "  'user_identifier': '34e6ac06-e30f-4cff-be94-0dd7ce766685'},\n",
       " 'neymar@gmail.com': {'event_id': 'evt_1OWpb6D1X8yObih9CVqOSJgQ',\n",
       "  'checkout_session_id': 'cs_test_a1MW16KADww8eH5WSeu0Sc7YzP8UASd7PolHUdDelNJ65Ksfu9lwq4Q0Q3',\n",
       "  'user_identifier': 'd07b1dc2-3989-4cfb-9c74-7aea02022537'},\n",
       " 'xistra@gmail.com': {'event_id': 'evt_1OWnnPD1X8yObih90uD8guMk',\n",
       "  'checkout_session_id': 'cs_test_a1gyAvIOtcwJ82jlj5fbrWyJTngPb5ow54RZhBJD3izg9bJjeOFvuIEktp',\n",
       "  'user_identifier': '856cce68-1065-4e02-924e-b9cd5ecbc402'},\n",
       " 'ludgero@gmail.com': {'event_id': 'evt_1OWnqmD1X8yObih9AsanIbaw',\n",
       "  'checkout_session_id': 'cs_test_a1AUV3FDAAoPMfzklesJZi57WY0ZUQ8vP3G2c2PGxDIuHr2YIYPoDkauVy',\n",
       "  'user_identifier': 'de98122f-2a1b-4813-9438-5533c448e217'},\n",
       " 'dollyguarana@gmail.com': {'event_id': 'evt_1OWo0xD1X8yObih98TfgUvC2',\n",
       "  'checkout_session_id': 'cs_test_a1nuhqfxx4VQgwZA26SexLLqh04tq01yGqwaUoXgTEfu4bSi6rbw8Kiqb8',\n",
       "  'user_identifier': '5494f2f6-74a9-444b-aee5-eeff2a0d147e'},\n",
       " 'milton@gmail.com': {'event_id': 'evt_1OWo2ZD1X8yObih9KFuvcMw8',\n",
       "  'checkout_session_id': 'cs_test_a1zlkmMC8AjBGkHkWWYc710Gq7KMphIDjR1OLljcYPgcFLSveOGnq7VUmo',\n",
       "  'user_identifier': '80f65ff6-5377-486e-9df1-c9d5dba5069b'},\n",
       " 'borges@gmail.com': {'event_id': 'evt_1OWo63D1X8yObih9lme3McyZ',\n",
       "  'checkout_session_id': 'cs_test_a1le8wnun4nqJ9zGP1ginw4uQvcL0yGeJWSUjdDX6vSSiyRsqkAy7wCrLI',\n",
       "  'user_identifier': 'a458d4b2-717d-481a-b039-c6717850a66f'},\n",
       " 'felps@gmail.com': {'event_id': 'evt_1OWoFBD1X8yObih90JfKVTLi',\n",
       "  'checkout_session_id': 'cs_test_a1eSUMzhc8kcSXp4fYXt3HTzNS2UMjDb2I1NqfN5iVlZ8AR5MruhwyJFYc',\n",
       "  'user_identifier': 'b60c88c7-2322-4ed3-9768-5b5987c07bb9'},\n",
       " 'igor@gmail.com': {'event_id': 'evt_1OWoGVD1X8yObih9oedK5IX5',\n",
       "  'checkout_session_id': 'cs_test_a1DF4ht7AISaEvUiOAVAq4vtgj15bvp96qywkN0lzj798a3DL7BIT8wj4B',\n",
       "  'user_identifier': '4e091281-a06f-4161-bb6d-514d1a8180e6'},\n",
       " 'marcos_augusto_extra@proton.me': {'event_id': 'evt_1OWp33D1X8yObih96lMT8Zo8',\n",
       "  'checkout_session_id': 'cs_test_a1aUWoxybXMsEi6IpGUF7Q6kO6dhpwf2tsMQYyHccilb0IfD0XnU4Smkl4',\n",
       "  'user_identifier': '63ba0a9f-1b40-4dfc-8a78-9dede093ae56'},\n",
       " 'ediee@gmail.com': {'event_id': 'evt_1OWoonD1X8yObih9qjkFH13V',\n",
       "  'checkout_session_id': 'cs_test_a1Jg6rmRpGtoewaIE0IwpRfEXl5OX7PR3c5L2ATKEqMhkjFANDKkuh1nWR',\n",
       "  'user_identifier': '1a1fd516-88ff-4310-bb3f-56f808240578'},\n",
       " 'sigmaringa@gmail.com': {'event_id': 'evt_1OWoquD1X8yObih9IMkcULYX',\n",
       "  'checkout_session_id': 'cs_test_a1X47JCfshV0o1jMmVPtfMRYB7memQ0u6U9wIyoGISCZGYXTCa2pZ91HiP',\n",
       "  'user_identifier': '71834631-7ee5-49cb-9f60-a95684ff460c'},\n",
       " 'alex@gmail.com': {'event_id': 'evt_1OWp7VD1X8yObih911PvRFD0',\n",
       "  'checkout_session_id': 'cs_test_a1h3jRUSbkqdTFFcL2A5Vx68PT9rO2JhWAySlgLnqZNJpAIsk86e7Z6uBM',\n",
       "  'user_identifier': 'c59ce920-274c-4399-b5e0-7c7894e2e3a2'},\n",
       " 'eric@gmail.com': {'event_id': 'evt_1OWpA4D1X8yObih9NRsPQUTB',\n",
       "  'checkout_session_id': 'cs_test_a1JYzPU8q1OewkhXpolUf0UDLIr1C8QuK7JyRdE5obrmpQH7SgGvn0gHoa',\n",
       "  'user_identifier': '668e2e73-f6fe-407c-a8a1-0c983919b1e5'},\n",
       " 'daniel@gmail.com': {'event_id': 'evt_1OWpBSD1X8yObih9l4etmhfr',\n",
       "  'checkout_session_id': 'cs_test_a1HWU8va7x6LindZ91cvs3otkgWDEQkqTF7xiQxa6wDo6H5XCnGrmFyFsR',\n",
       "  'user_identifier': '6c6c8b76-e33f-4301-831a-d8b784374ca2'},\n",
       " 'paulo@gmail.com': {'event_id': 'evt_1OWpHED1X8yObih9m3qPjz9q',\n",
       "  'checkout_session_id': 'cs_test_a107wR6NOqD4CvJo1D0NQnnH4WNlAaqUbGCIjGf7s8ZvOqRwVrpuXUSVaF',\n",
       "  'user_identifier': '78adfa57-c90a-412f-87c1-fdfcdb5b9539'},\n",
       " 'whale@gmail.com': {'event_id': 'evt_1OXBHFD1X8yObih96b5xkypc',\n",
       "  'checkout_session_id': 'cs_test_a1xpKp1pdLvXlFKsxUzTcSxDpylrhioVPPZO1Aaoi5ugnLVfjKcfHPw6p5',\n",
       "  'user_identifier': '2eda0b8c-ba93-48ce-91a6-543afe15811b'},\n",
       " 'jonathan@gmail.com': {'event_id': 'evt_1OXBKPD1X8yObih9IaXgAazS',\n",
       "  'checkout_session_id': 'cs_test_a1mRusgbiLjG6dyCVZDJ4wGSUnj4dDBiJYukrqylPvVQ5AtuWqlz1LXUGJ',\n",
       "  'user_identifier': '7f7d8b58-2268-4745-8d77-b285efbd96a9'},\n",
       " 'american@gmail.com': {'event_id': 'evt_1OXBSND1X8yObih9ig1UCRy7',\n",
       "  'checkout_session_id': 'cs_test_a14jodKF1idJ58seRp6U1oUmKHQQ0IgDhyppu9pGxIq5ncrlFUFhIFUqFX',\n",
       "  'user_identifier': '107598b3-6785-49f8-95f1-e823f1eb0ca4'},\n",
       " 'baseball@gmail.com': {'event_id': 'evt_1OXBdiD1X8yObih91qEXm2DU',\n",
       "  'checkout_session_id': 'cs_test_a156hXCjahL0dY2Eng1x5r5OFssGPVk08mXbYZaKj7hNSlw6yLd0qDb1vs',\n",
       "  'user_identifier': 'd08b4f79-e534-4d85-a60e-ab67c054c88c'},\n",
       " 'jake@gmail.com': {'event_id': 'evt_1OXBixD1X8yObih9N3c12hTq',\n",
       "  'checkout_session_id': 'cs_test_a1jiEC4KGCeCOUKanYBQwVIV07e5MG9BABm4NY9Mc14H0y5Ls4lEIWSCoF',\n",
       "  'user_identifier': 'a4be4122-85b9-4161-86e9-45a177424860'},\n",
       " 'segovia@gmail.com': {'event_id': 'evt_1OXBsjD1X8yObih95wodBwy5',\n",
       "  'checkout_session_id': 'cs_test_a1ayhf52b8WuJDdalHtNtrhTBIrxmlGwy0qX826kEEOErc5iy57ZFBikPr',\n",
       "  'user_identifier': '62aa26f3-b1c4-4b5b-8d08-5c7a64190078'},\n",
       " 'speed@gmail.com': {'event_id': 'evt_1OXC86D1X8yObih979KXH5Kj',\n",
       "  'checkout_session_id': 'cs_test_a1HHLpU7XD4Up8C94rpCQJW67DpfvYlRoXqL0zsnYKmMl2DY4WrHe9NMPp',\n",
       "  'user_identifier': 'ffee2c58-2061-4a30-b7b5-6723c837278e'},\n",
       " 'barney@gmail.com': {'event_id': 'evt_1OXCG5D1X8yObih9xJnXwVe9',\n",
       "  'checkout_session_id': 'cs_test_a1N1qsbV7H3O1xdlF9XlHcQvKXIxGs4fUnoh99l0wwL49Hcyi28pDnfler',\n",
       "  'user_identifier': '00c4878e-438f-49ec-a394-4acd8ec8a421'},\n",
       " 'h3h3@gmail.com': {'event_id': 'evt_1OXCKcD1X8yObih9qAjXC542',\n",
       "  'checkout_session_id': 'cs_test_a17SA0EUETJhvz0JFIHuQuCmXCnETVFREGjtsFZozdxWVSk1Q3N8nwzVae',\n",
       "  'user_identifier': 'f983fc01-c133-428c-b4bb-a9a710c7026d',\n",
       "  'click_counter': 888}}"
      ]
     },
     "execution_count": 4,
     "metadata": {},
     "output_type": "execute_result"
    }
   ],
   "source": [
    "user_data"
   ]
  },
  {
   "cell_type": "code",
   "execution_count": 3,
   "metadata": {},
   "outputs": [],
   "source": [
    "# try:\n",
    "#    with open(f\"app/user_links.json\", \"r\") as file:\n",
    "#        user_links = json.load(file)\n",
    "# except FileNotFoundError:\n",
    "#    user_links = {}"
   ]
  },
  {
   "cell_type": "code",
   "execution_count": 6,
   "metadata": {},
   "outputs": [],
   "source": [
    "with open(f\"app/user_links.json\", \"r\") as file:\n",
    "    user_links = json.load(file)\n",
    "    # Upload the local JSON file to S3\n",
    "    with open(f\"app/user_links.json\", 'rb') as file:\n",
    "        s3.put_object(Bucket=bucket_name, Key=\"user_links.json\", Body=file)"
   ]
  },
  {
   "cell_type": "code",
   "execution_count": 7,
   "metadata": {},
   "outputs": [
    {
     "data": {
      "text/plain": [
       "{'joaozinho@gmail.com': {'event_id': 'evt_1OUeisD1X8yObih9UyVjDqci',\n",
       "  'checkout_session_id': 'cs_test_a1Hqw7i4VSF5qYziWl65n8g1wnXiEYJBUzStV9ECpLujMHcxiQJxIRk8MH',\n",
       "  'user_identifier': 'ca1144bf-3d60-486d-8886-f313dd604fe8'},\n",
       " 'pedrinho@gmail.com': {'event_id': 'evt_1OUerdD1X8yObih9HB8gtWHq',\n",
       "  'checkout_session_id': 'cs_test_a1YE2X63Z0H1UP9Bvtjp6BpnwNmPV8j3yoxQSxRyb2DVCzsAazp2u19WAS',\n",
       "  'user_identifier': 'c7d3e6b4-638d-40cc-ac38-da67657b0cc3'},\n",
       " 'laurinha@gmail.com': {'event_id': 'evt_1OV2KOD1X8yObih9DQHBwK1e',\n",
       "  'checkout_session_id': 'cs_test_a1pUYJINuz454lO4WdqCVw1KYKrioa06m0sGbp5LA2o2sRvBpaRGezpjDB',\n",
       "  'user_identifier': '3f4704c0-bcc1-4b1b-be9f-4e19509b3a8a'},\n",
       " 'cazcao@gmail.com': {'event_id': 'evt_1OVKlpD1X8yObih9pAsA5j8X',\n",
       "  'checkout_session_id': 'cs_test_a11PgL1v0qayk12kV05noYZvruWVpx2paEtOjAJGARkwWwmKufFNeb9OJv',\n",
       "  'user_identifier': '7072357f-5144-4e34-b2f8-7261e2cf3a55'}}"
      ]
     },
     "execution_count": 7,
     "metadata": {},
     "output_type": "execute_result"
    }
   ],
   "source": [
    "user_links"
   ]
  },
  {
   "cell_type": "code",
   "execution_count": 5,
   "metadata": {},
   "outputs": [
    {
     "ename": "ParamValidationError",
     "evalue": "Parameter validation failed:\nInvalid type for parameter Body, value: {'joaozinho@gmail.com': {'event_id': 'evt_1OUeisD1X8yObih9UyVjDqci', 'checkout_session_id': 'cs_test_a1Hqw7i4VSF5qYziWl65n8g1wnXiEYJBUzStV9ECpLujMHcxiQJxIRk8MH', 'user_identifier': 'ca1144bf-3d60-486d-8886-f313dd604fe8'}, 'pedrinho@gmail.com': {'event_id': 'evt_1OUerdD1X8yObih9HB8gtWHq', 'checkout_session_id': 'cs_test_a1YE2X63Z0H1UP9Bvtjp6BpnwNmPV8j3yoxQSxRyb2DVCzsAazp2u19WAS', 'user_identifier': 'c7d3e6b4-638d-40cc-ac38-da67657b0cc3'}, 'laurinha@gmail.com': {'event_id': 'evt_1OV2KOD1X8yObih9DQHBwK1e', 'checkout_session_id': 'cs_test_a1pUYJINuz454lO4WdqCVw1KYKrioa06m0sGbp5LA2o2sRvBpaRGezpjDB', 'user_identifier': '3f4704c0-bcc1-4b1b-be9f-4e19509b3a8a'}, 'cazcao@gmail.com': {'event_id': 'evt_1OVKlpD1X8yObih9pAsA5j8X', 'checkout_session_id': 'cs_test_a11PgL1v0qayk12kV05noYZvruWVpx2paEtOjAJGARkwWwmKufFNeb9OJv', 'user_identifier': '7072357f-5144-4e34-b2f8-7261e2cf3a55'}}, type: <class 'dict'>, valid types: <class 'bytes'>, <class 'bytearray'>, file-like object",
     "output_type": "error",
     "traceback": [
      "\u001b[1;31m---------------------------------------------------------------------------\u001b[0m",
      "\u001b[1;31mParamValidationError\u001b[0m                      Traceback (most recent call last)",
      "Cell \u001b[1;32mIn[5], line 7\u001b[0m\n\u001b[0;32m      4\u001b[0m s3 \u001b[38;5;241m=\u001b[39m boto3\u001b[38;5;241m.\u001b[39mclient(\u001b[38;5;124m'\u001b[39m\u001b[38;5;124ms3\u001b[39m\u001b[38;5;124m'\u001b[39m)\n\u001b[0;32m      6\u001b[0m \u001b[38;5;66;03m# Upload the updated JSON file to S3\u001b[39;00m\n\u001b[1;32m----> 7\u001b[0m \u001b[43ms3\u001b[49m\u001b[38;5;241;43m.\u001b[39;49m\u001b[43mput_object\u001b[49m\u001b[43m(\u001b[49m\u001b[43mBucket\u001b[49m\u001b[38;5;241;43m=\u001b[39;49m\u001b[43mbucket_name\u001b[49m\u001b[43m,\u001b[49m\u001b[43m \u001b[49m\u001b[43mKey\u001b[49m\u001b[38;5;241;43m=\u001b[39;49m\u001b[43mfile_key\u001b[49m\u001b[43m,\u001b[49m\u001b[43m \u001b[49m\u001b[43mBody\u001b[49m\u001b[38;5;241;43m=\u001b[39;49m\u001b[43mupdated_json\u001b[49m\u001b[43m)\u001b[49m\n",
      "File \u001b[1;32mc:\\Anaconda\\lib\\site-packages\\botocore\\client.py:535\u001b[0m, in \u001b[0;36mClientCreator._create_api_method.<locals>._api_call\u001b[1;34m(self, *args, **kwargs)\u001b[0m\n\u001b[0;32m    531\u001b[0m     \u001b[38;5;28;01mraise\u001b[39;00m \u001b[38;5;167;01mTypeError\u001b[39;00m(\n\u001b[0;32m    532\u001b[0m         \u001b[38;5;124mf\u001b[39m\u001b[38;5;124m\"\u001b[39m\u001b[38;5;132;01m{\u001b[39;00mpy_operation_name\u001b[38;5;132;01m}\u001b[39;00m\u001b[38;5;124m() only accepts keyword arguments.\u001b[39m\u001b[38;5;124m\"\u001b[39m\n\u001b[0;32m    533\u001b[0m     )\n\u001b[0;32m    534\u001b[0m \u001b[38;5;66;03m# The \"self\" in this scope is referring to the BaseClient.\u001b[39;00m\n\u001b[1;32m--> 535\u001b[0m \u001b[38;5;28;01mreturn\u001b[39;00m \u001b[38;5;28;43mself\u001b[39;49m\u001b[38;5;241;43m.\u001b[39;49m\u001b[43m_make_api_call\u001b[49m\u001b[43m(\u001b[49m\u001b[43moperation_name\u001b[49m\u001b[43m,\u001b[49m\u001b[43m \u001b[49m\u001b[43mkwargs\u001b[49m\u001b[43m)\u001b[49m\n",
      "File \u001b[1;32mc:\\Anaconda\\lib\\site-packages\\botocore\\client.py:936\u001b[0m, in \u001b[0;36mBaseClient._make_api_call\u001b[1;34m(self, operation_name, api_params)\u001b[0m\n\u001b[0;32m    928\u001b[0m api_params \u001b[38;5;241m=\u001b[39m \u001b[38;5;28mself\u001b[39m\u001b[38;5;241m.\u001b[39m_emit_api_params(\n\u001b[0;32m    929\u001b[0m     api_params\u001b[38;5;241m=\u001b[39mapi_params,\n\u001b[0;32m    930\u001b[0m     operation_model\u001b[38;5;241m=\u001b[39moperation_model,\n\u001b[0;32m    931\u001b[0m     context\u001b[38;5;241m=\u001b[39mrequest_context,\n\u001b[0;32m    932\u001b[0m )\n\u001b[0;32m    933\u001b[0m endpoint_url, additional_headers \u001b[38;5;241m=\u001b[39m \u001b[38;5;28mself\u001b[39m\u001b[38;5;241m.\u001b[39m_resolve_endpoint_ruleset(\n\u001b[0;32m    934\u001b[0m     operation_model, api_params, request_context\n\u001b[0;32m    935\u001b[0m )\n\u001b[1;32m--> 936\u001b[0m request_dict \u001b[38;5;241m=\u001b[39m \u001b[38;5;28;43mself\u001b[39;49m\u001b[38;5;241;43m.\u001b[39;49m\u001b[43m_convert_to_request_dict\u001b[49m\u001b[43m(\u001b[49m\n\u001b[0;32m    937\u001b[0m \u001b[43m    \u001b[49m\u001b[43mapi_params\u001b[49m\u001b[38;5;241;43m=\u001b[39;49m\u001b[43mapi_params\u001b[49m\u001b[43m,\u001b[49m\n\u001b[0;32m    938\u001b[0m \u001b[43m    \u001b[49m\u001b[43moperation_model\u001b[49m\u001b[38;5;241;43m=\u001b[39;49m\u001b[43moperation_model\u001b[49m\u001b[43m,\u001b[49m\n\u001b[0;32m    939\u001b[0m \u001b[43m    \u001b[49m\u001b[43mendpoint_url\u001b[49m\u001b[38;5;241;43m=\u001b[39;49m\u001b[43mendpoint_url\u001b[49m\u001b[43m,\u001b[49m\n\u001b[0;32m    940\u001b[0m \u001b[43m    \u001b[49m\u001b[43mcontext\u001b[49m\u001b[38;5;241;43m=\u001b[39;49m\u001b[43mrequest_context\u001b[49m\u001b[43m,\u001b[49m\n\u001b[0;32m    941\u001b[0m \u001b[43m    \u001b[49m\u001b[43mheaders\u001b[49m\u001b[38;5;241;43m=\u001b[39;49m\u001b[43madditional_headers\u001b[49m\u001b[43m,\u001b[49m\n\u001b[0;32m    942\u001b[0m \u001b[43m\u001b[49m\u001b[43m)\u001b[49m\n\u001b[0;32m    943\u001b[0m resolve_checksum_context(request_dict, operation_model, api_params)\n\u001b[0;32m    945\u001b[0m service_id \u001b[38;5;241m=\u001b[39m \u001b[38;5;28mself\u001b[39m\u001b[38;5;241m.\u001b[39m_service_model\u001b[38;5;241m.\u001b[39mservice_id\u001b[38;5;241m.\u001b[39mhyphenize()\n",
      "File \u001b[1;32mc:\\Anaconda\\lib\\site-packages\\botocore\\client.py:1007\u001b[0m, in \u001b[0;36mBaseClient._convert_to_request_dict\u001b[1;34m(self, api_params, operation_model, endpoint_url, context, headers, set_user_agent_header)\u001b[0m\n\u001b[0;32m    998\u001b[0m \u001b[38;5;28;01mdef\u001b[39;00m \u001b[38;5;21m_convert_to_request_dict\u001b[39m(\n\u001b[0;32m    999\u001b[0m     \u001b[38;5;28mself\u001b[39m,\n\u001b[0;32m   1000\u001b[0m     api_params,\n\u001b[1;32m   (...)\u001b[0m\n\u001b[0;32m   1005\u001b[0m     set_user_agent_header\u001b[38;5;241m=\u001b[39m\u001b[38;5;28;01mTrue\u001b[39;00m,\n\u001b[0;32m   1006\u001b[0m ):\n\u001b[1;32m-> 1007\u001b[0m     request_dict \u001b[38;5;241m=\u001b[39m \u001b[38;5;28;43mself\u001b[39;49m\u001b[38;5;241;43m.\u001b[39;49m\u001b[43m_serializer\u001b[49m\u001b[38;5;241;43m.\u001b[39;49m\u001b[43mserialize_to_request\u001b[49m\u001b[43m(\u001b[49m\n\u001b[0;32m   1008\u001b[0m \u001b[43m        \u001b[49m\u001b[43mapi_params\u001b[49m\u001b[43m,\u001b[49m\u001b[43m \u001b[49m\u001b[43moperation_model\u001b[49m\n\u001b[0;32m   1009\u001b[0m \u001b[43m    \u001b[49m\u001b[43m)\u001b[49m\n\u001b[0;32m   1010\u001b[0m     \u001b[38;5;28;01mif\u001b[39;00m \u001b[38;5;129;01mnot\u001b[39;00m \u001b[38;5;28mself\u001b[39m\u001b[38;5;241m.\u001b[39m_client_config\u001b[38;5;241m.\u001b[39minject_host_prefix:\n\u001b[0;32m   1011\u001b[0m         request_dict\u001b[38;5;241m.\u001b[39mpop(\u001b[38;5;124m'\u001b[39m\u001b[38;5;124mhost_prefix\u001b[39m\u001b[38;5;124m'\u001b[39m, \u001b[38;5;28;01mNone\u001b[39;00m)\n",
      "File \u001b[1;32mc:\\Anaconda\\lib\\site-packages\\botocore\\validate.py:381\u001b[0m, in \u001b[0;36mParamValidationDecorator.serialize_to_request\u001b[1;34m(self, parameters, operation_model)\u001b[0m\n\u001b[0;32m    377\u001b[0m     report \u001b[38;5;241m=\u001b[39m \u001b[38;5;28mself\u001b[39m\u001b[38;5;241m.\u001b[39m_param_validator\u001b[38;5;241m.\u001b[39mvalidate(\n\u001b[0;32m    378\u001b[0m         parameters, operation_model\u001b[38;5;241m.\u001b[39minput_shape\n\u001b[0;32m    379\u001b[0m     )\n\u001b[0;32m    380\u001b[0m     \u001b[38;5;28;01mif\u001b[39;00m report\u001b[38;5;241m.\u001b[39mhas_errors():\n\u001b[1;32m--> 381\u001b[0m         \u001b[38;5;28;01mraise\u001b[39;00m ParamValidationError(report\u001b[38;5;241m=\u001b[39mreport\u001b[38;5;241m.\u001b[39mgenerate_report())\n\u001b[0;32m    382\u001b[0m \u001b[38;5;28;01mreturn\u001b[39;00m \u001b[38;5;28mself\u001b[39m\u001b[38;5;241m.\u001b[39m_serializer\u001b[38;5;241m.\u001b[39mserialize_to_request(\n\u001b[0;32m    383\u001b[0m     parameters, operation_model\n\u001b[0;32m    384\u001b[0m )\n",
      "\u001b[1;31mParamValidationError\u001b[0m: Parameter validation failed:\nInvalid type for parameter Body, value: {'joaozinho@gmail.com': {'event_id': 'evt_1OUeisD1X8yObih9UyVjDqci', 'checkout_session_id': 'cs_test_a1Hqw7i4VSF5qYziWl65n8g1wnXiEYJBUzStV9ECpLujMHcxiQJxIRk8MH', 'user_identifier': 'ca1144bf-3d60-486d-8886-f313dd604fe8'}, 'pedrinho@gmail.com': {'event_id': 'evt_1OUerdD1X8yObih9HB8gtWHq', 'checkout_session_id': 'cs_test_a1YE2X63Z0H1UP9Bvtjp6BpnwNmPV8j3yoxQSxRyb2DVCzsAazp2u19WAS', 'user_identifier': 'c7d3e6b4-638d-40cc-ac38-da67657b0cc3'}, 'laurinha@gmail.com': {'event_id': 'evt_1OV2KOD1X8yObih9DQHBwK1e', 'checkout_session_id': 'cs_test_a1pUYJINuz454lO4WdqCVw1KYKrioa06m0sGbp5LA2o2sRvBpaRGezpjDB', 'user_identifier': '3f4704c0-bcc1-4b1b-be9f-4e19509b3a8a'}, 'cazcao@gmail.com': {'event_id': 'evt_1OVKlpD1X8yObih9pAsA5j8X', 'checkout_session_id': 'cs_test_a11PgL1v0qayk12kV05noYZvruWVpx2paEtOjAJGARkwWwmKufFNeb9OJv', 'user_identifier': '7072357f-5144-4e34-b2f8-7261e2cf3a55'}}, type: <class 'dict'>, valid types: <class 'bytes'>, <class 'bytearray'>, file-like object"
     ]
    }
   ],
   "source": [
    "updated_json = user_links\n",
    "# Create an S3 client\n",
    "#s3 = boto3.client('s3', aws_access_key_id=aws_access_key_id, aws_secret_access_key=aws_secret_access_key)\n",
    "s3 = boto3.client('s3')\n",
    "\n",
    "# Upload the updated JSON file to S3\n",
    "s3.put_object(Bucket=bucket_name, Key=file_key, Body=updated_json)"
   ]
  },
  {
   "cell_type": "code",
   "execution_count": 2,
   "metadata": {},
   "outputs": [
    {
     "name": "stdout",
     "output_type": "stream",
     "text": [
      "Click Counter for d1702f15-08e6-4304-b4c6-037dffe8df3d: User not found\n"
     ]
    }
   ],
   "source": [
    "def get_click_counter(user_identifier, user_data):\n",
    "    # Check if the user_identifier exists in the dictionary\n",
    "    if user_identifier in user_data.keys():\n",
    "        # Return the click counter for the given user_identifier\n",
    "        return user_data[user_identifier][\"click_counter\"]\n",
    "    else:\n",
    "        # Return an error message or handle the case when the user_identifier is not found\n",
    "        return \"User not found\"\n",
    "\n",
    "# Example usage\n",
    "user_data = {\n",
    "    \"tintin@gmail.com\": {\n",
    "        \"event_id\": \"evt_1OVNUgD1X8yObih92xpNVV48\",\n",
    "        \"checkout_session_id\": \"cs_test_a10jAD8rhgqsSP0ZNUfEAkZHsHBR7E0jXc1YPNgzWfy4plKecIg5xCEyiF\",\n",
    "        \"user_identifier\": \"d1702f15-08e6-4304-b4c6-037dffe8df3d\",\n",
    "        \"click_counter\": 123,\n",
    "    },\n",
    "    \"bento@gmail.com\": {\n",
    "        \"event_id\": \"evt_1OVeejD1X8yObih9JyguCEul\",\n",
    "        \"checkout_session_id\": \"cs_test_a1vl6RQKlmCna07QBq474C8kKt5em3CfJcRFHWbSmp2icGnhrZDIl1a2xv\",\n",
    "        \"user_identifier\": \"0c83dafa-0188-41e3-be75-addea438a542\",\n",
    "        \"click_counter\": 456,\n",
    "    }\n",
    "}\n",
    "\n",
    "# Get click counter for a user\n",
    "user_identifier_input = \"d1702f15-08e6-4304-b4c6-037dffe8df3d\"\n",
    "click_counter = get_click_counter(user_identifier_input, user_data)\n",
    "\n",
    "# Print the result\n",
    "print(f\"Click Counter for {user_identifier_input}: {click_counter}\")\n"
   ]
  },
  {
   "cell_type": "code",
   "execution_count": 10,
   "metadata": {},
   "outputs": [],
   "source": [
    "def get_click_counter(user_identifier_input):\n",
    "    for a, b in user_data.items():\n",
    "        if b['user_identifier'] == user_identifier_input:\n",
    "            return b['click_counter']\n",
    "    \n",
    "    return \"User not found\""
   ]
  },
  {
   "cell_type": "code",
   "execution_count": 4,
   "metadata": {},
   "outputs": [],
   "source": [
    "if \"d1702f15-08e6-4304-b4c6-037dffe8df3d\" in user_data:\n",
    "    print(\"hello\")"
   ]
  }
 ],
 "metadata": {
  "kernelspec": {
   "display_name": "base",
   "language": "python",
   "name": "python3"
  },
  "language_info": {
   "codemirror_mode": {
    "name": "ipython",
    "version": 3
   },
   "file_extension": ".py",
   "mimetype": "text/x-python",
   "name": "python",
   "nbconvert_exporter": "python",
   "pygments_lexer": "ipython3",
   "version": "3.11.4"
  }
 },
 "nbformat": 4,
 "nbformat_minor": 2
}
