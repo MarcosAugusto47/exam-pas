{
 "cells": [
  {
   "cell_type": "code",
   "execution_count": 1,
   "metadata": {},
   "outputs": [
    {
     "name": "stdout",
     "output_type": "stream",
     "text": [
      "['../data/raw/2020_2022/Ed_35_PAS_3_2020_2022_Rel_Final_RA_1ª_Chamada.pdf', '../data/raw/2020_2022/Ed_46_PAS_3_2020_2022_Rel_Prov_RA_1ª_Chamada_2º_Semestre.pdf', '../data/raw/2019_2021/Ed_35_PAS_3_2019_2021_Rel_Final_Registro_1ª_Chamada.pdf', '../data/raw/2019_2021/Ed_50_PAS_3_2019_2021_Rel_Final_RA_1ª_Chamada_2º_Semestre.pdf', '../data/raw/2018_2020/ED_41_PAS_3 _2018 -2020_Rel_Final_Registro_1ª_Chamada.pdf']\n"
     ]
    },
    {
     "name": "stderr",
     "output_type": "stream",
     "text": [
      "c:\\Anaconda\\lib\\site-packages\\fuzzywuzzy\\fuzz.py:11: UserWarning: Using slow pure-python SequenceMatcher. Install python-Levenshtein to remove this warning\n",
      "  warnings.warn('Using slow pure-python SequenceMatcher. Install python-Levenshtein to remove this warning')\n"
     ]
    }
   ],
   "source": [
    "import config\n",
    "from utils.scores import get_pdf_as_string, rename_columns\n",
    "from utils.labels import *\n",
    "\n",
    "print(config.APPROVALS_PDF) \n"
   ]
  },
  {
   "cell_type": "code",
   "execution_count": 2,
   "metadata": {},
   "outputs": [],
   "source": [
    "approvals_file_path = config.APPROVALS_PDF[1]"
   ]
  },
  {
   "cell_type": "code",
   "execution_count": 3,
   "metadata": {},
   "outputs": [],
   "source": [
    "#def label_wrapper(approvals_file_path):\n",
    "text = get_pdf_as_string(approvals_file_path)\n",
    "text_cleaned = delete_page_titles(text)\n",
    "text_split_list = split_results_by_student(text_cleaned)\n",
    "text_split_list_students = filtering_only_students(text_split_list)\n",
    "df_approvals = get_approvals_dataframe(text_split_list_students)\n",
    "df_approvals = rename_columns(df_approvals, config.APPROVALS_COLUMNS_NAMES)\n",
    "#return df_approvals\n"
   ]
  },
  {
   "cell_type": "code",
   "execution_count": null,
   "metadata": {},
   "outputs": [],
   "source": [
    "\n",
    "df_2020_2022 = pd.concat([label_wrapper(config.APPROVALS_PDF[0]), label_wrapper(config.APPROVALS_PDF[1])])\n",
    "#df_2020_2022 = label_wrapper(config.APPROVALS_PDF[0])\n",
    "df_2020_2022.to_parquet('../data/interim/approvals_2020_2022_complete.parquet')\n",
    "\n",
    "df_2019_2021 = pd.concat([label_wrapper(config.APPROVALS_PDF[2]), label_wrapper(config.APPROVALS_PDF[3])])\n",
    "#df_2019_2021 = label_wrapper(config.APPROVALS_PDF[1])\n",
    "df_2019_2021.to_parquet('../data/interim/approvals_2019_2021_complete.parquet')\n",
    "\n",
    "#df_2018_2020 = label_wrapper(config.APPROVALS_PDF[3])\n",
    "#df_2018_2020.to_parquet('../data/interim/approvals_2018_2020.parquet')\n"
   ]
  }
 ],
 "metadata": {
  "kernelspec": {
   "display_name": "base",
   "language": "python",
   "name": "python3"
  },
  "language_info": {
   "codemirror_mode": {
    "name": "ipython",
    "version": 3
   },
   "file_extension": ".py",
   "mimetype": "text/x-python",
   "name": "python",
   "nbconvert_exporter": "python",
   "pygments_lexer": "ipython3",
   "version": "3.9.7"
  },
  "orig_nbformat": 4
 },
 "nbformat": 4,
 "nbformat_minor": 2
}
