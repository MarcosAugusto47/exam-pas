{
 "cells": [
  {
   "cell_type": "code",
   "execution_count": 2,
   "metadata": {},
   "outputs": [],
   "source": [
    "import pandas as pd\n",
    "\n",
    "pd.set_option('display.max_rows', None)"
   ]
  },
  {
   "cell_type": "code",
   "execution_count": 4,
   "metadata": {},
   "outputs": [],
   "source": [
    "#df = pd.read_parquet('../data/processed/scores_approvals_2020_2022.parquet')\n",
    "df2 = pd.read_parquet('../data/processed/scores_approvals_2019_2021.parquet')\n",
    "df2 = pd.read_parquet('../data/interim/approvals_convocation_2019_2021.parquet')"
   ]
  },
  {
   "cell_type": "code",
   "execution_count": 11,
   "metadata": {},
   "outputs": [],
   "source": [
    "def get_approved_stats(df):\n",
    "    df['pseudo_argumento_final'] = (df['escore_bruto_p2_etapa1'] + 2*df2['escore_bruto_p2_etapa2'] + 3*df['escore_bruto_p2_etapa3'])/6\n",
    "    df_approved = df[df.label==1]\n",
    "    approved_stats = df_approved.groupby(['course'], as_index=False).agg({'pseudo_argumento_final': ['mean', 'median', 'min', 'max', 'std']})\n",
    "    approved_stats.columns = ['course', 'mean', 'median', 'min', 'max', 'std']\n",
    "    approved_stats = approved_stats.sort_values(['median'], ascending=False).reset_index(drop=True)\n",
    "    return approved_stats"
   ]
  },
  {
   "cell_type": "code",
   "execution_count": 25,
   "metadata": {},
   "outputs": [],
   "source": [
    "approved_stats.to_parquet('../data/interim/approved_stats_2019_2021_new.parquet')"
   ]
  }
 ],
 "metadata": {
  "kernelspec": {
   "display_name": "base",
   "language": "python",
   "name": "python3"
  },
  "language_info": {
   "codemirror_mode": {
    "name": "ipython",
    "version": 3
   },
   "file_extension": ".py",
   "mimetype": "text/x-python",
   "name": "python",
   "nbconvert_exporter": "python",
   "pygments_lexer": "ipython3",
   "version": "3.9.7"
  },
  "orig_nbformat": 4
 },
 "nbformat": 4,
 "nbformat_minor": 2
}
