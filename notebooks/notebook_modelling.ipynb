{
 "cells": [
  {
   "cell_type": "code",
   "execution_count": 2,
   "metadata": {},
   "outputs": [
    {
     "name": "stderr",
     "output_type": "stream",
     "text": [
      "c:\\Anaconda\\lib\\site-packages\\scipy\\__init__.py:146: UserWarning: A NumPy version >=1.16.5 and <1.23.0 is required for this version of SciPy (detected version 1.24.2\n",
      "  warnings.warn(f\"A NumPy version >={np_minversion} and <{np_maxversion}\"\n"
     ]
    }
   ],
   "source": [
    "import pandas as pd\n",
    "import re\n",
    "\n",
    "from sklearn.model_selection import train_test_split, GridSearchCV\n",
    "from sklearn.ensemble import RandomForestClassifier\n",
    "from sklearn import metrics\n",
    "from sklearn.metrics import classification_report\n",
    "\n",
    "from RandomForestClassifierGridSearch import RandomForestClassifierGridSearch\n",
    "import pickle"
   ]
  },
  {
   "cell_type": "code",
   "execution_count": 3,
   "metadata": {},
   "outputs": [
    {
     "data": {
      "text/plain": [
       "(7263, 23)"
      ]
     },
     "execution_count": 3,
     "metadata": {},
     "output_type": "execute_result"
    }
   ],
   "source": [
    "scores = pd.read_parquet('../data/processed/scores_test.parquet')\n",
    "approvals = pd.read_parquet('../data/processed/approvals.parquet')\n",
    "scores.shape"
   ]
  },
  {
   "cell_type": "code",
   "execution_count": 4,
   "metadata": {},
   "outputs": [
    {
     "data": {
      "text/plain": [
       "['classificacao_final_cotas_negros',\n",
       " 'classificacao_final_publicas1',\n",
       " 'classificacao_final_publicas2',\n",
       " 'classificacao_final_publicas3',\n",
       " 'classificacao_final_publicas4',\n",
       " 'classificacao_final_publicas5',\n",
       " 'classificacao_final_publicas6',\n",
       " 'classificacao_final_publicas7',\n",
       " 'classificacao_final_publicas8']"
      ]
     },
     "execution_count": 4,
     "metadata": {},
     "output_type": "execute_result"
    }
   ],
   "source": [
    "cotas_columns = [col for col in scores.columns if 'classificacao' in col]\n",
    "cotas_columns.pop(0) # removing 'classificacao_final_universal'\n",
    "cotas_columns"
   ]
  },
  {
   "cell_type": "code",
   "execution_count": 5,
   "metadata": {},
   "outputs": [],
   "source": [
    "scores['cotista'] = scores[cotas_columns].notnull().any(axis=1).astype(int)"
   ]
  },
  {
   "cell_type": "code",
   "execution_count": 6,
   "metadata": {},
   "outputs": [],
   "source": [
    "for column in cotas_columns:\n",
    "    colum_name = re.sub(\"classificacao_final_\", \"\", f'{column}_flag')\n",
    "    scores[colum_name] = scores[column].notnull().astype(int)"
   ]
  },
  {
   "cell_type": "code",
   "execution_count": 7,
   "metadata": {},
   "outputs": [],
   "source": [
    "flags_columns = list(scores.columns[scores.columns.str.contains('flag')])"
   ]
  },
  {
   "cell_type": "code",
   "execution_count": 8,
   "metadata": {},
   "outputs": [
    {
     "data": {
      "text/plain": [
       "['cotas_negros_flag',\n",
       " 'publicas1_flag',\n",
       " 'publicas2_flag',\n",
       " 'publicas3_flag',\n",
       " 'publicas4_flag',\n",
       " 'publicas5_flag',\n",
       " 'publicas6_flag',\n",
       " 'publicas7_flag',\n",
       " 'publicas8_flag']"
      ]
     },
     "execution_count": 8,
     "metadata": {},
     "output_type": "execute_result"
    }
   ],
   "source": [
    "flags_columns"
   ]
  },
  {
   "cell_type": "code",
   "execution_count": 9,
   "metadata": {},
   "outputs": [],
   "source": [
    "df = pd.merge(scores, approvals, how='left', on='numero_inscricao', indicator=True)"
   ]
  },
  {
   "cell_type": "code",
   "execution_count": 10,
   "metadata": {},
   "outputs": [
    {
     "data": {
      "text/html": [
       "<div>\n",
       "<style scoped>\n",
       "    .dataframe tbody tr th:only-of-type {\n",
       "        vertical-align: middle;\n",
       "    }\n",
       "\n",
       "    .dataframe tbody tr th {\n",
       "        vertical-align: top;\n",
       "    }\n",
       "\n",
       "    .dataframe thead th {\n",
       "        text-align: right;\n",
       "    }\n",
       "</style>\n",
       "<table border=\"1\" class=\"dataframe\">\n",
       "  <thead>\n",
       "    <tr style=\"text-align: right;\">\n",
       "      <th></th>\n",
       "      <th>numero_inscricao</th>\n",
       "      <th>nome_x</th>\n",
       "      <th>nome_y</th>\n",
       "      <th>course</th>\n",
       "      <th>curso</th>\n",
       "    </tr>\n",
       "  </thead>\n",
       "  <tbody>\n",
       "    <tr>\n",
       "      <th>4</th>\n",
       "      <td>20188170</td>\n",
       "      <td>Ana Beatriz Cattermol Cavalcante</td>\n",
       "      <td>Ana Beatriz Cattermol Cavalcante</td>\n",
       "      <td>DIURNO ADMINISTRAÇÃO (BACHARELADO)</td>\n",
       "      <td>Administração (Bacharelado)</td>\n",
       "    </tr>\n",
       "    <tr>\n",
       "      <th>6</th>\n",
       "      <td>20183676</td>\n",
       "      <td>Ana Clara Marques da Silva</td>\n",
       "      <td>Ana Clara Marques da Silva</td>\n",
       "      <td>DIURNO ADMINISTRAÇÃO (BACHARELADO)</td>\n",
       "      <td>Administração (Bacharelado)</td>\n",
       "    </tr>\n",
       "    <tr>\n",
       "      <th>9</th>\n",
       "      <td>20170011</td>\n",
       "      <td>Ana Paula Nunes Bezerra</td>\n",
       "      <td>Ana Paula Nunes Bezerra</td>\n",
       "      <td>DIURNO ADMINISTRAÇÃO (BACHARELADO)</td>\n",
       "      <td>Administração (Bacharelado)</td>\n",
       "    </tr>\n",
       "    <tr>\n",
       "      <th>24</th>\n",
       "      <td>20184514</td>\n",
       "      <td>Bruno dos Santos Fernandes</td>\n",
       "      <td>Bruno dos Santos  Fernandes</td>\n",
       "      <td>DIURNO ADMINISTRAÇÃO (BACHARELADO)</td>\n",
       "      <td>Administração (Bacharelado)</td>\n",
       "    </tr>\n",
       "    <tr>\n",
       "      <th>29</th>\n",
       "      <td>20181503</td>\n",
       "      <td>Carina da Silva Ferreira</td>\n",
       "      <td>Carina da Silva Ferreira</td>\n",
       "      <td>DIURNO ADMINISTRAÇÃO (BACHARELADO)</td>\n",
       "      <td>Administração (Bacharelado)</td>\n",
       "    </tr>\n",
       "    <tr>\n",
       "      <th>...</th>\n",
       "      <td>...</td>\n",
       "      <td>...</td>\n",
       "      <td>...</td>\n",
       "      <td>...</td>\n",
       "      <td>...</td>\n",
       "    </tr>\n",
       "    <tr>\n",
       "      <th>7257</th>\n",
       "      <td>20176727</td>\n",
       "      <td>Maria Clara de Melo Pierre</td>\n",
       "      <td>Maria Clara de Melo Pierre</td>\n",
       "      <td>CAMPUS UNB PLANALTINA (FUP) – NOTURNO CIÊNCIAS...</td>\n",
       "      <td>Ciências Naturais (Licenciatura)</td>\n",
       "    </tr>\n",
       "    <tr>\n",
       "      <th>7258</th>\n",
       "      <td>21270449</td>\n",
       "      <td>Sarah de Oliveira Nascimento</td>\n",
       "      <td>Sarah de Oliveira Nascimento</td>\n",
       "      <td>CAMPUS UNB PLANALTINA (FUP) – NOTURNO CIÊNCIAS...</td>\n",
       "      <td>Ciências Naturais (Licenciatura)</td>\n",
       "    </tr>\n",
       "    <tr>\n",
       "      <th>7259</th>\n",
       "      <td>20102521</td>\n",
       "      <td>Eloisa Graziele Rodrigues de Ara ujo</td>\n",
       "      <td>Eloisa Graziele Rodrigues de Araujo</td>\n",
       "      <td>GESTÃO AMBIENTAL (BACHARELADO)</td>\n",
       "      <td>Gestão Ambiental (Bacharelado)</td>\n",
       "    </tr>\n",
       "    <tr>\n",
       "      <th>7260</th>\n",
       "      <td>20190553</td>\n",
       "      <td>Julia de Sousa Vale</td>\n",
       "      <td>Julia de Sousa Vale</td>\n",
       "      <td>GESTÃO AMBIENTAL (BACHARELADO)</td>\n",
       "      <td>Gestão Ambiental (Bacharelado)</td>\n",
       "    </tr>\n",
       "    <tr>\n",
       "      <th>7261</th>\n",
       "      <td>21208412</td>\n",
       "      <td>Manuella Stephanye Silva Magalhaes</td>\n",
       "      <td>Manuella Stephanye Silva Magalhaes</td>\n",
       "      <td>GESTÃO AMBIENTAL (BACHARELADO)</td>\n",
       "      <td>Gestão Ambiental (Bacharelado)</td>\n",
       "    </tr>\n",
       "  </tbody>\n",
       "</table>\n",
       "<p>1296 rows × 5 columns</p>\n",
       "</div>"
      ],
      "text/plain": [
       "     numero_inscricao                                nome_x  \\\n",
       "4            20188170      Ana Beatriz Cattermol Cavalcante   \n",
       "6            20183676            Ana Clara Marques da Silva   \n",
       "9            20170011               Ana Paula Nunes Bezerra   \n",
       "24           20184514            Bruno dos Santos Fernandes   \n",
       "29           20181503              Carina da Silva Ferreira   \n",
       "...               ...                                   ...   \n",
       "7257         20176727            Maria Clara de Melo Pierre   \n",
       "7258         21270449          Sarah de Oliveira Nascimento   \n",
       "7259         20102521  Eloisa Graziele Rodrigues de Ara ujo   \n",
       "7260         20190553                   Julia de Sousa Vale   \n",
       "7261         21208412    Manuella Stephanye Silva Magalhaes   \n",
       "\n",
       "                                     nome_y  \\\n",
       "4        Ana Beatriz Cattermol Cavalcante     \n",
       "6              Ana Clara Marques da Silva     \n",
       "9                 Ana Paula Nunes Bezerra     \n",
       "24            Bruno dos Santos  Fernandes     \n",
       "29               Carina da Silva Ferreira     \n",
       "...                                     ...   \n",
       "7257           Maria Clara de Melo Pierre     \n",
       "7258         Sarah de Oliveira Nascimento     \n",
       "7259  Eloisa Graziele Rodrigues de Araujo     \n",
       "7260                  Julia de Sousa Vale     \n",
       "7261   Manuella Stephanye Silva Magalhaes     \n",
       "\n",
       "                                                 course  \\\n",
       "4                    DIURNO ADMINISTRAÇÃO (BACHARELADO)   \n",
       "6                    DIURNO ADMINISTRAÇÃO (BACHARELADO)   \n",
       "9                    DIURNO ADMINISTRAÇÃO (BACHARELADO)   \n",
       "24                   DIURNO ADMINISTRAÇÃO (BACHARELADO)   \n",
       "29                   DIURNO ADMINISTRAÇÃO (BACHARELADO)   \n",
       "...                                                 ...   \n",
       "7257  CAMPUS UNB PLANALTINA (FUP) – NOTURNO CIÊNCIAS...   \n",
       "7258  CAMPUS UNB PLANALTINA (FUP) – NOTURNO CIÊNCIAS...   \n",
       "7259                     GESTÃO AMBIENTAL (BACHARELADO)   \n",
       "7260                     GESTÃO AMBIENTAL (BACHARELADO)   \n",
       "7261                     GESTÃO AMBIENTAL (BACHARELADO)   \n",
       "\n",
       "                                  curso  \n",
       "4          Administração (Bacharelado)   \n",
       "6          Administração (Bacharelado)   \n",
       "9          Administração (Bacharelado)   \n",
       "24         Administração (Bacharelado)   \n",
       "29         Administração (Bacharelado)   \n",
       "...                                 ...  \n",
       "7257  Ciências Naturais (Licenciatura)   \n",
       "7258  Ciências Naturais (Licenciatura)   \n",
       "7259    Gestão Ambiental (Bacharelado)   \n",
       "7260    Gestão Ambiental (Bacharelado)   \n",
       "7261    Gestão Ambiental (Bacharelado)   \n",
       "\n",
       "[1296 rows x 5 columns]"
      ]
     },
     "execution_count": 10,
     "metadata": {},
     "output_type": "execute_result"
    }
   ],
   "source": [
    "df[df.curso.notna()][['numero_inscricao', 'nome_x','nome_y', 'course', 'curso']]"
   ]
  },
  {
   "cell_type": "code",
   "execution_count": 11,
   "metadata": {},
   "outputs": [],
   "source": [
    "df['label'] = df._merge.apply(lambda x: 1 if x == 'both' else 0)"
   ]
  },
  {
   "cell_type": "code",
   "execution_count": 12,
   "metadata": {},
   "outputs": [],
   "source": [
    "FEATURES = ['escore_bruto_p1_etapa1',\n",
    "            'escore_bruto_p2_etapa1',\n",
    "            'nota_redacao_etapa1',\n",
    "            'escore_bruto_p1_etapa2',\n",
    "            'escore_bruto_p2_etapa2',\n",
    "            'nota_redacao_etapa2',\n",
    "            'escore_bruto_p1_etapa3',\n",
    "            'escore_bruto_p2_etapa3',\n",
    "            'nota_redacao_etapa3',\n",
    "            'argumento_final']"
   ]
  },
  {
   "cell_type": "code",
   "execution_count": 13,
   "metadata": {},
   "outputs": [],
   "source": [
    "def convert_string_to_float(df, colnames):\n",
    "    for colname in colnames:\n",
    "        df[colname] = df[colname].str.replace(' ', \"\", regex=True)\n",
    "        df[colname] = df[colname].str.replace('[R$]', \"\", regex=True)\n",
    "        df[colname] = df[colname].str.replace(',', \".\", regex=False)\n",
    "        df[colname] = df[colname].apply(float)\n",
    "    return df"
   ]
  },
  {
   "cell_type": "code",
   "execution_count": 14,
   "metadata": {},
   "outputs": [],
   "source": [
    "df = convert_string_to_float(df, FEATURES)"
   ]
  },
  {
   "cell_type": "code",
   "execution_count": 15,
   "metadata": {},
   "outputs": [],
   "source": [
    "course_dummies = pd.get_dummies(df.course)\n",
    "course_dummies_columns = list(course_dummies.columns)\n",
    "df = pd.concat([df, course_dummies], axis=1)"
   ]
  },
  {
   "cell_type": "code",
   "execution_count": 16,
   "metadata": {},
   "outputs": [],
   "source": [
    "FEATURES.extend(course_dummies_columns)"
   ]
  },
  {
   "cell_type": "code",
   "execution_count": 17,
   "metadata": {},
   "outputs": [
    {
     "data": {
      "text/plain": [
       "101"
      ]
     },
     "execution_count": 17,
     "metadata": {},
     "output_type": "execute_result"
    }
   ],
   "source": [
    "len(FEATURES)"
   ]
  },
  {
   "cell_type": "code",
   "execution_count": 18,
   "metadata": {},
   "outputs": [
    {
     "name": "stdout",
     "output_type": "stream",
     "text": [
      "<class 'pandas.core.frame.DataFrame'>\n",
      "Int64Index: 7263 entries, 0 to 7262\n",
      "Columns: 130 entries, numero_inscricao to TURISMO (BACHARELADO)\n",
      "dtypes: category(1), float64(12), int32(10), int64(1), object(15), uint8(91)\n",
      "memory usage: 2.5+ MB\n"
     ]
    }
   ],
   "source": [
    "df.info()"
   ]
  },
  {
   "attachments": {},
   "cell_type": "markdown",
   "metadata": {},
   "source": [
    "## Baseline Model"
   ]
  },
  {
   "cell_type": "code",
   "execution_count": 19,
   "metadata": {},
   "outputs": [],
   "source": [
    "X = df[FEATURES] # features\n",
    "y = df['label'] # labels\n",
    "X_train, X_test, y_train, y_test = train_test_split(X, y, test_size=0.20, random_state=47) # 70% training and 30% test"
   ]
  },
  {
   "cell_type": "code",
   "execution_count": 20,
   "metadata": {},
   "outputs": [
    {
     "name": "stdout",
     "output_type": "stream",
     "text": [
      "Accuracy: 0.848589125946318\n"
     ]
    },
    {
     "data": {
      "text/plain": [
       "{'0': {'precision': 0.8591954022988506,\n",
       "  'recall': 0.980327868852459,\n",
       "  'f1-score': 0.9157733537519143,\n",
       "  'support': 1220},\n",
       " '1': {'precision': 0.6065573770491803,\n",
       "  'recall': 0.15879828326180256,\n",
       "  'f1-score': 0.25170068027210885,\n",
       "  'support': 233},\n",
       " 'accuracy': 0.848589125946318,\n",
       " 'macro avg': {'precision': 0.7328763896740155,\n",
       "  'recall': 0.5695630760571309,\n",
       "  'f1-score': 0.5837370170120115,\n",
       "  'support': 1453},\n",
       " 'weighted avg': {'precision': 0.8186829040998326,\n",
       "  'recall': 0.848589125946318,\n",
       "  'f1-score': 0.8092840675022277,\n",
       "  'support': 1453}}"
      ]
     },
     "execution_count": 20,
     "metadata": {},
     "output_type": "execute_result"
    }
   ],
   "source": [
    "# Create a Random Forest Classifier\n",
    "model = RandomForestClassifier(random_state=47)\n",
    "\n",
    "# Fit randomized search\n",
    "model = model.fit(X_train, y_train)\n",
    "\n",
    "y_pred = model.predict(X_test)\n",
    "# Model Accuracy, how often is the classifier correct?\n",
    "print('Accuracy:', metrics.accuracy_score(y_test, y_pred))\n",
    "classification_report(y_test, y_pred, output_dict=True)"
   ]
  },
  {
   "attachments": {},
   "cell_type": "markdown",
   "metadata": {},
   "source": [
    "## Baseline Model + cotista"
   ]
  },
  {
   "cell_type": "code",
   "execution_count": 21,
   "metadata": {},
   "outputs": [],
   "source": [
    "FEATURES.append('cotista')"
   ]
  },
  {
   "cell_type": "code",
   "execution_count": 22,
   "metadata": {},
   "outputs": [
    {
     "data": {
      "text/plain": [
       "102"
      ]
     },
     "execution_count": 22,
     "metadata": {},
     "output_type": "execute_result"
    }
   ],
   "source": [
    "len(FEATURES)"
   ]
  },
  {
   "cell_type": "code",
   "execution_count": 23,
   "metadata": {},
   "outputs": [],
   "source": [
    "X = df[FEATURES] # features\n",
    "y = df['label'] # labels\n",
    "X_train, X_test, y_train, y_test = train_test_split(X, y, test_size=0.20, random_state=47) # 70% training and 30% test"
   ]
  },
  {
   "cell_type": "code",
   "execution_count": 24,
   "metadata": {},
   "outputs": [
    {
     "name": "stdout",
     "output_type": "stream",
     "text": [
      "Accuracy: 0.8623537508602891\n"
     ]
    },
    {
     "data": {
      "text/plain": [
       "{'0': {'precision': 0.8701015965166908,\n",
       "  'recall': 0.9827868852459016,\n",
       "  'f1-score': 0.9230177059276367,\n",
       "  'support': 1220},\n",
       " '1': {'precision': 0.72,\n",
       "  'recall': 0.2317596566523605,\n",
       "  'f1-score': 0.35064935064935066,\n",
       "  'support': 233},\n",
       " 'accuracy': 0.8623537508602891,\n",
       " 'macro avg': {'precision': 0.7950507982583455,\n",
       "  'recall': 0.6072732709491311,\n",
       "  'f1-score': 0.6368335282884936,\n",
       "  'support': 1453},\n",
       " 'weighted avg': {'precision': 0.8460316226774692,\n",
       "  'recall': 0.8623537508602891,\n",
       "  'f1-score': 0.8312339297543121,\n",
       "  'support': 1453}}"
      ]
     },
     "execution_count": 24,
     "metadata": {},
     "output_type": "execute_result"
    }
   ],
   "source": [
    "# Create a Random Forest Classifier\n",
    "model = RandomForestClassifier(random_state=47)\n",
    "\n",
    "# Fit randomized search\n",
    "model = model.fit(X_train, y_train)\n",
    "\n",
    "y_pred = model.predict(X_test)\n",
    "# Model Accuracy, how often is the classifier correct?\n",
    "print('Accuracy:', metrics.accuracy_score(y_test, y_pred))\n",
    "classification_report(y_test, y_pred, output_dict=True)"
   ]
  },
  {
   "attachments": {},
   "cell_type": "markdown",
   "metadata": {},
   "source": [
    "## Baseline Model + Flags"
   ]
  },
  {
   "cell_type": "code",
   "execution_count": 25,
   "metadata": {},
   "outputs": [
    {
     "data": {
      "text/plain": [
       "111"
      ]
     },
     "execution_count": 25,
     "metadata": {},
     "output_type": "execute_result"
    }
   ],
   "source": [
    "FEATURES.extend(flags_columns)\n",
    "len(FEATURES)"
   ]
  },
  {
   "cell_type": "code",
   "execution_count": 29,
   "metadata": {},
   "outputs": [],
   "source": [
    "X = df[FEATURES] # features\n",
    "y = df['label'] # labelss\n",
    "X_train, X_test, y_train, y_test = train_test_split(X, y, test_size=0.20, random_state=47) # 70% training and 30% test"
   ]
  },
  {
   "cell_type": "code",
   "execution_count": 27,
   "metadata": {},
   "outputs": [
    {
     "data": {
      "text/plain": [
       "{'0': {'precision': 0.8802045288531775,\n",
       "  'recall': 0.9877049180327869,\n",
       "  'f1-score': 0.9308613364233295,\n",
       "  'support': 1220},\n",
       " '1': {'precision': 0.8214285714285714,\n",
       "  'recall': 0.296137339055794,\n",
       "  'f1-score': 0.4353312302839117,\n",
       "  'support': 233},\n",
       " 'accuracy': 0.8768066070199587,\n",
       " 'macro avg': {'precision': 0.8508165501408744,\n",
       "  'recall': 0.6419211285442905,\n",
       "  'f1-score': 0.6830962833536206,\n",
       "  'support': 1453},\n",
       " 'weighted avg': {'precision': 0.8707793409110348,\n",
       "  'recall': 0.8768066070199587,\n",
       "  'f1-score': 0.8513991790038633,\n",
       "  'support': 1453}}"
      ]
     },
     "execution_count": 27,
     "metadata": {},
     "output_type": "execute_result"
    }
   ],
   "source": [
    "# Create a Random Forest Classifier\n",
    "model = RandomForestClassifier(random_state=47)\n",
    "\n",
    "# Fit randomized search\n",
    "model = model.fit(X_train, y_train)\n",
    "\n",
    "y_pred = model.predict(X_test)\n",
    "classification_report(y_test, y_pred, output_dict=True)"
   ]
  },
  {
   "attachments": {},
   "cell_type": "markdown",
   "metadata": {},
   "source": [
    "## Hyperparameter tuning + class_weight"
   ]
  },
  {
   "cell_type": "code",
   "execution_count": null,
   "metadata": {},
   "outputs": [],
   "source": [
    "param_grid = {\n",
    "    'n_estimators': [100, 200, 300, 500],      # Number of trees in the forest\n",
    "    'max_depth': [5, 10, 20, 40, 60],            # Maximum depth of each tree\n",
    "    'min_samples_split': [5, 10, 20, 40, 60],       # Minimum number of samples required to split an internal node\n",
    "    'min_samples_leaf': [2, 8, 16, 32]          # Minimum number of samples required to be at a leaf node\n",
    "}"
   ]
  },
  {
   "cell_type": "code",
   "execution_count": null,
   "metadata": {},
   "outputs": [
    {
     "ename": "NameError",
     "evalue": "name 'RandomForestClassifierGridSearch' is not defined",
     "output_type": "error",
     "traceback": [
      "\u001b[1;31m---------------------------------------------------------------------------\u001b[0m",
      "\u001b[1;31mNameError\u001b[0m                                 Traceback (most recent call last)",
      "\u001b[1;32mC:\\Users\\MARCOS~1\\AppData\\Local\\Temp/ipykernel_8376/473772764.py\u001b[0m in \u001b[0;36m<module>\u001b[1;34m\u001b[0m\n\u001b[0;32m      2\u001b[0m \u001b[1;33m\u001b[0m\u001b[0m\n\u001b[0;32m      3\u001b[0m \u001b[1;31m# Instantiate the class\u001b[0m\u001b[1;33m\u001b[0m\u001b[1;33m\u001b[0m\u001b[0m\n\u001b[1;32m----> 4\u001b[1;33m \u001b[0mrf_gs\u001b[0m \u001b[1;33m=\u001b[0m \u001b[0mRandomForestClassifierGridSearch\u001b[0m\u001b[1;33m(\u001b[0m\u001b[0mX_train\u001b[0m\u001b[1;33m,\u001b[0m \u001b[0my_train\u001b[0m\u001b[1;33m)\u001b[0m\u001b[1;33m\u001b[0m\u001b[1;33m\u001b[0m\u001b[0m\n\u001b[0m\u001b[0;32m      5\u001b[0m \u001b[1;33m\u001b[0m\u001b[0m\n\u001b[0;32m      6\u001b[0m \u001b[1;31m# Fit the classifier using GridSearchCV\u001b[0m\u001b[1;33m\u001b[0m\u001b[1;33m\u001b[0m\u001b[0m\n",
      "\u001b[1;31mNameError\u001b[0m: name 'RandomForestClassifierGridSearch' is not defined"
     ]
    }
   ],
   "source": [
    "# Assuming you have your training data X_train and corresponding labels y_train\n",
    "\n",
    "# Instantiate the class\n",
    "rf_gs = RandomForestClassifierGridSearch(X_train, y_train)\n",
    "\n",
    "# Fit the classifier using GridSearchCV\n",
    "rf_gs.fit(param_grid)\n",
    "\n",
    "# Assuming you have your test data X_test and corresponding labels y_test\n",
    "\n",
    "# Evaluate the best model on the test data\n",
    "report = rf_gs.evaluate(X_test, y_test)\n",
    "print(\"Classification Report:\")\n",
    "print(report)"
   ]
  },
  {
   "cell_type": "code",
   "execution_count": null,
   "metadata": {},
   "outputs": [],
   "source": [
    "with open('model_flags_tuned.pickle','wb') as f:\n",
    "    pickle.dump(model, f)"
   ]
  },
  {
   "cell_type": "code",
   "execution_count": null,
   "metadata": {},
   "outputs": [],
   "source": [
    "#with open('model_flags_tuned.pickle','wb') as f:\n",
    "#  pickle.dump(model, f)"
   ]
  },
  {
   "attachments": {},
   "cell_type": "markdown",
   "metadata": {},
   "source": [
    "## Stratified KFold + Hyperameter tuning + Flags"
   ]
  },
  {
   "cell_type": "code",
   "execution_count": 26,
   "metadata": {},
   "outputs": [
    {
     "name": "stdout",
     "output_type": "stream",
     "text": [
      "110\n"
     ]
    }
   ],
   "source": [
    "FEATURES.remove('argumento_final')\n",
    "print(len(FEATURES))\n",
    "\n",
    "X = df[FEATURES] # features\n",
    "y = df['label'] # labels\n",
    "X_train, X_test, y_train, y_test = train_test_split(X, y, test_size=0.20, random_state=47) # 70% training and 30% test"
   ]
  },
  {
   "cell_type": "code",
   "execution_count": 36,
   "metadata": {},
   "outputs": [],
   "source": [
    "# # Define the parameter grid for GridSearchCV\n",
    "param_grid = {\n",
    "    'n_estimators': [100, 200, 300],      # Number of trees in the forest\n",
    "    'max_depth': [5, 10, 20, 40, 80],            # Maximum depth of each tree\n",
    "    'min_samples_split': [5, 10, 20, 50],       # Minimum number of samples required to split an internal node\n",
    "    'min_samples_leaf': [2, 8, 16, 32],          # Minimum number of samples required to be at a leaf node\n",
    "}"
   ]
  },
  {
   "cell_type": "code",
   "execution_count": 37,
   "metadata": {},
   "outputs": [
    {
     "data": {
      "text/plain": [
       "(5810, 110)"
      ]
     },
     "execution_count": 37,
     "metadata": {},
     "output_type": "execute_result"
    }
   ],
   "source": [
    "X_train.shape"
   ]
  },
  {
   "cell_type": "code",
   "execution_count": 38,
   "metadata": {},
   "outputs": [
    {
     "name": "stdout",
     "output_type": "stream",
     "text": [
      "              precision    recall  f1-score   support\n",
      "\n",
      "           0       0.93      0.91      0.92      1220\n",
      "           1       0.57      0.64      0.60       233\n",
      "\n",
      "    accuracy                           0.86      1453\n",
      "   macro avg       0.75      0.77      0.76      1453\n",
      "weighted avg       0.87      0.86      0.87      1453\n",
      "\n"
     ]
    }
   ],
   "source": [
    "# Assuming you have your training data X_train and corresponding labels y_train\n",
    "\n",
    "# Instantiate the class\n",
    "rf_gs = RandomForestClassifierGridSearch(X_train, y_train)\n",
    "\n",
    "# Fit the classifier using GridSearchCV\n",
    "rf_gs.fit(param_grid)\n",
    "\n",
    "# Assuming you have your test data X_test and corresponding labels y_test\n",
    "\n",
    "# Evaluate the best model on the test data\n",
    "report = rf_gs.evaluate(X_test, y_test)\n",
    "print(report)"
   ]
  },
  {
   "cell_type": "code",
   "execution_count": 39,
   "metadata": {},
   "outputs": [],
   "source": [
    "rf_gs.save_model('stratified_kfold_classweight15_tuned_model_spelling')"
   ]
  },
  {
   "cell_type": "code",
   "execution_count": 27,
   "metadata": {},
   "outputs": [],
   "source": [
    "with open('../ml_dev/models/stratified_kfold_classweight15_tuned_model_spelling.pickle', 'rb') as f:\n",
    "  model_loaded = pickle.load(f)"
   ]
  },
  {
   "cell_type": "code",
   "execution_count": 28,
   "metadata": {},
   "outputs": [
    {
     "data": {
      "text/plain": [
       "{'0': {'precision': 0.9286912751677853,\n",
       "  'recall': 0.9073770491803279,\n",
       "  'f1-score': 0.9179104477611939,\n",
       "  'support': 1220},\n",
       " '1': {'precision': 0.5670498084291188,\n",
       "  'recall': 0.6351931330472103,\n",
       "  'f1-score': 0.5991902834008097,\n",
       "  'support': 233},\n",
       " 'accuracy': 0.8637302133516862,\n",
       " 'macro avg': {'precision': 0.747870541798452,\n",
       "  'recall': 0.7712850911137691,\n",
       "  'f1-score': 0.7585503655810018,\n",
       "  'support': 1453},\n",
       " 'weighted avg': {'precision': 0.8706992161518806,\n",
       "  'recall': 0.8637302133516862,\n",
       "  'f1-score': 0.8668011578121441,\n",
       "  'support': 1453}}"
      ]
     },
     "execution_count": 28,
     "metadata": {},
     "output_type": "execute_result"
    }
   ],
   "source": [
    "y_pred = model_loaded.predict(X_test)\n",
    "classification_report(y_test, y_pred, output_dict=True)"
   ]
  },
  {
   "cell_type": "code",
   "execution_count": 74,
   "metadata": {},
   "outputs": [],
   "source": [
    "def predict_approval(model, new_data):\n",
    "    \n",
    "    # Predict diabetes\n",
    "    predictions = model.predict_proba(new_data)\n",
    "    approval_prob = round(predictions[0][1], ndigits=3)\n",
    "\n",
    "    #pred_to_label = {0: 'Negative', 1: 'Positive'}\n",
    "\n",
    "    # Make a list of predictions\n",
    "    #data = []\n",
    "    #for t, pred in zip(new_data, predictions):\n",
    "    #    data.append({'prediction': pred[0]})\n",
    "\n",
    "    return approval_prob"
   ]
  },
  {
   "cell_type": "code",
   "execution_count": 63,
   "metadata": {},
   "outputs": [
    {
     "data": {
      "text/plain": [
       "['escore_bruto_p1_etapa1',\n",
       " 'escore_bruto_p2_etapa1',\n",
       " 'nota_redacao_etapa1',\n",
       " 'escore_bruto_p1_etapa2',\n",
       " 'escore_bruto_p2_etapa2',\n",
       " 'nota_redacao_etapa2',\n",
       " 'escore_bruto_p1_etapa3',\n",
       " 'escore_bruto_p2_etapa3',\n",
       " 'nota_redacao_etapa3',\n",
       " 'AGRONOMIA (BACHARELADO)',\n",
       " 'ARQUITETURA E URBANISMO (BACHARELADO)',\n",
       " 'ARQUIVOLOGIA (BACHARELADO)',\n",
       " 'ARTES CÊNICAS - INTERPRETAÇÃO TEATRAL (BACHARELADO)',\n",
       " 'ARTES VISUAIS (BACHARELADO)',\n",
       " 'ARTES VISUAIS (LICENCIATURA)',\n",
       " 'BIBLIOTECONOMIA (BACHARELADO)',\n",
       " 'BIOTECNOLOGIA (BACHARELADO)',\n",
       " 'CAMPUS UNB CEILÂNDIA (FCE) ENFERMAGEM (BACHARELADO)',\n",
       " 'CAMPUS UNB PLANALTINA (FUP) – DIURNO CIÊNCIAS NATURAIS (LICENCIATURA)',\n",
       " 'CAMPUS UNB PLANALTINA (FUP) – NOTURNO CIÊNCIAS NATURAIS (LICENCIATURA)',\n",
       " 'CIÊNCIA DA COMPUTAÇÃO (BACHARELADO)',\n",
       " 'CIÊNCIA POLÍTICA (BACHARELADO)',\n",
       " 'CIÊNCIAS AMBIENTAIS (BACHARELADO)',\n",
       " 'CIÊNCIAS BIOLÓGICAS (BACHARELADO)',\n",
       " 'CIÊNCIAS CONTÁBEIS (BACHARELADO)',\n",
       " 'CIÊNCIAS ECONÔMICAS (BACHARELADO)',\n",
       " 'CIÊNCIAS SOCIAIS – ANTROPOLOGIA / SOCIOLOGIA (BACHARELADO/LICENCIATURA)',\n",
       " 'COMPUTAÇÃO (LICENCIATURA)',\n",
       " 'COMUNICAÇÃO ORGANIZACIONAL (BACHARELADO)',\n",
       " 'COMUNICAÇÃO SOCIAL - PUBLICIDADE E PROPAGANDA (BACHARELADO)',\n",
       " 'COMUNICAÇÃO SOCIAL – AUDIOVISUAL (BACHARELADO)',\n",
       " 'DESIGN – PROGRAMAÇÃO VISUAL/PROJETO DO PRODUTO (BACHARELADO)',\n",
       " 'DIREITO (BACHARELADO)',\n",
       " 'DIURNO ADMINISTRAÇÃO (BACHARELADO)',\n",
       " 'EDUCAÇÃO FÍSICA (BACHARELADO)',\n",
       " 'EDUCAÇÃO FÍSICA (LICENCIATURA)',\n",
       " 'ENFERMAGEM (BACHARELADO)',\n",
       " 'ENGENHARIA AMBIENTAL (BACHARELADO)',\n",
       " 'ENGENHARIA CIVIL (BACHARELADO)',\n",
       " 'ENGENHARIA DE COMPUTAÇÃO (BACHARELADO)',\n",
       " 'ENGENHARIA DE PRODUÇÃO (BACHARELADO)',\n",
       " 'ENGENHARIA DE REDES DE COMUNICAÇÃO (BACHARELADO)',\n",
       " 'ENGENHARIA ELÉTRICA (BACHARELADO)',\n",
       " 'ENGENHARIA FLORESTAL (BACHARELADO)',\n",
       " 'ENGENHARIA MECATRÔNICA – CONTROLE E AUTOMAÇÃO (BACHARELADO)',\n",
       " 'ENGENHARIA MECÂNICA (BACHARELADO)',\n",
       " 'ENGENHARIA QUÍMICA (BACHARELADO)',\n",
       " 'ENGENHARIAS – AEROESPACIAL / AUTOMOTIVA / ELETRÔNICA / ENERGIA / SOFTWARE (BACHARELADOS)',\n",
       " 'ESTATÍSTICA (BACHARELADO)',\n",
       " 'FARMÁCIA (BACHARELADO)',\n",
       " 'FILOSOFIA (BACHARELADO/LICENCIATURA)',\n",
       " 'FILOSOFIA (LICENCIATURA)',\n",
       " 'FISIOTERAPIA (BACHARELADO)',\n",
       " 'FONOAUDIOLOGIA (BACHARELADO)',\n",
       " 'FÍSICA (BACHARELADO)',\n",
       " 'GEOFÍSICA (BACHARELADO)',\n",
       " 'GEOGRAFIA (BACHARELADO/LICENCIATURA)',\n",
       " 'GEOLOGIA (BACHARELADO)',\n",
       " 'GESTÃO AMBIENTAL (BACHARELADO)',\n",
       " 'GESTÃO DE AGRONEGÓCIO (BACHARELADO)',\n",
       " 'GESTÃO DE POLÍTICAS PÚBLICAS (BACHARELADO)',\n",
       " 'GESTÃO DO AGRONEGÓCIO (BACHARELADO)',\n",
       " 'HISTÓRIA (BACHARELADO/LICENCIATURA )',\n",
       " 'HISTÓRIA (LICENCIATURA)',\n",
       " 'JORNALISMO (BACHARELADO)',\n",
       " 'LETRAS – PORTUGUÊS DO BRASIL COMO SEGUNDA LÍNGUA (LICENCIATURA)',\n",
       " 'LETRAS – TRADUÇÃO ESPANHOL (BACHARELADO)',\n",
       " 'LETRAS – TRADUÇÃO – FRANCÊS (BACHARELADO)',\n",
       " 'LETRAS – TRADUÇÃO – INGLÊS (BACHARELADO)',\n",
       " 'LICENCIATURA EM ARTES CÊNICAS',\n",
       " 'LICENCIATURA EM CIÊNCIAS BIOLÓGICAS',\n",
       " 'LICENCIATURA EM FÍSICA',\n",
       " 'LICENCIATURA EM MATEMÁTICA',\n",
       " 'LICENCIATURA EM QUÍMICA',\n",
       " 'LÍNGUA E LITERATURA JAPONESA (LICENCIATURA)',\n",
       " 'LÍNGUA ESPANHOLA E LITERATURA ESPANHOLA E HISPANO - AMERICANA (LICENCIATURA)',\n",
       " 'LÍNGUA ESTRANGEIRA APLICADA – MULTILINGUISMO E SOCIEDADE DA INFORMAÇÃO (BACHARELADO)',\n",
       " 'LÍNGUA FRANCESA E RESPECTIVA LITERATURA (BACHARELADO/LICENCIATURA)',\n",
       " 'LÍNGUA INGLESA E RESPECTIVA LITERATURA (BACHARELADO/LICENCIATURA)',\n",
       " 'LÍNGUA PORTUGUESA E RESPECTIVA LITERATURA (BACHARELADO/LICENCIATURA)',\n",
       " 'LÍNGUA PORTUGUESA E RESPECTIVA LITERATURA (LICENCIATURA)',\n",
       " 'MATEMÁTICA (BACHARELADO/LICENCIATURA)',\n",
       " 'MEDICINA (BACHARELADO)',\n",
       " 'MEDICINA VETERINÁRIA (BACHARELADO)',\n",
       " 'MUSEOLOGIA (BACHARELADO)',\n",
       " 'MÚSICA (BACHARELADO)',\n",
       " 'MÚSICA (LICENCIATURA)',\n",
       " 'NOTURNO ADMINISTRAÇÃO (BACHARELADO)',\n",
       " 'NUTRIÇÃO (BACHARELADO)',\n",
       " 'ODONTOLOGIA (BACHARELADO)',\n",
       " 'PEDAGOGIA (LICENCIATURA)',\n",
       " 'PSICOLOGIA (BACHARELADO / LICENCIATURA / PSICÓLOGO)',\n",
       " 'QUÍMICA (BACHARELADO)',\n",
       " 'QUÍMICA TECNOLÓGICA (BACHARELADO)',\n",
       " 'RELAÇÕES INTERNACIONAIS (BACHARELADO)',\n",
       " 'SAÚDE COLETIVA (BACHARELADO)',\n",
       " 'SERVIÇO SOCIAL (BACHARELADO)',\n",
       " 'TEORIA, CRÍTICA E HISTÓRIA DA ARTE (BACHARELADO)',\n",
       " 'TERAPIA OCUPACIONAL (BACHARELADO)',\n",
       " 'TURISMO (BACHARELADO)',\n",
       " 'cotista',\n",
       " 'cotas_negros_flag',\n",
       " 'publicas1_flag',\n",
       " 'publicas2_flag',\n",
       " 'publicas3_flag',\n",
       " 'publicas4_flag',\n",
       " 'publicas5_flag',\n",
       " 'publicas6_flag',\n",
       " 'publicas7_flag',\n",
       " 'publicas8_flag']"
      ]
     },
     "execution_count": 63,
     "metadata": {},
     "output_type": "execute_result"
    }
   ],
   "source": [
    "FEATURES"
   ]
  },
  {
   "cell_type": "code",
   "execution_count": 42,
   "metadata": {},
   "outputs": [],
   "source": [
    "covariables = list({\"escore_bruto_p1_etapa1\": 5.172,\n",
    "                            \"escore_bruto_p2_etapa1\": 14.653,\n",
    "                            \"nota_redacao_etapa1\": 6.947,\n",
    "                            \"escore_bruto_p1_etapa2\": 3.845,\n",
    "                            \"escore_bruto_p2_etapa2\": 19.994,\n",
    "                            \"nota_redacao_etapa2\": 7.222,\n",
    "                            \"escore_bruto_p1_etapa3\": 4.998,\n",
    "                            \"escore_bruto_p2_etapa3\": 16.66,\n",
    "                            \"nota_redacao_etapa3\": 8.06,\n",
    "                            \"argumento_final\": -25.699,\n",
    "                            \"2.1.1 CAMPUS  DARCY RIBEIRO – DIURNO  ADMINISTRAÇÃO (BACHARELADO)\": 1.0,               \n",
    "                            \"cotista\": 0.0,\n",
    "                            \"cotas_negros_flag\": 0.0,\n",
    "                            \"publicas1_flag\": 0.0,\n",
    "                            \"publicas2_flag\": 0.0,\n",
    "                            \"publicas3_flag\": 0.0,\n",
    "                            \"publicas4_flag\": 0.0,\n",
    "                            \"publicas5_flag\": 0.0,\n",
    "                            \"publicas6_flag\": 0.0,\n",
    "                            \"publicas7_flag\": 0.0,\n",
    "                            \"publicas8_flag\": 0.0}.keys())"
   ]
  },
  {
   "cell_type": "code",
   "execution_count": 30,
   "metadata": {},
   "outputs": [],
   "source": [
    "from samples import sample_approved, sample_not_approved"
   ]
  },
  {
   "cell_type": "code",
   "execution_count": 43,
   "metadata": {},
   "outputs": [
    {
     "data": {
      "text/plain": [
       "{'teste': 0.0}"
      ]
     },
     "execution_count": 43,
     "metadata": {},
     "output_type": "execute_result"
    }
   ],
   "source": [
    "{'teste':sample_not_approved.get('cotista')}"
   ]
  },
  {
   "cell_type": "code",
   "execution_count": 36,
   "metadata": {},
   "outputs": [
    {
     "data": {
      "text/plain": [
       "['escore_bruto_p1_etapa1',\n",
       " 'escore_bruto_p2_etapa1',\n",
       " 'nota_redacao_etapa1',\n",
       " 'escore_bruto_p1_etapa2',\n",
       " 'escore_bruto_p2_etapa2',\n",
       " 'nota_redacao_etapa2',\n",
       " 'escore_bruto_p1_etapa3',\n",
       " 'escore_bruto_p2_etapa3',\n",
       " 'nota_redacao_etapa3',\n",
       " 'argumento_final',\n",
       " '2.1.1 CAMPUS  DARCY RIBEIRO – DIURNO  ADMINISTRAÇÃO (BACHARELADO)',\n",
       " 'cotista',\n",
       " 'cotas_negros_flag',\n",
       " 'publicas1_flag',\n",
       " 'publicas2_flag',\n",
       " 'publicas3_flag',\n",
       " 'publicas4_flag',\n",
       " 'publicas5_flag',\n",
       " 'publicas6_flag',\n",
       " 'publicas7_flag',\n",
       " 'publicas8_flag']"
      ]
     },
     "execution_count": 36,
     "metadata": {},
     "output_type": "execute_result"
    }
   ],
   "source": [
    "list(sample_not_approved.keys())"
   ]
  },
  {
   "cell_type": "code",
   "execution_count": 76,
   "metadata": {},
   "outputs": [],
   "source": [
    "new_sample = sample_not_approved\n",
    "#new_sample = pd.DataFrame([{col: new_sample.get(col) for col in FEATURES}])\n",
    "#new_sample = new_sample.fillna(0)"
   ]
  },
  {
   "cell_type": "code",
   "execution_count": 79,
   "metadata": {},
   "outputs": [
    {
     "ename": "SyntaxError",
     "evalue": "invalid syntax (Temp/ipykernel_17636/1785515755.py, line 1)",
     "output_type": "error",
     "traceback": [
      "\u001b[1;36m  File \u001b[1;32m\"C:\\Users\\MARCOS~1\\AppData\\Local\\Temp/ipykernel_17636/1785515755.py\"\u001b[1;36m, line \u001b[1;32m1\u001b[0m\n\u001b[1;33m    [True for key in new_sample.keys() if key in FEATURES else False]\u001b[0m\n\u001b[1;37m                                                          ^\u001b[0m\n\u001b[1;31mSyntaxError\u001b[0m\u001b[1;31m:\u001b[0m invalid syntax\n"
     ]
    }
   ],
   "source": [
    "[True for key in new_sample.keys() if key in FEATURES else False]"
   ]
  },
  {
   "cell_type": "code",
   "execution_count": 80,
   "metadata": {},
   "outputs": [
    {
     "data": {
      "text/plain": [
       "[True,\n",
       " True,\n",
       " True,\n",
       " True,\n",
       " True,\n",
       " True,\n",
       " True,\n",
       " True,\n",
       " True,\n",
       " True,\n",
       " True,\n",
       " True,\n",
       " True,\n",
       " True,\n",
       " True,\n",
       " True,\n",
       " True,\n",
       " True,\n",
       " True,\n",
       " True,\n",
       " True]"
      ]
     },
     "execution_count": 80,
     "metadata": {},
     "output_type": "execute_result"
    }
   ],
   "source": [
    "[True for key in new_sample.keys()]"
   ]
  },
  {
   "cell_type": "code",
   "execution_count": 72,
   "metadata": {},
   "outputs": [
    {
     "data": {
      "text/plain": [
       "{'escore_bruto_p1_etapa1': {0: 5.172},\n",
       " 'escore_bruto_p2_etapa1': {0: 14.653},\n",
       " 'nota_redacao_etapa1': {0: 6.947},\n",
       " 'escore_bruto_p1_etapa2': {0: 3.845},\n",
       " 'escore_bruto_p2_etapa2': {0: 19.994},\n",
       " 'nota_redacao_etapa2': {0: 7.222},\n",
       " 'escore_bruto_p1_etapa3': {0: 4.998},\n",
       " 'escore_bruto_p2_etapa3': {0: 16.66},\n",
       " 'nota_redacao_etapa3': {0: 8.06},\n",
       " 'AGRONOMIA (BACHARELADO)': {0: 0},\n",
       " 'ARQUITETURA E URBANISMO (BACHARELADO)': {0: 0},\n",
       " 'ARQUIVOLOGIA (BACHARELADO)': {0: 0},\n",
       " 'ARTES CÊNICAS - INTERPRETAÇÃO TEATRAL (BACHARELADO)': {0: 0},\n",
       " 'ARTES VISUAIS (BACHARELADO)': {0: 0},\n",
       " 'ARTES VISUAIS (LICENCIATURA)': {0: 0},\n",
       " 'BIBLIOTECONOMIA (BACHARELADO)': {0: 0},\n",
       " 'BIOTECNOLOGIA (BACHARELADO)': {0: 0},\n",
       " 'CAMPUS UNB CEILÂNDIA (FCE) ENFERMAGEM (BACHARELADO)': {0: 0},\n",
       " 'CAMPUS UNB PLANALTINA (FUP) – DIURNO CIÊNCIAS NATURAIS (LICENCIATURA)': {0: 0},\n",
       " 'CAMPUS UNB PLANALTINA (FUP) – NOTURNO CIÊNCIAS NATURAIS (LICENCIATURA)': {0: 0},\n",
       " 'CIÊNCIA DA COMPUTAÇÃO (BACHARELADO)': {0: 0},\n",
       " 'CIÊNCIA POLÍTICA (BACHARELADO)': {0: 0},\n",
       " 'CIÊNCIAS AMBIENTAIS (BACHARELADO)': {0: 0},\n",
       " 'CIÊNCIAS BIOLÓGICAS (BACHARELADO)': {0: 0},\n",
       " 'CIÊNCIAS CONTÁBEIS (BACHARELADO)': {0: 0},\n",
       " 'CIÊNCIAS ECONÔMICAS (BACHARELADO)': {0: 0},\n",
       " 'CIÊNCIAS SOCIAIS – ANTROPOLOGIA / SOCIOLOGIA (BACHARELADO/LICENCIATURA)': {0: 0},\n",
       " 'COMPUTAÇÃO (LICENCIATURA)': {0: 0},\n",
       " 'COMUNICAÇÃO ORGANIZACIONAL (BACHARELADO)': {0: 0},\n",
       " 'COMUNICAÇÃO SOCIAL - PUBLICIDADE E PROPAGANDA (BACHARELADO)': {0: 0},\n",
       " 'COMUNICAÇÃO SOCIAL – AUDIOVISUAL (BACHARELADO)': {0: 0},\n",
       " 'DESIGN – PROGRAMAÇÃO VISUAL/PROJETO DO PRODUTO (BACHARELADO)': {0: 0},\n",
       " 'DIREITO (BACHARELADO)': {0: 0},\n",
       " 'DIURNO ADMINISTRAÇÃO (BACHARELADO)': {0: 0},\n",
       " 'EDUCAÇÃO FÍSICA (BACHARELADO)': {0: 0},\n",
       " 'EDUCAÇÃO FÍSICA (LICENCIATURA)': {0: 0},\n",
       " 'ENFERMAGEM (BACHARELADO)': {0: 0},\n",
       " 'ENGENHARIA AMBIENTAL (BACHARELADO)': {0: 0},\n",
       " 'ENGENHARIA CIVIL (BACHARELADO)': {0: 0},\n",
       " 'ENGENHARIA DE COMPUTAÇÃO (BACHARELADO)': {0: 0},\n",
       " 'ENGENHARIA DE PRODUÇÃO (BACHARELADO)': {0: 0},\n",
       " 'ENGENHARIA DE REDES DE COMUNICAÇÃO (BACHARELADO)': {0: 0},\n",
       " 'ENGENHARIA ELÉTRICA (BACHARELADO)': {0: 0},\n",
       " 'ENGENHARIA FLORESTAL (BACHARELADO)': {0: 0},\n",
       " 'ENGENHARIA MECATRÔNICA – CONTROLE E AUTOMAÇÃO (BACHARELADO)': {0: 0},\n",
       " 'ENGENHARIA MECÂNICA (BACHARELADO)': {0: 0},\n",
       " 'ENGENHARIA QUÍMICA (BACHARELADO)': {0: 0},\n",
       " 'ENGENHARIAS – AEROESPACIAL / AUTOMOTIVA / ELETRÔNICA / ENERGIA / SOFTWARE (BACHARELADOS)': {0: 0},\n",
       " 'ESTATÍSTICA (BACHARELADO)': {0: 0},\n",
       " 'FARMÁCIA (BACHARELADO)': {0: 0},\n",
       " 'FILOSOFIA (BACHARELADO/LICENCIATURA)': {0: 0},\n",
       " 'FILOSOFIA (LICENCIATURA)': {0: 0},\n",
       " 'FISIOTERAPIA (BACHARELADO)': {0: 0},\n",
       " 'FONOAUDIOLOGIA (BACHARELADO)': {0: 0},\n",
       " 'FÍSICA (BACHARELADO)': {0: 0},\n",
       " 'GEOFÍSICA (BACHARELADO)': {0: 0},\n",
       " 'GEOGRAFIA (BACHARELADO/LICENCIATURA)': {0: 0},\n",
       " 'GEOLOGIA (BACHARELADO)': {0: 0},\n",
       " 'GESTÃO AMBIENTAL (BACHARELADO)': {0: 0},\n",
       " 'GESTÃO DE AGRONEGÓCIO (BACHARELADO)': {0: 0},\n",
       " 'GESTÃO DE POLÍTICAS PÚBLICAS (BACHARELADO)': {0: 0},\n",
       " 'GESTÃO DO AGRONEGÓCIO (BACHARELADO)': {0: 0},\n",
       " 'HISTÓRIA (BACHARELADO/LICENCIATURA )': {0: 0},\n",
       " 'HISTÓRIA (LICENCIATURA)': {0: 0},\n",
       " 'JORNALISMO (BACHARELADO)': {0: 0},\n",
       " 'LETRAS – PORTUGUÊS DO BRASIL COMO SEGUNDA LÍNGUA (LICENCIATURA)': {0: 0},\n",
       " 'LETRAS – TRADUÇÃO ESPANHOL (BACHARELADO)': {0: 0},\n",
       " 'LETRAS – TRADUÇÃO – FRANCÊS (BACHARELADO)': {0: 0},\n",
       " 'LETRAS – TRADUÇÃO – INGLÊS (BACHARELADO)': {0: 0},\n",
       " 'LICENCIATURA EM ARTES CÊNICAS': {0: 0},\n",
       " 'LICENCIATURA EM CIÊNCIAS BIOLÓGICAS': {0: 0},\n",
       " 'LICENCIATURA EM FÍSICA': {0: 0},\n",
       " 'LICENCIATURA EM MATEMÁTICA': {0: 0},\n",
       " 'LICENCIATURA EM QUÍMICA': {0: 0},\n",
       " 'LÍNGUA E LITERATURA JAPONESA (LICENCIATURA)': {0: 0},\n",
       " 'LÍNGUA ESPANHOLA E LITERATURA ESPANHOLA E HISPANO - AMERICANA (LICENCIATURA)': {0: 0},\n",
       " 'LÍNGUA ESTRANGEIRA APLICADA – MULTILINGUISMO E SOCIEDADE DA INFORMAÇÃO (BACHARELADO)': {0: 0},\n",
       " 'LÍNGUA FRANCESA E RESPECTIVA LITERATURA (BACHARELADO/LICENCIATURA)': {0: 0},\n",
       " 'LÍNGUA INGLESA E RESPECTIVA LITERATURA (BACHARELADO/LICENCIATURA)': {0: 0},\n",
       " 'LÍNGUA PORTUGUESA E RESPECTIVA LITERATURA (BACHARELADO/LICENCIATURA)': {0: 0},\n",
       " 'LÍNGUA PORTUGUESA E RESPECTIVA LITERATURA (LICENCIATURA)': {0: 0},\n",
       " 'MATEMÁTICA (BACHARELADO/LICENCIATURA)': {0: 0},\n",
       " 'MEDICINA (BACHARELADO)': {0: 0},\n",
       " 'MEDICINA VETERINÁRIA (BACHARELADO)': {0: 0},\n",
       " 'MUSEOLOGIA (BACHARELADO)': {0: 0},\n",
       " 'MÚSICA (BACHARELADO)': {0: 0},\n",
       " 'MÚSICA (LICENCIATURA)': {0: 0},\n",
       " 'NOTURNO ADMINISTRAÇÃO (BACHARELADO)': {0: 0},\n",
       " 'NUTRIÇÃO (BACHARELADO)': {0: 0},\n",
       " 'ODONTOLOGIA (BACHARELADO)': {0: 0},\n",
       " 'PEDAGOGIA (LICENCIATURA)': {0: 0},\n",
       " 'PSICOLOGIA (BACHARELADO / LICENCIATURA / PSICÓLOGO)': {0: 0},\n",
       " 'QUÍMICA (BACHARELADO)': {0: 0},\n",
       " 'QUÍMICA TECNOLÓGICA (BACHARELADO)': {0: 0},\n",
       " 'RELAÇÕES INTERNACIONAIS (BACHARELADO)': {0: 0},\n",
       " 'SAÚDE COLETIVA (BACHARELADO)': {0: 0},\n",
       " 'SERVIÇO SOCIAL (BACHARELADO)': {0: 0},\n",
       " 'TEORIA, CRÍTICA E HISTÓRIA DA ARTE (BACHARELADO)': {0: 0},\n",
       " 'TERAPIA OCUPACIONAL (BACHARELADO)': {0: 0},\n",
       " 'TURISMO (BACHARELADO)': {0: 0},\n",
       " 'cotista': {0: 0.0},\n",
       " 'cotas_negros_flag': {0: 0.0},\n",
       " 'publicas1_flag': {0: 0.0},\n",
       " 'publicas2_flag': {0: 0.0},\n",
       " 'publicas3_flag': {0: 0.0},\n",
       " 'publicas4_flag': {0: 0.0},\n",
       " 'publicas5_flag': {0: 0.0},\n",
       " 'publicas6_flag': {0: 0.0},\n",
       " 'publicas7_flag': {0: 0.0},\n",
       " 'publicas8_flag': {0: 0.0}}"
      ]
     },
     "execution_count": 72,
     "metadata": {},
     "output_type": "execute_result"
    }
   ],
   "source": [
    "new_sample.to_dict()"
   ]
  },
  {
   "cell_type": "code",
   "execution_count": 64,
   "metadata": {},
   "outputs": [
    {
     "data": {
      "text/plain": [
       "'DIURNO ADMINISTRAÇÃO (BACHARELADO)'"
      ]
     },
     "execution_count": 64,
     "metadata": {},
     "output_type": "execute_result"
    }
   ],
   "source": [
    "FEATURES[33]"
   ]
  },
  {
   "cell_type": "code",
   "execution_count": 65,
   "metadata": {},
   "outputs": [],
   "source": [
    "sample_not_approved.get(FEATURES[33])"
   ]
  },
  {
   "cell_type": "code",
   "execution_count": 75,
   "metadata": {},
   "outputs": [
    {
     "data": {
      "text/plain": [
       "0.104"
      ]
     },
     "execution_count": 75,
     "metadata": {},
     "output_type": "execute_result"
    }
   ],
   "source": [
    "predict_approval(model_loaded, new_data=new_sample)"
   ]
  },
  {
   "cell_type": "code",
   "execution_count": 60,
   "metadata": {},
   "outputs": [
    {
     "data": {
      "text/plain": [
       "['escore_bruto_p1_etapa1',\n",
       " 'escore_bruto_p2_etapa1',\n",
       " 'nota_redacao_etapa1',\n",
       " 'escore_bruto_p1_etapa2',\n",
       " 'escore_bruto_p2_etapa2',\n",
       " 'nota_redacao_etapa2',\n",
       " 'escore_bruto_p1_etapa3',\n",
       " 'escore_bruto_p2_etapa3',\n",
       " 'nota_redacao_etapa3',\n",
       " 'AGRONOMIA (BACHARELADO)',\n",
       " 'ARQUITETURA E URBANISMO (BACHARELADO)',\n",
       " 'ARQUIVOLOGIA (BACHARELADO)',\n",
       " 'ARTES CÊNICAS - INTERPRETAÇÃO TEATRAL (BACHARELADO)',\n",
       " 'ARTES VISUAIS (BACHARELADO)',\n",
       " 'ARTES VISUAIS (LICENCIATURA)',\n",
       " 'BIBLIOTECONOMIA (BACHARELADO)',\n",
       " 'BIOTECNOLOGIA (BACHARELADO)',\n",
       " 'CAMPUS UNB CEILÂNDIA (FCE) ENFERMAGEM (BACHARELADO)',\n",
       " 'CAMPUS UNB PLANALTINA (FUP) – DIURNO CIÊNCIAS NATURAIS (LICENCIATURA)',\n",
       " 'CAMPUS UNB PLANALTINA (FUP) – NOTURNO CIÊNCIAS NATURAIS (LICENCIATURA)',\n",
       " 'CIÊNCIA DA COMPUTAÇÃO (BACHARELADO)',\n",
       " 'CIÊNCIA POLÍTICA (BACHARELADO)',\n",
       " 'CIÊNCIAS AMBIENTAIS (BACHARELADO)',\n",
       " 'CIÊNCIAS BIOLÓGICAS (BACHARELADO)',\n",
       " 'CIÊNCIAS CONTÁBEIS (BACHARELADO)',\n",
       " 'CIÊNCIAS ECONÔMICAS (BACHARELADO)',\n",
       " 'CIÊNCIAS SOCIAIS – ANTROPOLOGIA / SOCIOLOGIA (BACHARELADO/LICENCIATURA)',\n",
       " 'COMPUTAÇÃO (LICENCIATURA)',\n",
       " 'COMUNICAÇÃO ORGANIZACIONAL (BACHARELADO)',\n",
       " 'COMUNICAÇÃO SOCIAL - PUBLICIDADE E PROPAGANDA (BACHARELADO)',\n",
       " 'COMUNICAÇÃO SOCIAL – AUDIOVISUAL (BACHARELADO)',\n",
       " 'DESIGN – PROGRAMAÇÃO VISUAL/PROJETO DO PRODUTO (BACHARELADO)',\n",
       " 'DIREITO (BACHARELADO)',\n",
       " 'DIURNO ADMINISTRAÇÃO (BACHARELADO)',\n",
       " 'EDUCAÇÃO FÍSICA (BACHARELADO)',\n",
       " 'EDUCAÇÃO FÍSICA (LICENCIATURA)',\n",
       " 'ENFERMAGEM (BACHARELADO)',\n",
       " 'ENGENHARIA AMBIENTAL (BACHARELADO)',\n",
       " 'ENGENHARIA CIVIL (BACHARELADO)',\n",
       " 'ENGENHARIA DE COMPUTAÇÃO (BACHARELADO)',\n",
       " 'ENGENHARIA DE PRODUÇÃO (BACHARELADO)',\n",
       " 'ENGENHARIA DE REDES DE COMUNICAÇÃO (BACHARELADO)',\n",
       " 'ENGENHARIA ELÉTRICA (BACHARELADO)',\n",
       " 'ENGENHARIA FLORESTAL (BACHARELADO)',\n",
       " 'ENGENHARIA MECATRÔNICA – CONTROLE E AUTOMAÇÃO (BACHARELADO)',\n",
       " 'ENGENHARIA MECÂNICA (BACHARELADO)',\n",
       " 'ENGENHARIA QUÍMICA (BACHARELADO)',\n",
       " 'ENGENHARIAS – AEROESPACIAL / AUTOMOTIVA / ELETRÔNICA / ENERGIA / SOFTWARE (BACHARELADOS)',\n",
       " 'ESTATÍSTICA (BACHARELADO)',\n",
       " 'FARMÁCIA (BACHARELADO)',\n",
       " 'FILOSOFIA (BACHARELADO/LICENCIATURA)',\n",
       " 'FILOSOFIA (LICENCIATURA)',\n",
       " 'FISIOTERAPIA (BACHARELADO)',\n",
       " 'FONOAUDIOLOGIA (BACHARELADO)',\n",
       " 'FÍSICA (BACHARELADO)',\n",
       " 'GEOFÍSICA (BACHARELADO)',\n",
       " 'GEOGRAFIA (BACHARELADO/LICENCIATURA)',\n",
       " 'GEOLOGIA (BACHARELADO)',\n",
       " 'GESTÃO AMBIENTAL (BACHARELADO)',\n",
       " 'GESTÃO DE AGRONEGÓCIO (BACHARELADO)',\n",
       " 'GESTÃO DE POLÍTICAS PÚBLICAS (BACHARELADO)',\n",
       " 'GESTÃO DO AGRONEGÓCIO (BACHARELADO)',\n",
       " 'HISTÓRIA (BACHARELADO/LICENCIATURA )',\n",
       " 'HISTÓRIA (LICENCIATURA)',\n",
       " 'JORNALISMO (BACHARELADO)',\n",
       " 'LETRAS – PORTUGUÊS DO BRASIL COMO SEGUNDA LÍNGUA (LICENCIATURA)',\n",
       " 'LETRAS – TRADUÇÃO ESPANHOL (BACHARELADO)',\n",
       " 'LETRAS – TRADUÇÃO – FRANCÊS (BACHARELADO)',\n",
       " 'LETRAS – TRADUÇÃO – INGLÊS (BACHARELADO)',\n",
       " 'LICENCIATURA EM ARTES CÊNICAS',\n",
       " 'LICENCIATURA EM CIÊNCIAS BIOLÓGICAS',\n",
       " 'LICENCIATURA EM FÍSICA',\n",
       " 'LICENCIATURA EM MATEMÁTICA',\n",
       " 'LICENCIATURA EM QUÍMICA',\n",
       " 'LÍNGUA E LITERATURA JAPONESA (LICENCIATURA)',\n",
       " 'LÍNGUA ESPANHOLA E LITERATURA ESPANHOLA E HISPANO - AMERICANA (LICENCIATURA)',\n",
       " 'LÍNGUA ESTRANGEIRA APLICADA – MULTILINGUISMO E SOCIEDADE DA INFORMAÇÃO (BACHARELADO)',\n",
       " 'LÍNGUA FRANCESA E RESPECTIVA LITERATURA (BACHARELADO/LICENCIATURA)',\n",
       " 'LÍNGUA INGLESA E RESPECTIVA LITERATURA (BACHARELADO/LICENCIATURA)',\n",
       " 'LÍNGUA PORTUGUESA E RESPECTIVA LITERATURA (BACHARELADO/LICENCIATURA)',\n",
       " 'LÍNGUA PORTUGUESA E RESPECTIVA LITERATURA (LICENCIATURA)',\n",
       " 'MATEMÁTICA (BACHARELADO/LICENCIATURA)',\n",
       " 'MEDICINA (BACHARELADO)',\n",
       " 'MEDICINA VETERINÁRIA (BACHARELADO)',\n",
       " 'MUSEOLOGIA (BACHARELADO)',\n",
       " 'MÚSICA (BACHARELADO)',\n",
       " 'MÚSICA (LICENCIATURA)',\n",
       " 'NOTURNO ADMINISTRAÇÃO (BACHARELADO)',\n",
       " 'NUTRIÇÃO (BACHARELADO)',\n",
       " 'ODONTOLOGIA (BACHARELADO)',\n",
       " 'PEDAGOGIA (LICENCIATURA)',\n",
       " 'PSICOLOGIA (BACHARELADO / LICENCIATURA / PSICÓLOGO)',\n",
       " 'QUÍMICA (BACHARELADO)',\n",
       " 'QUÍMICA TECNOLÓGICA (BACHARELADO)',\n",
       " 'RELAÇÕES INTERNACIONAIS (BACHARELADO)',\n",
       " 'SAÚDE COLETIVA (BACHARELADO)',\n",
       " 'SERVIÇO SOCIAL (BACHARELADO)',\n",
       " 'TEORIA, CRÍTICA E HISTÓRIA DA ARTE (BACHARELADO)',\n",
       " 'TERAPIA OCUPACIONAL (BACHARELADO)',\n",
       " 'TURISMO (BACHARELADO)',\n",
       " 'cotista',\n",
       " 'cotas_negros_flag',\n",
       " 'publicas1_flag',\n",
       " 'publicas2_flag',\n",
       " 'publicas3_flag',\n",
       " 'publicas4_flag',\n",
       " 'publicas5_flag',\n",
       " 'publicas6_flag',\n",
       " 'publicas7_flag',\n",
       " 'publicas8_flag']"
      ]
     },
     "execution_count": 60,
     "metadata": {},
     "output_type": "execute_result"
    }
   ],
   "source": [
    "X_test.columns.to_list()"
   ]
  },
  {
   "cell_type": "code",
   "execution_count": 69,
   "metadata": {},
   "outputs": [],
   "source": [
    "my_sample = pd.DataFrame([X_test.iloc[0]])\n",
    "#my_sample.rename_ax"
   ]
  },
  {
   "cell_type": "code",
   "execution_count": 71,
   "metadata": {},
   "outputs": [
    {
     "data": {
      "text/html": [
       "<div>\n",
       "<style scoped>\n",
       "    .dataframe tbody tr th:only-of-type {\n",
       "        vertical-align: middle;\n",
       "    }\n",
       "\n",
       "    .dataframe tbody tr th {\n",
       "        vertical-align: top;\n",
       "    }\n",
       "\n",
       "    .dataframe thead th {\n",
       "        text-align: right;\n",
       "    }\n",
       "</style>\n",
       "<table border=\"1\" class=\"dataframe\">\n",
       "  <thead>\n",
       "    <tr style=\"text-align: right;\">\n",
       "      <th></th>\n",
       "      <th>escore_bruto_p1_etapa1</th>\n",
       "      <th>escore_bruto_p2_etapa1</th>\n",
       "      <th>nota_redacao_etapa1</th>\n",
       "      <th>escore_bruto_p1_etapa2</th>\n",
       "      <th>escore_bruto_p2_etapa2</th>\n",
       "      <th>nota_redacao_etapa2</th>\n",
       "      <th>escore_bruto_p1_etapa3</th>\n",
       "      <th>escore_bruto_p2_etapa3</th>\n",
       "      <th>nota_redacao_etapa3</th>\n",
       "      <th>AGRONOMIA 123 (BACHARELADO)</th>\n",
       "      <th>...</th>\n",
       "      <th>cotista</th>\n",
       "      <th>cotas_negros_flag</th>\n",
       "      <th>publicas1_flag</th>\n",
       "      <th>publicas2_flag</th>\n",
       "      <th>publicas3_flag</th>\n",
       "      <th>publicas4_flag</th>\n",
       "      <th>publicas5_flag</th>\n",
       "      <th>publicas6_flag</th>\n",
       "      <th>publicas7_flag</th>\n",
       "      <th>publicas8_flag</th>\n",
       "    </tr>\n",
       "  </thead>\n",
       "  <tbody>\n",
       "    <tr>\n",
       "      <th>510</th>\n",
       "      <td>1.149</td>\n",
       "      <td>21.549</td>\n",
       "      <td>5.808</td>\n",
       "      <td>3.845</td>\n",
       "      <td>25.857</td>\n",
       "      <td>8.273</td>\n",
       "      <td>1.428</td>\n",
       "      <td>25.228</td>\n",
       "      <td>8.148</td>\n",
       "      <td>0.0</td>\n",
       "      <td>...</td>\n",
       "      <td>0.0</td>\n",
       "      <td>0.0</td>\n",
       "      <td>0.0</td>\n",
       "      <td>0.0</td>\n",
       "      <td>0.0</td>\n",
       "      <td>0.0</td>\n",
       "      <td>0.0</td>\n",
       "      <td>0.0</td>\n",
       "      <td>0.0</td>\n",
       "      <td>0.0</td>\n",
       "    </tr>\n",
       "  </tbody>\n",
       "</table>\n",
       "<p>1 rows × 110 columns</p>\n",
       "</div>"
      ],
      "text/plain": [
       "     escore_bruto_p1_etapa1  escore_bruto_p2_etapa1  nota_redacao_etapa1  \\\n",
       "510                   1.149                  21.549                5.808   \n",
       "\n",
       "     escore_bruto_p1_etapa2  escore_bruto_p2_etapa2  nota_redacao_etapa2  \\\n",
       "510                   3.845                  25.857                8.273   \n",
       "\n",
       "     escore_bruto_p1_etapa3  escore_bruto_p2_etapa3  nota_redacao_etapa3  \\\n",
       "510                   1.428                  25.228                8.148   \n",
       "\n",
       "     AGRONOMIA 123 (BACHARELADO)  ...  cotista  cotas_negros_flag  \\\n",
       "510                          0.0  ...      0.0                0.0   \n",
       "\n",
       "     publicas1_flag  publicas2_flag  publicas3_flag  publicas4_flag  \\\n",
       "510             0.0             0.0             0.0             0.0   \n",
       "\n",
       "     publicas5_flag  publicas6_flag  publicas7_flag  publicas8_flag  \n",
       "510             0.0             0.0             0.0             0.0  \n",
       "\n",
       "[1 rows x 110 columns]"
      ]
     },
     "execution_count": 71,
     "metadata": {},
     "output_type": "execute_result"
    }
   ],
   "source": [
    "my_sample.rename(columns = {'AGRONOMIA (BACHARELADO)': 'AGRONOMIA 123 (BACHARELADO)'})"
   ]
  },
  {
   "cell_type": "code",
   "execution_count": 70,
   "metadata": {},
   "outputs": [
    {
     "data": {
      "text/plain": [
       "['escore_bruto_p1_etapa1',\n",
       " 'escore_bruto_p2_etapa1',\n",
       " 'nota_redacao_etapa1',\n",
       " 'escore_bruto_p1_etapa2',\n",
       " 'escore_bruto_p2_etapa2',\n",
       " 'nota_redacao_etapa2',\n",
       " 'escore_bruto_p1_etapa3',\n",
       " 'escore_bruto_p2_etapa3',\n",
       " 'nota_redacao_etapa3',\n",
       " 'AGRONOMIA (BACHARELADO)',\n",
       " 'ARQUITETURA E URBANISMO (BACHARELADO)',\n",
       " 'ARQUIVOLOGIA (BACHARELADO)',\n",
       " 'ARTES CÊNICAS - INTERPRETAÇÃO TEATRAL (BACHARELADO)',\n",
       " 'ARTES VISUAIS (BACHARELADO)',\n",
       " 'ARTES VISUAIS (LICENCIATURA)',\n",
       " 'BIBLIOTECONOMIA (BACHARELADO)',\n",
       " 'BIOTECNOLOGIA (BACHARELADO)',\n",
       " 'CAMPUS UNB CEILÂNDIA (FCE) ENFERMAGEM (BACHARELADO)',\n",
       " 'CAMPUS UNB PLANALTINA (FUP) – DIURNO CIÊNCIAS NATURAIS (LICENCIATURA)',\n",
       " 'CAMPUS UNB PLANALTINA (FUP) – NOTURNO CIÊNCIAS NATURAIS (LICENCIATURA)',\n",
       " 'CIÊNCIA DA COMPUTAÇÃO (BACHARELADO)',\n",
       " 'CIÊNCIA POLÍTICA (BACHARELADO)',\n",
       " 'CIÊNCIAS AMBIENTAIS (BACHARELADO)',\n",
       " 'CIÊNCIAS BIOLÓGICAS (BACHARELADO)',\n",
       " 'CIÊNCIAS CONTÁBEIS (BACHARELADO)',\n",
       " 'CIÊNCIAS ECONÔMICAS (BACHARELADO)',\n",
       " 'CIÊNCIAS SOCIAIS – ANTROPOLOGIA / SOCIOLOGIA (BACHARELADO/LICENCIATURA)',\n",
       " 'COMPUTAÇÃO (LICENCIATURA)',\n",
       " 'COMUNICAÇÃO ORGANIZACIONAL (BACHARELADO)',\n",
       " 'COMUNICAÇÃO SOCIAL - PUBLICIDADE E PROPAGANDA (BACHARELADO)',\n",
       " 'COMUNICAÇÃO SOCIAL – AUDIOVISUAL (BACHARELADO)',\n",
       " 'DESIGN – PROGRAMAÇÃO VISUAL/PROJETO DO PRODUTO (BACHARELADO)',\n",
       " 'DIREITO (BACHARELADO)',\n",
       " 'DIURNO ADMINISTRAÇÃO (BACHARELADO)',\n",
       " 'EDUCAÇÃO FÍSICA (BACHARELADO)',\n",
       " 'EDUCAÇÃO FÍSICA (LICENCIATURA)',\n",
       " 'ENFERMAGEM (BACHARELADO)',\n",
       " 'ENGENHARIA AMBIENTAL (BACHARELADO)',\n",
       " 'ENGENHARIA CIVIL (BACHARELADO)',\n",
       " 'ENGENHARIA DE COMPUTAÇÃO (BACHARELADO)',\n",
       " 'ENGENHARIA DE PRODUÇÃO (BACHARELADO)',\n",
       " 'ENGENHARIA DE REDES DE COMUNICAÇÃO (BACHARELADO)',\n",
       " 'ENGENHARIA ELÉTRICA (BACHARELADO)',\n",
       " 'ENGENHARIA FLORESTAL (BACHARELADO)',\n",
       " 'ENGENHARIA MECATRÔNICA – CONTROLE E AUTOMAÇÃO (BACHARELADO)',\n",
       " 'ENGENHARIA MECÂNICA (BACHARELADO)',\n",
       " 'ENGENHARIA QUÍMICA (BACHARELADO)',\n",
       " 'ENGENHARIAS – AEROESPACIAL / AUTOMOTIVA / ELETRÔNICA / ENERGIA / SOFTWARE (BACHARELADOS)',\n",
       " 'ESTATÍSTICA (BACHARELADO)',\n",
       " 'FARMÁCIA (BACHARELADO)',\n",
       " 'FILOSOFIA (BACHARELADO/LICENCIATURA)',\n",
       " 'FILOSOFIA (LICENCIATURA)',\n",
       " 'FISIOTERAPIA (BACHARELADO)',\n",
       " 'FONOAUDIOLOGIA (BACHARELADO)',\n",
       " 'FÍSICA (BACHARELADO)',\n",
       " 'GEOFÍSICA (BACHARELADO)',\n",
       " 'GEOGRAFIA (BACHARELADO/LICENCIATURA)',\n",
       " 'GEOLOGIA (BACHARELADO)',\n",
       " 'GESTÃO AMBIENTAL (BACHARELADO)',\n",
       " 'GESTÃO DE AGRONEGÓCIO (BACHARELADO)',\n",
       " 'GESTÃO DE POLÍTICAS PÚBLICAS (BACHARELADO)',\n",
       " 'GESTÃO DO AGRONEGÓCIO (BACHARELADO)',\n",
       " 'HISTÓRIA (BACHARELADO/LICENCIATURA )',\n",
       " 'HISTÓRIA (LICENCIATURA)',\n",
       " 'JORNALISMO (BACHARELADO)',\n",
       " 'LETRAS – PORTUGUÊS DO BRASIL COMO SEGUNDA LÍNGUA (LICENCIATURA)',\n",
       " 'LETRAS – TRADUÇÃO ESPANHOL (BACHARELADO)',\n",
       " 'LETRAS – TRADUÇÃO – FRANCÊS (BACHARELADO)',\n",
       " 'LETRAS – TRADUÇÃO – INGLÊS (BACHARELADO)',\n",
       " 'LICENCIATURA EM ARTES CÊNICAS',\n",
       " 'LICENCIATURA EM CIÊNCIAS BIOLÓGICAS',\n",
       " 'LICENCIATURA EM FÍSICA',\n",
       " 'LICENCIATURA EM MATEMÁTICA',\n",
       " 'LICENCIATURA EM QUÍMICA',\n",
       " 'LÍNGUA E LITERATURA JAPONESA (LICENCIATURA)',\n",
       " 'LÍNGUA ESPANHOLA E LITERATURA ESPANHOLA E HISPANO - AMERICANA (LICENCIATURA)',\n",
       " 'LÍNGUA ESTRANGEIRA APLICADA – MULTILINGUISMO E SOCIEDADE DA INFORMAÇÃO (BACHARELADO)',\n",
       " 'LÍNGUA FRANCESA E RESPECTIVA LITERATURA (BACHARELADO/LICENCIATURA)',\n",
       " 'LÍNGUA INGLESA E RESPECTIVA LITERATURA (BACHARELADO/LICENCIATURA)',\n",
       " 'LÍNGUA PORTUGUESA E RESPECTIVA LITERATURA (BACHARELADO/LICENCIATURA)',\n",
       " 'LÍNGUA PORTUGUESA E RESPECTIVA LITERATURA (LICENCIATURA)',\n",
       " 'MATEMÁTICA (BACHARELADO/LICENCIATURA)',\n",
       " 'MEDICINA (BACHARELADO)',\n",
       " 'MEDICINA VETERINÁRIA (BACHARELADO)',\n",
       " 'MUSEOLOGIA (BACHARELADO)',\n",
       " 'MÚSICA (BACHARELADO)',\n",
       " 'MÚSICA (LICENCIATURA)',\n",
       " 'NOTURNO ADMINISTRAÇÃO (BACHARELADO)',\n",
       " 'NUTRIÇÃO (BACHARELADO)',\n",
       " 'ODONTOLOGIA (BACHARELADO)',\n",
       " 'PEDAGOGIA (LICENCIATURA)',\n",
       " 'PSICOLOGIA (BACHARELADO / LICENCIATURA / PSICÓLOGO)',\n",
       " 'QUÍMICA (BACHARELADO)',\n",
       " 'QUÍMICA TECNOLÓGICA (BACHARELADO)',\n",
       " 'RELAÇÕES INTERNACIONAIS (BACHARELADO)',\n",
       " 'SAÚDE COLETIVA (BACHARELADO)',\n",
       " 'SERVIÇO SOCIAL (BACHARELADO)',\n",
       " 'TEORIA, CRÍTICA E HISTÓRIA DA ARTE (BACHARELADO)',\n",
       " 'TERAPIA OCUPACIONAL (BACHARELADO)',\n",
       " 'TURISMO (BACHARELADO)',\n",
       " 'cotista',\n",
       " 'cotas_negros_flag',\n",
       " 'publicas1_flag',\n",
       " 'publicas2_flag',\n",
       " 'publicas3_flag',\n",
       " 'publicas4_flag',\n",
       " 'publicas5_flag',\n",
       " 'publicas6_flag',\n",
       " 'publicas7_flag',\n",
       " 'publicas8_flag']"
      ]
     },
     "execution_count": 70,
     "metadata": {},
     "output_type": "execute_result"
    }
   ],
   "source": [
    "my_sample.columns.to_list()"
   ]
  },
  {
   "cell_type": "code",
   "execution_count": 58,
   "metadata": {},
   "outputs": [
    {
     "data": {
      "text/plain": [
       "array([0], dtype=int64)"
      ]
     },
     "execution_count": 58,
     "metadata": {},
     "output_type": "execute_result"
    }
   ],
   "source": [
    "model_loaded.predict(new_sample)"
   ]
  }
 ],
 "metadata": {
  "kernelspec": {
   "display_name": "base",
   "language": "python",
   "name": "python3"
  },
  "language_info": {
   "codemirror_mode": {
    "name": "ipython",
    "version": 3
   },
   "file_extension": ".py",
   "mimetype": "text/x-python",
   "name": "python",
   "nbconvert_exporter": "python",
   "pygments_lexer": "ipython3",
   "version": "3.9.7"
  },
  "orig_nbformat": 4
 },
 "nbformat": 4,
 "nbformat_minor": 2
}
