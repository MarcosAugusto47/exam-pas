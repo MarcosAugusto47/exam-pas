{
 "cells": [
  {
   "cell_type": "code",
   "execution_count": 1,
   "metadata": {},
   "outputs": [],
   "source": [
    "import pandas as pd\n",
    "\n",
    "from sklearn.model_selection import train_test_split, GridSearchCV\n",
    "from sklearn.ensemble import RandomForestClassifier\n",
    "from sklearn import metrics\n",
    "from sklearn.metrics import classification_report\n",
    "\n",
    "from RandomForestClassifierGridSearch import RandomForestClassifierGridSearch\n",
    "import pickle\n",
    "pd.set_option('display.max_rows', None)"
   ]
  },
  {
   "cell_type": "code",
   "execution_count": 2,
   "metadata": {},
   "outputs": [
    {
     "data": {
      "text/plain": [
       "(7263, 39)"
      ]
     },
     "execution_count": 2,
     "metadata": {},
     "output_type": "execute_result"
    }
   ],
   "source": [
    "df = pd.read_parquet('../data/processed/scores_approvals.parquet')\n",
    "df.shape"
   ]
  },
  {
   "cell_type": "code",
   "execution_count": 3,
   "metadata": {},
   "outputs": [
    {
     "name": "stdout",
     "output_type": "stream",
     "text": [
      "<class 'pandas.core.frame.DataFrame'>\n",
      "Int64Index: 7263 entries, 0 to 7262\n",
      "Data columns (total 39 columns):\n",
      " #   Column                            Non-Null Count  Dtype   \n",
      "---  ------                            --------------  -----   \n",
      " 0   numero_inscricao                  7263 non-null   object  \n",
      " 1   nome_x                            7263 non-null   object  \n",
      " 2   escore_bruto_p1_etapa1            7263 non-null   float64 \n",
      " 3   escore_bruto_p2_etapa1            7263 non-null   float64 \n",
      " 4   nota_redacao_etapa1               7263 non-null   float64 \n",
      " 5   escore_bruto_p1_etapa2            7263 non-null   float64 \n",
      " 6   escore_bruto_p2_etapa2            7263 non-null   float64 \n",
      " 7   nota_redacao_etapa2               7263 non-null   float64 \n",
      " 8   escore_bruto_p1_etapa3            7263 non-null   float64 \n",
      " 9   escore_bruto_p2_etapa3            7263 non-null   float64 \n",
      " 10  nota_redacao_etapa3               7263 non-null   float64 \n",
      " 11  argumento_final                   7263 non-null   float64 \n",
      " 12  classificacao_final_universal     7263 non-null   object  \n",
      " 13  classificacao_final_cotas_negros  379 non-null    object  \n",
      " 14  classificacao_final_publicas1     312 non-null    object  \n",
      " 15  classificacao_final_publicas2     0 non-null      float64 \n",
      " 16  classificacao_final_publicas3     555 non-null    object  \n",
      " 17  classificacao_final_publicas4     4 non-null      object  \n",
      " 18  classificacao_final_publicas5     842 non-null    object  \n",
      " 19  classificacao_final_publicas6     0 non-null      float64 \n",
      " 20  classificacao_final_publicas7     1754 non-null   object  \n",
      " 21  classificacao_final_publicas8     3 non-null      object  \n",
      " 22  course                            7263 non-null   object  \n",
      " 23  cotista                           7263 non-null   int32   \n",
      " 24  cotas_negros_flag                 7263 non-null   int32   \n",
      " 25  publicas1_flag                    7263 non-null   int32   \n",
      " 26  publicas2_flag                    7263 non-null   int32   \n",
      " 27  publicas3_flag                    7263 non-null   int32   \n",
      " 28  publicas4_flag                    7263 non-null   int32   \n",
      " 29  publicas5_flag                    7263 non-null   int32   \n",
      " 30  publicas6_flag                    7263 non-null   int32   \n",
      " 31  publicas7_flag                    7263 non-null   int32   \n",
      " 32  publicas8_flag                    7263 non-null   int32   \n",
      " 33  nome_y                            1296 non-null   object  \n",
      " 34  campus                            1296 non-null   object  \n",
      " 35  curso                             1296 non-null   object  \n",
      " 36  periodo                           1296 non-null   object  \n",
      " 37  _merge                            7263 non-null   category\n",
      " 38  label                             7263 non-null   int64   \n",
      "dtypes: category(1), float64(12), int32(10), int64(1), object(15)\n",
      "memory usage: 1.9+ MB\n"
     ]
    }
   ],
   "source": [
    "df.info()"
   ]
  },
  {
   "cell_type": "code",
   "execution_count": 4,
   "metadata": {},
   "outputs": [],
   "source": [
    "FEATURES = ['escore_bruto_p1_etapa1',\n",
    "            'escore_bruto_p2_etapa1', 'nota_redacao_etapa1',\n",
    "            'escore_bruto_p1_etapa2', 'escore_bruto_p2_etapa2',\n",
    "            'nota_redacao_etapa2', 'escore_bruto_p1_etapa3',\n",
    "            'escore_bruto_p2_etapa3', 'nota_redacao_etapa3',\n",
    "            'cotista', 'cotas_negros_flag', 'publicas1_flag',\n",
    "            'publicas2_flag', 'publicas3_flag', 'publicas4_flag', 'publicas5_flag',\n",
    "            'publicas6_flag', 'publicas7_flag', 'publicas8_flag']"
   ]
  },
  {
   "cell_type": "code",
   "execution_count": 5,
   "metadata": {},
   "outputs": [],
   "source": [
    "course_dummies = pd.get_dummies(df.course)\n",
    "course_dummies_columns = list(course_dummies.columns)\n",
    "df = pd.concat([df, course_dummies], axis=1)"
   ]
  },
  {
   "cell_type": "code",
   "execution_count": 6,
   "metadata": {},
   "outputs": [],
   "source": [
    "FEATURES.extend(course_dummies_columns)"
   ]
  },
  {
   "cell_type": "code",
   "execution_count": 7,
   "metadata": {},
   "outputs": [
    {
     "data": {
      "text/plain": [
       "110"
      ]
     },
     "execution_count": 7,
     "metadata": {},
     "output_type": "execute_result"
    }
   ],
   "source": [
    "len(FEATURES)"
   ]
  },
  {
   "attachments": {},
   "cell_type": "markdown",
   "metadata": {},
   "source": [
    "## Baseline Model"
   ]
  },
  {
   "cell_type": "code",
   "execution_count": 8,
   "metadata": {},
   "outputs": [],
   "source": [
    "# publicas_flags = [\n",
    "#  'publicas1_flag',\n",
    "#  'publicas2_flag',\n",
    "#  'publicas3_flag',\n",
    "#  'publicas4_flag',\n",
    "#  'publicas5_flag',\n",
    "#  'publicas6_flag',\n",
    "#  'publicas7_flag',\n",
    "#  'publicas8_flag']\n",
    "# df['publicas_flag'] = df[publicas_flags].sum(axis=1)"
   ]
  },
  {
   "cell_type": "code",
   "execution_count": 9,
   "metadata": {},
   "outputs": [],
   "source": [
    "# FEATURES = [col for col in FEATURES if col not in publicas_flags] \n",
    "# print(len(FEATURES))"
   ]
  },
  {
   "cell_type": "code",
   "execution_count": 10,
   "metadata": {},
   "outputs": [],
   "source": [
    "X = df[FEATURES] # features\n",
    "y = df['label'] # labels\n",
    "X_train, X_test, y_train, y_test = train_test_split(X, y, test_size=0.20, random_state=47) # 70% training and 30% test"
   ]
  },
  {
   "cell_type": "code",
   "execution_count": 11,
   "metadata": {},
   "outputs": [
    {
     "name": "stdout",
     "output_type": "stream",
     "text": [
      "Accuracy: 0.874741913282863\n"
     ]
    },
    {
     "data": {
      "text/plain": [
       "{'0': {'precision': 0.8793859649122807,\n",
       "  'recall': 0.9860655737704918,\n",
       "  'f1-score': 0.92967542503864,\n",
       "  'support': 1220},\n",
       " '1': {'precision': 0.8,\n",
       "  'recall': 0.2918454935622318,\n",
       "  'f1-score': 0.42767295597484284,\n",
       "  'support': 233},\n",
       " 'accuracy': 0.874741913282863,\n",
       " 'macro avg': {'precision': 0.8396929824561403,\n",
       "  'recall': 0.6389555336663617,\n",
       "  'f1-score': 0.6786741905067414,\n",
       "  'support': 1453},\n",
       " 'weighted avg': {'precision': 0.8666557998575242,\n",
       "  'recall': 0.874741913282863,\n",
       "  'f1-score': 0.8491753732204261,\n",
       "  'support': 1453}}"
      ]
     },
     "execution_count": 11,
     "metadata": {},
     "output_type": "execute_result"
    }
   ],
   "source": [
    "# Create a Random Forest Classifier\n",
    "model = RandomForestClassifier(random_state=47)\n",
    "\n",
    "# Fit randomized search\n",
    "model = model.fit(X_train, y_train)\n",
    "\n",
    "y_pred = model.predict(X_test)\n",
    "# Model Accuracy, how often is the classifier correct?\n",
    "print('Accuracy:', metrics.accuracy_score(y_test, y_pred))\n",
    "classification_report(y_test, y_pred, output_dict=True)"
   ]
  },
  {
   "cell_type": "code",
   "execution_count": 12,
   "metadata": {},
   "outputs": [],
   "source": [
    " # Predict diabetes\n",
    "predictions = model.predict_proba(X_test)\n",
    "approval_prob = round(predictions[0][1], ndigits=3)"
   ]
  },
  {
   "cell_type": "code",
   "execution_count": 13,
   "metadata": {},
   "outputs": [
    {
     "data": {
      "text/plain": [
       "array([0.02, 0.38, 0.09, ..., 0.25, 0.04, 0.1 ])"
      ]
     },
     "execution_count": 13,
     "metadata": {},
     "output_type": "execute_result"
    }
   ],
   "source": [
    "predictions[:, 1]"
   ]
  },
  {
   "cell_type": "code",
   "execution_count": 14,
   "metadata": {},
   "outputs": [
    {
     "data": {
      "text/plain": [
       "array([[0.98, 0.02],\n",
       "       [0.62, 0.38],\n",
       "       [0.91, 0.09],\n",
       "       ...,\n",
       "       [0.75, 0.25],\n",
       "       [0.96, 0.04],\n",
       "       [0.9 , 0.1 ]])"
      ]
     },
     "execution_count": 14,
     "metadata": {},
     "output_type": "execute_result"
    }
   ],
   "source": [
    "predictions"
   ]
  },
  {
   "attachments": {},
   "cell_type": "markdown",
   "metadata": {},
   "source": [
    "## Hyperparameter tuning + class_weight"
   ]
  },
  {
   "cell_type": "code",
   "execution_count": 15,
   "metadata": {},
   "outputs": [],
   "source": [
    "param_grid = {\n",
    "    'n_estimators': [200, 300, 500],      # Number of trees in the forest\n",
    "    'max_depth': [5, 10, 30],            # Maximum depth of each tree\n",
    "    'min_samples_split': [5, 10, 30],       # Minimum number of samples required to split an internal node\n",
    "    'min_samples_leaf': [8, 16, 32]          # Minimum number of samples required to be at a leaf node\n",
    "}"
   ]
  },
  {
   "cell_type": "code",
   "execution_count": 16,
   "metadata": {},
   "outputs": [
    {
     "name": "stdout",
     "output_type": "stream",
     "text": [
      "Classification Report:\n",
      "              precision    recall  f1-score   support\n",
      "\n",
      "           0       0.94      0.79      0.86      1220\n",
      "           1       0.40      0.75      0.52       233\n",
      "\n",
      "    accuracy                           0.78      1453\n",
      "   macro avg       0.67      0.77      0.69      1453\n",
      "weighted avg       0.86      0.78      0.80      1453\n",
      "\n"
     ]
    }
   ],
   "source": [
    "# Assuming you have your training data X_train and corresponding labels y_train\n",
    "\n",
    "# Instantiate the class\n",
    "rf_gs = RandomForestClassifierGridSearch(X_train, y_train)\n",
    "\n",
    "# Fit the classifier using GridSearchCV\n",
    "rf_gs.fit(param_grid)\n",
    "\n",
    "# Assuming you have your test data X_test and corresponding labels y_test\n",
    "\n",
    "# Evaluate the best model on the test data\n",
    "report = rf_gs.evaluate(X_test, y_test)\n",
    "print(\"Classification Report:\")\n",
    "print(report)"
   ]
  },
  {
   "cell_type": "code",
   "execution_count": null,
   "metadata": {},
   "outputs": [],
   "source": [
    "with open('model_flags_tuned.pickle','wb') as f:\n",
    "    pickle.dump(model, f)"
   ]
  },
  {
   "cell_type": "code",
   "execution_count": null,
   "metadata": {},
   "outputs": [],
   "source": [
    "#with open('model_flags_tuned.pickle','wb') as f:\n",
    "#  pickle.dump(model, f)"
   ]
  },
  {
   "attachments": {},
   "cell_type": "markdown",
   "metadata": {},
   "source": [
    "## Stratified KFold + Hyperameter tuning + Flags"
   ]
  },
  {
   "cell_type": "code",
   "execution_count": null,
   "metadata": {},
   "outputs": [
    {
     "name": "stdout",
     "output_type": "stream",
     "text": [
      "110\n"
     ]
    }
   ],
   "source": [
    "#FEATURES.remove('argumento_final')\n",
    "print(len(FEATURES))\n",
    "\n",
    "X = df[FEATURES] # features\n",
    "y = df['label'] # labels\n",
    "X_train, X_test, y_train, y_test = train_test_split(X, y, test_size=0.20, random_state=47) # 70% training and 30% test"
   ]
  },
  {
   "cell_type": "code",
   "execution_count": null,
   "metadata": {},
   "outputs": [],
   "source": [
    "# # Define the parameter grid for GridSearchCV\n",
    "param_grid = {\n",
    "    'n_estimators': [100, 200, 300],      # Number of trees in the forest\n",
    "    'max_depth': [5, 10, 20, 40, 80],            # Maximum depth of each tree\n",
    "    'min_samples_split': [5, 10, 20, 50],       # Minimum number of samples required to split an internal node\n",
    "    'min_samples_leaf': [2, 8, 16, 32],          # Minimum number of samples required to be at a leaf node\n",
    "}"
   ]
  },
  {
   "cell_type": "code",
   "execution_count": null,
   "metadata": {},
   "outputs": [
    {
     "data": {
      "text/plain": [
       "(5810, 110)"
      ]
     },
     "execution_count": 13,
     "metadata": {},
     "output_type": "execute_result"
    }
   ],
   "source": [
    "X_train.shape"
   ]
  },
  {
   "cell_type": "code",
   "execution_count": null,
   "metadata": {},
   "outputs": [
    {
     "name": "stdout",
     "output_type": "stream",
     "text": [
      "              precision    recall  f1-score   support\n",
      "\n",
      "           0       0.93      0.91      0.92      1220\n",
      "           1       0.57      0.64      0.60       233\n",
      "\n",
      "    accuracy                           0.86      1453\n",
      "   macro avg       0.75      0.77      0.76      1453\n",
      "weighted avg       0.87      0.86      0.87      1453\n",
      "\n"
     ]
    }
   ],
   "source": [
    "# Assuming you have your training data X_train and corresponding labels y_train\n",
    "\n",
    "# Instantiate the class\n",
    "rf_gs = RandomForestClassifierGridSearch(X_train, y_train)\n",
    "\n",
    "# Fit the classifier using GridSearchCV\n",
    "rf_gs.fit(param_grid)\n",
    "\n",
    "# Assuming you have your test data X_test and corresponding labels y_test\n",
    "\n",
    "# Evaluate the best model on the test data\n",
    "report = rf_gs.evaluate(X_test, y_test)\n",
    "print(report)"
   ]
  },
  {
   "cell_type": "code",
   "execution_count": null,
   "metadata": {},
   "outputs": [],
   "source": [
    "rf_gs.save_model('stratified_kfold_classweight15_tuned_model_spelling')"
   ]
  },
  {
   "cell_type": "code",
   "execution_count": null,
   "metadata": {},
   "outputs": [
    {
     "name": "stderr",
     "output_type": "stream",
     "text": [
      "c:\\Anaconda\\lib\\site-packages\\sklearn\\base.py:318: UserWarning: Trying to unpickle estimator DecisionTreeClassifier from version 1.1.3 when using version 1.2.2. This might lead to breaking code or invalid results. Use at your own risk. For more info please refer to:\n",
      "https://scikit-learn.org/stable/model_persistence.html#security-maintainability-limitations\n",
      "  warnings.warn(\n",
      "c:\\Anaconda\\lib\\site-packages\\sklearn\\base.py:318: UserWarning: Trying to unpickle estimator RandomForestClassifier from version 1.1.3 when using version 1.2.2. This might lead to breaking code or invalid results. Use at your own risk. For more info please refer to:\n",
      "https://scikit-learn.org/stable/model_persistence.html#security-maintainability-limitations\n",
      "  warnings.warn(\n"
     ]
    }
   ],
   "source": [
    "with open('../ml_dev/models/stratified_kfold_classweight15_tuned_model_spelling.pickle', 'rb') as f:\n",
    "  model_loaded = pickle.load(f)"
   ]
  },
  {
   "cell_type": "code",
   "execution_count": null,
   "metadata": {},
   "outputs": [
    {
     "ename": "ValueError",
     "evalue": "The feature names should match those that were passed during fit.\nFeature names must be in the same order as they were in fit.\n",
     "output_type": "error",
     "traceback": [
      "\u001b[1;31m---------------------------------------------------------------------------\u001b[0m",
      "\u001b[1;31mValueError\u001b[0m                                Traceback (most recent call last)",
      "\u001b[1;32mC:\\Users\\MARCOS~1\\AppData\\Local\\Temp/ipykernel_11288/189971459.py\u001b[0m in \u001b[0;36m<module>\u001b[1;34m\u001b[0m\n\u001b[1;32m----> 1\u001b[1;33m \u001b[0my_pred\u001b[0m \u001b[1;33m=\u001b[0m \u001b[0mmodel_loaded\u001b[0m\u001b[1;33m.\u001b[0m\u001b[0mpredict\u001b[0m\u001b[1;33m(\u001b[0m\u001b[0mX_test\u001b[0m\u001b[1;33m)\u001b[0m\u001b[1;33m\u001b[0m\u001b[1;33m\u001b[0m\u001b[0m\n\u001b[0m\u001b[0;32m      2\u001b[0m \u001b[0mclassification_report\u001b[0m\u001b[1;33m(\u001b[0m\u001b[0my_test\u001b[0m\u001b[1;33m,\u001b[0m \u001b[0my_pred\u001b[0m\u001b[1;33m,\u001b[0m \u001b[0moutput_dict\u001b[0m\u001b[1;33m=\u001b[0m\u001b[1;32mTrue\u001b[0m\u001b[1;33m)\u001b[0m\u001b[1;33m\u001b[0m\u001b[1;33m\u001b[0m\u001b[0m\n",
      "\u001b[1;32mc:\\Anaconda\\lib\\site-packages\\sklearn\\ensemble\\_forest.py\u001b[0m in \u001b[0;36mpredict\u001b[1;34m(self, X)\u001b[0m\n\u001b[0;32m    818\u001b[0m             \u001b[0mThe\u001b[0m \u001b[0mpredicted\u001b[0m \u001b[0mclasses\u001b[0m\u001b[1;33m.\u001b[0m\u001b[1;33m\u001b[0m\u001b[1;33m\u001b[0m\u001b[0m\n\u001b[0;32m    819\u001b[0m         \"\"\"\n\u001b[1;32m--> 820\u001b[1;33m         \u001b[0mproba\u001b[0m \u001b[1;33m=\u001b[0m \u001b[0mself\u001b[0m\u001b[1;33m.\u001b[0m\u001b[0mpredict_proba\u001b[0m\u001b[1;33m(\u001b[0m\u001b[0mX\u001b[0m\u001b[1;33m)\u001b[0m\u001b[1;33m\u001b[0m\u001b[1;33m\u001b[0m\u001b[0m\n\u001b[0m\u001b[0;32m    821\u001b[0m \u001b[1;33m\u001b[0m\u001b[0m\n\u001b[0;32m    822\u001b[0m         \u001b[1;32mif\u001b[0m \u001b[0mself\u001b[0m\u001b[1;33m.\u001b[0m\u001b[0mn_outputs_\u001b[0m \u001b[1;33m==\u001b[0m \u001b[1;36m1\u001b[0m\u001b[1;33m:\u001b[0m\u001b[1;33m\u001b[0m\u001b[1;33m\u001b[0m\u001b[0m\n",
      "\u001b[1;32mc:\\Anaconda\\lib\\site-packages\\sklearn\\ensemble\\_forest.py\u001b[0m in \u001b[0;36mpredict_proba\u001b[1;34m(self, X)\u001b[0m\n\u001b[0;32m    860\u001b[0m         \u001b[0mcheck_is_fitted\u001b[0m\u001b[1;33m(\u001b[0m\u001b[0mself\u001b[0m\u001b[1;33m)\u001b[0m\u001b[1;33m\u001b[0m\u001b[1;33m\u001b[0m\u001b[0m\n\u001b[0;32m    861\u001b[0m         \u001b[1;31m# Check data\u001b[0m\u001b[1;33m\u001b[0m\u001b[1;33m\u001b[0m\u001b[0m\n\u001b[1;32m--> 862\u001b[1;33m         \u001b[0mX\u001b[0m \u001b[1;33m=\u001b[0m \u001b[0mself\u001b[0m\u001b[1;33m.\u001b[0m\u001b[0m_validate_X_predict\u001b[0m\u001b[1;33m(\u001b[0m\u001b[0mX\u001b[0m\u001b[1;33m)\u001b[0m\u001b[1;33m\u001b[0m\u001b[1;33m\u001b[0m\u001b[0m\n\u001b[0m\u001b[0;32m    863\u001b[0m \u001b[1;33m\u001b[0m\u001b[0m\n\u001b[0;32m    864\u001b[0m         \u001b[1;31m# Assign chunk of trees to jobs\u001b[0m\u001b[1;33m\u001b[0m\u001b[1;33m\u001b[0m\u001b[0m\n",
      "\u001b[1;32mc:\\Anaconda\\lib\\site-packages\\sklearn\\ensemble\\_forest.py\u001b[0m in \u001b[0;36m_validate_X_predict\u001b[1;34m(self, X)\u001b[0m\n\u001b[0;32m    600\u001b[0m         Validate X whenever one tries to predict, apply, predict_proba.\"\"\"\n\u001b[0;32m    601\u001b[0m         \u001b[0mcheck_is_fitted\u001b[0m\u001b[1;33m(\u001b[0m\u001b[0mself\u001b[0m\u001b[1;33m)\u001b[0m\u001b[1;33m\u001b[0m\u001b[1;33m\u001b[0m\u001b[0m\n\u001b[1;32m--> 602\u001b[1;33m         \u001b[0mX\u001b[0m \u001b[1;33m=\u001b[0m \u001b[0mself\u001b[0m\u001b[1;33m.\u001b[0m\u001b[0m_validate_data\u001b[0m\u001b[1;33m(\u001b[0m\u001b[0mX\u001b[0m\u001b[1;33m,\u001b[0m \u001b[0mdtype\u001b[0m\u001b[1;33m=\u001b[0m\u001b[0mDTYPE\u001b[0m\u001b[1;33m,\u001b[0m \u001b[0maccept_sparse\u001b[0m\u001b[1;33m=\u001b[0m\u001b[1;34m\"csr\"\u001b[0m\u001b[1;33m,\u001b[0m \u001b[0mreset\u001b[0m\u001b[1;33m=\u001b[0m\u001b[1;32mFalse\u001b[0m\u001b[1;33m)\u001b[0m\u001b[1;33m\u001b[0m\u001b[1;33m\u001b[0m\u001b[0m\n\u001b[0m\u001b[0;32m    603\u001b[0m         \u001b[1;32mif\u001b[0m \u001b[0missparse\u001b[0m\u001b[1;33m(\u001b[0m\u001b[0mX\u001b[0m\u001b[1;33m)\u001b[0m \u001b[1;32mand\u001b[0m \u001b[1;33m(\u001b[0m\u001b[0mX\u001b[0m\u001b[1;33m.\u001b[0m\u001b[0mindices\u001b[0m\u001b[1;33m.\u001b[0m\u001b[0mdtype\u001b[0m \u001b[1;33m!=\u001b[0m \u001b[0mnp\u001b[0m\u001b[1;33m.\u001b[0m\u001b[0mintc\u001b[0m \u001b[1;32mor\u001b[0m \u001b[0mX\u001b[0m\u001b[1;33m.\u001b[0m\u001b[0mindptr\u001b[0m\u001b[1;33m.\u001b[0m\u001b[0mdtype\u001b[0m \u001b[1;33m!=\u001b[0m \u001b[0mnp\u001b[0m\u001b[1;33m.\u001b[0m\u001b[0mintc\u001b[0m\u001b[1;33m)\u001b[0m\u001b[1;33m:\u001b[0m\u001b[1;33m\u001b[0m\u001b[1;33m\u001b[0m\u001b[0m\n\u001b[0;32m    604\u001b[0m             \u001b[1;32mraise\u001b[0m \u001b[0mValueError\u001b[0m\u001b[1;33m(\u001b[0m\u001b[1;34m\"No support for np.int64 index based sparse matrices\"\u001b[0m\u001b[1;33m)\u001b[0m\u001b[1;33m\u001b[0m\u001b[1;33m\u001b[0m\u001b[0m\n",
      "\u001b[1;32mc:\\Anaconda\\lib\\site-packages\\sklearn\\base.py\u001b[0m in \u001b[0;36m_validate_data\u001b[1;34m(self, X, y, reset, validate_separately, **check_params)\u001b[0m\n\u001b[0;32m    546\u001b[0m             \u001b[0mvalidated\u001b[0m\u001b[1;33m.\u001b[0m\u001b[1;33m\u001b[0m\u001b[1;33m\u001b[0m\u001b[0m\n\u001b[0;32m    547\u001b[0m         \"\"\"\n\u001b[1;32m--> 548\u001b[1;33m         \u001b[0mself\u001b[0m\u001b[1;33m.\u001b[0m\u001b[0m_check_feature_names\u001b[0m\u001b[1;33m(\u001b[0m\u001b[0mX\u001b[0m\u001b[1;33m,\u001b[0m \u001b[0mreset\u001b[0m\u001b[1;33m=\u001b[0m\u001b[0mreset\u001b[0m\u001b[1;33m)\u001b[0m\u001b[1;33m\u001b[0m\u001b[1;33m\u001b[0m\u001b[0m\n\u001b[0m\u001b[0;32m    549\u001b[0m \u001b[1;33m\u001b[0m\u001b[0m\n\u001b[0;32m    550\u001b[0m         \u001b[1;32mif\u001b[0m \u001b[0my\u001b[0m \u001b[1;32mis\u001b[0m \u001b[1;32mNone\u001b[0m \u001b[1;32mand\u001b[0m \u001b[0mself\u001b[0m\u001b[1;33m.\u001b[0m\u001b[0m_get_tags\u001b[0m\u001b[1;33m(\u001b[0m\u001b[1;33m)\u001b[0m\u001b[1;33m[\u001b[0m\u001b[1;34m\"requires_y\"\u001b[0m\u001b[1;33m]\u001b[0m\u001b[1;33m:\u001b[0m\u001b[1;33m\u001b[0m\u001b[1;33m\u001b[0m\u001b[0m\n",
      "\u001b[1;32mc:\\Anaconda\\lib\\site-packages\\sklearn\\base.py\u001b[0m in \u001b[0;36m_check_feature_names\u001b[1;34m(self, X, reset)\u001b[0m\n\u001b[0;32m    479\u001b[0m                 )\n\u001b[0;32m    480\u001b[0m \u001b[1;33m\u001b[0m\u001b[0m\n\u001b[1;32m--> 481\u001b[1;33m             \u001b[1;32mraise\u001b[0m \u001b[0mValueError\u001b[0m\u001b[1;33m(\u001b[0m\u001b[0mmessage\u001b[0m\u001b[1;33m)\u001b[0m\u001b[1;33m\u001b[0m\u001b[1;33m\u001b[0m\u001b[0m\n\u001b[0m\u001b[0;32m    482\u001b[0m \u001b[1;33m\u001b[0m\u001b[0m\n\u001b[0;32m    483\u001b[0m     def _validate_data(\n",
      "\u001b[1;31mValueError\u001b[0m: The feature names should match those that were passed during fit.\nFeature names must be in the same order as they were in fit.\n"
     ]
    }
   ],
   "source": [
    "y_pred = model_loaded.predict(X_test)\n",
    "classification_report(y_test, y_pred, output_dict=True)"
   ]
  },
  {
   "cell_type": "code",
   "execution_count": null,
   "metadata": {},
   "outputs": [],
   "source": [
    "def predict_approval(model, new_data):\n",
    "    \n",
    "    # Predict diabetes\n",
    "    predictions = model.predict_proba(new_data)\n",
    "    approval_prob = round(predictions[0][1], ndigits=3)\n",
    "\n",
    "    #pred_to_label = {0: 'Negative', 1: 'Positive'}\n",
    "\n",
    "    # Make a list of predictions\n",
    "    #data = []\n",
    "    #for t, pred in zip(new_data, predictions):\n",
    "    #    data.append({'prediction': pred[0]})\n",
    "\n",
    "    return approval_prob"
   ]
  },
  {
   "cell_type": "code",
   "execution_count": null,
   "metadata": {},
   "outputs": [],
   "source": [
    "covariables = list({\"escore_bruto_p1_etapa1\": 5.172,\n",
    "                            \"escore_bruto_p2_etapa1\": 14.653,\n",
    "                            \"nota_redacao_etapa1\": 6.947,\n",
    "                            \"escore_bruto_p1_etapa2\": 3.845,\n",
    "                            \"escore_bruto_p2_etapa2\": 19.994,\n",
    "                            \"nota_redacao_etapa2\": 7.222,\n",
    "                            \"escore_bruto_p1_etapa3\": 4.998,\n",
    "                            \"escore_bruto_p2_etapa3\": 16.66,\n",
    "                            \"nota_redacao_etapa3\": 8.06,\n",
    "                            \"argumento_final\": -25.699,\n",
    "                            \"2.1.1 CAMPUS  DARCY RIBEIRO – DIURNO  ADMINISTRAÇÃO (BACHARELADO)\": 1.0,               \n",
    "                            \"cotista\": 0.0,\n",
    "                            \"cotas_negros_flag\": 0.0,\n",
    "                            \"publicas1_flag\": 0.0,\n",
    "                            \"publicas2_flag\": 0.0,\n",
    "                            \"publicas3_flag\": 0.0,\n",
    "                            \"publicas4_flag\": 0.0,\n",
    "                            \"publicas5_flag\": 0.0,\n",
    "                            \"publicas6_flag\": 0.0,\n",
    "                            \"publicas7_flag\": 0.0,\n",
    "                            \"publicas8_flag\": 0.0}.keys())"
   ]
  },
  {
   "cell_type": "code",
   "execution_count": null,
   "metadata": {},
   "outputs": [],
   "source": [
    "from samples import sample_approved, sample_not_approved"
   ]
  },
  {
   "cell_type": "code",
   "execution_count": null,
   "metadata": {},
   "outputs": [
    {
     "data": {
      "text/plain": [
       "{'teste': 0.0}"
      ]
     },
     "execution_count": 43,
     "metadata": {},
     "output_type": "execute_result"
    }
   ],
   "source": [
    "{'teste':sample_not_approved.get('cotista')}"
   ]
  },
  {
   "cell_type": "code",
   "execution_count": null,
   "metadata": {},
   "outputs": [
    {
     "data": {
      "text/plain": [
       "['escore_bruto_p1_etapa1',\n",
       " 'escore_bruto_p2_etapa1',\n",
       " 'nota_redacao_etapa1',\n",
       " 'escore_bruto_p1_etapa2',\n",
       " 'escore_bruto_p2_etapa2',\n",
       " 'nota_redacao_etapa2',\n",
       " 'escore_bruto_p1_etapa3',\n",
       " 'escore_bruto_p2_etapa3',\n",
       " 'nota_redacao_etapa3',\n",
       " 'argumento_final',\n",
       " '2.1.1 CAMPUS  DARCY RIBEIRO – DIURNO  ADMINISTRAÇÃO (BACHARELADO)',\n",
       " 'cotista',\n",
       " 'cotas_negros_flag',\n",
       " 'publicas1_flag',\n",
       " 'publicas2_flag',\n",
       " 'publicas3_flag',\n",
       " 'publicas4_flag',\n",
       " 'publicas5_flag',\n",
       " 'publicas6_flag',\n",
       " 'publicas7_flag',\n",
       " 'publicas8_flag']"
      ]
     },
     "execution_count": 36,
     "metadata": {},
     "output_type": "execute_result"
    }
   ],
   "source": [
    "list(sample_not_approved.keys())"
   ]
  },
  {
   "cell_type": "code",
   "execution_count": null,
   "metadata": {},
   "outputs": [],
   "source": [
    "new_sample = sample_not_approved\n",
    "#new_sample = pd.DataFrame([{col: new_sample.get(col) for col in FEATURES}])\n",
    "#new_sample = new_sample.fillna(0)"
   ]
  },
  {
   "cell_type": "code",
   "execution_count": null,
   "metadata": {},
   "outputs": [
    {
     "ename": "SyntaxError",
     "evalue": "invalid syntax (Temp/ipykernel_17636/1785515755.py, line 1)",
     "output_type": "error",
     "traceback": [
      "\u001b[1;36m  File \u001b[1;32m\"C:\\Users\\MARCOS~1\\AppData\\Local\\Temp/ipykernel_17636/1785515755.py\"\u001b[1;36m, line \u001b[1;32m1\u001b[0m\n\u001b[1;33m    [True for key in new_sample.keys() if key in FEATURES else False]\u001b[0m\n\u001b[1;37m                                                          ^\u001b[0m\n\u001b[1;31mSyntaxError\u001b[0m\u001b[1;31m:\u001b[0m invalid syntax\n"
     ]
    }
   ],
   "source": [
    "[True for key in new_sample.keys() if key in FEATURES else False]"
   ]
  },
  {
   "cell_type": "code",
   "execution_count": null,
   "metadata": {},
   "outputs": [
    {
     "data": {
      "text/plain": [
       "[True,\n",
       " True,\n",
       " True,\n",
       " True,\n",
       " True,\n",
       " True,\n",
       " True,\n",
       " True,\n",
       " True,\n",
       " True,\n",
       " True,\n",
       " True,\n",
       " True,\n",
       " True,\n",
       " True,\n",
       " True,\n",
       " True,\n",
       " True,\n",
       " True,\n",
       " True,\n",
       " True]"
      ]
     },
     "execution_count": 80,
     "metadata": {},
     "output_type": "execute_result"
    }
   ],
   "source": [
    "[True for key in new_sample.keys()]"
   ]
  },
  {
   "cell_type": "code",
   "execution_count": null,
   "metadata": {},
   "outputs": [
    {
     "data": {
      "text/plain": [
       "{'escore_bruto_p1_etapa1': {0: 5.172},\n",
       " 'escore_bruto_p2_etapa1': {0: 14.653},\n",
       " 'nota_redacao_etapa1': {0: 6.947},\n",
       " 'escore_bruto_p1_etapa2': {0: 3.845},\n",
       " 'escore_bruto_p2_etapa2': {0: 19.994},\n",
       " 'nota_redacao_etapa2': {0: 7.222},\n",
       " 'escore_bruto_p1_etapa3': {0: 4.998},\n",
       " 'escore_bruto_p2_etapa3': {0: 16.66},\n",
       " 'nota_redacao_etapa3': {0: 8.06},\n",
       " 'AGRONOMIA (BACHARELADO)': {0: 0},\n",
       " 'ARQUITETURA E URBANISMO (BACHARELADO)': {0: 0},\n",
       " 'ARQUIVOLOGIA (BACHARELADO)': {0: 0},\n",
       " 'ARTES CÊNICAS - INTERPRETAÇÃO TEATRAL (BACHARELADO)': {0: 0},\n",
       " 'ARTES VISUAIS (BACHARELADO)': {0: 0},\n",
       " 'ARTES VISUAIS (LICENCIATURA)': {0: 0},\n",
       " 'BIBLIOTECONOMIA (BACHARELADO)': {0: 0},\n",
       " 'BIOTECNOLOGIA (BACHARELADO)': {0: 0},\n",
       " 'CAMPUS UNB CEILÂNDIA (FCE) ENFERMAGEM (BACHARELADO)': {0: 0},\n",
       " 'CAMPUS UNB PLANALTINA (FUP) – DIURNO CIÊNCIAS NATURAIS (LICENCIATURA)': {0: 0},\n",
       " 'CAMPUS UNB PLANALTINA (FUP) – NOTURNO CIÊNCIAS NATURAIS (LICENCIATURA)': {0: 0},\n",
       " 'CIÊNCIA DA COMPUTAÇÃO (BACHARELADO)': {0: 0},\n",
       " 'CIÊNCIA POLÍTICA (BACHARELADO)': {0: 0},\n",
       " 'CIÊNCIAS AMBIENTAIS (BACHARELADO)': {0: 0},\n",
       " 'CIÊNCIAS BIOLÓGICAS (BACHARELADO)': {0: 0},\n",
       " 'CIÊNCIAS CONTÁBEIS (BACHARELADO)': {0: 0},\n",
       " 'CIÊNCIAS ECONÔMICAS (BACHARELADO)': {0: 0},\n",
       " 'CIÊNCIAS SOCIAIS – ANTROPOLOGIA / SOCIOLOGIA (BACHARELADO/LICENCIATURA)': {0: 0},\n",
       " 'COMPUTAÇÃO (LICENCIATURA)': {0: 0},\n",
       " 'COMUNICAÇÃO ORGANIZACIONAL (BACHARELADO)': {0: 0},\n",
       " 'COMUNICAÇÃO SOCIAL - PUBLICIDADE E PROPAGANDA (BACHARELADO)': {0: 0},\n",
       " 'COMUNICAÇÃO SOCIAL – AUDIOVISUAL (BACHARELADO)': {0: 0},\n",
       " 'DESIGN – PROGRAMAÇÃO VISUAL/PROJETO DO PRODUTO (BACHARELADO)': {0: 0},\n",
       " 'DIREITO (BACHARELADO)': {0: 0},\n",
       " 'DIURNO ADMINISTRAÇÃO (BACHARELADO)': {0: 0},\n",
       " 'EDUCAÇÃO FÍSICA (BACHARELADO)': {0: 0},\n",
       " 'EDUCAÇÃO FÍSICA (LICENCIATURA)': {0: 0},\n",
       " 'ENFERMAGEM (BACHARELADO)': {0: 0},\n",
       " 'ENGENHARIA AMBIENTAL (BACHARELADO)': {0: 0},\n",
       " 'ENGENHARIA CIVIL (BACHARELADO)': {0: 0},\n",
       " 'ENGENHARIA DE COMPUTAÇÃO (BACHARELADO)': {0: 0},\n",
       " 'ENGENHARIA DE PRODUÇÃO (BACHARELADO)': {0: 0},\n",
       " 'ENGENHARIA DE REDES DE COMUNICAÇÃO (BACHARELADO)': {0: 0},\n",
       " 'ENGENHARIA ELÉTRICA (BACHARELADO)': {0: 0},\n",
       " 'ENGENHARIA FLORESTAL (BACHARELADO)': {0: 0},\n",
       " 'ENGENHARIA MECATRÔNICA – CONTROLE E AUTOMAÇÃO (BACHARELADO)': {0: 0},\n",
       " 'ENGENHARIA MECÂNICA (BACHARELADO)': {0: 0},\n",
       " 'ENGENHARIA QUÍMICA (BACHARELADO)': {0: 0},\n",
       " 'ENGENHARIAS – AEROESPACIAL / AUTOMOTIVA / ELETRÔNICA / ENERGIA / SOFTWARE (BACHARELADOS)': {0: 0},\n",
       " 'ESTATÍSTICA (BACHARELADO)': {0: 0},\n",
       " 'FARMÁCIA (BACHARELADO)': {0: 0},\n",
       " 'FILOSOFIA (BACHARELADO/LICENCIATURA)': {0: 0},\n",
       " 'FILOSOFIA (LICENCIATURA)': {0: 0},\n",
       " 'FISIOTERAPIA (BACHARELADO)': {0: 0},\n",
       " 'FONOAUDIOLOGIA (BACHARELADO)': {0: 0},\n",
       " 'FÍSICA (BACHARELADO)': {0: 0},\n",
       " 'GEOFÍSICA (BACHARELADO)': {0: 0},\n",
       " 'GEOGRAFIA (BACHARELADO/LICENCIATURA)': {0: 0},\n",
       " 'GEOLOGIA (BACHARELADO)': {0: 0},\n",
       " 'GESTÃO AMBIENTAL (BACHARELADO)': {0: 0},\n",
       " 'GESTÃO DE AGRONEGÓCIO (BACHARELADO)': {0: 0},\n",
       " 'GESTÃO DE POLÍTICAS PÚBLICAS (BACHARELADO)': {0: 0},\n",
       " 'GESTÃO DO AGRONEGÓCIO (BACHARELADO)': {0: 0},\n",
       " 'HISTÓRIA (BACHARELADO/LICENCIATURA )': {0: 0},\n",
       " 'HISTÓRIA (LICENCIATURA)': {0: 0},\n",
       " 'JORNALISMO (BACHARELADO)': {0: 0},\n",
       " 'LETRAS – PORTUGUÊS DO BRASIL COMO SEGUNDA LÍNGUA (LICENCIATURA)': {0: 0},\n",
       " 'LETRAS – TRADUÇÃO ESPANHOL (BACHARELADO)': {0: 0},\n",
       " 'LETRAS – TRADUÇÃO – FRANCÊS (BACHARELADO)': {0: 0},\n",
       " 'LETRAS – TRADUÇÃO – INGLÊS (BACHARELADO)': {0: 0},\n",
       " 'LICENCIATURA EM ARTES CÊNICAS': {0: 0},\n",
       " 'LICENCIATURA EM CIÊNCIAS BIOLÓGICAS': {0: 0},\n",
       " 'LICENCIATURA EM FÍSICA': {0: 0},\n",
       " 'LICENCIATURA EM MATEMÁTICA': {0: 0},\n",
       " 'LICENCIATURA EM QUÍMICA': {0: 0},\n",
       " 'LÍNGUA E LITERATURA JAPONESA (LICENCIATURA)': {0: 0},\n",
       " 'LÍNGUA ESPANHOLA E LITERATURA ESPANHOLA E HISPANO - AMERICANA (LICENCIATURA)': {0: 0},\n",
       " 'LÍNGUA ESTRANGEIRA APLICADA – MULTILINGUISMO E SOCIEDADE DA INFORMAÇÃO (BACHARELADO)': {0: 0},\n",
       " 'LÍNGUA FRANCESA E RESPECTIVA LITERATURA (BACHARELADO/LICENCIATURA)': {0: 0},\n",
       " 'LÍNGUA INGLESA E RESPECTIVA LITERATURA (BACHARELADO/LICENCIATURA)': {0: 0},\n",
       " 'LÍNGUA PORTUGUESA E RESPECTIVA LITERATURA (BACHARELADO/LICENCIATURA)': {0: 0},\n",
       " 'LÍNGUA PORTUGUESA E RESPECTIVA LITERATURA (LICENCIATURA)': {0: 0},\n",
       " 'MATEMÁTICA (BACHARELADO/LICENCIATURA)': {0: 0},\n",
       " 'MEDICINA (BACHARELADO)': {0: 0},\n",
       " 'MEDICINA VETERINÁRIA (BACHARELADO)': {0: 0},\n",
       " 'MUSEOLOGIA (BACHARELADO)': {0: 0},\n",
       " 'MÚSICA (BACHARELADO)': {0: 0},\n",
       " 'MÚSICA (LICENCIATURA)': {0: 0},\n",
       " 'NOTURNO ADMINISTRAÇÃO (BACHARELADO)': {0: 0},\n",
       " 'NUTRIÇÃO (BACHARELADO)': {0: 0},\n",
       " 'ODONTOLOGIA (BACHARELADO)': {0: 0},\n",
       " 'PEDAGOGIA (LICENCIATURA)': {0: 0},\n",
       " 'PSICOLOGIA (BACHARELADO / LICENCIATURA / PSICÓLOGO)': {0: 0},\n",
       " 'QUÍMICA (BACHARELADO)': {0: 0},\n",
       " 'QUÍMICA TECNOLÓGICA (BACHARELADO)': {0: 0},\n",
       " 'RELAÇÕES INTERNACIONAIS (BACHARELADO)': {0: 0},\n",
       " 'SAÚDE COLETIVA (BACHARELADO)': {0: 0},\n",
       " 'SERVIÇO SOCIAL (BACHARELADO)': {0: 0},\n",
       " 'TEORIA, CRÍTICA E HISTÓRIA DA ARTE (BACHARELADO)': {0: 0},\n",
       " 'TERAPIA OCUPACIONAL (BACHARELADO)': {0: 0},\n",
       " 'TURISMO (BACHARELADO)': {0: 0},\n",
       " 'cotista': {0: 0.0},\n",
       " 'cotas_negros_flag': {0: 0.0},\n",
       " 'publicas1_flag': {0: 0.0},\n",
       " 'publicas2_flag': {0: 0.0},\n",
       " 'publicas3_flag': {0: 0.0},\n",
       " 'publicas4_flag': {0: 0.0},\n",
       " 'publicas5_flag': {0: 0.0},\n",
       " 'publicas6_flag': {0: 0.0},\n",
       " 'publicas7_flag': {0: 0.0},\n",
       " 'publicas8_flag': {0: 0.0}}"
      ]
     },
     "execution_count": 72,
     "metadata": {},
     "output_type": "execute_result"
    }
   ],
   "source": [
    "new_sample.to_dict()"
   ]
  },
  {
   "cell_type": "code",
   "execution_count": null,
   "metadata": {},
   "outputs": [
    {
     "data": {
      "text/plain": [
       "'DIURNO ADMINISTRAÇÃO (BACHARELADO)'"
      ]
     },
     "execution_count": 64,
     "metadata": {},
     "output_type": "execute_result"
    }
   ],
   "source": [
    "FEATURES[33]"
   ]
  },
  {
   "cell_type": "code",
   "execution_count": null,
   "metadata": {},
   "outputs": [],
   "source": [
    "sample_not_approved.get(FEATURES[33])"
   ]
  },
  {
   "cell_type": "code",
   "execution_count": null,
   "metadata": {},
   "outputs": [
    {
     "data": {
      "text/plain": [
       "0.104"
      ]
     },
     "execution_count": 75,
     "metadata": {},
     "output_type": "execute_result"
    }
   ],
   "source": [
    "predict_approval(model_loaded, new_data=new_sample)"
   ]
  },
  {
   "cell_type": "code",
   "execution_count": null,
   "metadata": {},
   "outputs": [
    {
     "data": {
      "text/plain": [
       "['escore_bruto_p1_etapa1',\n",
       " 'escore_bruto_p2_etapa1',\n",
       " 'nota_redacao_etapa1',\n",
       " 'escore_bruto_p1_etapa2',\n",
       " 'escore_bruto_p2_etapa2',\n",
       " 'nota_redacao_etapa2',\n",
       " 'escore_bruto_p1_etapa3',\n",
       " 'escore_bruto_p2_etapa3',\n",
       " 'nota_redacao_etapa3',\n",
       " 'AGRONOMIA (BACHARELADO)',\n",
       " 'ARQUITETURA E URBANISMO (BACHARELADO)',\n",
       " 'ARQUIVOLOGIA (BACHARELADO)',\n",
       " 'ARTES CÊNICAS - INTERPRETAÇÃO TEATRAL (BACHARELADO)',\n",
       " 'ARTES VISUAIS (BACHARELADO)',\n",
       " 'ARTES VISUAIS (LICENCIATURA)',\n",
       " 'BIBLIOTECONOMIA (BACHARELADO)',\n",
       " 'BIOTECNOLOGIA (BACHARELADO)',\n",
       " 'CAMPUS UNB CEILÂNDIA (FCE) ENFERMAGEM (BACHARELADO)',\n",
       " 'CAMPUS UNB PLANALTINA (FUP) – DIURNO CIÊNCIAS NATURAIS (LICENCIATURA)',\n",
       " 'CAMPUS UNB PLANALTINA (FUP) – NOTURNO CIÊNCIAS NATURAIS (LICENCIATURA)',\n",
       " 'CIÊNCIA DA COMPUTAÇÃO (BACHARELADO)',\n",
       " 'CIÊNCIA POLÍTICA (BACHARELADO)',\n",
       " 'CIÊNCIAS AMBIENTAIS (BACHARELADO)',\n",
       " 'CIÊNCIAS BIOLÓGICAS (BACHARELADO)',\n",
       " 'CIÊNCIAS CONTÁBEIS (BACHARELADO)',\n",
       " 'CIÊNCIAS ECONÔMICAS (BACHARELADO)',\n",
       " 'CIÊNCIAS SOCIAIS – ANTROPOLOGIA / SOCIOLOGIA (BACHARELADO/LICENCIATURA)',\n",
       " 'COMPUTAÇÃO (LICENCIATURA)',\n",
       " 'COMUNICAÇÃO ORGANIZACIONAL (BACHARELADO)',\n",
       " 'COMUNICAÇÃO SOCIAL - PUBLICIDADE E PROPAGANDA (BACHARELADO)',\n",
       " 'COMUNICAÇÃO SOCIAL – AUDIOVISUAL (BACHARELADO)',\n",
       " 'DESIGN – PROGRAMAÇÃO VISUAL/PROJETO DO PRODUTO (BACHARELADO)',\n",
       " 'DIREITO (BACHARELADO)',\n",
       " 'DIURNO ADMINISTRAÇÃO (BACHARELADO)',\n",
       " 'EDUCAÇÃO FÍSICA (BACHARELADO)',\n",
       " 'EDUCAÇÃO FÍSICA (LICENCIATURA)',\n",
       " 'ENFERMAGEM (BACHARELADO)',\n",
       " 'ENGENHARIA AMBIENTAL (BACHARELADO)',\n",
       " 'ENGENHARIA CIVIL (BACHARELADO)',\n",
       " 'ENGENHARIA DE COMPUTAÇÃO (BACHARELADO)',\n",
       " 'ENGENHARIA DE PRODUÇÃO (BACHARELADO)',\n",
       " 'ENGENHARIA DE REDES DE COMUNICAÇÃO (BACHARELADO)',\n",
       " 'ENGENHARIA ELÉTRICA (BACHARELADO)',\n",
       " 'ENGENHARIA FLORESTAL (BACHARELADO)',\n",
       " 'ENGENHARIA MECATRÔNICA – CONTROLE E AUTOMAÇÃO (BACHARELADO)',\n",
       " 'ENGENHARIA MECÂNICA (BACHARELADO)',\n",
       " 'ENGENHARIA QUÍMICA (BACHARELADO)',\n",
       " 'ENGENHARIAS – AEROESPACIAL / AUTOMOTIVA / ELETRÔNICA / ENERGIA / SOFTWARE (BACHARELADOS)',\n",
       " 'ESTATÍSTICA (BACHARELADO)',\n",
       " 'FARMÁCIA (BACHARELADO)',\n",
       " 'FILOSOFIA (BACHARELADO/LICENCIATURA)',\n",
       " 'FILOSOFIA (LICENCIATURA)',\n",
       " 'FISIOTERAPIA (BACHARELADO)',\n",
       " 'FONOAUDIOLOGIA (BACHARELADO)',\n",
       " 'FÍSICA (BACHARELADO)',\n",
       " 'GEOFÍSICA (BACHARELADO)',\n",
       " 'GEOGRAFIA (BACHARELADO/LICENCIATURA)',\n",
       " 'GEOLOGIA (BACHARELADO)',\n",
       " 'GESTÃO AMBIENTAL (BACHARELADO)',\n",
       " 'GESTÃO DE AGRONEGÓCIO (BACHARELADO)',\n",
       " 'GESTÃO DE POLÍTICAS PÚBLICAS (BACHARELADO)',\n",
       " 'GESTÃO DO AGRONEGÓCIO (BACHARELADO)',\n",
       " 'HISTÓRIA (BACHARELADO/LICENCIATURA )',\n",
       " 'HISTÓRIA (LICENCIATURA)',\n",
       " 'JORNALISMO (BACHARELADO)',\n",
       " 'LETRAS – PORTUGUÊS DO BRASIL COMO SEGUNDA LÍNGUA (LICENCIATURA)',\n",
       " 'LETRAS – TRADUÇÃO ESPANHOL (BACHARELADO)',\n",
       " 'LETRAS – TRADUÇÃO – FRANCÊS (BACHARELADO)',\n",
       " 'LETRAS – TRADUÇÃO – INGLÊS (BACHARELADO)',\n",
       " 'LICENCIATURA EM ARTES CÊNICAS',\n",
       " 'LICENCIATURA EM CIÊNCIAS BIOLÓGICAS',\n",
       " 'LICENCIATURA EM FÍSICA',\n",
       " 'LICENCIATURA EM MATEMÁTICA',\n",
       " 'LICENCIATURA EM QUÍMICA',\n",
       " 'LÍNGUA E LITERATURA JAPONESA (LICENCIATURA)',\n",
       " 'LÍNGUA ESPANHOLA E LITERATURA ESPANHOLA E HISPANO - AMERICANA (LICENCIATURA)',\n",
       " 'LÍNGUA ESTRANGEIRA APLICADA – MULTILINGUISMO E SOCIEDADE DA INFORMAÇÃO (BACHARELADO)',\n",
       " 'LÍNGUA FRANCESA E RESPECTIVA LITERATURA (BACHARELADO/LICENCIATURA)',\n",
       " 'LÍNGUA INGLESA E RESPECTIVA LITERATURA (BACHARELADO/LICENCIATURA)',\n",
       " 'LÍNGUA PORTUGUESA E RESPECTIVA LITERATURA (BACHARELADO/LICENCIATURA)',\n",
       " 'LÍNGUA PORTUGUESA E RESPECTIVA LITERATURA (LICENCIATURA)',\n",
       " 'MATEMÁTICA (BACHARELADO/LICENCIATURA)',\n",
       " 'MEDICINA (BACHARELADO)',\n",
       " 'MEDICINA VETERINÁRIA (BACHARELADO)',\n",
       " 'MUSEOLOGIA (BACHARELADO)',\n",
       " 'MÚSICA (BACHARELADO)',\n",
       " 'MÚSICA (LICENCIATURA)',\n",
       " 'NOTURNO ADMINISTRAÇÃO (BACHARELADO)',\n",
       " 'NUTRIÇÃO (BACHARELADO)',\n",
       " 'ODONTOLOGIA (BACHARELADO)',\n",
       " 'PEDAGOGIA (LICENCIATURA)',\n",
       " 'PSICOLOGIA (BACHARELADO / LICENCIATURA / PSICÓLOGO)',\n",
       " 'QUÍMICA (BACHARELADO)',\n",
       " 'QUÍMICA TECNOLÓGICA (BACHARELADO)',\n",
       " 'RELAÇÕES INTERNACIONAIS (BACHARELADO)',\n",
       " 'SAÚDE COLETIVA (BACHARELADO)',\n",
       " 'SERVIÇO SOCIAL (BACHARELADO)',\n",
       " 'TEORIA, CRÍTICA E HISTÓRIA DA ARTE (BACHARELADO)',\n",
       " 'TERAPIA OCUPACIONAL (BACHARELADO)',\n",
       " 'TURISMO (BACHARELADO)',\n",
       " 'cotista',\n",
       " 'cotas_negros_flag',\n",
       " 'publicas1_flag',\n",
       " 'publicas2_flag',\n",
       " 'publicas3_flag',\n",
       " 'publicas4_flag',\n",
       " 'publicas5_flag',\n",
       " 'publicas6_flag',\n",
       " 'publicas7_flag',\n",
       " 'publicas8_flag']"
      ]
     },
     "execution_count": 60,
     "metadata": {},
     "output_type": "execute_result"
    }
   ],
   "source": [
    "X_test.columns.to_list()"
   ]
  },
  {
   "cell_type": "code",
   "execution_count": null,
   "metadata": {},
   "outputs": [],
   "source": [
    "my_sample = pd.DataFrame([X_test.iloc[0]])\n",
    "#my_sample.rename_ax"
   ]
  },
  {
   "cell_type": "code",
   "execution_count": null,
   "metadata": {},
   "outputs": [
    {
     "data": {
      "text/html": [
       "<div>\n",
       "<style scoped>\n",
       "    .dataframe tbody tr th:only-of-type {\n",
       "        vertical-align: middle;\n",
       "    }\n",
       "\n",
       "    .dataframe tbody tr th {\n",
       "        vertical-align: top;\n",
       "    }\n",
       "\n",
       "    .dataframe thead th {\n",
       "        text-align: right;\n",
       "    }\n",
       "</style>\n",
       "<table border=\"1\" class=\"dataframe\">\n",
       "  <thead>\n",
       "    <tr style=\"text-align: right;\">\n",
       "      <th></th>\n",
       "      <th>escore_bruto_p1_etapa1</th>\n",
       "      <th>escore_bruto_p2_etapa1</th>\n",
       "      <th>nota_redacao_etapa1</th>\n",
       "      <th>escore_bruto_p1_etapa2</th>\n",
       "      <th>escore_bruto_p2_etapa2</th>\n",
       "      <th>nota_redacao_etapa2</th>\n",
       "      <th>escore_bruto_p1_etapa3</th>\n",
       "      <th>escore_bruto_p2_etapa3</th>\n",
       "      <th>nota_redacao_etapa3</th>\n",
       "      <th>AGRONOMIA 123 (BACHARELADO)</th>\n",
       "      <th>...</th>\n",
       "      <th>cotista</th>\n",
       "      <th>cotas_negros_flag</th>\n",
       "      <th>publicas1_flag</th>\n",
       "      <th>publicas2_flag</th>\n",
       "      <th>publicas3_flag</th>\n",
       "      <th>publicas4_flag</th>\n",
       "      <th>publicas5_flag</th>\n",
       "      <th>publicas6_flag</th>\n",
       "      <th>publicas7_flag</th>\n",
       "      <th>publicas8_flag</th>\n",
       "    </tr>\n",
       "  </thead>\n",
       "  <tbody>\n",
       "    <tr>\n",
       "      <th>510</th>\n",
       "      <td>1.149</td>\n",
       "      <td>21.549</td>\n",
       "      <td>5.808</td>\n",
       "      <td>3.845</td>\n",
       "      <td>25.857</td>\n",
       "      <td>8.273</td>\n",
       "      <td>1.428</td>\n",
       "      <td>25.228</td>\n",
       "      <td>8.148</td>\n",
       "      <td>0.0</td>\n",
       "      <td>...</td>\n",
       "      <td>0.0</td>\n",
       "      <td>0.0</td>\n",
       "      <td>0.0</td>\n",
       "      <td>0.0</td>\n",
       "      <td>0.0</td>\n",
       "      <td>0.0</td>\n",
       "      <td>0.0</td>\n",
       "      <td>0.0</td>\n",
       "      <td>0.0</td>\n",
       "      <td>0.0</td>\n",
       "    </tr>\n",
       "  </tbody>\n",
       "</table>\n",
       "<p>1 rows × 110 columns</p>\n",
       "</div>"
      ],
      "text/plain": [
       "     escore_bruto_p1_etapa1  escore_bruto_p2_etapa1  nota_redacao_etapa1  \\\n",
       "510                   1.149                  21.549                5.808   \n",
       "\n",
       "     escore_bruto_p1_etapa2  escore_bruto_p2_etapa2  nota_redacao_etapa2  \\\n",
       "510                   3.845                  25.857                8.273   \n",
       "\n",
       "     escore_bruto_p1_etapa3  escore_bruto_p2_etapa3  nota_redacao_etapa3  \\\n",
       "510                   1.428                  25.228                8.148   \n",
       "\n",
       "     AGRONOMIA 123 (BACHARELADO)  ...  cotista  cotas_negros_flag  \\\n",
       "510                          0.0  ...      0.0                0.0   \n",
       "\n",
       "     publicas1_flag  publicas2_flag  publicas3_flag  publicas4_flag  \\\n",
       "510             0.0             0.0             0.0             0.0   \n",
       "\n",
       "     publicas5_flag  publicas6_flag  publicas7_flag  publicas8_flag  \n",
       "510             0.0             0.0             0.0             0.0  \n",
       "\n",
       "[1 rows x 110 columns]"
      ]
     },
     "execution_count": 71,
     "metadata": {},
     "output_type": "execute_result"
    }
   ],
   "source": [
    "my_sample.rename(columns = {'AGRONOMIA (BACHARELADO)': 'AGRONOMIA 123 (BACHARELADO)'})"
   ]
  },
  {
   "cell_type": "code",
   "execution_count": null,
   "metadata": {},
   "outputs": [
    {
     "data": {
      "text/plain": [
       "['escore_bruto_p1_etapa1',\n",
       " 'escore_bruto_p2_etapa1',\n",
       " 'nota_redacao_etapa1',\n",
       " 'escore_bruto_p1_etapa2',\n",
       " 'escore_bruto_p2_etapa2',\n",
       " 'nota_redacao_etapa2',\n",
       " 'escore_bruto_p1_etapa3',\n",
       " 'escore_bruto_p2_etapa3',\n",
       " 'nota_redacao_etapa3',\n",
       " 'AGRONOMIA (BACHARELADO)',\n",
       " 'ARQUITETURA E URBANISMO (BACHARELADO)',\n",
       " 'ARQUIVOLOGIA (BACHARELADO)',\n",
       " 'ARTES CÊNICAS - INTERPRETAÇÃO TEATRAL (BACHARELADO)',\n",
       " 'ARTES VISUAIS (BACHARELADO)',\n",
       " 'ARTES VISUAIS (LICENCIATURA)',\n",
       " 'BIBLIOTECONOMIA (BACHARELADO)',\n",
       " 'BIOTECNOLOGIA (BACHARELADO)',\n",
       " 'CAMPUS UNB CEILÂNDIA (FCE) ENFERMAGEM (BACHARELADO)',\n",
       " 'CAMPUS UNB PLANALTINA (FUP) – DIURNO CIÊNCIAS NATURAIS (LICENCIATURA)',\n",
       " 'CAMPUS UNB PLANALTINA (FUP) – NOTURNO CIÊNCIAS NATURAIS (LICENCIATURA)',\n",
       " 'CIÊNCIA DA COMPUTAÇÃO (BACHARELADO)',\n",
       " 'CIÊNCIA POLÍTICA (BACHARELADO)',\n",
       " 'CIÊNCIAS AMBIENTAIS (BACHARELADO)',\n",
       " 'CIÊNCIAS BIOLÓGICAS (BACHARELADO)',\n",
       " 'CIÊNCIAS CONTÁBEIS (BACHARELADO)',\n",
       " 'CIÊNCIAS ECONÔMICAS (BACHARELADO)',\n",
       " 'CIÊNCIAS SOCIAIS – ANTROPOLOGIA / SOCIOLOGIA (BACHARELADO/LICENCIATURA)',\n",
       " 'COMPUTAÇÃO (LICENCIATURA)',\n",
       " 'COMUNICAÇÃO ORGANIZACIONAL (BACHARELADO)',\n",
       " 'COMUNICAÇÃO SOCIAL - PUBLICIDADE E PROPAGANDA (BACHARELADO)',\n",
       " 'COMUNICAÇÃO SOCIAL – AUDIOVISUAL (BACHARELADO)',\n",
       " 'DESIGN – PROGRAMAÇÃO VISUAL/PROJETO DO PRODUTO (BACHARELADO)',\n",
       " 'DIREITO (BACHARELADO)',\n",
       " 'DIURNO ADMINISTRAÇÃO (BACHARELADO)',\n",
       " 'EDUCAÇÃO FÍSICA (BACHARELADO)',\n",
       " 'EDUCAÇÃO FÍSICA (LICENCIATURA)',\n",
       " 'ENFERMAGEM (BACHARELADO)',\n",
       " 'ENGENHARIA AMBIENTAL (BACHARELADO)',\n",
       " 'ENGENHARIA CIVIL (BACHARELADO)',\n",
       " 'ENGENHARIA DE COMPUTAÇÃO (BACHARELADO)',\n",
       " 'ENGENHARIA DE PRODUÇÃO (BACHARELADO)',\n",
       " 'ENGENHARIA DE REDES DE COMUNICAÇÃO (BACHARELADO)',\n",
       " 'ENGENHARIA ELÉTRICA (BACHARELADO)',\n",
       " 'ENGENHARIA FLORESTAL (BACHARELADO)',\n",
       " 'ENGENHARIA MECATRÔNICA – CONTROLE E AUTOMAÇÃO (BACHARELADO)',\n",
       " 'ENGENHARIA MECÂNICA (BACHARELADO)',\n",
       " 'ENGENHARIA QUÍMICA (BACHARELADO)',\n",
       " 'ENGENHARIAS – AEROESPACIAL / AUTOMOTIVA / ELETRÔNICA / ENERGIA / SOFTWARE (BACHARELADOS)',\n",
       " 'ESTATÍSTICA (BACHARELADO)',\n",
       " 'FARMÁCIA (BACHARELADO)',\n",
       " 'FILOSOFIA (BACHARELADO/LICENCIATURA)',\n",
       " 'FILOSOFIA (LICENCIATURA)',\n",
       " 'FISIOTERAPIA (BACHARELADO)',\n",
       " 'FONOAUDIOLOGIA (BACHARELADO)',\n",
       " 'FÍSICA (BACHARELADO)',\n",
       " 'GEOFÍSICA (BACHARELADO)',\n",
       " 'GEOGRAFIA (BACHARELADO/LICENCIATURA)',\n",
       " 'GEOLOGIA (BACHARELADO)',\n",
       " 'GESTÃO AMBIENTAL (BACHARELADO)',\n",
       " 'GESTÃO DE AGRONEGÓCIO (BACHARELADO)',\n",
       " 'GESTÃO DE POLÍTICAS PÚBLICAS (BACHARELADO)',\n",
       " 'GESTÃO DO AGRONEGÓCIO (BACHARELADO)',\n",
       " 'HISTÓRIA (BACHARELADO/LICENCIATURA )',\n",
       " 'HISTÓRIA (LICENCIATURA)',\n",
       " 'JORNALISMO (BACHARELADO)',\n",
       " 'LETRAS – PORTUGUÊS DO BRASIL COMO SEGUNDA LÍNGUA (LICENCIATURA)',\n",
       " 'LETRAS – TRADUÇÃO ESPANHOL (BACHARELADO)',\n",
       " 'LETRAS – TRADUÇÃO – FRANCÊS (BACHARELADO)',\n",
       " 'LETRAS – TRADUÇÃO – INGLÊS (BACHARELADO)',\n",
       " 'LICENCIATURA EM ARTES CÊNICAS',\n",
       " 'LICENCIATURA EM CIÊNCIAS BIOLÓGICAS',\n",
       " 'LICENCIATURA EM FÍSICA',\n",
       " 'LICENCIATURA EM MATEMÁTICA',\n",
       " 'LICENCIATURA EM QUÍMICA',\n",
       " 'LÍNGUA E LITERATURA JAPONESA (LICENCIATURA)',\n",
       " 'LÍNGUA ESPANHOLA E LITERATURA ESPANHOLA E HISPANO - AMERICANA (LICENCIATURA)',\n",
       " 'LÍNGUA ESTRANGEIRA APLICADA – MULTILINGUISMO E SOCIEDADE DA INFORMAÇÃO (BACHARELADO)',\n",
       " 'LÍNGUA FRANCESA E RESPECTIVA LITERATURA (BACHARELADO/LICENCIATURA)',\n",
       " 'LÍNGUA INGLESA E RESPECTIVA LITERATURA (BACHARELADO/LICENCIATURA)',\n",
       " 'LÍNGUA PORTUGUESA E RESPECTIVA LITERATURA (BACHARELADO/LICENCIATURA)',\n",
       " 'LÍNGUA PORTUGUESA E RESPECTIVA LITERATURA (LICENCIATURA)',\n",
       " 'MATEMÁTICA (BACHARELADO/LICENCIATURA)',\n",
       " 'MEDICINA (BACHARELADO)',\n",
       " 'MEDICINA VETERINÁRIA (BACHARELADO)',\n",
       " 'MUSEOLOGIA (BACHARELADO)',\n",
       " 'MÚSICA (BACHARELADO)',\n",
       " 'MÚSICA (LICENCIATURA)',\n",
       " 'NOTURNO ADMINISTRAÇÃO (BACHARELADO)',\n",
       " 'NUTRIÇÃO (BACHARELADO)',\n",
       " 'ODONTOLOGIA (BACHARELADO)',\n",
       " 'PEDAGOGIA (LICENCIATURA)',\n",
       " 'PSICOLOGIA (BACHARELADO / LICENCIATURA / PSICÓLOGO)',\n",
       " 'QUÍMICA (BACHARELADO)',\n",
       " 'QUÍMICA TECNOLÓGICA (BACHARELADO)',\n",
       " 'RELAÇÕES INTERNACIONAIS (BACHARELADO)',\n",
       " 'SAÚDE COLETIVA (BACHARELADO)',\n",
       " 'SERVIÇO SOCIAL (BACHARELADO)',\n",
       " 'TEORIA, CRÍTICA E HISTÓRIA DA ARTE (BACHARELADO)',\n",
       " 'TERAPIA OCUPACIONAL (BACHARELADO)',\n",
       " 'TURISMO (BACHARELADO)',\n",
       " 'cotista',\n",
       " 'cotas_negros_flag',\n",
       " 'publicas1_flag',\n",
       " 'publicas2_flag',\n",
       " 'publicas3_flag',\n",
       " 'publicas4_flag',\n",
       " 'publicas5_flag',\n",
       " 'publicas6_flag',\n",
       " 'publicas7_flag',\n",
       " 'publicas8_flag']"
      ]
     },
     "execution_count": 70,
     "metadata": {},
     "output_type": "execute_result"
    }
   ],
   "source": [
    "my_sample.columns.to_list()"
   ]
  },
  {
   "cell_type": "code",
   "execution_count": null,
   "metadata": {},
   "outputs": [
    {
     "data": {
      "text/plain": [
       "array([0], dtype=int64)"
      ]
     },
     "execution_count": 58,
     "metadata": {},
     "output_type": "execute_result"
    }
   ],
   "source": [
    "model_loaded.predict(new_sample)"
   ]
  },
  {
   "attachments": {},
   "cell_type": "markdown",
   "metadata": {},
   "source": [
    "## Stratified KFold + Hyperameter tuning + Simple Flags"
   ]
  },
  {
   "cell_type": "code",
   "execution_count": null,
   "metadata": {},
   "outputs": [
    {
     "data": {
      "text/plain": [
       "['numero_inscricao',\n",
       " 'nome_x',\n",
       " 'escore_bruto_p1_etapa1',\n",
       " 'escore_bruto_p2_etapa1',\n",
       " 'nota_redacao_etapa1',\n",
       " 'escore_bruto_p1_etapa2',\n",
       " 'escore_bruto_p2_etapa2',\n",
       " 'nota_redacao_etapa2',\n",
       " 'escore_bruto_p1_etapa3',\n",
       " 'escore_bruto_p2_etapa3',\n",
       " 'nota_redacao_etapa3',\n",
       " 'argumento_final',\n",
       " 'classificacao_final_universal',\n",
       " 'classificacao_final_cotas_negros',\n",
       " 'classificacao_final_publicas1',\n",
       " 'classificacao_final_publicas2',\n",
       " 'classificacao_final_publicas3',\n",
       " 'classificacao_final_publicas4',\n",
       " 'classificacao_final_publicas5',\n",
       " 'classificacao_final_publicas6',\n",
       " 'classificacao_final_publicas7',\n",
       " 'classificacao_final_publicas8',\n",
       " 'course',\n",
       " 'cotista',\n",
       " 'cotas_negros_flag',\n",
       " 'publicas1_flag',\n",
       " 'publicas2_flag',\n",
       " 'publicas3_flag',\n",
       " 'publicas4_flag',\n",
       " 'publicas5_flag',\n",
       " 'publicas6_flag',\n",
       " 'publicas7_flag',\n",
       " 'publicas8_flag',\n",
       " 'nome_y',\n",
       " 'campus',\n",
       " 'curso',\n",
       " 'periodo',\n",
       " '_merge',\n",
       " 'label',\n",
       " 'AGRONOMIA (BACHARELADO)',\n",
       " 'ARQUITETURA E URBANISMO (BACHARELADO)',\n",
       " 'ARQUIVOLOGIA (BACHARELADO)',\n",
       " 'ARTES CÊNICAS - INTERPRETAÇÃO TEATRAL (BACHARELADO)',\n",
       " 'ARTES VISUAIS (BACHARELADO)',\n",
       " 'ARTES VISUAIS (LICENCIATURA)',\n",
       " 'BIBLIOTECONOMIA (BACHARELADO)',\n",
       " 'BIOTECNOLOGIA (BACHARELADO)',\n",
       " 'CAMPUS UNB CEILÂNDIA (FCE) ENFERMAGEM (BACHARELADO)',\n",
       " 'CAMPUS UNB PLANALTINA (FUP) – DIURNO CIÊNCIAS NATURAIS (LICENCIATURA)',\n",
       " 'CAMPUS UNB PLANALTINA (FUP) – NOTURNO CIÊNCIAS NATURAIS (LICENCIATURA)',\n",
       " 'CIÊNCIA DA COMPUTAÇÃO (BACHARELADO)',\n",
       " 'CIÊNCIA POLÍTICA (BACHARELADO)',\n",
       " 'CIÊNCIAS AMBIENTAIS (BACHARELADO)',\n",
       " 'CIÊNCIAS BIOLÓGICAS (BACHARELADO)',\n",
       " 'CIÊNCIAS CONTÁBEIS (BACHARELADO)',\n",
       " 'CIÊNCIAS ECONÔMICAS (BACHARELADO)',\n",
       " 'CIÊNCIAS SOCIAIS – ANTROPOLOGIA / SOCIOLOGIA (BACHARELADO/LICENCIATURA)',\n",
       " 'COMPUTAÇÃO (LICENCIATURA)',\n",
       " 'COMUNICAÇÃO ORGANIZACIONAL (BACHARELADO)',\n",
       " 'COMUNICAÇÃO SOCIAL - PUBLICIDADE E PROPAGANDA (BACHARELADO)',\n",
       " 'COMUNICAÇÃO SOCIAL – AUDIOVISUAL (BACHARELADO)',\n",
       " 'DESIGN – PROGRAMAÇÃO VISUAL/PROJETO DO PRODUTO (BACHARELADO)',\n",
       " 'DIREITO (BACHARELADO)',\n",
       " 'DIURNO ADMINISTRAÇÃO (BACHARELADO)',\n",
       " 'EDUCAÇÃO FÍSICA (BACHARELADO)',\n",
       " 'EDUCAÇÃO FÍSICA (LICENCIATURA)',\n",
       " 'ENFERMAGEM (BACHARELADO)',\n",
       " 'ENGENHARIA AMBIENTAL (BACHARELADO)',\n",
       " 'ENGENHARIA CIVIL (BACHARELADO)',\n",
       " 'ENGENHARIA DE COMPUTAÇÃO (BACHARELADO)',\n",
       " 'ENGENHARIA DE PRODUÇÃO (BACHARELADO)',\n",
       " 'ENGENHARIA DE REDES DE COMUNICAÇÃO (BACHARELADO)',\n",
       " 'ENGENHARIA ELÉTRICA (BACHARELADO)',\n",
       " 'ENGENHARIA FLORESTAL (BACHARELADO)',\n",
       " 'ENGENHARIA MECATRÔNICA – CONTROLE E AUTOMAÇÃO (BACHARELADO)',\n",
       " 'ENGENHARIA MECÂNICA (BACHARELADO)',\n",
       " 'ENGENHARIA QUÍMICA (BACHARELADO)',\n",
       " 'ENGENHARIAS – AEROESPACIAL / AUTOMOTIVA / ELETRÔNICA / ENERGIA / SOFTWARE (BACHARELADOS)',\n",
       " 'ESTATÍSTICA (BACHARELADO)',\n",
       " 'FARMÁCIA (BACHARELADO)',\n",
       " 'FILOSOFIA (BACHARELADO/LICENCIATURA)',\n",
       " 'FILOSOFIA (LICENCIATURA)',\n",
       " 'FISIOTERAPIA (BACHARELADO)',\n",
       " 'FONOAUDIOLOGIA (BACHARELADO)',\n",
       " 'FÍSICA (BACHARELADO)',\n",
       " 'GEOFÍSICA (BACHARELADO)',\n",
       " 'GEOGRAFIA (BACHARELADO/LICENCIATURA)',\n",
       " 'GEOLOGIA (BACHARELADO)',\n",
       " 'GESTÃO AMBIENTAL (BACHARELADO)',\n",
       " 'GESTÃO DE AGRONEGÓCIO (BACHARELADO)',\n",
       " 'GESTÃO DE POLÍTICAS PÚBLICAS (BACHARELADO)',\n",
       " 'GESTÃO DO AGRONEGÓCIO (BACHARELADO)',\n",
       " 'HISTÓRIA (BACHARELADO/LICENCIATURA )',\n",
       " 'HISTÓRIA (LICENCIATURA)',\n",
       " 'JORNALISMO (BACHARELADO)',\n",
       " 'LETRAS – PORTUGUÊS DO BRASIL COMO SEGUNDA LÍNGUA (LICENCIATURA)',\n",
       " 'LETRAS – TRADUÇÃO ESPANHOL (BACHARELADO)',\n",
       " 'LETRAS – TRADUÇÃO – FRANCÊS (BACHARELADO)',\n",
       " 'LETRAS – TRADUÇÃO – INGLÊS (BACHARELADO)',\n",
       " 'LICENCIATURA EM ARTES CÊNICAS',\n",
       " 'LICENCIATURA EM CIÊNCIAS BIOLÓGICAS',\n",
       " 'LICENCIATURA EM FÍSICA',\n",
       " 'LICENCIATURA EM MATEMÁTICA',\n",
       " 'LICENCIATURA EM QUÍMICA',\n",
       " 'LÍNGUA E LITERATURA JAPONESA (LICENCIATURA)',\n",
       " 'LÍNGUA ESPANHOLA E LITERATURA ESPANHOLA E HISPANO - AMERICANA (LICENCIATURA)',\n",
       " 'LÍNGUA ESTRANGEIRA APLICADA – MULTILINGUISMO E SOCIEDADE DA INFORMAÇÃO (BACHARELADO)',\n",
       " 'LÍNGUA FRANCESA E RESPECTIVA LITERATURA (BACHARELADO/LICENCIATURA)',\n",
       " 'LÍNGUA INGLESA E RESPECTIVA LITERATURA (BACHARELADO/LICENCIATURA)',\n",
       " 'LÍNGUA PORTUGUESA E RESPECTIVA LITERATURA (BACHARELADO/LICENCIATURA)',\n",
       " 'LÍNGUA PORTUGUESA E RESPECTIVA LITERATURA (LICENCIATURA)',\n",
       " 'MATEMÁTICA (BACHARELADO/LICENCIATURA)',\n",
       " 'MEDICINA (BACHARELADO)',\n",
       " 'MEDICINA VETERINÁRIA (BACHARELADO)',\n",
       " 'MUSEOLOGIA (BACHARELADO)',\n",
       " 'MÚSICA (BACHARELADO)',\n",
       " 'MÚSICA (LICENCIATURA)',\n",
       " 'NOTURNO ADMINISTRAÇÃO (BACHARELADO)',\n",
       " 'NUTRIÇÃO (BACHARELADO)',\n",
       " 'ODONTOLOGIA (BACHARELADO)',\n",
       " 'PEDAGOGIA (LICENCIATURA)',\n",
       " 'PSICOLOGIA (BACHARELADO / LICENCIATURA / PSICÓLOGO)',\n",
       " 'QUÍMICA (BACHARELADO)',\n",
       " 'QUÍMICA TECNOLÓGICA (BACHARELADO)',\n",
       " 'RELAÇÕES INTERNACIONAIS (BACHARELADO)',\n",
       " 'SAÚDE COLETIVA (BACHARELADO)',\n",
       " 'SERVIÇO SOCIAL (BACHARELADO)',\n",
       " 'TEORIA, CRÍTICA E HISTÓRIA DA ARTE (BACHARELADO)',\n",
       " 'TERAPIA OCUPACIONAL (BACHARELADO)',\n",
       " 'TURISMO (BACHARELADO)']"
      ]
     },
     "execution_count": 72,
     "metadata": {},
     "output_type": "execute_result"
    }
   ],
   "source": [
    "list(df.columns)"
   ]
  },
  {
   "cell_type": "code",
   "execution_count": null,
   "metadata": {},
   "outputs": [],
   "source": [
    "publicas_flags = [\n",
    " 'publicas1_flag',\n",
    " 'publicas2_flag',\n",
    " 'publicas3_flag',\n",
    " 'publicas4_flag',\n",
    " 'publicas5_flag',\n",
    " 'publicas6_flag',\n",
    " 'publicas7_flag',\n",
    " 'publicas8_flag']\n",
    "df['publicas_flag'] = df[publicas_flags].sum(axis=1)"
   ]
  },
  {
   "cell_type": "code",
   "execution_count": null,
   "metadata": {},
   "outputs": [
    {
     "name": "stdout",
     "output_type": "stream",
     "text": [
      "102\n"
     ]
    }
   ],
   "source": [
    "FEATURES = [col for col in FEATURES if col not in publicas_flags] \n",
    "print(len(FEATURES))\n"
   ]
  },
  {
   "cell_type": "code",
   "execution_count": null,
   "metadata": {},
   "outputs": [],
   "source": [
    "FEATURES.append('publicas_flag')"
   ]
  },
  {
   "cell_type": "code",
   "execution_count": null,
   "metadata": {},
   "outputs": [
    {
     "name": "stdout",
     "output_type": "stream",
     "text": [
      "103\n"
     ]
    }
   ],
   "source": [
    "print(len(FEATURES))\n"
   ]
  },
  {
   "cell_type": "code",
   "execution_count": null,
   "metadata": {},
   "outputs": [],
   "source": [
    "\n",
    "X = df[FEATURES] # features\n",
    "y = df['label'] # labels\n",
    "X_train, X_test, y_train, y_test = train_test_split(X, y, test_size=0.20, random_state=47) # 70% training and 30% test"
   ]
  },
  {
   "cell_type": "code",
   "execution_count": null,
   "metadata": {},
   "outputs": [
    {
     "name": "stdout",
     "output_type": "stream",
     "text": [
      "              precision    recall  f1-score   support\n",
      "\n",
      "           0       0.92      0.92      0.92      1220\n",
      "           1       0.58      0.58      0.58       233\n",
      "\n",
      "    accuracy                           0.87      1453\n",
      "   macro avg       0.75      0.75      0.75      1453\n",
      "weighted avg       0.87      0.87      0.87      1453\n",
      "\n"
     ]
    }
   ],
   "source": [
    "# Assuming you have your training data X_train and corresponding labels y_train\n",
    "\n",
    "# Instantiate the class\n",
    "rf_gs = RandomForestClassifierGridSearch(X_train, y_train)\n",
    "\n",
    "# Fit the classifier using GridSearchCV\n",
    "rf_gs.fit(param_grid)\n",
    "\n",
    "# Assuming you have your test data X_test and corresponding labels y_test\n",
    "\n",
    "# Evaluate the best model on the test data\n",
    "report = rf_gs.evaluate(X_test, y_test)\n",
    "print(report)"
   ]
  }
 ],
 "metadata": {
  "kernelspec": {
   "display_name": "base",
   "language": "python",
   "name": "python3"
  },
  "language_info": {
   "codemirror_mode": {
    "name": "ipython",
    "version": 3
   },
   "file_extension": ".py",
   "mimetype": "text/x-python",
   "name": "python",
   "nbconvert_exporter": "python",
   "pygments_lexer": "ipython3",
   "version": "3.9.7"
  },
  "orig_nbformat": 4
 },
 "nbformat": 4,
 "nbformat_minor": 2
}
