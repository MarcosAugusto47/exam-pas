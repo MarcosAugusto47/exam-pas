{
 "cells": [
  {
   "cell_type": "code",
   "execution_count": 1,
   "metadata": {},
   "outputs": [],
   "source": [
    "import pandas as pd\n",
    "import re\n",
    "\n",
    "from sklearn.model_selection import train_test_split, GridSearchCV\n",
    "from sklearn.ensemble import RandomForestClassifier\n",
    "from sklearn import metrics\n",
    "from sklearn.metrics import classification_report\n",
    "\n",
    "from RandomForestClassifierGridSearch import RandomForestClassifierGridSearch\n",
    "import pickle"
   ]
  },
  {
   "cell_type": "code",
   "execution_count": 2,
   "metadata": {},
   "outputs": [
    {
     "data": {
      "text/plain": [
       "(7263, 23)"
      ]
     },
     "execution_count": 2,
     "metadata": {},
     "output_type": "execute_result"
    }
   ],
   "source": [
    "scores = pd.read_parquet('../data/processed/scores.parquet')\n",
    "approvals = pd.read_parquet('../data/processed/approvals.parquet')\n",
    "scores.shape"
   ]
  },
  {
   "cell_type": "code",
   "execution_count": 3,
   "metadata": {},
   "outputs": [
    {
     "data": {
      "text/plain": [
       "['classificacao_final_cotas_negros',\n",
       " 'classificacao_final_publicas1',\n",
       " 'classificacao_final_publicas2',\n",
       " 'classificacao_final_publicas3',\n",
       " 'classificacao_final_publicas4',\n",
       " 'classificacao_final_publicas5',\n",
       " 'classificacao_final_publicas6',\n",
       " 'classificacao_final_publicas7',\n",
       " 'classificacao_final_publicas8']"
      ]
     },
     "execution_count": 3,
     "metadata": {},
     "output_type": "execute_result"
    }
   ],
   "source": [
    "cotas_columns = [col for col in scores.columns if 'classificacao' in col]\n",
    "cotas_columns.pop(0) # removing 'classificacao_final_universal'\n",
    "cotas_columns"
   ]
  },
  {
   "cell_type": "code",
   "execution_count": 4,
   "metadata": {},
   "outputs": [],
   "source": [
    "scores['cotista'] = scores[cotas_columns].notnull().any(axis=1).astype(int)"
   ]
  },
  {
   "cell_type": "code",
   "execution_count": 5,
   "metadata": {},
   "outputs": [],
   "source": [
    "for column in cotas_columns:\n",
    "    colum_name = re.sub(\"classificacao_final_\", \"\", f'{column}_flag')\n",
    "    scores[colum_name] = scores[column].notnull().astype(int)"
   ]
  },
  {
   "cell_type": "code",
   "execution_count": 6,
   "metadata": {},
   "outputs": [],
   "source": [
    "flags_columns = list(scores.columns[scores.columns.str.contains('flag')])"
   ]
  },
  {
   "cell_type": "code",
   "execution_count": 7,
   "metadata": {},
   "outputs": [
    {
     "data": {
      "text/plain": [
       "['cotas_negros_flag',\n",
       " 'publicas1_flag',\n",
       " 'publicas2_flag',\n",
       " 'publicas3_flag',\n",
       " 'publicas4_flag',\n",
       " 'publicas5_flag',\n",
       " 'publicas6_flag',\n",
       " 'publicas7_flag',\n",
       " 'publicas8_flag']"
      ]
     },
     "execution_count": 7,
     "metadata": {},
     "output_type": "execute_result"
    }
   ],
   "source": [
    "flags_columns"
   ]
  },
  {
   "cell_type": "code",
   "execution_count": 8,
   "metadata": {},
   "outputs": [],
   "source": [
    "df = pd.merge(scores, approvals, how='left', on='numero_inscricao', indicator=True)"
   ]
  },
  {
   "cell_type": "code",
   "execution_count": 9,
   "metadata": {},
   "outputs": [
    {
     "data": {
      "text/html": [
       "<div>\n",
       "<style scoped>\n",
       "    .dataframe tbody tr th:only-of-type {\n",
       "        vertical-align: middle;\n",
       "    }\n",
       "\n",
       "    .dataframe tbody tr th {\n",
       "        vertical-align: top;\n",
       "    }\n",
       "\n",
       "    .dataframe thead th {\n",
       "        text-align: right;\n",
       "    }\n",
       "</style>\n",
       "<table border=\"1\" class=\"dataframe\">\n",
       "  <thead>\n",
       "    <tr style=\"text-align: right;\">\n",
       "      <th></th>\n",
       "      <th>numero_inscricao</th>\n",
       "      <th>nome_x</th>\n",
       "      <th>nome_y</th>\n",
       "      <th>course</th>\n",
       "      <th>curso</th>\n",
       "    </tr>\n",
       "  </thead>\n",
       "  <tbody>\n",
       "    <tr>\n",
       "      <th>4</th>\n",
       "      <td>20188170</td>\n",
       "      <td>Ana Beatriz Cattermol Cavalcante</td>\n",
       "      <td>Ana Beatriz Cattermol Cavalcante</td>\n",
       "      <td>DIURNO ADMINISTRAÇÃO (BACHARELADO)</td>\n",
       "      <td>Administração (Bacharelado)</td>\n",
       "    </tr>\n",
       "    <tr>\n",
       "      <th>6</th>\n",
       "      <td>20183676</td>\n",
       "      <td>Ana Clara Marques da Silva</td>\n",
       "      <td>Ana Clara Marques da Silva</td>\n",
       "      <td>DIURNO ADMINISTRAÇÃO (BACHARELADO)</td>\n",
       "      <td>Administração (Bacharelado)</td>\n",
       "    </tr>\n",
       "    <tr>\n",
       "      <th>9</th>\n",
       "      <td>20170011</td>\n",
       "      <td>Ana Paula Nunes Bezerra</td>\n",
       "      <td>Ana Paula Nunes Bezerra</td>\n",
       "      <td>DIURNO ADMINISTRAÇÃO (BACHARELADO)</td>\n",
       "      <td>Administração (Bacharelado)</td>\n",
       "    </tr>\n",
       "    <tr>\n",
       "      <th>24</th>\n",
       "      <td>20184514</td>\n",
       "      <td>Bruno dos Santos Fernandes</td>\n",
       "      <td>Bruno dos Santos  Fernandes</td>\n",
       "      <td>DIURNO ADMINISTRAÇÃO (BACHARELADO)</td>\n",
       "      <td>Administração (Bacharelado)</td>\n",
       "    </tr>\n",
       "    <tr>\n",
       "      <th>29</th>\n",
       "      <td>20181503</td>\n",
       "      <td>Carina da Silva Ferreira</td>\n",
       "      <td>Carina da Silva Ferreira</td>\n",
       "      <td>DIURNO ADMINISTRAÇÃO (BACHARELADO)</td>\n",
       "      <td>Administração (Bacharelado)</td>\n",
       "    </tr>\n",
       "    <tr>\n",
       "      <th>...</th>\n",
       "      <td>...</td>\n",
       "      <td>...</td>\n",
       "      <td>...</td>\n",
       "      <td>...</td>\n",
       "      <td>...</td>\n",
       "    </tr>\n",
       "    <tr>\n",
       "      <th>7257</th>\n",
       "      <td>20176727</td>\n",
       "      <td>Maria Clara de Melo Pierre</td>\n",
       "      <td>Maria Clara de Melo Pierre</td>\n",
       "      <td>CAMPUS UNB PLANALTINA (FUP) – NOTURNO CIÊNCIAS...</td>\n",
       "      <td>Ciências Naturais (Licenciatura)</td>\n",
       "    </tr>\n",
       "    <tr>\n",
       "      <th>7258</th>\n",
       "      <td>21270449</td>\n",
       "      <td>Sarah de Oliveira Nascimento</td>\n",
       "      <td>Sarah de Oliveira Nascimento</td>\n",
       "      <td>CAMPUS UNB PLANALTINA (FUP) – NOTURNO CIÊNCIAS...</td>\n",
       "      <td>Ciências Naturais (Licenciatura)</td>\n",
       "    </tr>\n",
       "    <tr>\n",
       "      <th>7259</th>\n",
       "      <td>20102521</td>\n",
       "      <td>Eloisa Graziele Rodrigues de Ara ujo</td>\n",
       "      <td>Eloisa Graziele Rodrigues de Araujo</td>\n",
       "      <td>GESTÃO AMBIENTAL (BACHARELADO)</td>\n",
       "      <td>Gestão Ambiental (Bacharelado)</td>\n",
       "    </tr>\n",
       "    <tr>\n",
       "      <th>7260</th>\n",
       "      <td>20190553</td>\n",
       "      <td>Julia de Sousa Vale</td>\n",
       "      <td>Julia de Sousa Vale</td>\n",
       "      <td>GESTÃO AMBIENTAL (BACHARELADO)</td>\n",
       "      <td>Gestão Ambiental (Bacharelado)</td>\n",
       "    </tr>\n",
       "    <tr>\n",
       "      <th>7261</th>\n",
       "      <td>21208412</td>\n",
       "      <td>Manuella Stephanye Silva Magalhaes</td>\n",
       "      <td>Manuella Stephanye Silva Magalhaes</td>\n",
       "      <td>GESTÃO AMBIENTAL (BACHARELADO)</td>\n",
       "      <td>Gestão Ambiental (Bacharelado)</td>\n",
       "    </tr>\n",
       "  </tbody>\n",
       "</table>\n",
       "<p>1296 rows × 5 columns</p>\n",
       "</div>"
      ],
      "text/plain": [
       "     numero_inscricao                                nome_x  \\\n",
       "4            20188170      Ana Beatriz Cattermol Cavalcante   \n",
       "6            20183676            Ana Clara Marques da Silva   \n",
       "9            20170011               Ana Paula Nunes Bezerra   \n",
       "24           20184514            Bruno dos Santos Fernandes   \n",
       "29           20181503              Carina da Silva Ferreira   \n",
       "...               ...                                   ...   \n",
       "7257         20176727            Maria Clara de Melo Pierre   \n",
       "7258         21270449          Sarah de Oliveira Nascimento   \n",
       "7259         20102521  Eloisa Graziele Rodrigues de Ara ujo   \n",
       "7260         20190553                   Julia de Sousa Vale   \n",
       "7261         21208412    Manuella Stephanye Silva Magalhaes   \n",
       "\n",
       "                                     nome_y  \\\n",
       "4        Ana Beatriz Cattermol Cavalcante     \n",
       "6              Ana Clara Marques da Silva     \n",
       "9                 Ana Paula Nunes Bezerra     \n",
       "24            Bruno dos Santos  Fernandes     \n",
       "29               Carina da Silva Ferreira     \n",
       "...                                     ...   \n",
       "7257           Maria Clara de Melo Pierre     \n",
       "7258         Sarah de Oliveira Nascimento     \n",
       "7259  Eloisa Graziele Rodrigues de Araujo     \n",
       "7260                  Julia de Sousa Vale     \n",
       "7261   Manuella Stephanye Silva Magalhaes     \n",
       "\n",
       "                                                 course  \\\n",
       "4                    DIURNO ADMINISTRAÇÃO (BACHARELADO)   \n",
       "6                    DIURNO ADMINISTRAÇÃO (BACHARELADO)   \n",
       "9                    DIURNO ADMINISTRAÇÃO (BACHARELADO)   \n",
       "24                   DIURNO ADMINISTRAÇÃO (BACHARELADO)   \n",
       "29                   DIURNO ADMINISTRAÇÃO (BACHARELADO)   \n",
       "...                                                 ...   \n",
       "7257  CAMPUS UNB PLANALTINA (FUP) – NOTURNO CIÊNCIAS...   \n",
       "7258  CAMPUS UNB PLANALTINA (FUP) – NOTURNO CIÊNCIAS...   \n",
       "7259                     GESTÃO AMBIENTAL (BACHARELADO)   \n",
       "7260                     GESTÃO AMBIENTAL (BACHARELADO)   \n",
       "7261                     GESTÃO AMBIENTAL (BACHARELADO)   \n",
       "\n",
       "                                  curso  \n",
       "4          Administração (Bacharelado)   \n",
       "6          Administração (Bacharelado)   \n",
       "9          Administração (Bacharelado)   \n",
       "24         Administração (Bacharelado)   \n",
       "29         Administração (Bacharelado)   \n",
       "...                                 ...  \n",
       "7257  Ciências Naturais (Licenciatura)   \n",
       "7258  Ciências Naturais (Licenciatura)   \n",
       "7259    Gestão Ambiental (Bacharelado)   \n",
       "7260    Gestão Ambiental (Bacharelado)   \n",
       "7261    Gestão Ambiental (Bacharelado)   \n",
       "\n",
       "[1296 rows x 5 columns]"
      ]
     },
     "execution_count": 9,
     "metadata": {},
     "output_type": "execute_result"
    }
   ],
   "source": [
    "df[df.curso.notna()][['numero_inscricao', 'nome_x','nome_y', 'course', 'curso']]"
   ]
  },
  {
   "cell_type": "code",
   "execution_count": 10,
   "metadata": {},
   "outputs": [],
   "source": [
    "df['label'] = df._merge.apply(lambda x: 1 if x == 'both' else 0)"
   ]
  },
  {
   "cell_type": "code",
   "execution_count": 11,
   "metadata": {},
   "outputs": [],
   "source": [
    "FEATURES = ['escore_bruto_p1_etapa1',\n",
    "            'escore_bruto_p2_etapa1',\n",
    "            'nota_redacao_etapa1',\n",
    "            'escore_bruto_p1_etapa2',\n",
    "            'escore_bruto_p2_etapa2',\n",
    "            'nota_redacao_etapa2',\n",
    "            'escore_bruto_p1_etapa3',\n",
    "            'escore_bruto_p2_etapa3',\n",
    "            'nota_redacao_etapa3',\n",
    "            'argumento_final']"
   ]
  },
  {
   "cell_type": "code",
   "execution_count": 12,
   "metadata": {},
   "outputs": [],
   "source": [
    "def convert_string_to_float(df, colnames):\n",
    "    for colname in colnames:\n",
    "        df[colname] = df[colname].str.replace(' ', \"\", regex=True)\n",
    "        df[colname] = df[colname].str.replace('[R$]', \"\", regex=True)\n",
    "        df[colname] = df[colname].str.replace(',', \".\", regex=False)\n",
    "        df[colname] = df[colname].apply(float)\n",
    "    return df"
   ]
  },
  {
   "cell_type": "code",
   "execution_count": 13,
   "metadata": {},
   "outputs": [],
   "source": [
    "df = convert_string_to_float(df, FEATURES)"
   ]
  },
  {
   "cell_type": "code",
   "execution_count": 14,
   "metadata": {},
   "outputs": [],
   "source": [
    "course_dummies = pd.get_dummies(df.course)\n",
    "course_dummies_columns = list(course_dummies.columns)\n",
    "df = pd.concat([df, course_dummies], axis=1)"
   ]
  },
  {
   "cell_type": "code",
   "execution_count": 15,
   "metadata": {},
   "outputs": [],
   "source": [
    "FEATURES.extend(course_dummies_columns)"
   ]
  },
  {
   "cell_type": "code",
   "execution_count": 16,
   "metadata": {},
   "outputs": [
    {
     "data": {
      "text/plain": [
       "101"
      ]
     },
     "execution_count": 16,
     "metadata": {},
     "output_type": "execute_result"
    }
   ],
   "source": [
    "len(FEATURES)"
   ]
  },
  {
   "cell_type": "code",
   "execution_count": 17,
   "metadata": {},
   "outputs": [
    {
     "name": "stdout",
     "output_type": "stream",
     "text": [
      "<class 'pandas.core.frame.DataFrame'>\n",
      "Int64Index: 7263 entries, 0 to 7262\n",
      "Columns: 130 entries, numero_inscricao to TURISMO (BACHARELADO)\n",
      "dtypes: category(1), float64(12), int32(10), int64(1), object(15), uint8(91)\n",
      "memory usage: 2.5+ MB\n"
     ]
    }
   ],
   "source": [
    "df.info()"
   ]
  },
  {
   "attachments": {},
   "cell_type": "markdown",
   "metadata": {},
   "source": [
    "## Baseline Model"
   ]
  },
  {
   "cell_type": "code",
   "execution_count": 18,
   "metadata": {},
   "outputs": [],
   "source": [
    "X = df[FEATURES] # features\n",
    "y = df['label'] # labels\n",
    "X_train, X_test, y_train, y_test = train_test_split(X, y, test_size=0.20, random_state=47) # 70% training and 30% test"
   ]
  },
  {
   "cell_type": "code",
   "execution_count": 19,
   "metadata": {},
   "outputs": [
    {
     "name": "stdout",
     "output_type": "stream",
     "text": [
      "Accuracy: 0.848589125946318\n"
     ]
    },
    {
     "data": {
      "text/plain": [
       "{'0': {'precision': 0.8591954022988506,\n",
       "  'recall': 0.980327868852459,\n",
       "  'f1-score': 0.9157733537519143,\n",
       "  'support': 1220},\n",
       " '1': {'precision': 0.6065573770491803,\n",
       "  'recall': 0.15879828326180256,\n",
       "  'f1-score': 0.25170068027210885,\n",
       "  'support': 233},\n",
       " 'accuracy': 0.848589125946318,\n",
       " 'macro avg': {'precision': 0.7328763896740155,\n",
       "  'recall': 0.5695630760571309,\n",
       "  'f1-score': 0.5837370170120115,\n",
       "  'support': 1453},\n",
       " 'weighted avg': {'precision': 0.8186829040998326,\n",
       "  'recall': 0.848589125946318,\n",
       "  'f1-score': 0.8092840675022277,\n",
       "  'support': 1453}}"
      ]
     },
     "execution_count": 19,
     "metadata": {},
     "output_type": "execute_result"
    }
   ],
   "source": [
    "# Create a Random Forest Classifier\n",
    "model = RandomForestClassifier(random_state=47)\n",
    "\n",
    "# Fit randomized search\n",
    "model = model.fit(X_train, y_train)\n",
    "\n",
    "y_pred = model.predict(X_test)\n",
    "# Model Accuracy, how often is the classifier correct?\n",
    "print('Accuracy:', metrics.accuracy_score(y_test, y_pred))\n",
    "classification_report(y_test, y_pred, output_dict=True)"
   ]
  },
  {
   "attachments": {},
   "cell_type": "markdown",
   "metadata": {},
   "source": [
    "## Baseline Model + cotista"
   ]
  },
  {
   "cell_type": "code",
   "execution_count": 20,
   "metadata": {},
   "outputs": [],
   "source": [
    "FEATURES.append('cotista')"
   ]
  },
  {
   "cell_type": "code",
   "execution_count": 21,
   "metadata": {},
   "outputs": [
    {
     "data": {
      "text/plain": [
       "102"
      ]
     },
     "execution_count": 21,
     "metadata": {},
     "output_type": "execute_result"
    }
   ],
   "source": [
    "len(FEATURES)"
   ]
  },
  {
   "cell_type": "code",
   "execution_count": 22,
   "metadata": {},
   "outputs": [],
   "source": [
    "X = df[FEATURES] # features\n",
    "y = df['label'] # labels\n",
    "X_train, X_test, y_train, y_test = train_test_split(X, y, test_size=0.20, random_state=47) # 70% training and 30% test"
   ]
  },
  {
   "cell_type": "code",
   "execution_count": 23,
   "metadata": {},
   "outputs": [
    {
     "name": "stdout",
     "output_type": "stream",
     "text": [
      "Accuracy: 0.8623537508602891\n"
     ]
    },
    {
     "data": {
      "text/plain": [
       "{'0': {'precision': 0.8701015965166908,\n",
       "  'recall': 0.9827868852459016,\n",
       "  'f1-score': 0.9230177059276367,\n",
       "  'support': 1220},\n",
       " '1': {'precision': 0.72,\n",
       "  'recall': 0.2317596566523605,\n",
       "  'f1-score': 0.35064935064935066,\n",
       "  'support': 233},\n",
       " 'accuracy': 0.8623537508602891,\n",
       " 'macro avg': {'precision': 0.7950507982583455,\n",
       "  'recall': 0.6072732709491311,\n",
       "  'f1-score': 0.6368335282884936,\n",
       "  'support': 1453},\n",
       " 'weighted avg': {'precision': 0.8460316226774692,\n",
       "  'recall': 0.8623537508602891,\n",
       "  'f1-score': 0.8312339297543121,\n",
       "  'support': 1453}}"
      ]
     },
     "execution_count": 23,
     "metadata": {},
     "output_type": "execute_result"
    }
   ],
   "source": [
    "# Create a Random Forest Classifier\n",
    "model = RandomForestClassifier(random_state=47)\n",
    "\n",
    "# Fit randomized search\n",
    "model = model.fit(X_train, y_train)\n",
    "\n",
    "y_pred = model.predict(X_test)\n",
    "# Model Accuracy, how often is the classifier correct?\n",
    "print('Accuracy:', metrics.accuracy_score(y_test, y_pred))\n",
    "classification_report(y_test, y_pred, output_dict=True)"
   ]
  },
  {
   "attachments": {},
   "cell_type": "markdown",
   "metadata": {},
   "source": [
    "## Baseline Model + Flags"
   ]
  },
  {
   "cell_type": "code",
   "execution_count": 24,
   "metadata": {},
   "outputs": [
    {
     "data": {
      "text/plain": [
       "111"
      ]
     },
     "execution_count": 24,
     "metadata": {},
     "output_type": "execute_result"
    }
   ],
   "source": [
    "FEATURES.extend(flags_columns)\n",
    "len(FEATURES)"
   ]
  },
  {
   "cell_type": "code",
   "execution_count": 57,
   "metadata": {},
   "outputs": [],
   "source": [
    "X = df[FEATURES] # features\n",
    "y = df['label'] # labelss\n",
    "X_train, X_test, y_train, y_test = train_test_split(X, y, test_size=0.20, random_state=47) # 70% training and 30% test"
   ]
  },
  {
   "cell_type": "code",
   "execution_count": 26,
   "metadata": {},
   "outputs": [
    {
     "data": {
      "text/plain": [
       "{'0': {'precision': 0.8709912536443148,\n",
       "  'recall': 0.9851607584501236,\n",
       "  'f1-score': 0.9245647969052223,\n",
       "  'support': 1213},\n",
       " '1': {'precision': 0.797752808988764,\n",
       "  'recall': 0.2862903225806452,\n",
       "  'f1-score': 0.42136498516320475,\n",
       "  'support': 248},\n",
       " 'accuracy': 0.86652977412731,\n",
       " 'macro avg': {'precision': 0.8343720313165395,\n",
       "  'recall': 0.6357255405153844,\n",
       "  'f1-score': 0.6729648910342135,\n",
       "  'support': 1461},\n",
       " 'weighted avg': {'precision': 0.8585592657767059,\n",
       "  'recall': 0.86652977412731,\n",
       "  'f1-score': 0.8391482648641406,\n",
       "  'support': 1461}}"
      ]
     },
     "execution_count": 26,
     "metadata": {},
     "output_type": "execute_result"
    }
   ],
   "source": [
    "# Create a Random Forest Classifier\n",
    "model = RandomForestClassifier(random_state=47)\n",
    "\n",
    "# Fit randomized search\n",
    "model = model.fit(X_train, y_train)\n",
    "\n",
    "y_pred = model.predict(X_test)\n",
    "classification_report(y_test, y_pred, output_dict=True)"
   ]
  },
  {
   "attachments": {},
   "cell_type": "markdown",
   "metadata": {},
   "source": [
    "## Hyperparameter tuning + class_weight"
   ]
  },
  {
   "cell_type": "code",
   "execution_count": 27,
   "metadata": {},
   "outputs": [],
   "source": [
    "param_grid = {\n",
    "    'n_estimators': [100, 200, 300, 500],      # Number of trees in the forest\n",
    "    'max_depth': [5, 10, 20, 40, 60],            # Maximum depth of each tree\n",
    "    'min_samples_split': [5, 10, 20, 40, 60],       # Minimum number of samples required to split an internal node\n",
    "    'min_samples_leaf': [2, 8, 16, 32]          # Minimum number of samples required to be at a leaf node\n",
    "}"
   ]
  },
  {
   "cell_type": "code",
   "execution_count": 30,
   "metadata": {},
   "outputs": [
    {
     "ename": "KeyboardInterrupt",
     "evalue": "",
     "output_type": "error",
     "traceback": [
      "\u001b[1;31m---------------------------------------------------------------------------\u001b[0m",
      "\u001b[1;31mKeyboardInterrupt\u001b[0m                         Traceback (most recent call last)",
      "\u001b[1;32mC:\\Users\\MARCOS~1\\AppData\\Local\\Temp/ipykernel_12800/473772764.py\u001b[0m in \u001b[0;36m<module>\u001b[1;34m\u001b[0m\n\u001b[0;32m      5\u001b[0m \u001b[1;33m\u001b[0m\u001b[0m\n\u001b[0;32m      6\u001b[0m \u001b[1;31m# Fit the classifier using GridSearchCV\u001b[0m\u001b[1;33m\u001b[0m\u001b[1;33m\u001b[0m\u001b[0m\n\u001b[1;32m----> 7\u001b[1;33m \u001b[0mrf_gs\u001b[0m\u001b[1;33m.\u001b[0m\u001b[0mfit\u001b[0m\u001b[1;33m(\u001b[0m\u001b[0mparam_grid\u001b[0m\u001b[1;33m)\u001b[0m\u001b[1;33m\u001b[0m\u001b[1;33m\u001b[0m\u001b[0m\n\u001b[0m\u001b[0;32m      8\u001b[0m \u001b[1;33m\u001b[0m\u001b[0m\n\u001b[0;32m      9\u001b[0m \u001b[1;31m# Assuming you have your test data X_test and corresponding labels y_test\u001b[0m\u001b[1;33m\u001b[0m\u001b[1;33m\u001b[0m\u001b[0m\n",
      "\u001b[1;32mc:\\Users\\Marcos Augusto\\Desktop\\Statistics\\Projects\\exam-pas\\notebooks\\RandomForestClassifierGridSearch.py\u001b[0m in \u001b[0;36mfit\u001b[1;34m(self, param_grid)\u001b[0m\n\u001b[0;32m     24\u001b[0m             \u001b[0mn_jobs\u001b[0m\u001b[1;33m=\u001b[0m\u001b[1;33m-\u001b[0m\u001b[1;36m1\u001b[0m\u001b[1;33m\u001b[0m\u001b[1;33m\u001b[0m\u001b[0m\n\u001b[0;32m     25\u001b[0m         )\n\u001b[1;32m---> 26\u001b[1;33m         \u001b[0mself\u001b[0m\u001b[1;33m.\u001b[0m\u001b[0mgrid_search\u001b[0m\u001b[1;33m.\u001b[0m\u001b[0mfit\u001b[0m\u001b[1;33m(\u001b[0m\u001b[0mself\u001b[0m\u001b[1;33m.\u001b[0m\u001b[0mX\u001b[0m\u001b[1;33m,\u001b[0m \u001b[0mself\u001b[0m\u001b[1;33m.\u001b[0m\u001b[0my\u001b[0m\u001b[1;33m)\u001b[0m\u001b[1;33m\u001b[0m\u001b[1;33m\u001b[0m\u001b[0m\n\u001b[0m\u001b[0;32m     27\u001b[0m         \u001b[0mself\u001b[0m\u001b[1;33m.\u001b[0m\u001b[0mbest_params\u001b[0m \u001b[1;33m=\u001b[0m \u001b[0mself\u001b[0m\u001b[1;33m.\u001b[0m\u001b[0mgrid_search\u001b[0m\u001b[1;33m.\u001b[0m\u001b[0mbest_params_\u001b[0m\u001b[1;33m\u001b[0m\u001b[1;33m\u001b[0m\u001b[0m\n\u001b[0;32m     28\u001b[0m         \u001b[0mself\u001b[0m\u001b[1;33m.\u001b[0m\u001b[0mbest_model\u001b[0m \u001b[1;33m=\u001b[0m \u001b[0mself\u001b[0m\u001b[1;33m.\u001b[0m\u001b[0mgrid_search\u001b[0m\u001b[1;33m.\u001b[0m\u001b[0mbest_estimator_\u001b[0m\u001b[1;33m\u001b[0m\u001b[1;33m\u001b[0m\u001b[0m\n",
      "\u001b[1;32mc:\\Anaconda\\lib\\site-packages\\sklearn\\model_selection\\_search.py\u001b[0m in \u001b[0;36mfit\u001b[1;34m(self, X, y, groups, **fit_params)\u001b[0m\n\u001b[0;32m    873\u001b[0m                 \u001b[1;32mreturn\u001b[0m \u001b[0mresults\u001b[0m\u001b[1;33m\u001b[0m\u001b[1;33m\u001b[0m\u001b[0m\n\u001b[0;32m    874\u001b[0m \u001b[1;33m\u001b[0m\u001b[0m\n\u001b[1;32m--> 875\u001b[1;33m             \u001b[0mself\u001b[0m\u001b[1;33m.\u001b[0m\u001b[0m_run_search\u001b[0m\u001b[1;33m(\u001b[0m\u001b[0mevaluate_candidates\u001b[0m\u001b[1;33m)\u001b[0m\u001b[1;33m\u001b[0m\u001b[1;33m\u001b[0m\u001b[0m\n\u001b[0m\u001b[0;32m    876\u001b[0m \u001b[1;33m\u001b[0m\u001b[0m\n\u001b[0;32m    877\u001b[0m             \u001b[1;31m# multimetric is determined here because in the case of a callable\u001b[0m\u001b[1;33m\u001b[0m\u001b[1;33m\u001b[0m\u001b[0m\n",
      "\u001b[1;32mc:\\Anaconda\\lib\\site-packages\\sklearn\\model_selection\\_search.py\u001b[0m in \u001b[0;36m_run_search\u001b[1;34m(self, evaluate_candidates)\u001b[0m\n\u001b[0;32m   1377\u001b[0m     \u001b[1;32mdef\u001b[0m \u001b[0m_run_search\u001b[0m\u001b[1;33m(\u001b[0m\u001b[0mself\u001b[0m\u001b[1;33m,\u001b[0m \u001b[0mevaluate_candidates\u001b[0m\u001b[1;33m)\u001b[0m\u001b[1;33m:\u001b[0m\u001b[1;33m\u001b[0m\u001b[1;33m\u001b[0m\u001b[0m\n\u001b[0;32m   1378\u001b[0m         \u001b[1;34m\"\"\"Search all candidates in param_grid\"\"\"\u001b[0m\u001b[1;33m\u001b[0m\u001b[1;33m\u001b[0m\u001b[0m\n\u001b[1;32m-> 1379\u001b[1;33m         \u001b[0mevaluate_candidates\u001b[0m\u001b[1;33m(\u001b[0m\u001b[0mParameterGrid\u001b[0m\u001b[1;33m(\u001b[0m\u001b[0mself\u001b[0m\u001b[1;33m.\u001b[0m\u001b[0mparam_grid\u001b[0m\u001b[1;33m)\u001b[0m\u001b[1;33m)\u001b[0m\u001b[1;33m\u001b[0m\u001b[1;33m\u001b[0m\u001b[0m\n\u001b[0m\u001b[0;32m   1380\u001b[0m \u001b[1;33m\u001b[0m\u001b[0m\n\u001b[0;32m   1381\u001b[0m \u001b[1;33m\u001b[0m\u001b[0m\n",
      "\u001b[1;32mc:\\Anaconda\\lib\\site-packages\\sklearn\\model_selection\\_search.py\u001b[0m in \u001b[0;36mevaluate_candidates\u001b[1;34m(candidate_params, cv, more_results)\u001b[0m\n\u001b[0;32m    820\u001b[0m                     )\n\u001b[0;32m    821\u001b[0m \u001b[1;33m\u001b[0m\u001b[0m\n\u001b[1;32m--> 822\u001b[1;33m                 out = parallel(\n\u001b[0m\u001b[0;32m    823\u001b[0m                     delayed(_fit_and_score)(\n\u001b[0;32m    824\u001b[0m                         \u001b[0mclone\u001b[0m\u001b[1;33m(\u001b[0m\u001b[0mbase_estimator\u001b[0m\u001b[1;33m)\u001b[0m\u001b[1;33m,\u001b[0m\u001b[1;33m\u001b[0m\u001b[1;33m\u001b[0m\u001b[0m\n",
      "\u001b[1;32mc:\\Anaconda\\lib\\site-packages\\joblib\\parallel.py\u001b[0m in \u001b[0;36m__call__\u001b[1;34m(self, iterable)\u001b[0m\n\u001b[0;32m   1054\u001b[0m \u001b[1;33m\u001b[0m\u001b[0m\n\u001b[0;32m   1055\u001b[0m             \u001b[1;32mwith\u001b[0m \u001b[0mself\u001b[0m\u001b[1;33m.\u001b[0m\u001b[0m_backend\u001b[0m\u001b[1;33m.\u001b[0m\u001b[0mretrieval_context\u001b[0m\u001b[1;33m(\u001b[0m\u001b[1;33m)\u001b[0m\u001b[1;33m:\u001b[0m\u001b[1;33m\u001b[0m\u001b[1;33m\u001b[0m\u001b[0m\n\u001b[1;32m-> 1056\u001b[1;33m                 \u001b[0mself\u001b[0m\u001b[1;33m.\u001b[0m\u001b[0mretrieve\u001b[0m\u001b[1;33m(\u001b[0m\u001b[1;33m)\u001b[0m\u001b[1;33m\u001b[0m\u001b[1;33m\u001b[0m\u001b[0m\n\u001b[0m\u001b[0;32m   1057\u001b[0m             \u001b[1;31m# Make sure that we get a last message telling us we are done\u001b[0m\u001b[1;33m\u001b[0m\u001b[1;33m\u001b[0m\u001b[0m\n\u001b[0;32m   1058\u001b[0m             \u001b[0melapsed_time\u001b[0m \u001b[1;33m=\u001b[0m \u001b[0mtime\u001b[0m\u001b[1;33m.\u001b[0m\u001b[0mtime\u001b[0m\u001b[1;33m(\u001b[0m\u001b[1;33m)\u001b[0m \u001b[1;33m-\u001b[0m \u001b[0mself\u001b[0m\u001b[1;33m.\u001b[0m\u001b[0m_start_time\u001b[0m\u001b[1;33m\u001b[0m\u001b[1;33m\u001b[0m\u001b[0m\n",
      "\u001b[1;32mc:\\Anaconda\\lib\\site-packages\\joblib\\parallel.py\u001b[0m in \u001b[0;36mretrieve\u001b[1;34m(self)\u001b[0m\n\u001b[0;32m    933\u001b[0m             \u001b[1;32mtry\u001b[0m\u001b[1;33m:\u001b[0m\u001b[1;33m\u001b[0m\u001b[1;33m\u001b[0m\u001b[0m\n\u001b[0;32m    934\u001b[0m                 \u001b[1;32mif\u001b[0m \u001b[0mgetattr\u001b[0m\u001b[1;33m(\u001b[0m\u001b[0mself\u001b[0m\u001b[1;33m.\u001b[0m\u001b[0m_backend\u001b[0m\u001b[1;33m,\u001b[0m \u001b[1;34m'supports_timeout'\u001b[0m\u001b[1;33m,\u001b[0m \u001b[1;32mFalse\u001b[0m\u001b[1;33m)\u001b[0m\u001b[1;33m:\u001b[0m\u001b[1;33m\u001b[0m\u001b[1;33m\u001b[0m\u001b[0m\n\u001b[1;32m--> 935\u001b[1;33m                     \u001b[0mself\u001b[0m\u001b[1;33m.\u001b[0m\u001b[0m_output\u001b[0m\u001b[1;33m.\u001b[0m\u001b[0mextend\u001b[0m\u001b[1;33m(\u001b[0m\u001b[0mjob\u001b[0m\u001b[1;33m.\u001b[0m\u001b[0mget\u001b[0m\u001b[1;33m(\u001b[0m\u001b[0mtimeout\u001b[0m\u001b[1;33m=\u001b[0m\u001b[0mself\u001b[0m\u001b[1;33m.\u001b[0m\u001b[0mtimeout\u001b[0m\u001b[1;33m)\u001b[0m\u001b[1;33m)\u001b[0m\u001b[1;33m\u001b[0m\u001b[1;33m\u001b[0m\u001b[0m\n\u001b[0m\u001b[0;32m    936\u001b[0m                 \u001b[1;32melse\u001b[0m\u001b[1;33m:\u001b[0m\u001b[1;33m\u001b[0m\u001b[1;33m\u001b[0m\u001b[0m\n\u001b[0;32m    937\u001b[0m                     \u001b[0mself\u001b[0m\u001b[1;33m.\u001b[0m\u001b[0m_output\u001b[0m\u001b[1;33m.\u001b[0m\u001b[0mextend\u001b[0m\u001b[1;33m(\u001b[0m\u001b[0mjob\u001b[0m\u001b[1;33m.\u001b[0m\u001b[0mget\u001b[0m\u001b[1;33m(\u001b[0m\u001b[1;33m)\u001b[0m\u001b[1;33m)\u001b[0m\u001b[1;33m\u001b[0m\u001b[1;33m\u001b[0m\u001b[0m\n",
      "\u001b[1;32mc:\\Anaconda\\lib\\site-packages\\joblib\\_parallel_backends.py\u001b[0m in \u001b[0;36mwrap_future_result\u001b[1;34m(future, timeout)\u001b[0m\n\u001b[0;32m    540\u001b[0m         AsyncResults.get from multiprocessing.\"\"\"\n\u001b[0;32m    541\u001b[0m         \u001b[1;32mtry\u001b[0m\u001b[1;33m:\u001b[0m\u001b[1;33m\u001b[0m\u001b[1;33m\u001b[0m\u001b[0m\n\u001b[1;32m--> 542\u001b[1;33m             \u001b[1;32mreturn\u001b[0m \u001b[0mfuture\u001b[0m\u001b[1;33m.\u001b[0m\u001b[0mresult\u001b[0m\u001b[1;33m(\u001b[0m\u001b[0mtimeout\u001b[0m\u001b[1;33m=\u001b[0m\u001b[0mtimeout\u001b[0m\u001b[1;33m)\u001b[0m\u001b[1;33m\u001b[0m\u001b[1;33m\u001b[0m\u001b[0m\n\u001b[0m\u001b[0;32m    543\u001b[0m         \u001b[1;32mexcept\u001b[0m \u001b[0mCfTimeoutError\u001b[0m \u001b[1;32mas\u001b[0m \u001b[0me\u001b[0m\u001b[1;33m:\u001b[0m\u001b[1;33m\u001b[0m\u001b[1;33m\u001b[0m\u001b[0m\n\u001b[0;32m    544\u001b[0m             \u001b[1;32mraise\u001b[0m \u001b[0mTimeoutError\u001b[0m \u001b[1;32mfrom\u001b[0m \u001b[0me\u001b[0m\u001b[1;33m\u001b[0m\u001b[1;33m\u001b[0m\u001b[0m\n",
      "\u001b[1;32mc:\\Anaconda\\lib\\concurrent\\futures\\_base.py\u001b[0m in \u001b[0;36mresult\u001b[1;34m(self, timeout)\u001b[0m\n\u001b[0;32m    438\u001b[0m                     \u001b[1;32mreturn\u001b[0m \u001b[0mself\u001b[0m\u001b[1;33m.\u001b[0m\u001b[0m__get_result\u001b[0m\u001b[1;33m(\u001b[0m\u001b[1;33m)\u001b[0m\u001b[1;33m\u001b[0m\u001b[1;33m\u001b[0m\u001b[0m\n\u001b[0;32m    439\u001b[0m \u001b[1;33m\u001b[0m\u001b[0m\n\u001b[1;32m--> 440\u001b[1;33m                 \u001b[0mself\u001b[0m\u001b[1;33m.\u001b[0m\u001b[0m_condition\u001b[0m\u001b[1;33m.\u001b[0m\u001b[0mwait\u001b[0m\u001b[1;33m(\u001b[0m\u001b[0mtimeout\u001b[0m\u001b[1;33m)\u001b[0m\u001b[1;33m\u001b[0m\u001b[1;33m\u001b[0m\u001b[0m\n\u001b[0m\u001b[0;32m    441\u001b[0m \u001b[1;33m\u001b[0m\u001b[0m\n\u001b[0;32m    442\u001b[0m                 \u001b[1;32mif\u001b[0m \u001b[0mself\u001b[0m\u001b[1;33m.\u001b[0m\u001b[0m_state\u001b[0m \u001b[1;32min\u001b[0m \u001b[1;33m[\u001b[0m\u001b[0mCANCELLED\u001b[0m\u001b[1;33m,\u001b[0m \u001b[0mCANCELLED_AND_NOTIFIED\u001b[0m\u001b[1;33m]\u001b[0m\u001b[1;33m:\u001b[0m\u001b[1;33m\u001b[0m\u001b[1;33m\u001b[0m\u001b[0m\n",
      "\u001b[1;32mc:\\Anaconda\\lib\\threading.py\u001b[0m in \u001b[0;36mwait\u001b[1;34m(self, timeout)\u001b[0m\n\u001b[0;32m    310\u001b[0m         \u001b[1;32mtry\u001b[0m\u001b[1;33m:\u001b[0m    \u001b[1;31m# restore state no matter what (e.g., KeyboardInterrupt)\u001b[0m\u001b[1;33m\u001b[0m\u001b[1;33m\u001b[0m\u001b[0m\n\u001b[0;32m    311\u001b[0m             \u001b[1;32mif\u001b[0m \u001b[0mtimeout\u001b[0m \u001b[1;32mis\u001b[0m \u001b[1;32mNone\u001b[0m\u001b[1;33m:\u001b[0m\u001b[1;33m\u001b[0m\u001b[1;33m\u001b[0m\u001b[0m\n\u001b[1;32m--> 312\u001b[1;33m                 \u001b[0mwaiter\u001b[0m\u001b[1;33m.\u001b[0m\u001b[0macquire\u001b[0m\u001b[1;33m(\u001b[0m\u001b[1;33m)\u001b[0m\u001b[1;33m\u001b[0m\u001b[1;33m\u001b[0m\u001b[0m\n\u001b[0m\u001b[0;32m    313\u001b[0m                 \u001b[0mgotit\u001b[0m \u001b[1;33m=\u001b[0m \u001b[1;32mTrue\u001b[0m\u001b[1;33m\u001b[0m\u001b[1;33m\u001b[0m\u001b[0m\n\u001b[0;32m    314\u001b[0m             \u001b[1;32melse\u001b[0m\u001b[1;33m:\u001b[0m\u001b[1;33m\u001b[0m\u001b[1;33m\u001b[0m\u001b[0m\n",
      "\u001b[1;31mKeyboardInterrupt\u001b[0m: "
     ]
    }
   ],
   "source": [
    "# Assuming you have your training data X_train and corresponding labels y_train\n",
    "\n",
    "# Instantiate the class\n",
    "rf_gs = RandomForestClassifierGridSearch(X_train, y_train)\n",
    "\n",
    "# Fit the classifier using GridSearchCV\n",
    "rf_gs.fit(param_grid)\n",
    "\n",
    "# Assuming you have your test data X_test and corresponding labels y_test\n",
    "\n",
    "# Evaluate the best model on the test data\n",
    "report = rf_gs.evaluate(X_test, y_test)\n",
    "print(\"Classification Report:\")\n",
    "print(report)"
   ]
  },
  {
   "cell_type": "code",
   "execution_count": null,
   "metadata": {},
   "outputs": [],
   "source": [
    "with open('model_flags_tuned.pickle','wb') as f:\n",
    "    pickle.dump(model, f)"
   ]
  },
  {
   "cell_type": "code",
   "execution_count": null,
   "metadata": {},
   "outputs": [],
   "source": [
    "#with open('model_flags_tuned.pickle','wb') as f:\n",
    "#  pickle.dump(model, f)"
   ]
  },
  {
   "attachments": {},
   "cell_type": "markdown",
   "metadata": {},
   "source": [
    "## Stratified KFold + Hyperameter tuning + Flags"
   ]
  },
  {
   "cell_type": "code",
   "execution_count": 25,
   "metadata": {},
   "outputs": [
    {
     "name": "stdout",
     "output_type": "stream",
     "text": [
      "110\n"
     ]
    }
   ],
   "source": [
    "FEATURES.remove('argumento_final')\n",
    "print(len(FEATURES))\n",
    "\n",
    "X = df[FEATURES] # features\n",
    "y = df['label'] # labels\n",
    "X_train, X_test, y_train, y_test = train_test_split(X, y, test_size=0.20, random_state=47) # 70% training and 30% test"
   ]
  },
  {
   "cell_type": "code",
   "execution_count": 32,
   "metadata": {},
   "outputs": [],
   "source": [
    "# # Define the parameter grid for GridSearchCV\n",
    "param_grid = {\n",
    "    'n_estimators': [100, 200, 300],      # Number of trees in the forest\n",
    "    'max_depth': [5, 10, 20, 40, 80],            # Maximum depth of each tree\n",
    "    'min_samples_split': [5, 10, 20, 50],       # Minimum number of samples required to split an internal node\n",
    "    'min_samples_leaf': [2, 8, 16, 32],          # Minimum number of samples required to be at a leaf node\n",
    "}"
   ]
  },
  {
   "cell_type": "code",
   "execution_count": 37,
   "metadata": {},
   "outputs": [
    {
     "data": {
      "text/plain": [
       "(5810, 110)"
      ]
     },
     "execution_count": 37,
     "metadata": {},
     "output_type": "execute_result"
    }
   ],
   "source": [
    "X_train.shape"
   ]
  },
  {
   "cell_type": "code",
   "execution_count": 38,
   "metadata": {},
   "outputs": [
    {
     "name": "stdout",
     "output_type": "stream",
     "text": [
      "              precision    recall  f1-score   support\n",
      "\n",
      "           0       0.93      0.91      0.92      1220\n",
      "           1       0.57      0.64      0.60       233\n",
      "\n",
      "    accuracy                           0.86      1453\n",
      "   macro avg       0.75      0.77      0.76      1453\n",
      "weighted avg       0.87      0.86      0.87      1453\n",
      "\n"
     ]
    }
   ],
   "source": [
    "# Assuming you have your training data X_train and corresponding labels y_train\n",
    "\n",
    "# Instantiate the class\n",
    "rf_gs = RandomForestClassifierGridSearch(X_train, y_train)\n",
    "\n",
    "# Fit the classifier using GridSearchCV\n",
    "rf_gs.fit(param_grid)\n",
    "\n",
    "# Assuming you have your test data X_test and corresponding labels y_test\n",
    "\n",
    "# Evaluate the best model on the test data\n",
    "report = rf_gs.evaluate(X_test, y_test)\n",
    "print(report)"
   ]
  },
  {
   "cell_type": "code",
   "execution_count": 39,
   "metadata": {},
   "outputs": [],
   "source": [
    "rf_gs.save_model('stratified_kfold_classweight15_tuned_model_spelling')"
   ]
  },
  {
   "cell_type": "code",
   "execution_count": 27,
   "metadata": {},
   "outputs": [],
   "source": [
    "with open('../ml_dev/models/stratified_kfold_classweight15_tuned_model_spelling.pickle', 'rb') as f:\n",
    "  model_loaded = pickle.load(f)"
   ]
  },
  {
   "cell_type": "code",
   "execution_count": 28,
   "metadata": {},
   "outputs": [
    {
     "data": {
      "text/plain": [
       "{'0': {'precision': 0.9286912751677853,\n",
       "  'recall': 0.9073770491803279,\n",
       "  'f1-score': 0.9179104477611939,\n",
       "  'support': 1220},\n",
       " '1': {'precision': 0.5670498084291188,\n",
       "  'recall': 0.6351931330472103,\n",
       "  'f1-score': 0.5991902834008097,\n",
       "  'support': 233},\n",
       " 'accuracy': 0.8637302133516862,\n",
       " 'macro avg': {'precision': 0.747870541798452,\n",
       "  'recall': 0.7712850911137691,\n",
       "  'f1-score': 0.7585503655810018,\n",
       "  'support': 1453},\n",
       " 'weighted avg': {'precision': 0.8706992161518806,\n",
       "  'recall': 0.8637302133516862,\n",
       "  'f1-score': 0.8668011578121441,\n",
       "  'support': 1453}}"
      ]
     },
     "execution_count": 28,
     "metadata": {},
     "output_type": "execute_result"
    }
   ],
   "source": [
    "y_pred = model_loaded.predict(X_test)\n",
    "classification_report(y_test, y_pred, output_dict=True)"
   ]
  },
  {
   "cell_type": "code",
   "execution_count": 74,
   "metadata": {},
   "outputs": [],
   "source": [
    "def predict_approval(model, new_data):\n",
    "    \n",
    "    # Predict diabetes\n",
    "    predictions = model.predict_proba(new_data)\n",
    "    approval_prob = round(predictions[0][1], ndigits=3)\n",
    "\n",
    "    #pred_to_label = {0: 'Negative', 1: 'Positive'}\n",
    "\n",
    "    # Make a list of predictions\n",
    "    #data = []\n",
    "    #for t, pred in zip(new_data, predictions):\n",
    "    #    data.append({'prediction': pred[0]})\n",
    "\n",
    "    return approval_prob"
   ]
  },
  {
   "cell_type": "code",
   "execution_count": 63,
   "metadata": {},
   "outputs": [
    {
     "data": {
      "text/plain": [
       "['escore_bruto_p1_etapa1',\n",
       " 'escore_bruto_p2_etapa1',\n",
       " 'nota_redacao_etapa1',\n",
       " 'escore_bruto_p1_etapa2',\n",
       " 'escore_bruto_p2_etapa2',\n",
       " 'nota_redacao_etapa2',\n",
       " 'escore_bruto_p1_etapa3',\n",
       " 'escore_bruto_p2_etapa3',\n",
       " 'nota_redacao_etapa3',\n",
       " 'AGRONOMIA (BACHARELADO)',\n",
       " 'ARQUITETURA E URBANISMO (BACHARELADO)',\n",
       " 'ARQUIVOLOGIA (BACHARELADO)',\n",
       " 'ARTES CÊNICAS - INTERPRETAÇÃO TEATRAL (BACHARELADO)',\n",
       " 'ARTES VISUAIS (BACHARELADO)',\n",
       " 'ARTES VISUAIS (LICENCIATURA)',\n",
       " 'BIBLIOTECONOMIA (BACHARELADO)',\n",
       " 'BIOTECNOLOGIA (BACHARELADO)',\n",
       " 'CAMPUS UNB CEILÂNDIA (FCE) ENFERMAGEM (BACHARELADO)',\n",
       " 'CAMPUS UNB PLANALTINA (FUP) – DIURNO CIÊNCIAS NATURAIS (LICENCIATURA)',\n",
       " 'CAMPUS UNB PLANALTINA (FUP) – NOTURNO CIÊNCIAS NATURAIS (LICENCIATURA)',\n",
       " 'CIÊNCIA DA COMPUTAÇÃO (BACHARELADO)',\n",
       " 'CIÊNCIA POLÍTICA (BACHARELADO)',\n",
       " 'CIÊNCIAS AMBIENTAIS (BACHARELADO)',\n",
       " 'CIÊNCIAS BIOLÓGICAS (BACHARELADO)',\n",
       " 'CIÊNCIAS CONTÁBEIS (BACHARELADO)',\n",
       " 'CIÊNCIAS ECONÔMICAS (BACHARELADO)',\n",
       " 'CIÊNCIAS SOCIAIS – ANTROPOLOGIA / SOCIOLOGIA (BACHARELADO/LICENCIATURA)',\n",
       " 'COMPUTAÇÃO (LICENCIATURA)',\n",
       " 'COMUNICAÇÃO ORGANIZACIONAL (BACHARELADO)',\n",
       " 'COMUNICAÇÃO SOCIAL - PUBLICIDADE E PROPAGANDA (BACHARELADO)',\n",
       " 'COMUNICAÇÃO SOCIAL – AUDIOVISUAL (BACHARELADO)',\n",
       " 'DESIGN – PROGRAMAÇÃO VISUAL/PROJETO DO PRODUTO (BACHARELADO)',\n",
       " 'DIREITO (BACHARELADO)',\n",
       " 'DIURNO ADMINISTRAÇÃO (BACHARELADO)',\n",
       " 'EDUCAÇÃO FÍSICA (BACHARELADO)',\n",
       " 'EDUCAÇÃO FÍSICA (LICENCIATURA)',\n",
       " 'ENFERMAGEM (BACHARELADO)',\n",
       " 'ENGENHARIA AMBIENTAL (BACHARELADO)',\n",
       " 'ENGENHARIA CIVIL (BACHARELADO)',\n",
       " 'ENGENHARIA DE COMPUTAÇÃO (BACHARELADO)',\n",
       " 'ENGENHARIA DE PRODUÇÃO (BACHARELADO)',\n",
       " 'ENGENHARIA DE REDES DE COMUNICAÇÃO (BACHARELADO)',\n",
       " 'ENGENHARIA ELÉTRICA (BACHARELADO)',\n",
       " 'ENGENHARIA FLORESTAL (BACHARELADO)',\n",
       " 'ENGENHARIA MECATRÔNICA – CONTROLE E AUTOMAÇÃO (BACHARELADO)',\n",
       " 'ENGENHARIA MECÂNICA (BACHARELADO)',\n",
       " 'ENGENHARIA QUÍMICA (BACHARELADO)',\n",
       " 'ENGENHARIAS – AEROESPACIAL / AUTOMOTIVA / ELETRÔNICA / ENERGIA / SOFTWARE (BACHARELADOS)',\n",
       " 'ESTATÍSTICA (BACHARELADO)',\n",
       " 'FARMÁCIA (BACHARELADO)',\n",
       " 'FILOSOFIA (BACHARELADO/LICENCIATURA)',\n",
       " 'FILOSOFIA (LICENCIATURA)',\n",
       " 'FISIOTERAPIA (BACHARELADO)',\n",
       " 'FONOAUDIOLOGIA (BACHARELADO)',\n",
       " 'FÍSICA (BACHARELADO)',\n",
       " 'GEOFÍSICA (BACHARELADO)',\n",
       " 'GEOGRAFIA (BACHARELADO/LICENCIATURA)',\n",
       " 'GEOLOGIA (BACHARELADO)',\n",
       " 'GESTÃO AMBIENTAL (BACHARELADO)',\n",
       " 'GESTÃO DE AGRONEGÓCIO (BACHARELADO)',\n",
       " 'GESTÃO DE POLÍTICAS PÚBLICAS (BACHARELADO)',\n",
       " 'GESTÃO DO AGRONEGÓCIO (BACHARELADO)',\n",
       " 'HISTÓRIA (BACHARELADO/LICENCIATURA )',\n",
       " 'HISTÓRIA (LICENCIATURA)',\n",
       " 'JORNALISMO (BACHARELADO)',\n",
       " 'LETRAS – PORTUGUÊS DO BRASIL COMO SEGUNDA LÍNGUA (LICENCIATURA)',\n",
       " 'LETRAS – TRADUÇÃO ESPANHOL (BACHARELADO)',\n",
       " 'LETRAS – TRADUÇÃO – FRANCÊS (BACHARELADO)',\n",
       " 'LETRAS – TRADUÇÃO – INGLÊS (BACHARELADO)',\n",
       " 'LICENCIATURA EM ARTES CÊNICAS',\n",
       " 'LICENCIATURA EM CIÊNCIAS BIOLÓGICAS',\n",
       " 'LICENCIATURA EM FÍSICA',\n",
       " 'LICENCIATURA EM MATEMÁTICA',\n",
       " 'LICENCIATURA EM QUÍMICA',\n",
       " 'LÍNGUA E LITERATURA JAPONESA (LICENCIATURA)',\n",
       " 'LÍNGUA ESPANHOLA E LITERATURA ESPANHOLA E HISPANO - AMERICANA (LICENCIATURA)',\n",
       " 'LÍNGUA ESTRANGEIRA APLICADA – MULTILINGUISMO E SOCIEDADE DA INFORMAÇÃO (BACHARELADO)',\n",
       " 'LÍNGUA FRANCESA E RESPECTIVA LITERATURA (BACHARELADO/LICENCIATURA)',\n",
       " 'LÍNGUA INGLESA E RESPECTIVA LITERATURA (BACHARELADO/LICENCIATURA)',\n",
       " 'LÍNGUA PORTUGUESA E RESPECTIVA LITERATURA (BACHARELADO/LICENCIATURA)',\n",
       " 'LÍNGUA PORTUGUESA E RESPECTIVA LITERATURA (LICENCIATURA)',\n",
       " 'MATEMÁTICA (BACHARELADO/LICENCIATURA)',\n",
       " 'MEDICINA (BACHARELADO)',\n",
       " 'MEDICINA VETERINÁRIA (BACHARELADO)',\n",
       " 'MUSEOLOGIA (BACHARELADO)',\n",
       " 'MÚSICA (BACHARELADO)',\n",
       " 'MÚSICA (LICENCIATURA)',\n",
       " 'NOTURNO ADMINISTRAÇÃO (BACHARELADO)',\n",
       " 'NUTRIÇÃO (BACHARELADO)',\n",
       " 'ODONTOLOGIA (BACHARELADO)',\n",
       " 'PEDAGOGIA (LICENCIATURA)',\n",
       " 'PSICOLOGIA (BACHARELADO / LICENCIATURA / PSICÓLOGO)',\n",
       " 'QUÍMICA (BACHARELADO)',\n",
       " 'QUÍMICA TECNOLÓGICA (BACHARELADO)',\n",
       " 'RELAÇÕES INTERNACIONAIS (BACHARELADO)',\n",
       " 'SAÚDE COLETIVA (BACHARELADO)',\n",
       " 'SERVIÇO SOCIAL (BACHARELADO)',\n",
       " 'TEORIA, CRÍTICA E HISTÓRIA DA ARTE (BACHARELADO)',\n",
       " 'TERAPIA OCUPACIONAL (BACHARELADO)',\n",
       " 'TURISMO (BACHARELADO)',\n",
       " 'cotista',\n",
       " 'cotas_negros_flag',\n",
       " 'publicas1_flag',\n",
       " 'publicas2_flag',\n",
       " 'publicas3_flag',\n",
       " 'publicas4_flag',\n",
       " 'publicas5_flag',\n",
       " 'publicas6_flag',\n",
       " 'publicas7_flag',\n",
       " 'publicas8_flag']"
      ]
     },
     "execution_count": 63,
     "metadata": {},
     "output_type": "execute_result"
    }
   ],
   "source": [
    "FEATURES"
   ]
  },
  {
   "cell_type": "code",
   "execution_count": 42,
   "metadata": {},
   "outputs": [],
   "source": [
    "covariables = list({\"escore_bruto_p1_etapa1\": 5.172,\n",
    "                            \"escore_bruto_p2_etapa1\": 14.653,\n",
    "                            \"nota_redacao_etapa1\": 6.947,\n",
    "                            \"escore_bruto_p1_etapa2\": 3.845,\n",
    "                            \"escore_bruto_p2_etapa2\": 19.994,\n",
    "                            \"nota_redacao_etapa2\": 7.222,\n",
    "                            \"escore_bruto_p1_etapa3\": 4.998,\n",
    "                            \"escore_bruto_p2_etapa3\": 16.66,\n",
    "                            \"nota_redacao_etapa3\": 8.06,\n",
    "                            \"argumento_final\": -25.699,\n",
    "                            \"2.1.1 CAMPUS  DARCY RIBEIRO – DIURNO  ADMINISTRAÇÃO (BACHARELADO)\": 1.0,               \n",
    "                            \"cotista\": 0.0,\n",
    "                            \"cotas_negros_flag\": 0.0,\n",
    "                            \"publicas1_flag\": 0.0,\n",
    "                            \"publicas2_flag\": 0.0,\n",
    "                            \"publicas3_flag\": 0.0,\n",
    "                            \"publicas4_flag\": 0.0,\n",
    "                            \"publicas5_flag\": 0.0,\n",
    "                            \"publicas6_flag\": 0.0,\n",
    "                            \"publicas7_flag\": 0.0,\n",
    "                            \"publicas8_flag\": 0.0}.keys())"
   ]
  },
  {
   "cell_type": "code",
   "execution_count": 30,
   "metadata": {},
   "outputs": [],
   "source": [
    "from samples import sample_approved, sample_not_approved"
   ]
  },
  {
   "cell_type": "code",
   "execution_count": 43,
   "metadata": {},
   "outputs": [
    {
     "data": {
      "text/plain": [
       "{'teste': 0.0}"
      ]
     },
     "execution_count": 43,
     "metadata": {},
     "output_type": "execute_result"
    }
   ],
   "source": [
    "{'teste':sample_not_approved.get('cotista')}"
   ]
  },
  {
   "cell_type": "code",
   "execution_count": 36,
   "metadata": {},
   "outputs": [
    {
     "data": {
      "text/plain": [
       "['escore_bruto_p1_etapa1',\n",
       " 'escore_bruto_p2_etapa1',\n",
       " 'nota_redacao_etapa1',\n",
       " 'escore_bruto_p1_etapa2',\n",
       " 'escore_bruto_p2_etapa2',\n",
       " 'nota_redacao_etapa2',\n",
       " 'escore_bruto_p1_etapa3',\n",
       " 'escore_bruto_p2_etapa3',\n",
       " 'nota_redacao_etapa3',\n",
       " 'argumento_final',\n",
       " '2.1.1 CAMPUS  DARCY RIBEIRO – DIURNO  ADMINISTRAÇÃO (BACHARELADO)',\n",
       " 'cotista',\n",
       " 'cotas_negros_flag',\n",
       " 'publicas1_flag',\n",
       " 'publicas2_flag',\n",
       " 'publicas3_flag',\n",
       " 'publicas4_flag',\n",
       " 'publicas5_flag',\n",
       " 'publicas6_flag',\n",
       " 'publicas7_flag',\n",
       " 'publicas8_flag']"
      ]
     },
     "execution_count": 36,
     "metadata": {},
     "output_type": "execute_result"
    }
   ],
   "source": [
    "list(sample_not_approved.keys())"
   ]
  },
  {
   "cell_type": "code",
   "execution_count": 76,
   "metadata": {},
   "outputs": [],
   "source": [
    "new_sample = sample_not_approved\n",
    "#new_sample = pd.DataFrame([{col: new_sample.get(col) for col in FEATURES}])\n",
    "#new_sample = new_sample.fillna(0)"
   ]
  },
  {
   "cell_type": "code",
   "execution_count": 75,
   "metadata": {},
   "outputs": [
    {
     "data": {
      "text/plain": [
       "0.104"
      ]
     },
     "execution_count": 75,
     "metadata": {},
     "output_type": "execute_result"
    }
   ],
   "source": [
    "predict_approval(model_loaded, new_data=new_sample)"
   ]
  },
  {
   "cell_type": "code",
   "execution_count": null,
   "metadata": {},
   "outputs": [],
   "source": []
  },
  {
   "attachments": {},
   "cell_type": "markdown",
   "metadata": {},
   "source": [
    "## Stratified KFold + Hyperameter tuning + Flags + SMOTE"
   ]
  },
  {
   "cell_type": "code",
   "execution_count": 25,
   "metadata": {},
   "outputs": [],
   "source": [
    "from imblearn.over_sampling import SMOTE\n",
    "import numpy as np"
   ]
  },
  {
   "cell_type": "code",
   "execution_count": 26,
   "metadata": {},
   "outputs": [
    {
     "name": "stdout",
     "output_type": "stream",
     "text": [
      "110\n"
     ]
    }
   ],
   "source": [
    "FEATURES.remove('argumento_final')\n",
    "print(len(FEATURES))\n",
    "\n",
    "X = df[FEATURES] # features\n",
    "y = df['label'] # labels\n",
    "X_train, X_test, y_train, y_test = train_test_split(X, y, test_size=0.20, random_state=47) # 70% training and 30% test"
   ]
  },
  {
   "cell_type": "code",
   "execution_count": 28,
   "metadata": {},
   "outputs": [],
   "source": [
    "X_train, X_test, y_train, y_test = train_test_split(X, y, test_size=0.2, random_state=47)"
   ]
  },
  {
   "cell_type": "code",
   "execution_count": 29,
   "metadata": {},
   "outputs": [],
   "source": [
    "# Apply SMOTE to the training set\n",
    "smote = SMOTE(random_state=47)\n",
    "X_train_resampled, y_train_resampled = smote.fit_resample(X_train, y_train)\n",
    "\n",
    "# # Train a logistic regression model on the resampled data\n",
    "# model = LogisticRegression()\n",
    "# model.fit(X_train_resampled, y_train_resampled)\n",
    "\n",
    "# # Make predictions on the test set\n",
    "# y_pred = model.predict(X_test)\n",
    "\n",
    "# # Evaluate the model\n",
    "# print(classification_report(y_test, y_pred))\n"
   ]
  },
  {
   "cell_type": "code",
   "execution_count": 30,
   "metadata": {},
   "outputs": [
    {
     "data": {
      "text/plain": [
       "0    4747\n",
       "1    4747\n",
       "Name: label, dtype: int64"
      ]
     },
     "execution_count": 30,
     "metadata": {},
     "output_type": "execute_result"
    }
   ],
   "source": [
    "pd.Series(y_train).value_counts(dropna=False)\n",
    "pd.Series(y_train_resampled).value_counts(dropna=False)"
   ]
  },
  {
   "cell_type": "code",
   "execution_count": 32,
   "metadata": {},
   "outputs": [],
   "source": [
    "# param_grid = {\n",
    "#     'n_estimators': [100, 200, 300, 500],      # Number of trees in the forest\n",
    "#     'max_depth': [None, 5, 10, 20, 40, 60],            # Maximum depth of each tree\n",
    "#     'min_samples_split': [2, 5, 10, 20, 40, 60],       # Minimum number of samples required to split an internal node\n",
    "#     'min_samples_leaf': [1, 2, 4, 8, 16, 32],          # Minimum number of samples required to be at a leaf node\n",
    "#     'max_features': ['sqrt', 'log2']\n",
    "# }\n",
    "\n",
    "param_grid = {\n",
    "    'n_estimators': [100, 200, 300],      # Number of trees in the forest\n",
    "    'max_depth': [2, 5, 10, 20, 30],            # Maximum depth of each tree\n",
    "    'min_samples_split': [5, 10, 20, 50],       # Minimum number of samples required to split an internal node\n",
    "    'min_samples_leaf': [2, 8, 16, 32],          # Minimum number of samples required to be at a leaf node\n",
    "}"
   ]
  },
  {
   "cell_type": "code",
   "execution_count": 33,
   "metadata": {},
   "outputs": [
    {
     "name": "stdout",
     "output_type": "stream",
     "text": [
      "              precision    recall  f1-score   support\n",
      "\n",
      "           0       0.93      0.90      0.91      1220\n",
      "           1       0.53      0.62      0.57       233\n",
      "\n",
      "    accuracy                           0.85      1453\n",
      "   macro avg       0.73      0.76      0.74      1453\n",
      "weighted avg       0.86      0.85      0.86      1453\n",
      "\n"
     ]
    }
   ],
   "source": [
    "# Assuming you have your training data X_train and corresponding labels y_train\n",
    "\n",
    "# Instantiate the class\n",
    "rf_gs = RandomForestClassifierGridSearch(X_train_resampled, y_train_resampled)\n",
    "\n",
    "# Fit the classifier using GridSearchCV\n",
    "rf_gs.fit(param_grid)\n",
    "\n",
    "# Assuming you have your test data X_test and corresponding labels y_test\n",
    "\n",
    "# Evaluate the best model on the test data\n",
    "report = rf_gs.evaluate(X_test, y_test)\n",
    "print(report)"
   ]
  },
  {
   "cell_type": "code",
   "execution_count": 34,
   "metadata": {},
   "outputs": [
    {
     "data": {
      "text/plain": [
       "{'max_depth': 30,\n",
       " 'min_samples_leaf': 2,\n",
       " 'min_samples_split': 5,\n",
       " 'n_estimators': 200}"
      ]
     },
     "execution_count": 34,
     "metadata": {},
     "output_type": "execute_result"
    }
   ],
   "source": [
    "rf_gs.get_best_params()"
   ]
  },
  {
   "cell_type": "code",
   "execution_count": 36,
   "metadata": {},
   "outputs": [
    {
     "data": {
      "text/plain": [
       "{'MEDICINA (BACHARELADO)': 640,\n",
       " 'DIREITO (BACHARELADO)': 601,\n",
       " 'ENGENHARIAS – AEROESPACIAL / AUTOMOTIVA / ELETRÔNICA / ENERGIA / SOFTWARE (BACHARELADOS)': 440,\n",
       " 'PSICOLOGIA (BACHARELADO / LICENCIATURA / PSICÓLOGO)': 429,\n",
       " 'CIÊNCIA DA COMPUTAÇÃO (BACHARELADO)': 423,\n",
       " 'ARQUITETURA E URBANISMO (BACHARELADO)': 226,\n",
       " 'RELAÇÕES INTERNACIONAIS (BACHARELADO)': 224,\n",
       " 'ENFERMAGEM (BACHARELADO)': 222,\n",
       " 'FARMÁCIA (BACHARELADO)': 221,\n",
       " 'MEDICINA VETERINÁRIA (BACHARELADO)': 219,\n",
       " 'NUTRIÇÃO (BACHARELADO)': 193,\n",
       " 'ODONTOLOGIA (BACHARELADO)': 180,\n",
       " 'CIÊNCIAS BIOLÓGICAS (BACHARELADO)': 166,\n",
       " 'CAMPUS UNB CEILÂNDIA (FCE) ENFERMAGEM (BACHARELADO)': 162,\n",
       " 'ENGENHARIA DE COMPUTAÇÃO (BACHARELADO)': 148,\n",
       " 'CIÊNCIAS ECONÔMICAS (BACHARELADO)': 144,\n",
       " 'DESIGN – PROGRAMAÇÃO VISUAL/PROJETO DO PRODUTO (BACHARELADO)': 139,\n",
       " 'DIURNO ADMINISTRAÇÃO (BACHARELADO)': 135,\n",
       " 'FISIOTERAPIA (BACHARELADO)': 133,\n",
       " 'PEDAGOGIA (LICENCIATURA)': 124,\n",
       " 'JORNALISMO (BACHARELADO)': 114,\n",
       " 'EDUCAÇÃO FÍSICA (BACHARELADO)': 101,\n",
       " 'COMUNICAÇÃO SOCIAL - PUBLICIDADE E PROPAGANDA (BACHARELADO)': 95,\n",
       " 'CIÊNCIAS CONTÁBEIS (BACHARELADO)': 91,\n",
       " 'AGRONOMIA (BACHARELADO)': 85,\n",
       " 'HISTÓRIA (BACHARELADO/LICENCIATURA )': 79,\n",
       " 'CIÊNCIA POLÍTICA (BACHARELADO)': 75,\n",
       " 'EDUCAÇÃO FÍSICA (LICENCIATURA)': 70,\n",
       " 'CIÊNCIAS SOCIAIS – ANTROPOLOGIA / SOCIOLOGIA (BACHARELADO/LICENCIATURA)': 67,\n",
       " 'COMUNICAÇÃO SOCIAL – AUDIOVISUAL (BACHARELADO)': 58,\n",
       " 'FONOAUDIOLOGIA (BACHARELADO)': 57,\n",
       " 'BIOTECNOLOGIA (BACHARELADO)': 55,\n",
       " 'ENGENHARIA MECATRÔNICA – CONTROLE E AUTOMAÇÃO (BACHARELADO)': 54,\n",
       " 'LÍNGUA INGLESA E RESPECTIVA LITERATURA (BACHARELADO/LICENCIATURA)': 48,\n",
       " 'NOTURNO ADMINISTRAÇÃO (BACHARELADO)': 47,\n",
       " 'LÍNGUA PORTUGUESA E RESPECTIVA LITERATURA (BACHARELADO/LICENCIATURA)': 47,\n",
       " 'TERAPIA OCUPACIONAL (BACHARELADO)': 46,\n",
       " 'COMPUTAÇÃO (LICENCIATURA)': 38,\n",
       " 'LETRAS – TRADUÇÃO – INGLÊS (BACHARELADO)': 38,\n",
       " 'MATEMÁTICA (BACHARELADO/LICENCIATURA)': 38,\n",
       " 'SERVIÇO SOCIAL (BACHARELADO)': 37,\n",
       " 'ENGENHARIA ELÉTRICA (BACHARELADO)': 36,\n",
       " 'ENGENHARIA QUÍMICA (BACHARELADO)': 36,\n",
       " 'ENGENHARIA DE PRODUÇÃO (BACHARELADO)': 35,\n",
       " 'QUÍMICA (BACHARELADO)': 32,\n",
       " 'ENGENHARIA MECÂNICA (BACHARELADO)': 32,\n",
       " 'FÍSICA (BACHARELADO)': 31,\n",
       " 'ENGENHARIA CIVIL (BACHARELADO)': 30,\n",
       " 'ENGENHARIA AMBIENTAL (BACHARELADO)': 29,\n",
       " 'ESTATÍSTICA (BACHARELADO)': 29,\n",
       " 'SAÚDE COLETIVA (BACHARELADO)': 29,\n",
       " 'ENGENHARIA DE REDES DE COMUNICAÇÃO (BACHARELADO)': 27,\n",
       " 'COMUNICAÇÃO ORGANIZACIONAL (BACHARELADO)': 26,\n",
       " 'LICENCIATURA EM CIÊNCIAS BIOLÓGICAS': 25,\n",
       " 'GESTÃO DE POLÍTICAS PÚBLICAS (BACHARELADO)': 22,\n",
       " 'ENGENHARIA FLORESTAL (BACHARELADO)': 21,\n",
       " 'LETRAS – PORTUGUÊS DO BRASIL COMO SEGUNDA LÍNGUA (LICENCIATURA)': 19,\n",
       " 'FILOSOFIA (BACHARELADO/LICENCIATURA)': 19,\n",
       " 'BIBLIOTECONOMIA (BACHARELADO)': 18,\n",
       " 'GEOLOGIA (BACHARELADO)': 18,\n",
       " 'ARTES VISUAIS (BACHARELADO)': 16,\n",
       " 'HISTÓRIA (LICENCIATURA)': 15,\n",
       " 'LÍNGUA PORTUGUESA E RESPECTIVA LITERATURA (LICENCIATURA)': 15,\n",
       " 'LÍNGUA ESTRANGEIRA APLICADA – MULTILINGUISMO E SOCIEDADE DA INFORMAÇÃO (BACHARELADO)': 14,\n",
       " 'LICENCIATURA EM FÍSICA': 13,\n",
       " 'CIÊNCIAS AMBIENTAIS (BACHARELADO)': 12,\n",
       " 'CAMPUS UNB PLANALTINA (FUP) – DIURNO CIÊNCIAS NATURAIS (LICENCIATURA)': 12,\n",
       " 'ARTES VISUAIS (LICENCIATURA)': 11,\n",
       " 'TURISMO (BACHARELADO)': 10,\n",
       " 'GEOGRAFIA (BACHARELADO/LICENCIATURA)': 10,\n",
       " 'ARQUIVOLOGIA (BACHARELADO)': 9,\n",
       " 'QUÍMICA TECNOLÓGICA (BACHARELADO)': 9,\n",
       " 'LICENCIATURA EM QUÍMICA': 9,\n",
       " 'LICENCIATURA EM MATEMÁTICA': 8,\n",
       " 'LÍNGUA ESPANHOLA E LITERATURA ESPANHOLA E HISPANO - AMERICANA (LICENCIATURA)': 7,\n",
       " 'TEORIA, CRÍTICA E HISTÓRIA DA ARTE (BACHARELADO)': 6,\n",
       " 'GEOFÍSICA (BACHARELADO)': 6,\n",
       " 'MUSEOLOGIA (BACHARELADO)': 6,\n",
       " 'LÍNGUA FRANCESA E RESPECTIVA LITERATURA (BACHARELADO/LICENCIATURA)': 6,\n",
       " 'LICENCIATURA EM ARTES CÊNICAS': 6,\n",
       " 'LÍNGUA E LITERATURA JAPONESA (LICENCIATURA)': 5,\n",
       " 'ARTES CÊNICAS - INTERPRETAÇÃO TEATRAL (BACHARELADO)': 5,\n",
       " 'GESTÃO DO AGRONEGÓCIO (BACHARELADO)': 5,\n",
       " 'MÚSICA (BACHARELADO)': 4,\n",
       " 'GESTÃO AMBIENTAL (BACHARELADO)': 4,\n",
       " 'GESTÃO DE AGRONEGÓCIO (BACHARELADO)': 3,\n",
       " 'FILOSOFIA (LICENCIATURA)': 3,\n",
       " 'MÚSICA (LICENCIATURA)': 3,\n",
       " 'LETRAS – TRADUÇÃO – FRANCÊS (BACHARELADO)': 3,\n",
       " 'CAMPUS UNB PLANALTINA (FUP) – NOTURNO CIÊNCIAS NATURAIS (LICENCIATURA)': 3,\n",
       " 'LETRAS – TRADUÇÃO ESPANHOL (BACHARELADO)': 2}"
      ]
     },
     "execution_count": 36,
     "metadata": {},
     "output_type": "execute_result"
    }
   ],
   "source": [
    "df.course.value_counts(dropna=False).to_dict()"
   ]
  }
 ],
 "metadata": {
  "kernelspec": {
   "display_name": "base",
   "language": "python",
   "name": "python3"
  },
  "language_info": {
   "codemirror_mode": {
    "name": "ipython",
    "version": 3
   },
   "file_extension": ".py",
   "mimetype": "text/x-python",
   "name": "python",
   "nbconvert_exporter": "python",
   "pygments_lexer": "ipython3",
   "version": "3.9.7"
  },
  "orig_nbformat": 4
 },
 "nbformat": 4,
 "nbformat_minor": 2
}
