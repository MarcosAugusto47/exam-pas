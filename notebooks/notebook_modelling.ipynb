{
 "cells": [
  {
   "cell_type": "code",
   "execution_count": 1,
   "metadata": {},
   "outputs": [
    {
     "name": "stderr",
     "output_type": "stream",
     "text": [
      "c:\\Anaconda\\lib\\site-packages\\scipy\\__init__.py:146: UserWarning: A NumPy version >=1.16.5 and <1.23.0 is required for this version of SciPy (detected version 1.24.2\n",
      "  warnings.warn(f\"A NumPy version >={np_minversion} and <{np_maxversion}\"\n"
     ]
    }
   ],
   "source": [
    "import pandas as pd\n",
    "import re\n",
    "\n",
    "from sklearn.model_selection import train_test_split, GridSearchCV\n",
    "from sklearn.ensemble import RandomForestClassifier\n",
    "from sklearn import metrics\n",
    "from sklearn.metrics import classification_report\n",
    "\n",
    "from RandomForestClassifierGridSearch import RandomForestClassifierGridSearch"
   ]
  },
  {
   "cell_type": "code",
   "execution_count": 3,
   "metadata": {},
   "outputs": [
    {
     "data": {
      "text/plain": [
       "(7301, 23)"
      ]
     },
     "execution_count": 3,
     "metadata": {},
     "output_type": "execute_result"
    }
   ],
   "source": [
    "scores = pd.read_parquet('../data/scores.parquet')\n",
    "#approvals = pd.read_parquet('../data/approvals.parquet')\n",
    "scores.shape"
   ]
  },
  {
   "cell_type": "code",
   "execution_count": 3,
   "metadata": {},
   "outputs": [],
   "source": [
    "scores = scores[~scores.course.str.contains('JUDICE')]"
   ]
  },
  {
   "cell_type": "code",
   "execution_count": 4,
   "metadata": {},
   "outputs": [
    {
     "data": {
      "text/html": [
       "<div>\n",
       "<style scoped>\n",
       "    .dataframe tbody tr th:only-of-type {\n",
       "        vertical-align: middle;\n",
       "    }\n",
       "\n",
       "    .dataframe tbody tr th {\n",
       "        vertical-align: top;\n",
       "    }\n",
       "\n",
       "    .dataframe thead th {\n",
       "        text-align: right;\n",
       "    }\n",
       "</style>\n",
       "<table border=\"1\" class=\"dataframe\">\n",
       "  <thead>\n",
       "    <tr style=\"text-align: right;\">\n",
       "      <th></th>\n",
       "      <th>numero_inscricao</th>\n",
       "      <th>nome</th>\n",
       "      <th>escore_bruto_p1_etapa1</th>\n",
       "      <th>escore_bruto_p2_etapa1</th>\n",
       "      <th>nota_redacao_etapa1</th>\n",
       "      <th>escore_bruto_p1_etapa2</th>\n",
       "      <th>escore_bruto_p2_etapa2</th>\n",
       "      <th>nota_redacao_etapa2</th>\n",
       "      <th>escore_bruto_p1_etapa3</th>\n",
       "      <th>escore_bruto_p2_etapa3</th>\n",
       "      <th>...</th>\n",
       "      <th>classificacao_final_cotas_negros</th>\n",
       "      <th>classificacao_final_publicas1</th>\n",
       "      <th>classificacao_final_publicas2</th>\n",
       "      <th>classificacao_final_publicas3</th>\n",
       "      <th>classificacao_final_publicas4</th>\n",
       "      <th>classificacao_final_publicas5</th>\n",
       "      <th>classificacao_final_publicas6</th>\n",
       "      <th>classificacao_final_publicas7</th>\n",
       "      <th>classificacao_final_publicas8</th>\n",
       "      <th>course</th>\n",
       "    </tr>\n",
       "  </thead>\n",
       "  <tbody>\n",
       "    <tr>\n",
       "      <th>0</th>\n",
       "      <td>20199023</td>\n",
       "      <td>Amanda Amorim Luz</td>\n",
       "      <td>5.172</td>\n",
       "      <td>14.653</td>\n",
       "      <td>6.947</td>\n",
       "      <td>3.845</td>\n",
       "      <td>19.994</td>\n",
       "      <td>7.222</td>\n",
       "      <td>4.998</td>\n",
       "      <td>16.660</td>\n",
       "      <td>...</td>\n",
       "      <td>None</td>\n",
       "      <td>None</td>\n",
       "      <td>NaN</td>\n",
       "      <td>None</td>\n",
       "      <td>None</td>\n",
       "      <td>None</td>\n",
       "      <td>NaN</td>\n",
       "      <td>None</td>\n",
       "      <td>None</td>\n",
       "      <td>2.1.1 CAMPUS  DARCY RIBEIRO – DIURNO  ADMINIST...</td>\n",
       "    </tr>\n",
       "    <tr>\n",
       "      <th>1</th>\n",
       "      <td>20180980</td>\n",
       "      <td>Amanda Larissa Oliveira dos Santos</td>\n",
       "      <td>6.896</td>\n",
       "      <td>48.271</td>\n",
       "      <td>3.800</td>\n",
       "      <td>6.152</td>\n",
       "      <td>54.342</td>\n",
       "      <td>7.200</td>\n",
       "      <td>5.712</td>\n",
       "      <td>46.648</td>\n",
       "      <td>...</td>\n",
       "      <td>None</td>\n",
       "      <td>None</td>\n",
       "      <td>NaN</td>\n",
       "      <td>None</td>\n",
       "      <td>None</td>\n",
       "      <td>None</td>\n",
       "      <td>NaN</td>\n",
       "      <td>None</td>\n",
       "      <td>None</td>\n",
       "      <td>2.1.1 CAMPUS  DARCY RIBEIRO – DIURNO  ADMINIST...</td>\n",
       "    </tr>\n",
       "    <tr>\n",
       "      <th>2</th>\n",
       "      <td>20188220</td>\n",
       "      <td>Amanda Luisa de Oliveira Souza</td>\n",
       "      <td>0.000</td>\n",
       "      <td>23.704</td>\n",
       "      <td>5.333</td>\n",
       "      <td>0.769</td>\n",
       "      <td>24.303</td>\n",
       "      <td>6.909</td>\n",
       "      <td>2.142</td>\n",
       "      <td>25.465</td>\n",
       "      <td>...</td>\n",
       "      <td>None</td>\n",
       "      <td>None</td>\n",
       "      <td>NaN</td>\n",
       "      <td>None</td>\n",
       "      <td>None</td>\n",
       "      <td>None</td>\n",
       "      <td>NaN</td>\n",
       "      <td>None</td>\n",
       "      <td>None</td>\n",
       "      <td>2.1.1 CAMPUS  DARCY RIBEIRO – DIURNO  ADMINIST...</td>\n",
       "    </tr>\n",
       "    <tr>\n",
       "      <th>3</th>\n",
       "      <td>20193280</td>\n",
       "      <td>Amanda Mendes Reis de Araujo</td>\n",
       "      <td>0.000</td>\n",
       "      <td>10.342</td>\n",
       "      <td>8.963</td>\n",
       "      <td>2.307</td>\n",
       "      <td>14.866</td>\n",
       "      <td>9.5 86</td>\n",
       "      <td>1.428</td>\n",
       "      <td>13.088</td>\n",
       "      <td>...</td>\n",
       "      <td>None</td>\n",
       "      <td>None</td>\n",
       "      <td>NaN</td>\n",
       "      <td>None</td>\n",
       "      <td>None</td>\n",
       "      <td>None</td>\n",
       "      <td>NaN</td>\n",
       "      <td>None</td>\n",
       "      <td>None</td>\n",
       "      <td>2.1.1 CAMPUS  DARCY RIBEIRO – DIURNO  ADMINIST...</td>\n",
       "    </tr>\n",
       "    <tr>\n",
       "      <th>4</th>\n",
       "      <td>20188170</td>\n",
       "      <td>Ana Beatriz Cattermol Cavalcante</td>\n",
       "      <td>0.000</td>\n",
       "      <td>10.917</td>\n",
       "      <td>2.848</td>\n",
       "      <td>0.000</td>\n",
       "      <td>10.764</td>\n",
       "      <td>3.750</td>\n",
       "      <td>6.426</td>\n",
       "      <td>17.373</td>\n",
       "      <td>...</td>\n",
       "      <td>1</td>\n",
       "      <td>None</td>\n",
       "      <td>NaN</td>\n",
       "      <td>None</td>\n",
       "      <td>None</td>\n",
       "      <td>None</td>\n",
       "      <td>NaN</td>\n",
       "      <td>None</td>\n",
       "      <td>None</td>\n",
       "      <td>2.1.1 CAMPUS  DARCY RIBEIRO – DIURNO  ADMINIST...</td>\n",
       "    </tr>\n",
       "  </tbody>\n",
       "</table>\n",
       "<p>5 rows × 23 columns</p>\n",
       "</div>"
      ],
      "text/plain": [
       "  numero_inscricao                                nome escore_bruto_p1_etapa1  \\\n",
       "0         20199023                   Amanda Amorim Luz                  5.172   \n",
       "1         20180980  Amanda Larissa Oliveira dos Santos                  6.896   \n",
       "2         20188220      Amanda Luisa de Oliveira Souza                  0.000   \n",
       "3         20193280        Amanda Mendes Reis de Araujo                  0.000   \n",
       "4         20188170    Ana Beatriz Cattermol Cavalcante                  0.000   \n",
       "\n",
       "  escore_bruto_p2_etapa1 nota_redacao_etapa1 escore_bruto_p1_etapa2  \\\n",
       "0                 14.653               6.947                  3.845   \n",
       "1                 48.271               3.800                  6.152   \n",
       "2                 23.704               5.333                  0.769   \n",
       "3                 10.342               8.963                  2.307   \n",
       "4                 10.917               2.848                  0.000   \n",
       "\n",
       "  escore_bruto_p2_etapa2 nota_redacao_etapa2 escore_bruto_p1_etapa3  \\\n",
       "0                 19.994               7.222                  4.998   \n",
       "1                 54.342               7.200                  5.712   \n",
       "2                 24.303               6.909                  2.142   \n",
       "3                 14.866              9.5 86                  1.428   \n",
       "4                 10.764               3.750                  6.426   \n",
       "\n",
       "  escore_bruto_p2_etapa3  ... classificacao_final_cotas_negros  \\\n",
       "0                 16.660  ...                             None   \n",
       "1                 46.648  ...                             None   \n",
       "2                 25.465  ...                             None   \n",
       "3                 13.088  ...                             None   \n",
       "4                 17.373  ...                                1   \n",
       "\n",
       "  classificacao_final_publicas1 classificacao_final_publicas2  \\\n",
       "0                          None                           NaN   \n",
       "1                          None                           NaN   \n",
       "2                          None                           NaN   \n",
       "3                          None                           NaN   \n",
       "4                          None                           NaN   \n",
       "\n",
       "  classificacao_final_publicas3 classificacao_final_publicas4  \\\n",
       "0                          None                          None   \n",
       "1                          None                          None   \n",
       "2                          None                          None   \n",
       "3                          None                          None   \n",
       "4                          None                          None   \n",
       "\n",
       "   classificacao_final_publicas5 classificacao_final_publicas6  \\\n",
       "0                           None                           NaN   \n",
       "1                           None                           NaN   \n",
       "2                           None                           NaN   \n",
       "3                           None                           NaN   \n",
       "4                           None                           NaN   \n",
       "\n",
       "  classificacao_final_publicas7 classificacao_final_publicas8  \\\n",
       "0                          None                          None   \n",
       "1                          None                          None   \n",
       "2                          None                          None   \n",
       "3                          None                          None   \n",
       "4                          None                          None   \n",
       "\n",
       "                                              course  \n",
       "0  2.1.1 CAMPUS  DARCY RIBEIRO – DIURNO  ADMINIST...  \n",
       "1  2.1.1 CAMPUS  DARCY RIBEIRO – DIURNO  ADMINIST...  \n",
       "2  2.1.1 CAMPUS  DARCY RIBEIRO – DIURNO  ADMINIST...  \n",
       "3  2.1.1 CAMPUS  DARCY RIBEIRO – DIURNO  ADMINIST...  \n",
       "4  2.1.1 CAMPUS  DARCY RIBEIRO – DIURNO  ADMINIST...  \n",
       "\n",
       "[5 rows x 23 columns]"
      ]
     },
     "execution_count": 4,
     "metadata": {},
     "output_type": "execute_result"
    }
   ],
   "source": [
    "scores.head()"
   ]
  },
  {
   "cell_type": "code",
   "execution_count": 5,
   "metadata": {},
   "outputs": [
    {
     "data": {
      "text/plain": [
       "['classificacao_final_cotas_negros',\n",
       " 'classificacao_final_publicas1',\n",
       " 'classificacao_final_publicas2',\n",
       " 'classificacao_final_publicas3',\n",
       " 'classificacao_final_publicas4',\n",
       " 'classificacao_final_publicas5',\n",
       " 'classificacao_final_publicas6',\n",
       " 'classificacao_final_publicas7',\n",
       " 'classificacao_final_publicas8']"
      ]
     },
     "execution_count": 5,
     "metadata": {},
     "output_type": "execute_result"
    }
   ],
   "source": [
    "cotas_columns = [col for col in scores.columns if 'classificacao' in col]\n",
    "cotas_columns.pop(0) # removing 'classificacao_final_universal'\n",
    "cotas_columns"
   ]
  },
  {
   "cell_type": "code",
   "execution_count": 6,
   "metadata": {},
   "outputs": [],
   "source": [
    "scores['cotista'] = scores[cotas_columns].notnull().any(axis=1).astype(int)"
   ]
  },
  {
   "cell_type": "code",
   "execution_count": 7,
   "metadata": {},
   "outputs": [],
   "source": [
    "for column in cotas_columns:\n",
    "    colum_name = re.sub(\"classificacao_final_\", \"\", f'{column}_flag')\n",
    "    scores[colum_name] = scores[column].notnull().astype(int)"
   ]
  },
  {
   "cell_type": "code",
   "execution_count": 8,
   "metadata": {},
   "outputs": [],
   "source": [
    "flags_columns = list(scores.columns[scores.columns.str.contains('flag')])"
   ]
  },
  {
   "cell_type": "code",
   "execution_count": 9,
   "metadata": {},
   "outputs": [
    {
     "data": {
      "text/plain": [
       "['cotas_negros_flag',\n",
       " 'publicas1_flag',\n",
       " 'publicas2_flag',\n",
       " 'publicas3_flag',\n",
       " 'publicas4_flag',\n",
       " 'publicas5_flag',\n",
       " 'publicas6_flag',\n",
       " 'publicas7_flag',\n",
       " 'publicas8_flag']"
      ]
     },
     "execution_count": 9,
     "metadata": {},
     "output_type": "execute_result"
    }
   ],
   "source": [
    "flags_columns"
   ]
  },
  {
   "cell_type": "code",
   "execution_count": 10,
   "metadata": {},
   "outputs": [],
   "source": [
    "df = pd.merge(scores, approvals, how='left', on='numero_inscricao', indicator=True)"
   ]
  },
  {
   "cell_type": "code",
   "execution_count": 11,
   "metadata": {},
   "outputs": [],
   "source": [
    "df['label'] = df._merge.apply(lambda x: 1 if x == 'both' else 0)"
   ]
  },
  {
   "cell_type": "code",
   "execution_count": 12,
   "metadata": {},
   "outputs": [],
   "source": [
    "FEATURES = ['escore_bruto_p1_etapa1',\n",
    "            'escore_bruto_p2_etapa1',\n",
    "            'nota_redacao_etapa1',\n",
    "            'escore_bruto_p1_etapa2',\n",
    "            'escore_bruto_p2_etapa2',\n",
    "            'nota_redacao_etapa2',\n",
    "            'escore_bruto_p1_etapa3',\n",
    "            'escore_bruto_p2_etapa3',\n",
    "            'nota_redacao_etapa3',\n",
    "            'argumento_final']"
   ]
  },
  {
   "cell_type": "code",
   "execution_count": 13,
   "metadata": {},
   "outputs": [],
   "source": [
    "def convert_string_to_float(df, colnames):\n",
    "    for colname in colnames:\n",
    "        df[colname] = df[colname].str.replace(' ', \"\", regex=True)\n",
    "        df[colname] = df[colname].str.replace('[R$]', \"\", regex=True)\n",
    "        df[colname] = df[colname].str.replace(',', \".\", regex=False)\n",
    "        df[colname] = df[colname].apply(float)\n",
    "    return df"
   ]
  },
  {
   "cell_type": "code",
   "execution_count": 14,
   "metadata": {},
   "outputs": [],
   "source": [
    "df = convert_string_to_float(df, FEATURES)"
   ]
  },
  {
   "cell_type": "code",
   "execution_count": 15,
   "metadata": {},
   "outputs": [],
   "source": [
    "course_dummies = pd.get_dummies(df.course)\n",
    "course_dummies_columns = list(course_dummies.columns)\n",
    "df = pd.concat([df, course_dummies], axis=1)"
   ]
  },
  {
   "cell_type": "code",
   "execution_count": 16,
   "metadata": {},
   "outputs": [],
   "source": [
    "FEATURES.extend(course_dummies_columns)"
   ]
  },
  {
   "cell_type": "code",
   "execution_count": 17,
   "metadata": {},
   "outputs": [
    {
     "data": {
      "text/plain": [
       "101"
      ]
     },
     "execution_count": 17,
     "metadata": {},
     "output_type": "execute_result"
    }
   ],
   "source": [
    "len(FEATURES)"
   ]
  },
  {
   "attachments": {},
   "cell_type": "markdown",
   "metadata": {},
   "source": [
    "## Baseline Model"
   ]
  },
  {
   "cell_type": "code",
   "execution_count": 18,
   "metadata": {},
   "outputs": [],
   "source": [
    "X = df[FEATURES] # features\n",
    "y = df['label'] # labels\n",
    "X_train, X_test, y_train, y_test = train_test_split(X, y, test_size=0.20, random_state=47) # 70% training and 30% test"
   ]
  },
  {
   "cell_type": "code",
   "execution_count": 19,
   "metadata": {},
   "outputs": [
    {
     "name": "stdout",
     "output_type": "stream",
     "text": [
      "Accuracy: 0.8492773571920165\n"
     ]
    },
    {
     "data": {
      "text/plain": [
       "{'0': {'precision': 0.8618944323933478,\n",
       "  'recall': 0.9770491803278688,\n",
       "  'f1-score': 0.9158663081060315,\n",
       "  'support': 1220},\n",
       " '1': {'precision': 0.6,\n",
       "  'recall': 0.18025751072961374,\n",
       "  'f1-score': 0.27722772277227725,\n",
       "  'support': 233},\n",
       " 'accuracy': 0.8492773571920165,\n",
       " 'macro avg': {'precision': 0.7309472161966739,\n",
       "  'recall': 0.5786533455287413,\n",
       "  'f1-score': 0.5965470154391543,\n",
       "  'support': 1453},\n",
       " 'weighted avg': {'precision': 0.8198975963660595,\n",
       "  'recall': 0.8492773571920165,\n",
       "  'f1-score': 0.8134555783174804,\n",
       "  'support': 1453}}"
      ]
     },
     "execution_count": 19,
     "metadata": {},
     "output_type": "execute_result"
    }
   ],
   "source": [
    "# Create a Random Forest Classifier\n",
    "model = RandomForestClassifier(random_state=47)\n",
    "\n",
    "# Fit randomized search\n",
    "model = model.fit(X_train, y_train)\n",
    "\n",
    "y_pred = model.predict(X_test)\n",
    "# Model Accuracy, how often is the classifier correct?\n",
    "print('Accuracy:', metrics.accuracy_score(y_test, y_pred))\n",
    "classification_report(y_test, y_pred, output_dict=True)"
   ]
  },
  {
   "attachments": {},
   "cell_type": "markdown",
   "metadata": {},
   "source": [
    "## Baseline Model + cotista"
   ]
  },
  {
   "cell_type": "code",
   "execution_count": 20,
   "metadata": {},
   "outputs": [],
   "source": [
    "FEATURES.append('cotista')"
   ]
  },
  {
   "cell_type": "code",
   "execution_count": 21,
   "metadata": {},
   "outputs": [
    {
     "data": {
      "text/plain": [
       "102"
      ]
     },
     "execution_count": 21,
     "metadata": {},
     "output_type": "execute_result"
    }
   ],
   "source": [
    "len(FEATURES)"
   ]
  },
  {
   "cell_type": "code",
   "execution_count": 22,
   "metadata": {},
   "outputs": [],
   "source": [
    "X = df[FEATURES] # features\n",
    "y = df['label'] # labels\n",
    "X_train, X_test, y_train, y_test = train_test_split(X, y, test_size=0.20, random_state=47) # 70% training and 30% test"
   ]
  },
  {
   "cell_type": "code",
   "execution_count": 23,
   "metadata": {},
   "outputs": [
    {
     "name": "stdout",
     "output_type": "stream",
     "text": [
      "Accuracy: 0.8582243633860978\n"
     ]
    },
    {
     "data": {
      "text/plain": [
       "{'0': {'precision': 0.868995633187773,\n",
       "  'recall': 0.978688524590164,\n",
       "  'f1-score': 0.920585967617579,\n",
       "  'support': 1220},\n",
       " '1': {'precision': 0.6708860759493671,\n",
       "  'recall': 0.22746781115879827,\n",
       "  'f1-score': 0.33974358974358976,\n",
       "  'support': 233},\n",
       " 'accuracy': 0.8582243633860978,\n",
       " 'macro avg': {'precision': 0.76994085456857,\n",
       "  'recall': 0.6030781678744811,\n",
       "  'f1-score': 0.6301647786805844,\n",
       "  'support': 1453},\n",
       " 'weighted avg': {'precision': 0.8372272045321992,\n",
       "  'recall': 0.8582243633860978,\n",
       "  'f1-score': 0.8274433151436358,\n",
       "  'support': 1453}}"
      ]
     },
     "execution_count": 23,
     "metadata": {},
     "output_type": "execute_result"
    }
   ],
   "source": [
    "# Create a Random Forest Classifier\n",
    "model = RandomForestClassifier(random_state=47)\n",
    "\n",
    "# Fit randomized search\n",
    "model = model.fit(X_train, y_train)\n",
    "\n",
    "y_pred = model.predict(X_test)\n",
    "# Model Accuracy, how often is the classifier correct?\n",
    "print('Accuracy:', metrics.accuracy_score(y_test, y_pred))\n",
    "classification_report(y_test, y_pred, output_dict=True)"
   ]
  },
  {
   "attachments": {},
   "cell_type": "markdown",
   "metadata": {},
   "source": [
    "## Baseline Model + Flags"
   ]
  },
  {
   "cell_type": "code",
   "execution_count": 24,
   "metadata": {},
   "outputs": [
    {
     "data": {
      "text/plain": [
       "111"
      ]
     },
     "execution_count": 24,
     "metadata": {},
     "output_type": "execute_result"
    }
   ],
   "source": [
    "FEATURES.extend(flags_columns)\n",
    "len(FEATURES)"
   ]
  },
  {
   "cell_type": "code",
   "execution_count": 25,
   "metadata": {},
   "outputs": [],
   "source": [
    "X = df[FEATURES] # features\n",
    "y = df['label'] # labels\n",
    "X_train, X_test, y_train, y_test = train_test_split(X, y, test_size=0.20, random_state=47) # 70% training and 30% test"
   ]
  },
  {
   "cell_type": "code",
   "execution_count": 27,
   "metadata": {},
   "outputs": [
    {
     "data": {
      "text/plain": [
       "{'0': {'precision': 0.8802045288531775,\n",
       "  'recall': 0.9877049180327869,\n",
       "  'f1-score': 0.9308613364233295,\n",
       "  'support': 1220},\n",
       " '1': {'precision': 0.8214285714285714,\n",
       "  'recall': 0.296137339055794,\n",
       "  'f1-score': 0.4353312302839117,\n",
       "  'support': 233},\n",
       " 'accuracy': 0.8768066070199587,\n",
       " 'macro avg': {'precision': 0.8508165501408744,\n",
       "  'recall': 0.6419211285442905,\n",
       "  'f1-score': 0.6830962833536206,\n",
       "  'support': 1453},\n",
       " 'weighted avg': {'precision': 0.8707793409110348,\n",
       "  'recall': 0.8768066070199587,\n",
       "  'f1-score': 0.8513991790038633,\n",
       "  'support': 1453}}"
      ]
     },
     "execution_count": 27,
     "metadata": {},
     "output_type": "execute_result"
    }
   ],
   "source": [
    "# Create a Random Forest Classifier\n",
    "model = RandomForestClassifier(random_state=47)\n",
    "\n",
    "# Fit randomized search\n",
    "model = model.fit(X_train, y_train)\n",
    "\n",
    "y_pred = model.predict(X_test)\n",
    "classification_report(y_test, y_pred, output_dict=True)"
   ]
  },
  {
   "attachments": {},
   "cell_type": "markdown",
   "metadata": {},
   "source": [
    "## Hyperparameter tuning + class_weight"
   ]
  },
  {
   "cell_type": "code",
   "execution_count": null,
   "metadata": {},
   "outputs": [],
   "source": [
    "param_grid = {\n",
    "    'n_estimators': [100, 200, 300, 500],      # Number of trees in the forest\n",
    "    'max_depth': [5, 10, 20, 40, 60],            # Maximum depth of each tree\n",
    "    'min_samples_split': [5, 10, 20, 40, 60],       # Minimum number of samples required to split an internal node\n",
    "    'min_samples_leaf': [2, 8, 16, 32]          # Minimum number of samples required to be at a leaf node\n",
    "}"
   ]
  },
  {
   "cell_type": "code",
   "execution_count": null,
   "metadata": {},
   "outputs": [
    {
     "ename": "NameError",
     "evalue": "name 'RandomForestClassifierGridSearch' is not defined",
     "output_type": "error",
     "traceback": [
      "\u001b[1;31m---------------------------------------------------------------------------\u001b[0m",
      "\u001b[1;31mNameError\u001b[0m                                 Traceback (most recent call last)",
      "\u001b[1;32mC:\\Users\\MARCOS~1\\AppData\\Local\\Temp/ipykernel_8376/473772764.py\u001b[0m in \u001b[0;36m<module>\u001b[1;34m\u001b[0m\n\u001b[0;32m      2\u001b[0m \u001b[1;33m\u001b[0m\u001b[0m\n\u001b[0;32m      3\u001b[0m \u001b[1;31m# Instantiate the class\u001b[0m\u001b[1;33m\u001b[0m\u001b[1;33m\u001b[0m\u001b[0m\n\u001b[1;32m----> 4\u001b[1;33m \u001b[0mrf_gs\u001b[0m \u001b[1;33m=\u001b[0m \u001b[0mRandomForestClassifierGridSearch\u001b[0m\u001b[1;33m(\u001b[0m\u001b[0mX_train\u001b[0m\u001b[1;33m,\u001b[0m \u001b[0my_train\u001b[0m\u001b[1;33m)\u001b[0m\u001b[1;33m\u001b[0m\u001b[1;33m\u001b[0m\u001b[0m\n\u001b[0m\u001b[0;32m      5\u001b[0m \u001b[1;33m\u001b[0m\u001b[0m\n\u001b[0;32m      6\u001b[0m \u001b[1;31m# Fit the classifier using GridSearchCV\u001b[0m\u001b[1;33m\u001b[0m\u001b[1;33m\u001b[0m\u001b[0m\n",
      "\u001b[1;31mNameError\u001b[0m: name 'RandomForestClassifierGridSearch' is not defined"
     ]
    }
   ],
   "source": [
    "# Assuming you have your training data X_train and corresponding labels y_train\n",
    "\n",
    "# Instantiate the class\n",
    "rf_gs = RandomForestClassifierGridSearch(X_train, y_train)\n",
    "\n",
    "# Fit the classifier using GridSearchCV\n",
    "rf_gs.fit(param_grid)\n",
    "\n",
    "# Assuming you have your test data X_test and corresponding labels y_test\n",
    "\n",
    "# Evaluate the best model on the test data\n",
    "report = rf_gs.evaluate(X_test, y_test)\n",
    "print(\"Classification Report:\")\n",
    "print(report)"
   ]
  },
  {
   "cell_type": "code",
   "execution_count": null,
   "metadata": {},
   "outputs": [],
   "source": [
    "with open('model_flags_tuned.pickle','wb') as f:\n",
    "    pickle.dump(model, f)"
   ]
  },
  {
   "cell_type": "code",
   "execution_count": null,
   "metadata": {},
   "outputs": [],
   "source": [
    "#with open('model_flags_tuned.pickle','wb') as f:\n",
    "#  pickle.dump(model, f)"
   ]
  },
  {
   "attachments": {},
   "cell_type": "markdown",
   "metadata": {},
   "source": [
    "## Stratified KFold + Hyperameter tuning + Flags"
   ]
  },
  {
   "cell_type": "code",
   "execution_count": 26,
   "metadata": {},
   "outputs": [],
   "source": [
    "FEATURES.remove('argumento_final')"
   ]
  },
  {
   "cell_type": "code",
   "execution_count": 27,
   "metadata": {},
   "outputs": [
    {
     "data": {
      "text/plain": [
       "110"
      ]
     },
     "execution_count": 27,
     "metadata": {},
     "output_type": "execute_result"
    }
   ],
   "source": [
    "len(FEATURES)"
   ]
  },
  {
   "cell_type": "code",
   "execution_count": 28,
   "metadata": {},
   "outputs": [],
   "source": [
    "X = df[FEATURES] # features\n",
    "y = df['label'] # labels\n",
    "X_train, X_test, y_train, y_test = train_test_split(X, y, test_size=0.20, random_state=47) # 70% training and 30% test"
   ]
  },
  {
   "cell_type": "code",
   "execution_count": 29,
   "metadata": {},
   "outputs": [],
   "source": [
    "# # Define the parameter grid for GridSearchCV\n",
    "param_grid = {\n",
    "    'n_estimators': [100, 200, 300],      # Number of trees in the forest\n",
    "    'max_depth': [5, 10, 20, 40, 80],            # Maximum depth of each tree\n",
    "    'min_samples_split': [5, 10, 20, 50],       # Minimum number of samples required to split an internal node\n",
    "    'min_samples_leaf': [2, 8, 16, 32],          # Minimum number of samples required to be at a leaf node\n",
    "}"
   ]
  },
  {
   "cell_type": "code",
   "execution_count": 30,
   "metadata": {},
   "outputs": [
    {
     "data": {
      "text/plain": [
       "(5810, 110)"
      ]
     },
     "execution_count": 30,
     "metadata": {},
     "output_type": "execute_result"
    }
   ],
   "source": [
    "X_train.shape"
   ]
  },
  {
   "cell_type": "code",
   "execution_count": 31,
   "metadata": {},
   "outputs": [
    {
     "name": "stdout",
     "output_type": "stream",
     "text": [
      "              precision    recall  f1-score   support\n",
      "\n",
      "           0       0.92      0.91      0.92      1220\n",
      "           1       0.57      0.60      0.58       233\n",
      "\n",
      "    accuracy                           0.86      1453\n",
      "   macro avg       0.74      0.75      0.75      1453\n",
      "weighted avg       0.86      0.86      0.86      1453\n",
      "\n"
     ]
    }
   ],
   "source": [
    "# Assuming you have your training data X_train and corresponding labels y_train\n",
    "\n",
    "# Instantiate the class\n",
    "rf_gs = RandomForestClassifierGridSearch(X_train, y_train)\n",
    "\n",
    "# Fit the classifier using GridSearchCV\n",
    "rf_gs.fit(param_grid)\n",
    "\n",
    "# Assuming you have your test data X_test and corresponding labels y_test\n",
    "\n",
    "# Evaluate the best model on the test data\n",
    "report = rf_gs.evaluate(X_test, y_test)\n",
    "print(report)"
   ]
  },
  {
   "cell_type": "code",
   "execution_count": 32,
   "metadata": {},
   "outputs": [],
   "source": [
    "rf_gs.save_model('stratified_kfold_classweight15_tuned_model')"
   ]
  },
  {
   "cell_type": "code",
   "execution_count": 38,
   "metadata": {},
   "outputs": [],
   "source": [
    "import pickle"
   ]
  },
  {
   "cell_type": "code",
   "execution_count": 39,
   "metadata": {},
   "outputs": [],
   "source": [
    "with open('../ml_dev/models/stratified_kfold_classweight15_tuned_model.pickle', 'rb') as f:\n",
    "  model_loaded = pickle.load(f)"
   ]
  },
  {
   "cell_type": "code",
   "execution_count": 40,
   "metadata": {},
   "outputs": [
    {
     "data": {
      "text/plain": [
       "{'0': {'precision': 0.9221209610604806,\n",
       "  'recall': 0.9122950819672131,\n",
       "  'f1-score': 0.9171817058096416,\n",
       "  'support': 1220},\n",
       " '1': {'precision': 0.5650406504065041,\n",
       "  'recall': 0.5965665236051502,\n",
       "  'f1-score': 0.5803757828810021,\n",
       "  'support': 233},\n",
       " 'accuracy': 0.8616655196145905,\n",
       " 'macro avg': {'precision': 0.7435808057334923,\n",
       "  'recall': 0.7544308027861817,\n",
       "  'f1-score': 0.7487787443453219,\n",
       "  'support': 1453},\n",
       " 'weighted avg': {'precision': 0.8648603193657961,\n",
       "  'recall': 0.8616655196145905,\n",
       "  'f1-score': 0.8631722219539134,\n",
       "  'support': 1453}}"
      ]
     },
     "execution_count": 40,
     "metadata": {},
     "output_type": "execute_result"
    }
   ],
   "source": [
    "y_pred = model_loaded.predict(X_test)\n",
    "classification_report(y_test, y_pred, output_dict=True)"
   ]
  },
  {
   "cell_type": "code",
   "execution_count": 33,
   "metadata": {},
   "outputs": [],
   "source": [
    "def predict_approval(model, new_data):\n",
    "    \n",
    "    # Predict diabetes\n",
    "    predictions = model.predict_proba(new_data)\n",
    "    approval_prob = round(predictions[0][1], ndigits=3)\n",
    "\n",
    "    #pred_to_label = {0: 'Negative', 1: 'Positive'}\n",
    "\n",
    "    # Make a list of predictions\n",
    "    #data = []\n",
    "    #for t, pred in zip(new_data, predictions):\n",
    "    #    data.append({'prediction': pred[0]})\n",
    "\n",
    "    return approval_prob"
   ]
  },
  {
   "cell_type": "code",
   "execution_count": 55,
   "metadata": {},
   "outputs": [
    {
     "data": {
      "text/plain": [
       "['escore_bruto_p1_etapa1',\n",
       " 'escore_bruto_p2_etapa1',\n",
       " 'nota_redacao_etapa1',\n",
       " 'escore_bruto_p1_etapa2',\n",
       " 'escore_bruto_p2_etapa2',\n",
       " 'nota_redacao_etapa2',\n",
       " 'escore_bruto_p1_etapa3',\n",
       " 'escore_bruto_p2_etapa3',\n",
       " 'nota_redacao_etapa3',\n",
       " 'argumento_final',\n",
       " '2.1.1 CAMPUS  DARCY RIBEIRO – DIURNO  ADMINISTRAÇÃO (BACHARELADO)',\n",
       " '2.1.2 CAMPUS  DARCY RIBEIRO – NOTURNO  ADMINISTRAÇÃO (BACHARELADO)',\n",
       " '2.1.3 CAMPUS  UNB CEILÂNDIA (FCE)  ENFERMAGEM (BACHARELADO)',\n",
       " '2.1.4 CAMPUS  UNB GAMA (FGA)  ENGENHARIAS – AEROESPACIAL / AUTOMOTIVA / ELETRÔNICA / ENERGIA / SOFTWARE (BACHARELADOS)**',\n",
       " '2.1.5  CAMPUS  UNB PLANALTINA (FUP) – DIURNO  CIÊNCIAS NATURAIS (L ICENCIATURA)',\n",
       " '2.1.6  CAMPUS  UNB PLANALTINA (FUP) – NOTURNO  CIÊNCIAS NATURAI S (LICENCIATURA)',\n",
       " 'AGRONO MIA (BACHARELADO)',\n",
       " 'ARQUITETURA E URBANISMO (BACHARELADO)',\n",
       " 'ARQUIVOLOGIA (BACHARELADO)',\n",
       " 'ARTES CÊNICAS - INTERPRETAÇÃO TEATRAL (BACHARELADO) *',\n",
       " 'ARTES VISUAIS (BACHARELADO)*',\n",
       " 'ARTES VISUAIS (LICENCIATURA)*',\n",
       " 'BIBLIOTECONOMIA (BACHARELADO)',\n",
       " 'BIOTECNOLOGIA (BACHARELADO)',\n",
       " 'CIÊNCIA DA COMPUTAÇÃO (BACHARELADO)',\n",
       " 'CIÊNCIA POLÍTICA (BACHARELADO)',\n",
       " 'CIÊNCIAS AMBIENTAIS (BACHARELADO)',\n",
       " 'CIÊNCIAS BIOLÓGICAS (BACHARELADO)',\n",
       " 'CIÊNCIAS CONTÁBEIS (BACHARELADO)',\n",
       " 'CIÊNCIAS ECONÔMICAS (BACHARELADO)',\n",
       " 'CIÊNCIAS SOCIAIS – ANTROPOLOGIA / SOCIOLOGIA (BACHARELADO/LICENCIATURA)',\n",
       " 'COMPUTAÇÃO (LICENCIATURA)',\n",
       " 'COMUNICAÇÃO ORGANIZACIONAL (BACHARELADO)',\n",
       " 'COMUNICAÇÃO SOCIAL - PUBLICIDADE E PROPAGANDA (BACHARELADO)',\n",
       " 'COMUNICAÇÃO SOCIAL – AUDIOVISUAL (BACHARELADO)',\n",
       " 'DESIGN – PROGRAMAÇÃO VISUAL/PROJETO DO PRODUTO (BACHARELADO)',\n",
       " 'DIREITO (BACHARELADO)',\n",
       " 'EDUCAÇÃO FÍSICA (BACHARELADO)',\n",
       " 'EDUCAÇÃO FÍSICA (LICENCIATURA)',\n",
       " 'ENFERMAGEM (BACHARELADO)',\n",
       " 'ENGENHARIA AMBIENTAL (BACHARELADO)',\n",
       " 'ENGENHARIA CIVIL (BACHARELADO)',\n",
       " 'ENGENHARIA DE COMPUTAÇÃO (BACHARELADO)',\n",
       " 'ENGENHARIA DE PRODUÇÃO (BACHARELADO)',\n",
       " 'ENGENHARIA DE REDES DE COMUNICAÇÃO (BACHARELADO)',\n",
       " 'ENGENHARIA ELÉTRICA (BACHARELADO)',\n",
       " 'ENGENHARIA FLORESTAL (BACHARELADO)',\n",
       " 'ENGENHARIA MECATRÔNICA – CONTROLE E AUTOMAÇÃO (BACHARELADO)',\n",
       " 'ENGENHARIA MECÂNICA (BACHARELADO)',\n",
       " 'ENGENHARIA QUÍMICA (BACHARELADO)',\n",
       " 'ESTATÍSTICA (BACHARELADO)',\n",
       " 'FARMÁCIA (BACHARELADO)',\n",
       " 'FILOSOFIA (BACHARELADO/LICENCIATURA)',\n",
       " 'FILOSOFIA (LICENCIATURA)',\n",
       " 'FISIOTERAPIA (BACHARELADO)',\n",
       " 'FONOAUDIOLOGIA (BACHARELADO)',\n",
       " 'FÍSICA (BACHARELADO)',\n",
       " 'GEOFÍSICA (BACHARELADO)',\n",
       " 'GEOGRAFIA (BACHARELADO/LICENCIATURA)',\n",
       " 'GEOLOGIA (BACHARELADO)',\n",
       " 'GESTÃO AMBIENTAL (BACHARELADO)',\n",
       " 'GESTÃO DE AGRONEGÓCIO (BACHARELADO)',\n",
       " 'GESTÃO DE POLÍTICAS PÚB LICAS (BACHARELADO)',\n",
       " 'GESTÃO DO AGRONEGÓCIO (BACHARELADO)',\n",
       " 'HISTÓRIA (BACHARELADO/LICENCIATURA )',\n",
       " 'HISTÓRIA (LICENCIATURA)',\n",
       " 'JORNALISMO (BACHARELADO)',\n",
       " 'LETRAS – PORTUGUÊS DO BRASIL COMO SEGUNDA LÍNGUA (LICENCIATURA)',\n",
       " 'LETRAS – TRADUÇÃO E SPANHOL (BACHARELADO)',\n",
       " 'LETRAS – TRADUÇÃO – FRANCÊS (BACHARELADO)',\n",
       " 'LETRAS – TRADUÇÃO – INGLÊS  (BACHARELADO)',\n",
       " 'LICENCIATURA EM ARTES CÊNICAS*',\n",
       " 'LICENCIATURA EM CIÊNCIAS BIOLÓGICAS',\n",
       " 'LICENCIATURA EM FÍSICA',\n",
       " 'LICENCIATURA EM MATEMÁTICA',\n",
       " 'LICENCIATURA EM QUÍMICA',\n",
       " 'LÍNGUA E LITERATURA JAPONESA (LICENCIATURA)',\n",
       " 'LÍNGUA ESPANHOLA E LITERATURA ESPANHOLA E HISPANO -AMERICANA (LICENCIATURA)',\n",
       " 'LÍNGUA ESTRANGEIRA APLICADA – MULTILINGUISMO E SOCIEDADE DA INFORMAÇÃO (BACHARELADO)',\n",
       " 'LÍNGUA FRANCESA E RESPECTIVA LITERATURA (BACHARELADO/LICENCIATURA)',\n",
       " 'LÍNGUA INGLESA E RES PECTIVA LITERATURA (BACHARELADO/LICENCIATURA)',\n",
       " 'LÍNGUA PORTUGUESA E RESPECTIVA LITERATURA (BACHARELADO/LICENCIATURA)',\n",
       " 'LÍNGUA PORTUGUESA E RESPECTIVA LITERATURA (LICENCIATURA)',\n",
       " 'MATEMÁTICA (BACHARELADO/LICENCIATURA)',\n",
       " 'MEDICINA (BACHARELADO)',\n",
       " 'MEDICINA VETERINÁRIA (BACHARELADO)',\n",
       " 'MUSEOLOGIA (BACHARELADO)',\n",
       " 'MÚSICA (BACHARELADO)*',\n",
       " 'MÚSICA (LICENCIATU RA)*',\n",
       " 'NUTRIÇÃO (BACHARELADO)',\n",
       " 'ODONTOLOGIA (BACHARELADO)',\n",
       " 'PEDAGOGIA (LICENCIATURA)',\n",
       " 'PSICOLOGIA (BACHARELADO / LICENCIATURA / PSICÓLOGO)',\n",
       " 'QUÍMICA (BACHARELADO)',\n",
       " 'QUÍMICA TECNOLÓGICA (BACHARELADO)',\n",
       " 'RELAÇÕES INTERNACIONAIS (BACHARELADO)',\n",
       " 'SAÚDE COLETIVA (BACHARELADO)',\n",
       " 'SERVIÇO SOCIAL (BACHARELADO)',\n",
       " 'TEORIA, CRÍTICA E HISTÓRIA DA ARTE (BACHARELADO)',\n",
       " 'TERAPIA OCUPACIONAL (BACHARELADO)',\n",
       " 'TURISM O (BACHARELADO)',\n",
       " 'cotista',\n",
       " 'cotas_negros_flag',\n",
       " 'publicas1_flag',\n",
       " 'publicas2_flag',\n",
       " 'publicas3_flag',\n",
       " 'publicas4_flag',\n",
       " 'publicas5_flag',\n",
       " 'publicas6_flag',\n",
       " 'publicas7_flag',\n",
       " 'publicas8_flag']"
      ]
     },
     "execution_count": 55,
     "metadata": {},
     "output_type": "execute_result"
    }
   ],
   "source": [
    "FEATURES"
   ]
  },
  {
   "cell_type": "code",
   "execution_count": 45,
   "metadata": {},
   "outputs": [],
   "source": [
    "covariables = list({\"escore_bruto_p1_etapa1\": 5.172,\n",
    "                            \"escore_bruto_p2_etapa1\": 14.653,\n",
    "                            \"nota_redacao_etapa1\": 6.947,\n",
    "                            \"escore_bruto_p1_etapa2\": 3.845,\n",
    "                            \"escore_bruto_p2_etapa2\": 19.994,\n",
    "                            \"nota_redacao_etapa2\": 7.222,\n",
    "                            \"escore_bruto_p1_etapa3\": 4.998,\n",
    "                            \"escore_bruto_p2_etapa3\": 16.66,\n",
    "                            \"nota_redacao_etapa3\": 8.06,\n",
    "                            \"argumento_final\": -25.699,\n",
    "                            \"2.1.1 CAMPUS  DARCY RIBEIRO – DIURNO  ADMINISTRAÇÃO (BACHARELADO)\": 1.0,               \n",
    "                            \"cotista\": 0.0,\n",
    "                            \"cotas_negros_flag\": 0.0,\n",
    "                            \"publicas1_flag\": 0.0,\n",
    "                            \"publicas2_flag\": 0.0,\n",
    "                            \"publicas3_flag\": 0.0,\n",
    "                            \"publicas4_flag\": 0.0,\n",
    "                            \"publicas5_flag\": 0.0,\n",
    "                            \"publicas6_flag\": 0.0,\n",
    "                            \"publicas7_flag\": 0.0,\n",
    "                            \"publicas8_flag\": 0.0}.keys())"
   ]
  },
  {
   "cell_type": "code",
   "execution_count": 54,
   "metadata": {},
   "outputs": [
    {
     "data": {
      "text/plain": [
       "['escore_bruto_p1_etapa1',\n",
       " 'escore_bruto_p2_etapa1',\n",
       " 'nota_redacao_etapa1',\n",
       " 'escore_bruto_p1_etapa2',\n",
       " 'escore_bruto_p2_etapa2',\n",
       " 'nota_redacao_etapa2',\n",
       " 'escore_bruto_p1_etapa3',\n",
       " 'escore_bruto_p2_etapa3',\n",
       " 'nota_redacao_etapa3',\n",
       " 'argumento_final',\n",
       " '2.1.1 CAMPUS  DARCY RIBEIRO – DIURNO  ADMINISTRAÇÃO (BACHARELADO)',\n",
       " 'cotista',\n",
       " 'cotas_negros_flag',\n",
       " 'publicas1_flag',\n",
       " 'publicas2_flag',\n",
       " 'publicas3_flag',\n",
       " 'publicas4_flag',\n",
       " 'publicas5_flag',\n",
       " 'publicas6_flag',\n",
       " 'publicas7_flag',\n",
       " 'publicas8_flag']"
      ]
     },
     "execution_count": 54,
     "metadata": {},
     "output_type": "execute_result"
    }
   ],
   "source": [
    "covariables"
   ]
  },
  {
   "cell_type": "code",
   "execution_count": 50,
   "metadata": {},
   "outputs": [
    {
     "data": {
      "text/plain": [
       "True"
      ]
     },
     "execution_count": 50,
     "metadata": {},
     "output_type": "execute_result"
    }
   ],
   "source": [
    "all([True for covariable in covariables if covariable in FEATURES])"
   ]
  },
  {
   "cell_type": "code",
   "execution_count": 53,
   "metadata": {},
   "outputs": [
    {
     "data": {
      "text/plain": [
       "True"
      ]
     },
     "execution_count": 53,
     "metadata": {},
     "output_type": "execute_result"
    }
   ],
   "source": [
    "all([True, True, True])"
   ]
  },
  {
   "cell_type": "code",
   "execution_count": 101,
   "metadata": {},
   "outputs": [
    {
     "data": {
      "text/plain": [
       "{'escore_bruto_p1_etapa1': 0.0,\n",
       " 'escore_bruto_p2_etapa1': 29.595,\n",
       " 'nota_redacao_etapa1': 7.524,\n",
       " 'escore_bruto_p1_etapa2': 4.614,\n",
       " 'escore_bruto_p2_etapa2': 19.737,\n",
       " 'nota_redacao_etapa2': 7.2,\n",
       " 'escore_bruto_p1_etapa3': 2.856,\n",
       " 'escore_bruto_p2_etapa3': 35.7,\n",
       " 'nota_redacao_etapa3': 7.369,\n",
       " 'argumento_final': 14.603,\n",
       " '2.1.1 CAMPUS  DARCY RIBEIRO – DIURNO  ADMINISTRAÇÃO (BACHARELADO)': 0.0,\n",
       " '2.1.2 CAMPUS  DARCY RIBEIRO – NOTURNO  ADMINISTRAÇÃO (BACHARELADO)': 0.0,\n",
       " '2.1.3 CAMPUS  UNB CEILÂNDIA (FCE)  ENFERMAGEM (BACHARELADO)': 0.0,\n",
       " '2.1.4 CAMPUS  UNB GAMA (FGA)  ENGENHARIAS – AEROESPACIAL / AUTOMOTIVA / ELETRÔNICA / ENERGIA / SOFTWARE (BACHARELADOS)**': 0.0,\n",
       " '2.1.5  CAMPUS  UNB PLANALTINA (FUP) – DIURNO  CIÊNCIAS NATURAIS (L ICENCIATURA)': 0.0,\n",
       " '2.1.6  CAMPUS  UNB PLANALTINA (FUP) – NOTURNO  CIÊNCIAS NATURAI S (LICENCIATURA)': 0.0,\n",
       " 'AGRONO MIA (BACHARELADO)': 0.0,\n",
       " 'ARQUITETURA E URBANISMO (BACHARELADO)': 0.0,\n",
       " 'ARQUIVOLOGIA (BACHARELADO)': 0.0,\n",
       " 'ARTES CÊNICAS - INTERPRETAÇÃO TEATRAL (BACHARELADO) *': 0.0,\n",
       " 'ARTES VISUAIS (BACHARELADO)*': 0.0,\n",
       " 'ARTES VISUAIS (LICENCIATURA)*': 0.0,\n",
       " 'BIBLIOTECONOMIA (BACHARELADO)': 0.0,\n",
       " 'BIOTECNOLOGIA (BACHARELADO)': 0.0,\n",
       " 'CIÊNCIA DA COMPUTAÇÃO (BACHARELADO)': 0.0,\n",
       " 'CIÊNCIA POLÍTICA (BACHARELADO)': 0.0,\n",
       " 'CIÊNCIAS AMBIENTAIS (BACHARELADO)': 0.0,\n",
       " 'CIÊNCIAS BIOLÓGICAS (BACHARELADO)': 0.0,\n",
       " 'CIÊNCIAS CONTÁBEIS (BACHARELADO)': 0.0,\n",
       " 'CIÊNCIAS ECONÔMICAS (BACHARELADO)': 0.0,\n",
       " 'CIÊNCIAS SOCIAIS – ANTROPOLOGIA / SOCIOLOGIA (BACHARELADO/LICENCIATURA)': 0.0,\n",
       " 'COMPUTAÇÃO (LICENCIATURA)': 0.0,\n",
       " 'COMUNICAÇÃO ORGANIZACIONAL (BACHARELADO)': 0.0,\n",
       " 'COMUNICAÇÃO SOCIAL - PUBLICIDADE E PROPAGANDA (BACHARELADO)': 0.0,\n",
       " 'COMUNICAÇÃO SOCIAL – AUDIOVISUAL (BACHARELADO)': 0.0,\n",
       " 'DESIGN – PROGRAMAÇÃO VISUAL/PROJETO DO PRODUTO (BACHARELADO)': 0.0,\n",
       " 'DIREITO (BACHARELADO)': 0.0,\n",
       " 'EDUCAÇÃO FÍSICA (BACHARELADO)': 0.0,\n",
       " 'EDUCAÇÃO FÍSICA (LICENCIATURA)': 0.0,\n",
       " 'ENFERMAGEM (BACHARELADO)': 0.0,\n",
       " 'ENGENHARIA AMBIENTAL (BACHARELADO)': 0.0,\n",
       " 'ENGENHARIA CIVIL (BACHARELADO)': 0.0,\n",
       " 'ENGENHARIA DE COMPUTAÇÃO (BACHARELADO)': 0.0,\n",
       " 'ENGENHARIA DE PRODUÇÃO (BACHARELADO)': 0.0,\n",
       " 'ENGENHARIA DE REDES DE COMUNICAÇÃO (BACHARELADO)': 0.0,\n",
       " 'ENGENHARIA ELÉTRICA (BACHARELADO)': 0.0,\n",
       " 'ENGENHARIA FLORESTAL (BACHARELADO)': 0.0,\n",
       " 'ENGENHARIA MECATRÔNICA – CONTROLE E AUTOMAÇÃO (BACHARELADO)': 0.0,\n",
       " 'ENGENHARIA MECÂNICA (BACHARELADO)': 0.0,\n",
       " 'ENGENHARIA QUÍMICA (BACHARELADO)': 0.0,\n",
       " 'ESTATÍSTICA (BACHARELADO)': 0.0,\n",
       " 'FARMÁCIA (BACHARELADO)': 0.0,\n",
       " 'FILOSOFIA (BACHARELADO/LICENCIATURA)': 0.0,\n",
       " 'FILOSOFIA (LICENCIATURA)': 0.0,\n",
       " 'FISIOTERAPIA (BACHARELADO)': 0.0,\n",
       " 'FONOAUDIOLOGIA (BACHARELADO)': 0.0,\n",
       " 'FÍSICA (BACHARELADO)': 0.0,\n",
       " 'GEOFÍSICA (BACHARELADO)': 0.0,\n",
       " 'GEOGRAFIA (BACHARELADO/LICENCIATURA)': 0.0,\n",
       " 'GEOLOGIA (BACHARELADO)': 0.0,\n",
       " 'GESTÃO AMBIENTAL (BACHARELADO)': 0.0,\n",
       " 'GESTÃO DE AGRONEGÓCIO (BACHARELADO)': 0.0,\n",
       " 'GESTÃO DE POLÍTICAS PÚB LICAS (BACHARELADO)': 0.0,\n",
       " 'GESTÃO DO AGRONEGÓCIO (BACHARELADO)': 0.0,\n",
       " 'HISTÓRIA (BACHARELADO/LICENCIATURA )': 0.0,\n",
       " 'HISTÓRIA (LICENCIATURA)': 0.0,\n",
       " 'JORNALISMO (BACHARELADO)': 0.0,\n",
       " 'LETRAS – PORTUGUÊS DO BRASIL COMO SEGUNDA LÍNGUA (LICENCIATURA)': 0.0,\n",
       " 'LETRAS – TRADUÇÃO E SPANHOL (BACHARELADO)': 0.0,\n",
       " 'LETRAS – TRADUÇÃO – FRANCÊS (BACHARELADO)': 0.0,\n",
       " 'LETRAS – TRADUÇÃO – INGLÊS  (BACHARELADO)': 0.0,\n",
       " 'LICENCIATURA EM ARTES CÊNICAS*': 0.0,\n",
       " 'LICENCIATURA EM CIÊNCIAS BIOLÓGICAS': 0.0,\n",
       " 'LICENCIATURA EM FÍSICA': 0.0,\n",
       " 'LICENCIATURA EM MATEMÁTICA': 0.0,\n",
       " 'LICENCIATURA EM QUÍMICA': 0.0,\n",
       " 'LÍNGUA E LITERATURA JAPONESA (LICENCIATURA)': 0.0,\n",
       " 'LÍNGUA ESPANHOLA E LITERATURA ESPANHOLA E HISPANO -AMERICANA (LICENCIATURA)': 0.0,\n",
       " 'LÍNGUA ESTRANGEIRA APLICADA – MULTILINGUISMO E SOCIEDADE DA INFORMAÇÃO (BACHARELADO)': 0.0,\n",
       " 'LÍNGUA FRANCESA E RESPECTIVA LITERATURA (BACHARELADO/LICENCIATURA)': 0.0,\n",
       " 'LÍNGUA INGLESA E RES PECTIVA LITERATURA (BACHARELADO/LICENCIATURA)': 0.0,\n",
       " 'LÍNGUA PORTUGUESA E RESPECTIVA LITERATURA (BACHARELADO/LICENCIATURA)': 0.0,\n",
       " 'LÍNGUA PORTUGUESA E RESPECTIVA LITERATURA (LICENCIATURA)': 0.0,\n",
       " 'MATEMÁTICA (BACHARELADO/LICENCIATURA)': 1.0,\n",
       " 'MEDICINA (BACHARELADO)': 0.0,\n",
       " 'MEDICINA VETERINÁRIA (BACHARELADO)': 0.0,\n",
       " 'MUSEOLOGIA (BACHARELADO)': 0.0,\n",
       " 'MÚSICA (BACHARELADO)*': 0.0,\n",
       " 'MÚSICA (LICENCIATU RA)*': 0.0,\n",
       " 'NUTRIÇÃO (BACHARELADO)': 0.0,\n",
       " 'ODONTOLOGIA (BACHARELADO)': 0.0,\n",
       " 'PEDAGOGIA (LICENCIATURA)': 0.0,\n",
       " 'PSICOLOGIA (BACHARELADO / LICENCIATURA / PSICÓLOGO)': 0.0,\n",
       " 'QUÍMICA (BACHARELADO)': 0.0,\n",
       " 'QUÍMICA TECNOLÓGICA (BACHARELADO)': 0.0,\n",
       " 'RELAÇÕES INTERNACIONAIS (BACHARELADO)': 0.0,\n",
       " 'SAÚDE COLETIVA (BACHARELADO)': 0.0,\n",
       " 'SERVIÇO SOCIAL (BACHARELADO)': 0.0,\n",
       " 'TEORIA, CRÍTICA E HISTÓRIA DA ARTE (BACHARELADO)': 0.0,\n",
       " 'TERAPIA OCUPACIONAL (BACHARELADO)': 0.0,\n",
       " 'TURISM O (BACHARELADO)': 0.0,\n",
       " 'cotista': 1.0,\n",
       " 'cotas_negros_flag': 0.0,\n",
       " 'publicas1_flag': 0.0,\n",
       " 'publicas2_flag': 0.0,\n",
       " 'publicas3_flag': 0.0,\n",
       " 'publicas4_flag': 0.0,\n",
       " 'publicas5_flag': 0.0,\n",
       " 'publicas6_flag': 0.0,\n",
       " 'publicas7_flag': 1.0,\n",
       " 'publicas8_flag': 0.0}"
      ]
     },
     "execution_count": 101,
     "metadata": {},
     "output_type": "execute_result"
    }
   ],
   "source": [
    "X_test.iloc[4].to_dict()"
   ]
  },
  {
   "cell_type": "code",
   "execution_count": 100,
   "metadata": {},
   "outputs": [
    {
     "data": {
      "text/plain": [
       "510     0\n",
       "6079    0\n",
       "1730    0\n",
       "5231    0\n",
       "3514    1\n",
       "       ..\n",
       "639     0\n",
       "4744    0\n",
       "4629    0\n",
       "3591    0\n",
       "171     0\n",
       "Name: label, Length: 1453, dtype: int64"
      ]
     },
     "execution_count": 100,
     "metadata": {},
     "output_type": "execute_result"
    }
   ],
   "source": [
    "y_test"
   ]
  },
  {
   "cell_type": "code",
   "execution_count": 27,
   "metadata": {},
   "outputs": [],
   "source": [
    "from samples import sample_approved, sample_not_approved"
   ]
  },
  {
   "cell_type": "code",
   "execution_count": 42,
   "metadata": {},
   "outputs": [
    {
     "data": {
      "text/plain": [
       "['escore_bruto_p1_etapa1',\n",
       " 'escore_bruto_p2_etapa1',\n",
       " 'nota_redacao_etapa1',\n",
       " 'escore_bruto_p1_etapa2',\n",
       " 'escore_bruto_p2_etapa2',\n",
       " 'nota_redacao_etapa2',\n",
       " 'escore_bruto_p1_etapa3',\n",
       " 'escore_bruto_p2_etapa3',\n",
       " 'nota_redacao_etapa3',\n",
       " 'argumento_final',\n",
       " '2.1.1 CAMPUS  DARCY RIBEIRO – DIURNO  ADMINISTRAÇÃO (BACHARELADO)',\n",
       " 'cotista',\n",
       " 'cotas_negros_flag',\n",
       " 'publicas1_flag',\n",
       " 'publicas2_flag',\n",
       " 'publicas3_flag',\n",
       " 'publicas4_flag',\n",
       " 'publicas5_flag',\n",
       " 'publicas6_flag',\n",
       " 'publicas7_flag',\n",
       " 'publicas8_flag']"
      ]
     },
     "execution_count": 42,
     "metadata": {},
     "output_type": "execute_result"
    }
   ],
   "source": [
    "list(sample_not_approved.keys())"
   ]
  },
  {
   "cell_type": "code",
   "execution_count": 37,
   "metadata": {},
   "outputs": [],
   "source": [
    "new_sample = sample_not_approved\n",
    "new_sample = pd.DataFrame([{col: new_sample.get(col) for col in FEATURES}])\n",
    "new_sample = new_sample.fillna(0)"
   ]
  },
  {
   "cell_type": "code",
   "execution_count": 38,
   "metadata": {},
   "outputs": [
    {
     "data": {
      "text/html": [
       "<div>\n",
       "<style scoped>\n",
       "    .dataframe tbody tr th:only-of-type {\n",
       "        vertical-align: middle;\n",
       "    }\n",
       "\n",
       "    .dataframe tbody tr th {\n",
       "        vertical-align: top;\n",
       "    }\n",
       "\n",
       "    .dataframe thead th {\n",
       "        text-align: right;\n",
       "    }\n",
       "</style>\n",
       "<table border=\"1\" class=\"dataframe\">\n",
       "  <thead>\n",
       "    <tr style=\"text-align: right;\">\n",
       "      <th></th>\n",
       "      <th>escore_bruto_p1_etapa1</th>\n",
       "      <th>escore_bruto_p2_etapa1</th>\n",
       "      <th>nota_redacao_etapa1</th>\n",
       "      <th>escore_bruto_p1_etapa2</th>\n",
       "      <th>escore_bruto_p2_etapa2</th>\n",
       "      <th>nota_redacao_etapa2</th>\n",
       "      <th>escore_bruto_p1_etapa3</th>\n",
       "      <th>escore_bruto_p2_etapa3</th>\n",
       "      <th>nota_redacao_etapa3</th>\n",
       "      <th>argumento_final</th>\n",
       "      <th>...</th>\n",
       "      <th>cotista</th>\n",
       "      <th>cotas_negros_flag</th>\n",
       "      <th>publicas1_flag</th>\n",
       "      <th>publicas2_flag</th>\n",
       "      <th>publicas3_flag</th>\n",
       "      <th>publicas4_flag</th>\n",
       "      <th>publicas5_flag</th>\n",
       "      <th>publicas6_flag</th>\n",
       "      <th>publicas7_flag</th>\n",
       "      <th>publicas8_flag</th>\n",
       "    </tr>\n",
       "  </thead>\n",
       "  <tbody>\n",
       "    <tr>\n",
       "      <th>0</th>\n",
       "      <td>5.172</td>\n",
       "      <td>14.653</td>\n",
       "      <td>6.947</td>\n",
       "      <td>3.845</td>\n",
       "      <td>19.994</td>\n",
       "      <td>7.222</td>\n",
       "      <td>4.998</td>\n",
       "      <td>16.66</td>\n",
       "      <td>8.06</td>\n",
       "      <td>-25.699</td>\n",
       "      <td>...</td>\n",
       "      <td>0.0</td>\n",
       "      <td>0.0</td>\n",
       "      <td>0.0</td>\n",
       "      <td>0.0</td>\n",
       "      <td>0.0</td>\n",
       "      <td>0.0</td>\n",
       "      <td>0.0</td>\n",
       "      <td>0.0</td>\n",
       "      <td>0.0</td>\n",
       "      <td>0.0</td>\n",
       "    </tr>\n",
       "  </tbody>\n",
       "</table>\n",
       "<p>1 rows × 111 columns</p>\n",
       "</div>"
      ],
      "text/plain": [
       "   escore_bruto_p1_etapa1  escore_bruto_p2_etapa1  nota_redacao_etapa1  \\\n",
       "0                   5.172                  14.653                6.947   \n",
       "\n",
       "   escore_bruto_p1_etapa2  escore_bruto_p2_etapa2  nota_redacao_etapa2  \\\n",
       "0                   3.845                  19.994                7.222   \n",
       "\n",
       "   escore_bruto_p1_etapa3  escore_bruto_p2_etapa3  nota_redacao_etapa3  \\\n",
       "0                   4.998                   16.66                 8.06   \n",
       "\n",
       "   argumento_final  ...  cotista  cotas_negros_flag  publicas1_flag  \\\n",
       "0          -25.699  ...      0.0                0.0             0.0   \n",
       "\n",
       "   publicas2_flag  publicas3_flag  publicas4_flag  publicas5_flag  \\\n",
       "0             0.0             0.0             0.0             0.0   \n",
       "\n",
       "   publicas6_flag  publicas7_flag  publicas8_flag  \n",
       "0             0.0             0.0             0.0  \n",
       "\n",
       "[1 rows x 111 columns]"
      ]
     },
     "execution_count": 38,
     "metadata": {},
     "output_type": "execute_result"
    }
   ],
   "source": [
    "new_sample"
   ]
  },
  {
   "cell_type": "code",
   "execution_count": 39,
   "metadata": {},
   "outputs": [
    {
     "data": {
      "text/plain": [
       "0.073"
      ]
     },
     "execution_count": 39,
     "metadata": {},
     "output_type": "execute_result"
    }
   ],
   "source": [
    "predict_approval(model_loaded, new_data=new_sample)"
   ]
  }
 ],
 "metadata": {
  "kernelspec": {
   "display_name": "base",
   "language": "python",
   "name": "python3"
  },
  "language_info": {
   "codemirror_mode": {
    "name": "ipython",
    "version": 3
   },
   "file_extension": ".py",
   "mimetype": "text/x-python",
   "name": "python",
   "nbconvert_exporter": "python",
   "pygments_lexer": "ipython3",
   "version": "3.9.7"
  },
  "orig_nbformat": 4
 },
 "nbformat": 4,
 "nbformat_minor": 2
}
