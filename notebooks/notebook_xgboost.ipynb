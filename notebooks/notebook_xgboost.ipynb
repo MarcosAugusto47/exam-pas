{
 "cells": [
  {
   "cell_type": "code",
   "execution_count": 1,
   "metadata": {},
   "outputs": [],
   "source": [
    "import pandas as pd\n",
    "from pandas.api.types import CategoricalDtype\n",
    "\n",
    "import config\n",
    "\n",
    "from sklearn.model_selection import train_test_split\n",
    "from sklearn.metrics import classification_report\n",
    "\n",
    "import xgboost as xgb\n",
    "\n",
    "import pickle\n",
    "pd.set_option('display.max_rows', None)"
   ]
  },
  {
   "cell_type": "code",
   "execution_count": 2,
   "metadata": {},
   "outputs": [],
   "source": [
    "df = pd.read_parquet('../data/processed/scores_approvals_2020_2022.parquet')\n",
    "df2 = pd.read_parquet('../data/processed/scores_approvals_2019_2021.parquet')"
   ]
  },
  {
   "cell_type": "code",
   "execution_count": 3,
   "metadata": {},
   "outputs": [
    {
     "name": "stdout",
     "output_type": "stream",
     "text": [
      "<class 'pandas.core.frame.DataFrame'>\n",
      "Int64Index: 7263 entries, 0 to 7262\n",
      "Data columns (total 50 columns):\n",
      " #   Column                            Non-Null Count  Dtype   \n",
      "---  ------                            --------------  -----   \n",
      " 0   numero_inscricao                  7263 non-null   object  \n",
      " 1   nome_x                            7263 non-null   object  \n",
      " 2   escore_bruto_p1_etapa1            7263 non-null   float64 \n",
      " 3   escore_bruto_p2_etapa1            7263 non-null   float64 \n",
      " 4   nota_redacao_etapa1               7263 non-null   float64 \n",
      " 5   escore_bruto_p1_etapa2            7263 non-null   float64 \n",
      " 6   escore_bruto_p2_etapa2            7263 non-null   float64 \n",
      " 7   nota_redacao_etapa2               7263 non-null   float64 \n",
      " 8   escore_bruto_p1_etapa3            7263 non-null   float64 \n",
      " 9   escore_bruto_p2_etapa3            7263 non-null   float64 \n",
      " 10  nota_redacao_etapa3               7263 non-null   float64 \n",
      " 11  argumento_final                   7263 non-null   float64 \n",
      " 12  classificacao_final_universal     7263 non-null   object  \n",
      " 13  classificacao_final_cotas_negros  379 non-null    object  \n",
      " 14  classificacao_final_publicas1     312 non-null    object  \n",
      " 15  classificacao_final_publicas2     0 non-null      float64 \n",
      " 16  classificacao_final_publicas3     555 non-null    object  \n",
      " 17  classificacao_final_publicas4     4 non-null      object  \n",
      " 18  classificacao_final_publicas5     842 non-null    object  \n",
      " 19  classificacao_final_publicas6     0 non-null      float64 \n",
      " 20  classificacao_final_publicas7     1754 non-null   object  \n",
      " 21  classificacao_final_publicas8     3 non-null      object  \n",
      " 22  course                            7263 non-null   object  \n",
      " 23  cotista                           7263 non-null   int32   \n",
      " 24  cotas_negros_flag                 7263 non-null   int32   \n",
      " 25  publicas1_flag                    7263 non-null   int32   \n",
      " 26  publicas2_flag                    7263 non-null   int32   \n",
      " 27  publicas3_flag                    7263 non-null   int32   \n",
      " 28  publicas4_flag                    7263 non-null   int32   \n",
      " 29  publicas5_flag                    7263 non-null   int32   \n",
      " 30  publicas6_flag                    7263 non-null   int32   \n",
      " 31  publicas7_flag                    7263 non-null   int32   \n",
      " 32  publicas8_flag                    7263 non-null   int32   \n",
      " 33  publicas_flag                     7263 non-null   int32   \n",
      " 34  nome_y                            1967 non-null   object  \n",
      " 35  campus                            1967 non-null   object  \n",
      " 36  curso                             1967 non-null   object  \n",
      " 37  periodo                           1967 non-null   object  \n",
      " 38  _merge                            7263 non-null   category\n",
      " 39  label                             7263 non-null   int64   \n",
      " 40  pseudo_argumento_final            7263 non-null   float64 \n",
      " 41  mean                              7263 non-null   float64 \n",
      " 42  median                            7263 non-null   float64 \n",
      " 43  min                               7263 non-null   float64 \n",
      " 44  max                               7263 non-null   float64 \n",
      " 45  std                               7260 non-null   float64 \n",
      " 46  min_flag                          7263 non-null   bool    \n",
      " 47  max_flag                          7263 non-null   bool    \n",
      " 48  median_flag                       7263 non-null   bool    \n",
      " 49  mean_flag                         7263 non-null   bool    \n",
      "dtypes: bool(4), category(1), float64(18), int32(11), int64(1), object(15)\n",
      "memory usage: 2.3+ MB\n"
     ]
    }
   ],
   "source": [
    "df.info()"
   ]
  },
  {
   "cell_type": "code",
   "execution_count": 4,
   "metadata": {},
   "outputs": [
    {
     "data": {
      "text/plain": [
       "19"
      ]
     },
     "execution_count": 4,
     "metadata": {},
     "output_type": "execute_result"
    }
   ],
   "source": [
    "FEATURES = ['escore_bruto_p1_etapa1',\n",
    "            'escore_bruto_p2_etapa1',\n",
    "            #'nota_redacao_etapa1',\n",
    "            'escore_bruto_p1_etapa2',\n",
    "            'escore_bruto_p2_etapa2',\n",
    "            #'nota_redacao_etapa2',\n",
    "            'escore_bruto_p1_etapa3',\n",
    "            'escore_bruto_p2_etapa3',\n",
    "            #'nota_redacao_etapa3',\n",
    "            'pseudo_argumento_final',\n",
    "            'min_flag',\n",
    "            'median_flag',\n",
    "            #'dist_max',\n",
    "            #'dist_mean',\n",
    "            #'cotista',\n",
    "            'cotas_negros_flag',\n",
    "            #'publicas_flag',\n",
    "            'publicas1_flag',\n",
    "            'publicas2_flag',\n",
    "            'publicas3_flag',\n",
    "            'publicas4_flag',\n",
    "            'publicas5_flag',\n",
    "            'publicas6_flag',\n",
    "            'publicas7_flag',\n",
    "            'publicas8_flag',\n",
    "            'course'\n",
    "            ]\n",
    "len(FEATURES)"
   ]
  },
  {
   "cell_type": "code",
   "execution_count": 5,
   "metadata": {},
   "outputs": [],
   "source": [
    "cat_type = CategoricalDtype(categories=config.COURSE_NAMES)"
   ]
  },
  {
   "cell_type": "code",
   "execution_count": 6,
   "metadata": {},
   "outputs": [],
   "source": [
    "df['course'] = df['course'].astype(cat_type)\n",
    "shuffled_df = df.sample(frac=1, random_state=42)\n",
    "X = shuffled_df[FEATURES] # features\n",
    "y = shuffled_df['label'] # labels\n",
    "X_train, X_test, y_train, y_test = train_test_split(X, y, test_size=0.20, random_state=47) # 70% training and 30% test"
   ]
  },
  {
   "cell_type": "code",
   "execution_count": 7,
   "metadata": {},
   "outputs": [
    {
     "name": "stdout",
     "output_type": "stream",
     "text": [
      "(5810, 19)\n",
      "(5810,)\n"
     ]
    }
   ],
   "source": [
    "print(X_train.shape)\n",
    "print(y_train.shape)"
   ]
  },
  {
   "cell_type": "code",
   "execution_count": 8,
   "metadata": {},
   "outputs": [
    {
     "data": {
      "text/plain": [
       "0    0.731842\n",
       "1    0.268158\n",
       "Name: label, dtype: float64"
      ]
     },
     "execution_count": 8,
     "metadata": {},
     "output_type": "execute_result"
    }
   ],
   "source": [
    "y_train.value_counts(normalize=True)"
   ]
  },
  {
   "cell_type": "code",
   "execution_count": 9,
   "metadata": {},
   "outputs": [
    {
     "data": {
      "text/plain": [
       "0    0.718513\n",
       "1    0.281487\n",
       "Name: label, dtype: float64"
      ]
     },
     "execution_count": 9,
     "metadata": {},
     "output_type": "execute_result"
    }
   ],
   "source": [
    "y_test.value_counts(normalize=True)"
   ]
  },
  {
   "cell_type": "code",
   "execution_count": 10,
   "metadata": {},
   "outputs": [],
   "source": [
    "df2['course'] = df2['course'].astype(cat_type)\n",
    "df2_shuffled = df2.sample(frac=1, random_state=42)"
   ]
  },
  {
   "cell_type": "code",
   "execution_count": 11,
   "metadata": {},
   "outputs": [
    {
     "data": {
      "text/plain": [
       "0    6476\n",
       "1    2096\n",
       "Name: label, dtype: int64"
      ]
     },
     "execution_count": 11,
     "metadata": {},
     "output_type": "execute_result"
    }
   ],
   "source": [
    "df2_shuffled.label.value_counts()"
   ]
  },
  {
   "cell_type": "code",
   "execution_count": 12,
   "metadata": {},
   "outputs": [
    {
     "name": "stdout",
     "output_type": "stream",
     "text": [
      "(14382, 19)\n",
      "(14382,)\n"
     ]
    }
   ],
   "source": [
    "X_train = pd.concat([X_train, df2_shuffled[FEATURES]])\n",
    "y_train = pd.concat([y_train, df2_shuffled['label']])\n",
    "\n",
    "print(X_train.shape)\n",
    "print(y_train.shape)"
   ]
  },
  {
   "cell_type": "code",
   "execution_count": 13,
   "metadata": {},
   "outputs": [],
   "source": [
    "X_train['min_flag'] = X_train['min_flag'].astype(\"category\")\n",
    "X_train['median_flag'] = X_train['median_flag'].astype(\"category\")\n",
    "X_test['min_flag'] = X_test['min_flag'].astype(\"category\")\n",
    "X_test['median_flag'] = X_test['median_flag'].astype(\"category\")"
   ]
  },
  {
   "cell_type": "code",
   "execution_count": 15,
   "metadata": {},
   "outputs": [
    {
     "data": {
      "text/plain": [
       "0    1044\n",
       "1     409\n",
       "Name: label, dtype: int64"
      ]
     },
     "execution_count": 15,
     "metadata": {},
     "output_type": "execute_result"
    }
   ],
   "source": [
    "y_test.value_counts()"
   ]
  },
  {
   "cell_type": "code",
   "execution_count": 16,
   "metadata": {},
   "outputs": [
    {
     "name": "stdout",
     "output_type": "stream",
     "text": [
      "<class 'pandas.core.frame.DataFrame'>\n",
      "Int64Index: 14382 entries, 960 to 7270\n",
      "Data columns (total 19 columns):\n",
      " #   Column                  Non-Null Count  Dtype   \n",
      "---  ------                  --------------  -----   \n",
      " 0   escore_bruto_p1_etapa1  14382 non-null  float64 \n",
      " 1   escore_bruto_p2_etapa1  14382 non-null  float64 \n",
      " 2   escore_bruto_p1_etapa2  14382 non-null  float64 \n",
      " 3   escore_bruto_p2_etapa2  14382 non-null  float64 \n",
      " 4   escore_bruto_p1_etapa3  14382 non-null  float64 \n",
      " 5   escore_bruto_p2_etapa3  14382 non-null  float64 \n",
      " 6   pseudo_argumento_final  14382 non-null  float64 \n",
      " 7   min_flag                14382 non-null  category\n",
      " 8   median_flag             14382 non-null  category\n",
      " 9   cotas_negros_flag       14382 non-null  int32   \n",
      " 10  publicas1_flag          14382 non-null  int32   \n",
      " 11  publicas2_flag          14382 non-null  int32   \n",
      " 12  publicas3_flag          14382 non-null  int32   \n",
      " 13  publicas4_flag          14382 non-null  int32   \n",
      " 14  publicas5_flag          14382 non-null  int32   \n",
      " 15  publicas6_flag          14382 non-null  int32   \n",
      " 16  publicas7_flag          14382 non-null  int32   \n",
      " 17  publicas8_flag          14382 non-null  int32   \n",
      " 18  course                  14382 non-null  category\n",
      "dtypes: category(3), float64(7), int32(9)\n",
      "memory usage: 1.4 MB\n"
     ]
    }
   ],
   "source": [
    "X_train.info()"
   ]
  },
  {
   "attachments": {},
   "cell_type": "markdown",
   "metadata": {},
   "source": [
    "## XGBoost"
   ]
  },
  {
   "cell_type": "code",
   "execution_count": 17,
   "metadata": {},
   "outputs": [
    {
     "data": {
      "text/plain": [
       "2.935960591133005"
      ]
     },
     "execution_count": 17,
     "metadata": {},
     "output_type": "execute_result"
    }
   ],
   "source": [
    "# Calculate the class imbalance ratio\n",
    "class_ratio = len(y_train[y_train == 0]) / len(y_train[y_train == 1])\n",
    "class_ratio"
   ]
  },
  {
   "cell_type": "code",
   "execution_count": 18,
   "metadata": {},
   "outputs": [
    {
     "data": {
      "text/plain": [
       "{'0': {'precision': 0.950354609929078,\n",
       "  'recall': 0.7701149425287356,\n",
       "  'f1-score': 0.8507936507936507,\n",
       "  'support': 1044},\n",
       " '1': {'precision': 0.6046128500823723,\n",
       "  'recall': 0.8973105134474327,\n",
       "  'f1-score': 0.7224409448818897,\n",
       "  'support': 409},\n",
       " 'accuracy': 0.8059187887130076,\n",
       " 'macro avg': {'precision': 0.7774837300057251,\n",
       "  'recall': 0.8337127279880842,\n",
       "  'f1-score': 0.7866172978377701,\n",
       "  'support': 1453},\n",
       " 'weighted avg': {'precision': 0.8530329445627307,\n",
       "  'recall': 0.8059187887130076,\n",
       "  'f1-score': 0.8146640866381721,\n",
       "  'support': 1453}}"
      ]
     },
     "execution_count": 18,
     "metadata": {},
     "output_type": "execute_result"
    }
   ],
   "source": [
    "#Define the XGBoost parameters\n",
    "# params = {\n",
    "#     'booster': 'gbtree',\n",
    "#     'tree_method': 'hist',\n",
    "#     # 'max_bin': 300,\n",
    "#      'n_estimators': 390,\n",
    "#      'eta': 0.01,                        # Learning rate\n",
    "#     # 'max_depth': 32,                   # Maximum depth of a tree\n",
    "#      #'subsample': 1,                  # Subsample ratio of the training instances\n",
    "#     # 'colsample_bytree': 0.7,          # Subsample ratio of columns when constructing each tree\n",
    "#     # 'scale_pos_weight': class_ratio,\n",
    "#     # 'gamma': 0.5,\n",
    "#     # 'lambda': 1\n",
    "# }\n",
    "\n",
    "params = {\n",
    "    'booster': 'gbtree',\n",
    "    'tree_method': 'hist',\n",
    "    #'max_bin': 300,\n",
    "    'n_estimators': 150,\n",
    "    'eta': 0.1,                        # Learning rate\n",
    "    'max_depth': 32,                   # Maximum depth of a tree\n",
    "    'subsample': 0.7,                  # Subsample ratio of the training instances\n",
    "    #'colsample_bytree': 0.8,          # Subsample ratio of columns when constructing each tree\n",
    "    #'scale_pos_weight': class_ratio,\n",
    "    'scale_pos_weight': 3,\n",
    "    'gamma': 5,\n",
    "    'lambda': 5\n",
    "}\n",
    "\n",
    "# Create an XGBoost classifier\n",
    "model = xgb.XGBClassifier(**params,\n",
    "                          monotone_constraints='(1, 1, 1, 1, 1, 1, 1, 1, 1, 1)',\n",
    "                          enable_categorical=True)\n",
    "\n",
    "# Fit the model to the training data\n",
    "#eval_set = [(X_test, y_test)]\n",
    "#model.fit(X_train, y_train, early_stopping_rounds=5, eval_set=eval_set, eval_metric='auc', verbose=False)\n",
    "model.fit(X_train, y_train)\n",
    "\n",
    "# # Make predictions on the test set\n",
    "# y_pred = model.predict(X_train)\n",
    "\n",
    "# # Model Accuracy, how often is the classifier correct?\n",
    "# classification_report(y_train, y_pred, output_dict=True)\n",
    "\n",
    "# Make predictions on the test set\n",
    "y_pred = model.predict(X_test)\n",
    "\n",
    "# Model Accuracy, how often is the classifier correct?\n",
    "classification_report(y_test, y_pred, output_dict=True)"
   ]
  },
  {
   "cell_type": "code",
   "execution_count": 19,
   "metadata": {},
   "outputs": [
    {
     "data": {
      "text/plain": [
       "{'0': {'precision': 0.9772727272727273,\n",
       "  'recall': 0.9847328244274809,\n",
       "  'f1-score': 0.9809885931558935,\n",
       "  'support': 131},\n",
       " '1': {'precision': 0.8333333333333334,\n",
       "  'recall': 0.7692307692307693,\n",
       "  'f1-score': 0.8,\n",
       "  'support': 13},\n",
       " 'accuracy': 0.9652777777777778,\n",
       " 'macro avg': {'precision': 0.9053030303030303,\n",
       "  'recall': 0.8769817968291251,\n",
       "  'f1-score': 0.8904942965779468,\n",
       "  'support': 144},\n",
       " 'weighted avg': {'precision': 0.9642781986531987,\n",
       "  'recall': 0.9652777777777778,\n",
       "  'f1-score': 0.9646493451626531,\n",
       "  'support': 144}}"
      ]
     },
     "execution_count": 19,
     "metadata": {},
     "output_type": "execute_result"
    }
   ],
   "source": [
    "#course='ENGENHARIAS – AEROESPACIAL / AUTOMOTIVA / ELETRÔNICA / ENERGIA / SOFTWARE (BACHARELADOS)'\n",
    "#course='DIREITO (BACHARELADO)'\n",
    "course='MEDICINA (BACHARELADO)'\n",
    "classification_report(y_test[X_test.course==course], y_pred[X_test.course==course], output_dict=True)"
   ]
  },
  {
   "cell_type": "code",
   "execution_count": 93,
   "metadata": {},
   "outputs": [],
   "source": [
    "# # Make predictions on the test set\n",
    "# y_pred = model.predict_proba(X_test)[:, 1] > 0.8\n",
    "\n",
    "# # Model Accuracy, how often is the classifier correct?\n",
    "# classification_report(y_test, y_pred, output_dict=True)"
   ]
  },
  {
   "cell_type": "code",
   "execution_count": 24,
   "metadata": {},
   "outputs": [],
   "source": [
    "# unique_course = X_test.course.unique()\n",
    "\n",
    "# for course in unique_course:\n",
    "#     classification_report(y_test[X_test.course==course], y_pred[X_test.course==course], output_dict=True)"
   ]
  },
  {
   "attachments": {},
   "cell_type": "markdown",
   "metadata": {},
   "source": [
    "## Features Importance"
   ]
  },
  {
   "cell_type": "code",
   "execution_count": 51,
   "metadata": {},
   "outputs": [
    {
     "data": {
      "text/html": [
       "<div>\n",
       "<style scoped>\n",
       "    .dataframe tbody tr th:only-of-type {\n",
       "        vertical-align: middle;\n",
       "    }\n",
       "\n",
       "    .dataframe tbody tr th {\n",
       "        vertical-align: top;\n",
       "    }\n",
       "\n",
       "    .dataframe thead th {\n",
       "        text-align: right;\n",
       "    }\n",
       "</style>\n",
       "<table border=\"1\" class=\"dataframe\">\n",
       "  <thead>\n",
       "    <tr style=\"text-align: right;\">\n",
       "      <th></th>\n",
       "      <th>x1</th>\n",
       "      <th>x2</th>\n",
       "    </tr>\n",
       "  </thead>\n",
       "  <tbody>\n",
       "    <tr>\n",
       "      <th>8</th>\n",
       "      <td>0.227362</td>\n",
       "      <td>dist_median</td>\n",
       "    </tr>\n",
       "    <tr>\n",
       "      <th>16</th>\n",
       "      <td>0.157981</td>\n",
       "      <td>publicas7_flag</td>\n",
       "    </tr>\n",
       "    <tr>\n",
       "      <th>12</th>\n",
       "      <td>0.088408</td>\n",
       "      <td>publicas3_flag</td>\n",
       "    </tr>\n",
       "    <tr>\n",
       "      <th>18</th>\n",
       "      <td>0.087576</td>\n",
       "      <td>course</td>\n",
       "    </tr>\n",
       "    <tr>\n",
       "      <th>14</th>\n",
       "      <td>0.069401</td>\n",
       "      <td>publicas5_flag</td>\n",
       "    </tr>\n",
       "    <tr>\n",
       "      <th>6</th>\n",
       "      <td>0.060615</td>\n",
       "      <td>pseudo_argumento_final</td>\n",
       "    </tr>\n",
       "    <tr>\n",
       "      <th>7</th>\n",
       "      <td>0.048652</td>\n",
       "      <td>dist_min</td>\n",
       "    </tr>\n",
       "    <tr>\n",
       "      <th>5</th>\n",
       "      <td>0.041571</td>\n",
       "      <td>escore_bruto_p2_etapa3</td>\n",
       "    </tr>\n",
       "    <tr>\n",
       "      <th>10</th>\n",
       "      <td>0.038580</td>\n",
       "      <td>publicas1_flag</td>\n",
       "    </tr>\n",
       "    <tr>\n",
       "      <th>9</th>\n",
       "      <td>0.030472</td>\n",
       "      <td>cotas_negros_flag</td>\n",
       "    </tr>\n",
       "    <tr>\n",
       "      <th>11</th>\n",
       "      <td>0.026290</td>\n",
       "      <td>publicas2_flag</td>\n",
       "    </tr>\n",
       "    <tr>\n",
       "      <th>17</th>\n",
       "      <td>0.025047</td>\n",
       "      <td>publicas8_flag</td>\n",
       "    </tr>\n",
       "    <tr>\n",
       "      <th>3</th>\n",
       "      <td>0.023452</td>\n",
       "      <td>escore_bruto_p2_etapa2</td>\n",
       "    </tr>\n",
       "    <tr>\n",
       "      <th>1</th>\n",
       "      <td>0.022651</td>\n",
       "      <td>escore_bruto_p2_etapa1</td>\n",
       "    </tr>\n",
       "    <tr>\n",
       "      <th>4</th>\n",
       "      <td>0.018256</td>\n",
       "      <td>escore_bruto_p1_etapa3</td>\n",
       "    </tr>\n",
       "    <tr>\n",
       "      <th>2</th>\n",
       "      <td>0.017614</td>\n",
       "      <td>escore_bruto_p1_etapa2</td>\n",
       "    </tr>\n",
       "    <tr>\n",
       "      <th>0</th>\n",
       "      <td>0.016070</td>\n",
       "      <td>escore_bruto_p1_etapa1</td>\n",
       "    </tr>\n",
       "    <tr>\n",
       "      <th>13</th>\n",
       "      <td>0.000000</td>\n",
       "      <td>publicas4_flag</td>\n",
       "    </tr>\n",
       "    <tr>\n",
       "      <th>15</th>\n",
       "      <td>0.000000</td>\n",
       "      <td>publicas6_flag</td>\n",
       "    </tr>\n",
       "  </tbody>\n",
       "</table>\n",
       "</div>"
      ],
      "text/plain": [
       "          x1                      x2\n",
       "8   0.227362             dist_median\n",
       "16  0.157981          publicas7_flag\n",
       "12  0.088408          publicas3_flag\n",
       "18  0.087576                  course\n",
       "14  0.069401          publicas5_flag\n",
       "6   0.060615  pseudo_argumento_final\n",
       "7   0.048652                dist_min\n",
       "5   0.041571  escore_bruto_p2_etapa3\n",
       "10  0.038580          publicas1_flag\n",
       "9   0.030472       cotas_negros_flag\n",
       "11  0.026290          publicas2_flag\n",
       "17  0.025047          publicas8_flag\n",
       "3   0.023452  escore_bruto_p2_etapa2\n",
       "1   0.022651  escore_bruto_p2_etapa1\n",
       "4   0.018256  escore_bruto_p1_etapa3\n",
       "2   0.017614  escore_bruto_p1_etapa2\n",
       "0   0.016070  escore_bruto_p1_etapa1\n",
       "13  0.000000          publicas4_flag\n",
       "15  0.000000          publicas6_flag"
      ]
     },
     "execution_count": 51,
     "metadata": {},
     "output_type": "execute_result"
    }
   ],
   "source": [
    "pd.DataFrame({'x1':model.feature_importances_, 'x2': X_train.columns}).sort_values(['x1'], ascending=False)"
   ]
  },
  {
   "attachments": {},
   "cell_type": "markdown",
   "metadata": {},
   "source": [
    "## Model Calibration"
   ]
  },
  {
   "cell_type": "code",
   "execution_count": 57,
   "metadata": {},
   "outputs": [],
   "source": [
    "import matplotlib.pyplot as plt\n",
    "from matplotlib.gridspec import GridSpec\n",
    "from sklearn.calibration import CalibratedClassifierCV, CalibrationDisplay"
   ]
  },
  {
   "cell_type": "code",
   "execution_count": 93,
   "metadata": {},
   "outputs": [],
   "source": [
    "model_sigmoid = CalibratedClassifierCV(model, cv=5, method=\"sigmoid\")"
   ]
  },
  {
   "cell_type": "code",
   "execution_count": 94,
   "metadata": {},
   "outputs": [],
   "source": [
    "clf_list = [(model, \"XGBoost\"), (model_sigmoid, \"XGBoost + Isotonic\")]"
   ]
  },
  {
   "cell_type": "code",
   "execution_count": 95,
   "metadata": {},
   "outputs": [
    {
     "data": {
      "text/plain": [
       "Text(0.5, 1.0, 'Calibration plots (XGBoost)')"
      ]
     },
     "execution_count": 95,
     "metadata": {},
     "output_type": "execute_result"
    },
    {
     "data": {
      "image/png": "[encoded data removed]",
      "text/plain": [
       "<Figure size 720x720 with 1 Axes>"
      ]
     },
     "metadata": {
      "needs_background": "light"
     },
     "output_type": "display_data"
    }
   ],
   "source": [
    "fig = plt.figure(figsize=(10, 10))\n",
    "gs = GridSpec(2, 2)\n",
    "colors = plt.cm.get_cmap(\"Dark2\")\n",
    "\n",
    "ax_calibration_curve = fig.add_subplot(gs[:2, :2])\n",
    "calibration_displays = {}\n",
    "for i, (clf, name) in enumerate(clf_list):\n",
    "    clf.fit(X_train, y_train)\n",
    "    display = CalibrationDisplay.from_estimator(\n",
    "        clf,\n",
    "        X_test,\n",
    "        y_test,\n",
    "        n_bins=10,\n",
    "        name=name,\n",
    "        ax=ax_calibration_curve,\n",
    "        color=colors(i),\n",
    "    )\n",
    "    calibration_displays[name] = display\n",
    "\n",
    "ax_calibration_curve.grid()\n",
    "ax_calibration_curve.set_title(\"Calibration plots (XGBoost)\")"
   ]
  },
  {
   "cell_type": "code",
   "execution_count": 61,
   "metadata": {},
   "outputs": [
    {
     "data": {
      "text/plain": [
       "{'0': {'precision': 0.8619091751621872,\n",
       "  'recall': 0.8908045977011494,\n",
       "  'f1-score': 0.8761186999528968,\n",
       "  'support': 1044},\n",
       " '1': {'precision': 0.6951871657754011,\n",
       "  'recall': 0.6356968215158925,\n",
       "  'f1-score': 0.6641123882503193,\n",
       "  'support': 409},\n",
       " 'accuracy': 0.8189951823812801,\n",
       " 'macro avg': {'precision': 0.7785481704687942,\n",
       "  'recall': 0.7632507096085209,\n",
       "  'f1-score': 0.7701155441016081,\n",
       "  'support': 1453},\n",
       " 'weighted avg': {'precision': 0.8149791670140829,\n",
       "  'recall': 0.8189951823812801,\n",
       "  'f1-score': 0.8164417684412972,\n",
       "  'support': 1453}}"
      ]
     },
     "execution_count": 61,
     "metadata": {},
     "output_type": "execute_result"
    }
   ],
   "source": [
    "# Make predictions on the test set\n",
    "y_pred = model_sigmoid.predict(X_test)\n",
    "\n",
    "# Model Accuracy, how often is the classifier correct?\n",
    "classification_report(y_test, y_pred, output_dict=True)"
   ]
  },
  {
   "attachments": {},
   "cell_type": "markdown",
   "metadata": {},
   "source": [
    "## Prediction for new sample"
   ]
  },
  {
   "cell_type": "code",
   "execution_count": 94,
   "metadata": {},
   "outputs": [],
   "source": [
    "with open('xgboost_categorical_not_calibrated.pickle','wb') as f:\n",
    "    pickle.dump(model, f)"
   ]
  },
  {
   "cell_type": "code",
   "execution_count": 30,
   "metadata": {},
   "outputs": [],
   "source": [
    "with open('../ml_dev/models/xgboost_categorical_calibrated.pickle', 'rb') as f:\n",
    "  model_loaded = pickle.load(f)"
   ]
  },
  {
   "cell_type": "code",
   "execution_count": 58,
   "metadata": {},
   "outputs": [],
   "source": [
    "def preprocess_input_features(features: dict) -> pd.DataFrame:\n",
    "    new_sample = features\n",
    "    new_sample = pd.DataFrame([new_sample])\n",
    "    new_sample.course = new_sample.course.astype(cat_type)\n",
    "    return new_sample"
   ]
  },
  {
   "cell_type": "code",
   "execution_count": 69,
   "metadata": {},
   "outputs": [],
   "source": [
    "my_sample = {\n",
    " \"escore_bruto_p1_etapa1\": 6.034,\n",
    " \"escore_bruto_p2_etapa1\": 64.65,\n",
    " #\"nota_redacao_etapa1\": 9.733,\n",
    " \"escore_bruto_p1_etapa2\": 3.845,\n",
    " \"escore_bruto_p2_etapa2\": 63.826,\n",
    " #\"nota_redacao_etapa2\": 9.933,\n",
    " \"escore_bruto_p1_etapa3\": 7.14,\n",
    " \"escore_bruto_p2_etapa3\": 76.636,\n",
    " #\"nota_redacao_etapa3\": 9.931,\n",
    " \"pseudo_argumento_final\": 70.36833333333334,\n",
    " \"dist_min\": True,\n",
    " \"dist_median\": True,\n",
    " #\"cotista\": 0,\n",
    " \"cotas_negros_flag\": 0,\n",
    " #\"publicas_flag\": 0,\n",
    " \"publicas1_flag\": 0,\n",
    " \"publicas2_flag\": 0,\n",
    " \"publicas3_flag\": 0,\n",
    " \"publicas4_flag\": 0,\n",
    " \"publicas5_flag\": 0,\n",
    " \"publicas6_flag\": 0,\n",
    " \"publicas7_flag\": 0,\n",
    " \"publicas8_flag\": 0,\n",
    " \"course\": \"MEDICINA (BACHARELADO)\"\n",
    " }"
   ]
  },
  {
   "cell_type": "code",
   "execution_count": 70,
   "metadata": {},
   "outputs": [],
   "source": [
    "my_sample = preprocess_input_features(my_sample)"
   ]
  },
  {
   "cell_type": "code",
   "execution_count": 75,
   "metadata": {},
   "outputs": [
    {
     "data": {
      "text/plain": [
       "{'escore_bruto_p1_etapa1': 0.287,\n",
       " 'escore_bruto_p2_etapa1': 28.157,\n",
       " 'escore_bruto_p1_etapa2': 2.307,\n",
       " 'escore_bruto_p2_etapa2': 42.262,\n",
       " 'escore_bruto_p1_etapa3': 0.714,\n",
       " 'escore_bruto_p2_etapa3': 34.747,\n",
       " 'pseudo_argumento_final': 36.153666666666666,\n",
       " 'dist_min': False,\n",
       " 'dist_median': False,\n",
       " 'cotas_negros_flag': 0,\n",
       " 'publicas1_flag': 0,\n",
       " 'publicas2_flag': 0,\n",
       " 'publicas3_flag': 0,\n",
       " 'publicas4_flag': 0,\n",
       " 'publicas5_flag': 0,\n",
       " 'publicas6_flag': 0,\n",
       " 'publicas7_flag': 1,\n",
       " 'publicas8_flag': 0,\n",
       " 'course': 'MEDICINA (BACHARELADO)'}"
      ]
     },
     "execution_count": 75,
     "metadata": {},
     "output_type": "execute_result"
    }
   ],
   "source": [
    "X_test.loc[3926].to_dict()"
   ]
  },
  {
   "cell_type": "code",
   "execution_count": 71,
   "metadata": {},
   "outputs": [
    {
     "data": {
      "text/html": [
       "<div>\n",
       "<style scoped>\n",
       "    .dataframe tbody tr th:only-of-type {\n",
       "        vertical-align: middle;\n",
       "    }\n",
       "\n",
       "    .dataframe tbody tr th {\n",
       "        vertical-align: top;\n",
       "    }\n",
       "\n",
       "    .dataframe thead th {\n",
       "        text-align: right;\n",
       "    }\n",
       "</style>\n",
       "<table border=\"1\" class=\"dataframe\">\n",
       "  <thead>\n",
       "    <tr style=\"text-align: right;\">\n",
       "      <th></th>\n",
       "      <th>escore_bruto_p1_etapa1</th>\n",
       "      <th>escore_bruto_p2_etapa1</th>\n",
       "      <th>escore_bruto_p1_etapa2</th>\n",
       "      <th>escore_bruto_p2_etapa2</th>\n",
       "      <th>escore_bruto_p1_etapa3</th>\n",
       "      <th>escore_bruto_p2_etapa3</th>\n",
       "      <th>pseudo_argumento_final</th>\n",
       "      <th>dist_min</th>\n",
       "      <th>dist_median</th>\n",
       "      <th>cotas_negros_flag</th>\n",
       "      <th>publicas1_flag</th>\n",
       "      <th>publicas2_flag</th>\n",
       "      <th>publicas3_flag</th>\n",
       "      <th>publicas4_flag</th>\n",
       "      <th>publicas5_flag</th>\n",
       "      <th>publicas6_flag</th>\n",
       "      <th>publicas7_flag</th>\n",
       "      <th>publicas8_flag</th>\n",
       "      <th>course</th>\n",
       "    </tr>\n",
       "  </thead>\n",
       "  <tbody>\n",
       "    <tr>\n",
       "      <th>3926</th>\n",
       "      <td>0.287</td>\n",
       "      <td>28.157</td>\n",
       "      <td>2.307</td>\n",
       "      <td>42.262</td>\n",
       "      <td>0.714</td>\n",
       "      <td>34.747</td>\n",
       "      <td>36.153667</td>\n",
       "      <td>False</td>\n",
       "      <td>False</td>\n",
       "      <td>0</td>\n",
       "      <td>0</td>\n",
       "      <td>0</td>\n",
       "      <td>0</td>\n",
       "      <td>0</td>\n",
       "      <td>0</td>\n",
       "      <td>0</td>\n",
       "      <td>1</td>\n",
       "      <td>0</td>\n",
       "      <td>MEDICINA (BACHARELADO)</td>\n",
       "    </tr>\n",
       "    <tr>\n",
       "      <th>3936</th>\n",
       "      <td>6.034</td>\n",
       "      <td>64.650</td>\n",
       "      <td>3.845</td>\n",
       "      <td>63.826</td>\n",
       "      <td>7.140</td>\n",
       "      <td>76.636</td>\n",
       "      <td>70.368333</td>\n",
       "      <td>True</td>\n",
       "      <td>True</td>\n",
       "      <td>0</td>\n",
       "      <td>0</td>\n",
       "      <td>0</td>\n",
       "      <td>0</td>\n",
       "      <td>0</td>\n",
       "      <td>0</td>\n",
       "      <td>0</td>\n",
       "      <td>0</td>\n",
       "      <td>0</td>\n",
       "      <td>MEDICINA (BACHARELADO)</td>\n",
       "    </tr>\n",
       "  </tbody>\n",
       "</table>\n",
       "</div>"
      ],
      "text/plain": [
       "      escore_bruto_p1_etapa1  escore_bruto_p2_etapa1  escore_bruto_p1_etapa2  \\\n",
       "3926                   0.287                  28.157                   2.307   \n",
       "3936                   6.034                  64.650                   3.845   \n",
       "\n",
       "      escore_bruto_p2_etapa2  escore_bruto_p1_etapa3  escore_bruto_p2_etapa3  \\\n",
       "3926                  42.262                   0.714                  34.747   \n",
       "3936                  63.826                   7.140                  76.636   \n",
       "\n",
       "      pseudo_argumento_final dist_min dist_median  cotas_negros_flag  \\\n",
       "3926               36.153667    False       False                  0   \n",
       "3936               70.368333     True        True                  0   \n",
       "\n",
       "      publicas1_flag  publicas2_flag  publicas3_flag  publicas4_flag  \\\n",
       "3926               0               0               0               0   \n",
       "3936               0               0               0               0   \n",
       "\n",
       "      publicas5_flag  publicas6_flag  publicas7_flag  publicas8_flag  \\\n",
       "3926               0               0               1               0   \n",
       "3936               0               0               0               0   \n",
       "\n",
       "                      course  \n",
       "3926  MEDICINA (BACHARELADO)  \n",
       "3936  MEDICINA (BACHARELADO)  "
      ]
     },
     "execution_count": 71,
     "metadata": {},
     "output_type": "execute_result"
    }
   ],
   "source": [
    "my_sample2 = X_test.loc[[3926, 3936]]\n",
    "my_sample2['dist_min'] = my_sample2['dist_min'].astype(\"category\")\n",
    "my_sample2['dist_median'] = my_sample2['dist_median'].astype(\"category\")\n",
    "my_sample2"
   ]
  },
  {
   "cell_type": "code",
   "execution_count": 72,
   "metadata": {},
   "outputs": [
    {
     "name": "stdout",
     "output_type": "stream",
     "text": [
      "<class 'pandas.core.frame.DataFrame'>\n",
      "Int64Index: 2 entries, 3926 to 3936\n",
      "Data columns (total 19 columns):\n",
      " #   Column                  Non-Null Count  Dtype   \n",
      "---  ------                  --------------  -----   \n",
      " 0   escore_bruto_p1_etapa1  2 non-null      float64 \n",
      " 1   escore_bruto_p2_etapa1  2 non-null      float64 \n",
      " 2   escore_bruto_p1_etapa2  2 non-null      float64 \n",
      " 3   escore_bruto_p2_etapa2  2 non-null      float64 \n",
      " 4   escore_bruto_p1_etapa3  2 non-null      float64 \n",
      " 5   escore_bruto_p2_etapa3  2 non-null      float64 \n",
      " 6   pseudo_argumento_final  2 non-null      float64 \n",
      " 7   dist_min                2 non-null      category\n",
      " 8   dist_median             2 non-null      category\n",
      " 9   cotas_negros_flag       2 non-null      int32   \n",
      " 10  publicas1_flag          2 non-null      int32   \n",
      " 11  publicas2_flag          2 non-null      int32   \n",
      " 12  publicas3_flag          2 non-null      int32   \n",
      " 13  publicas4_flag          2 non-null      int32   \n",
      " 14  publicas5_flag          2 non-null      int32   \n",
      " 15  publicas6_flag          2 non-null      int32   \n",
      " 16  publicas7_flag          2 non-null      int32   \n",
      " 17  publicas8_flag          2 non-null      int32   \n",
      " 18  course                  2 non-null      category\n",
      "dtypes: category(3), float64(7), int32(9)\n",
      "memory usage: 3.2 KB\n"
     ]
    }
   ],
   "source": [
    "my_sample2.info()"
   ]
  },
  {
   "cell_type": "code",
   "execution_count": 73,
   "metadata": {},
   "outputs": [
    {
     "name": "stdout",
     "output_type": "stream",
     "text": [
      "[[0.37272114 0.62727886]]\n",
      "[[0.9914916  0.00850841]\n",
      " [0.37272114 0.62727886]]\n"
     ]
    }
   ],
   "source": [
    "print(model.predict_proba(my_sample))\n",
    "print(model.predict_proba(my_sample2))\n",
    "#print(model_sigmoid.predict_proba(my_sample))\n",
    "#print(model_sigmoid.predict_proba(X_test.head(13)))"
   ]
  }
 ],
 "metadata": {
  "kernelspec": {
   "display_name": "base",
   "language": "python",
   "name": "python3"
  },
  "language_info": {
   "codemirror_mode": {
    "name": "ipython",
    "version": 3
   },
   "file_extension": ".py",
   "mimetype": "text/x-python",
   "name": "python",
   "nbconvert_exporter": "python",
   "pygments_lexer": "ipython3",
   "version": "3.9.7"
  },
  "orig_nbformat": 4
 },
 "nbformat": 4,
 "nbformat_minor": 2
}
