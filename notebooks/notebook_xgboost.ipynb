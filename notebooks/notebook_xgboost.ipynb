{
 "cells": [
  {
   "cell_type": "code",
   "execution_count": 78,
   "metadata": {},
   "outputs": [],
   "source": [
    "import pandas as pd\n",
    "from pandas.api.types import CategoricalDtype\n",
    "\n",
    "import config\n",
    "\n",
    "from sklearn.model_selection import train_test_split\n",
    "from sklearn.metrics import classification_report\n",
    "\n",
    "import xgboost as xgb\n",
    "\n",
    "import pickle\n",
    "pd.set_option('display.max_rows', None)"
   ]
  },
  {
   "cell_type": "code",
   "execution_count": 79,
   "metadata": {},
   "outputs": [],
   "source": [
    "df = pd.read_parquet('../data/processed/scores_approvals_convocation_2020_2022.parquet')\n",
    "df2 = pd.read_parquet('../data/processed/scores_approvals_convocation_2019_2021.parquet')"
   ]
  },
  {
   "cell_type": "code",
   "execution_count": 80,
   "metadata": {},
   "outputs": [
    {
     "data": {
      "text/plain": [
       "19"
      ]
     },
     "execution_count": 80,
     "metadata": {},
     "output_type": "execute_result"
    }
   ],
   "source": [
    "FEATURES = ['escore_bruto_p1_etapa1',\n",
    "            'escore_bruto_p2_etapa1',\n",
    "            #'nota_redacao_etapa1',\n",
    "            'escore_bruto_p1_etapa2',\n",
    "            'escore_bruto_p2_etapa2',\n",
    "            #'nota_redacao_etapa2',\n",
    "            'escore_bruto_p1_etapa3',\n",
    "            'escore_bruto_p2_etapa3',\n",
    "            #'nota_redacao_etapa3',\n",
    "            'pseudo_argumento_final',\n",
    "            'min_flag',\n",
    "            'median_flag',\n",
    "            #'dist_max',\n",
    "            #'dist_mean',\n",
    "            #'cotista',\n",
    "            'cotas_negros_flag',\n",
    "            #'publicas_flag',\n",
    "            'publicas1_flag',\n",
    "            'publicas2_flag',\n",
    "            'publicas3_flag',\n",
    "            'publicas4_flag',\n",
    "            'publicas5_flag',\n",
    "            'publicas6_flag',\n",
    "            'publicas7_flag',\n",
    "            'publicas8_flag',\n",
    "            'course'\n",
    "            ]\n",
    "len(FEATURES)"
   ]
  },
  {
   "cell_type": "code",
   "execution_count": 81,
   "metadata": {},
   "outputs": [],
   "source": [
    "df['course'] = df['course'].astype('category')"
   ]
  },
  {
   "cell_type": "code",
   "execution_count": 82,
   "metadata": {},
   "outputs": [],
   "source": [
    "cat_type = CategoricalDtype(categories=df.course.cat.categories)"
   ]
  },
  {
   "cell_type": "code",
   "execution_count": 83,
   "metadata": {},
   "outputs": [],
   "source": [
    "import smart_open\n",
    "\n",
    "with smart_open.open(f\"encoding_category.pickle\", \"wb\") as f:\n",
    "    pickle.dump(cat_type, f)"
   ]
  },
  {
   "cell_type": "code",
   "execution_count": 84,
   "metadata": {},
   "outputs": [],
   "source": [
    "shuffled_df = df.sample(frac=1, random_state=42)\n",
    "X = shuffled_df[FEATURES] # features\n",
    "y = shuffled_df['label'] # labels\n",
    "X_train, X_test, y_train, y_test = train_test_split(X, y, test_size=0.20, random_state=47) # 70% training and 30% test"
   ]
  },
  {
   "cell_type": "code",
   "execution_count": 85,
   "metadata": {},
   "outputs": [
    {
     "name": "stdout",
     "output_type": "stream",
     "text": [
      "(5810, 19)\n",
      "(5810,)\n"
     ]
    }
   ],
   "source": [
    "print(X_train.shape)\n",
    "print(y_train.shape)"
   ]
  },
  {
   "cell_type": "code",
   "execution_count": 86,
   "metadata": {},
   "outputs": [
    {
     "data": {
      "text/plain": [
       "label\n",
       "0    0.622031\n",
       "1    0.377969\n",
       "Name: proportion, dtype: float64"
      ]
     },
     "execution_count": 86,
     "metadata": {},
     "output_type": "execute_result"
    }
   ],
   "source": [
    "y_train.value_counts(normalize=True)"
   ]
  },
  {
   "cell_type": "code",
   "execution_count": 87,
   "metadata": {},
   "outputs": [
    {
     "data": {
      "text/plain": [
       "label\n",
       "0    0.609773\n",
       "1    0.390227\n",
       "Name: proportion, dtype: float64"
      ]
     },
     "execution_count": 87,
     "metadata": {},
     "output_type": "execute_result"
    }
   ],
   "source": [
    "y_test.value_counts(normalize=True)"
   ]
  },
  {
   "cell_type": "code",
   "execution_count": 88,
   "metadata": {},
   "outputs": [],
   "source": [
    "with smart_open.open(\"encoding_category.pickle\", \"rb\") as f:\n",
    "    cat_type = pickle.load(f)"
   ]
  },
  {
   "cell_type": "code",
   "execution_count": 89,
   "metadata": {},
   "outputs": [],
   "source": [
    "df2['course'] = df2['course'].astype(cat_type)\n",
    "df2_shuffled = df2.sample(frac=1, random_state=42)"
   ]
  },
  {
   "cell_type": "code",
   "execution_count": 90,
   "metadata": {},
   "outputs": [
    {
     "data": {
      "text/plain": [
       "label\n",
       "0    5630\n",
       "1    2942\n",
       "Name: count, dtype: int64"
      ]
     },
     "execution_count": 90,
     "metadata": {},
     "output_type": "execute_result"
    }
   ],
   "source": [
    "df2_shuffled.label.value_counts()"
   ]
  },
  {
   "cell_type": "code",
   "execution_count": 91,
   "metadata": {},
   "outputs": [
    {
     "name": "stdout",
     "output_type": "stream",
     "text": [
      "(14382, 19)\n",
      "(14382,)\n"
     ]
    }
   ],
   "source": [
    "X_train = pd.concat([X_train, df2_shuffled[FEATURES]])\n",
    "y_train = pd.concat([y_train, df2_shuffled['label']])\n",
    "\n",
    "print(X_train.shape)\n",
    "print(y_train.shape)"
   ]
  },
  {
   "cell_type": "code",
   "execution_count": 92,
   "metadata": {},
   "outputs": [],
   "source": [
    "X_train['min_flag'] = X_train['min_flag'].astype(\"category\")\n",
    "X_train['median_flag'] = X_train['median_flag'].astype(\"category\")\n",
    "X_test['min_flag'] = X_test['min_flag'].astype(\"category\")\n",
    "X_test['median_flag'] = X_test['median_flag'].astype(\"category\")"
   ]
  },
  {
   "cell_type": "code",
   "execution_count": 93,
   "metadata": {},
   "outputs": [
    {
     "data": {
      "text/plain": [
       "label\n",
       "0    886\n",
       "1    567\n",
       "Name: count, dtype: int64"
      ]
     },
     "execution_count": 93,
     "metadata": {},
     "output_type": "execute_result"
    }
   ],
   "source": [
    "y_test.value_counts()"
   ]
  },
  {
   "attachments": {},
   "cell_type": "markdown",
   "metadata": {},
   "source": [
    "## XGBoost"
   ]
  },
  {
   "cell_type": "code",
   "execution_count": 94,
   "metadata": {},
   "outputs": [
    {
     "data": {
      "text/plain": [
       "1.7991436356558972"
      ]
     },
     "execution_count": 94,
     "metadata": {},
     "output_type": "execute_result"
    }
   ],
   "source": [
    "# Calculate the class imbalance ratio\n",
    "class_ratio = len(y_train[y_train == 0]) / len(y_train[y_train == 1])\n",
    "class_ratio"
   ]
  },
  {
   "cell_type": "code",
   "execution_count": 95,
   "metadata": {},
   "outputs": [
    {
     "name": "stdout",
     "output_type": "stream",
     "text": [
      "<class 'pandas.core.frame.DataFrame'>\n",
      "Index: 14382 entries, 960 to 7270\n",
      "Data columns (total 19 columns):\n",
      " #   Column                  Non-Null Count  Dtype   \n",
      "---  ------                  --------------  -----   \n",
      " 0   escore_bruto_p1_etapa1  14382 non-null  float64 \n",
      " 1   escore_bruto_p2_etapa1  14382 non-null  float64 \n",
      " 2   escore_bruto_p1_etapa2  14382 non-null  float64 \n",
      " 3   escore_bruto_p2_etapa2  14382 non-null  float64 \n",
      " 4   escore_bruto_p1_etapa3  14382 non-null  float64 \n",
      " 5   escore_bruto_p2_etapa3  14382 non-null  float64 \n",
      " 6   pseudo_argumento_final  14382 non-null  float64 \n",
      " 7   min_flag                14382 non-null  category\n",
      " 8   median_flag             14382 non-null  category\n",
      " 9   cotas_negros_flag       14382 non-null  int32   \n",
      " 10  publicas1_flag          14382 non-null  int32   \n",
      " 11  publicas2_flag          14382 non-null  int32   \n",
      " 12  publicas3_flag          14382 non-null  int32   \n",
      " 13  publicas4_flag          14382 non-null  int32   \n",
      " 14  publicas5_flag          14382 non-null  int32   \n",
      " 15  publicas6_flag          14382 non-null  int32   \n",
      " 16  publicas7_flag          14382 non-null  int32   \n",
      " 17  publicas8_flag          14382 non-null  int32   \n",
      " 18  course                  14382 non-null  category\n",
      "dtypes: category(3), float64(7), int32(9)\n",
      "memory usage: 1.4 MB\n"
     ]
    }
   ],
   "source": [
    "X_train.info()"
   ]
  },
  {
   "cell_type": "code",
   "execution_count": 96,
   "metadata": {},
   "outputs": [
    {
     "data": {
      "text/plain": [
       "{'0': {'precision': 0.9523809523809523,\n",
       "  'recall': 0.8803611738148984,\n",
       "  'f1-score': 0.9149560117302052,\n",
       "  'support': 886},\n",
       " '1': {'precision': 0.832807570977918,\n",
       "  'recall': 0.9312169312169312,\n",
       "  'f1-score': 0.8792672772689425,\n",
       "  'support': 567},\n",
       " 'accuracy': 0.9002064693737095,\n",
       " 'macro avg': {'precision': 0.8925942616794351,\n",
       "  'recall': 0.9057890525159148,\n",
       "  'f1-score': 0.8971116444995739,\n",
       "  'support': 1453},\n",
       " 'weighted avg': {'precision': 0.9057201765684813,\n",
       "  'recall': 0.9002064693737095,\n",
       "  'f1-score': 0.9010292997965949,\n",
       "  'support': 1453}}"
      ]
     },
     "execution_count": 96,
     "metadata": {},
     "output_type": "execute_result"
    }
   ],
   "source": [
    "params = {\n",
    "    'booster': 'gbtree',\n",
    "    'tree_method': 'hist',\n",
    "    #'max_bin': 300,\n",
    "    'n_estimators': 350,\n",
    "    'eta': 0.1,                        # Learning rate\n",
    "    'max_depth': 8,                   # Maximum depth of a tree\n",
    "    'subsample': 0.7,                  # Subsample ratio of the training instances\n",
    "    #'colsample_bytree': 0.8,          # Subsample ratio of columns when constructing each tree\n",
    "    #'scale_pos_weight': class_ratio,\n",
    "    'scale_pos_weight': 2,\n",
    "    'gamma': 5,\n",
    "    'lambda': 3\n",
    "}\n",
    "\n",
    "# Create an XGBoost classifier\n",
    "model = xgb.XGBClassifier(**params,\n",
    "                          monotone_constraints='(1, 1, 1, 1, 1, 1, 1, 1, 1, 1)',\n",
    "                          enable_categorical=True)\n",
    "\n",
    "# Fit the model to the training data\n",
    "#eval_set = [(X_test, y_test)]\n",
    "#model.fit(X_train, y_train, early_stopping_rounds=5, eval_set=eval_set, eval_metric='auc', verbose=False)\n",
    "model.fit(X_train, y_train)\n",
    "\n",
    "# Make predictions on the test set\n",
    "y_pred = model.predict(X_test)\n",
    "\n",
    "# Model Accuracy, how often is the classifier correct?\n",
    "classification_report(y_test, y_pred, output_dict=True)"
   ]
  },
  {
   "cell_type": "code",
   "execution_count": 97,
   "metadata": {},
   "outputs": [
    {
     "data": {
      "text/plain": [
       "{'0': {'precision': 0.9772727272727273,\n",
       "  'recall': 0.9923076923076923,\n",
       "  'f1-score': 0.9847328244274809,\n",
       "  'support': 130},\n",
       " '1': {'precision': 0.9166666666666666,\n",
       "  'recall': 0.7857142857142857,\n",
       "  'f1-score': 0.8461538461538461,\n",
       "  'support': 14},\n",
       " 'accuracy': 0.9722222222222222,\n",
       " 'macro avg': {'precision': 0.946969696969697,\n",
       "  'recall': 0.889010989010989,\n",
       "  'f1-score': 0.9154433352906635,\n",
       "  'support': 144},\n",
       " 'weighted avg': {'precision': 0.9713804713804713,\n",
       "  'recall': 0.9722222222222222,\n",
       "  'f1-score': 0.9712598682064331,\n",
       "  'support': 144}}"
      ]
     },
     "execution_count": 97,
     "metadata": {},
     "output_type": "execute_result"
    }
   ],
   "source": [
    "#course='ENGENHARIAS – AEROESPACIAL / AUTOMOTIVA / ELETRÔNICA / ENERGIA / SOFTWARE (BACHARELADOS)'\n",
    "#course='DIREITO (BACHARELADO)'\n",
    "course='MEDICINA (BACHARELADO)'\n",
    "classification_report(y_test[X_test.course==course], y_pred[X_test.course==course], output_dict=True)"
   ]
  },
  {
   "cell_type": "code",
   "execution_count": 98,
   "metadata": {},
   "outputs": [],
   "source": [
    "# # Make predictions on the test set\n",
    "# y_pred = model.predict_proba(X_test)[:, 1] > 0.8\n",
    "\n",
    "# # Model Accuracy, how often is the classifier correct?\n",
    "# classification_report(y_test, y_pred, output_dict=True)"
   ]
  },
  {
   "cell_type": "code",
   "execution_count": 72,
   "metadata": {},
   "outputs": [],
   "source": [
    "# unique_course = X_test.course.unique()\n",
    "\n",
    "# for course in unique_course:\n",
    "#     classification_report(y_test[X_test.course==course], y_pred[X_test.course==course], output_dict=True)"
   ]
  },
  {
   "attachments": {},
   "cell_type": "markdown",
   "metadata": {},
   "source": [
    "## Features Importance"
   ]
  },
  {
   "cell_type": "code",
   "execution_count": 73,
   "metadata": {},
   "outputs": [
    {
     "data": {
      "text/html": [
       "<div>\n",
       "<style scoped>\n",
       "    .dataframe tbody tr th:only-of-type {\n",
       "        vertical-align: middle;\n",
       "    }\n",
       "\n",
       "    .dataframe tbody tr th {\n",
       "        vertical-align: top;\n",
       "    }\n",
       "\n",
       "    .dataframe thead th {\n",
       "        text-align: right;\n",
       "    }\n",
       "</style>\n",
       "<table border=\"1\" class=\"dataframe\">\n",
       "  <thead>\n",
       "    <tr style=\"text-align: right;\">\n",
       "      <th></th>\n",
       "      <th>x1</th>\n",
       "      <th>x2</th>\n",
       "    </tr>\n",
       "  </thead>\n",
       "  <tbody>\n",
       "    <tr>\n",
       "      <th>8</th>\n",
       "      <td>0.258620</td>\n",
       "      <td>median_flag</td>\n",
       "    </tr>\n",
       "    <tr>\n",
       "      <th>16</th>\n",
       "      <td>0.156609</td>\n",
       "      <td>publicas7_flag</td>\n",
       "    </tr>\n",
       "    <tr>\n",
       "      <th>7</th>\n",
       "      <td>0.121505</td>\n",
       "      <td>min_flag</td>\n",
       "    </tr>\n",
       "    <tr>\n",
       "      <th>18</th>\n",
       "      <td>0.084377</td>\n",
       "      <td>course</td>\n",
       "    </tr>\n",
       "    <tr>\n",
       "      <th>14</th>\n",
       "      <td>0.063925</td>\n",
       "      <td>publicas5_flag</td>\n",
       "    </tr>\n",
       "    <tr>\n",
       "      <th>12</th>\n",
       "      <td>0.056634</td>\n",
       "      <td>publicas3_flag</td>\n",
       "    </tr>\n",
       "    <tr>\n",
       "      <th>6</th>\n",
       "      <td>0.047739</td>\n",
       "      <td>pseudo_argumento_final</td>\n",
       "    </tr>\n",
       "    <tr>\n",
       "      <th>10</th>\n",
       "      <td>0.040094</td>\n",
       "      <td>publicas1_flag</td>\n",
       "    </tr>\n",
       "    <tr>\n",
       "      <th>5</th>\n",
       "      <td>0.034313</td>\n",
       "      <td>escore_bruto_p2_etapa3</td>\n",
       "    </tr>\n",
       "    <tr>\n",
       "      <th>9</th>\n",
       "      <td>0.024047</td>\n",
       "      <td>cotas_negros_flag</td>\n",
       "    </tr>\n",
       "    <tr>\n",
       "      <th>17</th>\n",
       "      <td>0.023374</td>\n",
       "      <td>publicas8_flag</td>\n",
       "    </tr>\n",
       "    <tr>\n",
       "      <th>3</th>\n",
       "      <td>0.021239</td>\n",
       "      <td>escore_bruto_p2_etapa2</td>\n",
       "    </tr>\n",
       "    <tr>\n",
       "      <th>1</th>\n",
       "      <td>0.018302</td>\n",
       "      <td>escore_bruto_p2_etapa1</td>\n",
       "    </tr>\n",
       "    <tr>\n",
       "      <th>4</th>\n",
       "      <td>0.017457</td>\n",
       "      <td>escore_bruto_p1_etapa3</td>\n",
       "    </tr>\n",
       "    <tr>\n",
       "      <th>0</th>\n",
       "      <td>0.017021</td>\n",
       "      <td>escore_bruto_p1_etapa1</td>\n",
       "    </tr>\n",
       "    <tr>\n",
       "      <th>2</th>\n",
       "      <td>0.014743</td>\n",
       "      <td>escore_bruto_p1_etapa2</td>\n",
       "    </tr>\n",
       "    <tr>\n",
       "      <th>11</th>\n",
       "      <td>0.000000</td>\n",
       "      <td>publicas2_flag</td>\n",
       "    </tr>\n",
       "    <tr>\n",
       "      <th>13</th>\n",
       "      <td>0.000000</td>\n",
       "      <td>publicas4_flag</td>\n",
       "    </tr>\n",
       "    <tr>\n",
       "      <th>15</th>\n",
       "      <td>0.000000</td>\n",
       "      <td>publicas6_flag</td>\n",
       "    </tr>\n",
       "  </tbody>\n",
       "</table>\n",
       "</div>"
      ],
      "text/plain": [
       "          x1                      x2\n",
       "8   0.258620             median_flag\n",
       "16  0.156609          publicas7_flag\n",
       "7   0.121505                min_flag\n",
       "18  0.084377                  course\n",
       "14  0.063925          publicas5_flag\n",
       "12  0.056634          publicas3_flag\n",
       "6   0.047739  pseudo_argumento_final\n",
       "10  0.040094          publicas1_flag\n",
       "5   0.034313  escore_bruto_p2_etapa3\n",
       "9   0.024047       cotas_negros_flag\n",
       "17  0.023374          publicas8_flag\n",
       "3   0.021239  escore_bruto_p2_etapa2\n",
       "1   0.018302  escore_bruto_p2_etapa1\n",
       "4   0.017457  escore_bruto_p1_etapa3\n",
       "0   0.017021  escore_bruto_p1_etapa1\n",
       "2   0.014743  escore_bruto_p1_etapa2\n",
       "11  0.000000          publicas2_flag\n",
       "13  0.000000          publicas4_flag\n",
       "15  0.000000          publicas6_flag"
      ]
     },
     "execution_count": 73,
     "metadata": {},
     "output_type": "execute_result"
    }
   ],
   "source": [
    "pd.DataFrame({'x1':model.feature_importances_, 'x2': X_train.columns}).sort_values(['x1'], ascending=False)"
   ]
  },
  {
   "attachments": {},
   "cell_type": "markdown",
   "metadata": {},
   "source": [
    "## Model Calibration"
   ]
  },
  {
   "cell_type": "code",
   "execution_count": 74,
   "metadata": {},
   "outputs": [],
   "source": [
    "import matplotlib.pyplot as plt\n",
    "from matplotlib.gridspec import GridSpec\n",
    "from sklearn.calibration import CalibratedClassifierCV, CalibrationDisplay"
   ]
  },
  {
   "cell_type": "code",
   "execution_count": 75,
   "metadata": {},
   "outputs": [],
   "source": [
    "model_sigmoid = CalibratedClassifierCV(model, cv=5, method=\"sigmoid\")"
   ]
  },
  {
   "cell_type": "code",
   "execution_count": 76,
   "metadata": {},
   "outputs": [],
   "source": [
    "clf_list = [(model, \"XGBoost\"), (model_sigmoid, \"XGBoost + Isotonic\")]"
   ]
  },
  {
   "cell_type": "code",
   "execution_count": 77,
   "metadata": {},
   "outputs": [
    {
     "name": "stderr",
     "output_type": "stream",
     "text": [
      "C:\\Users\\Marcos Augusto\\AppData\\Local\\Temp\\ipykernel_12636\\2373937993.py:3: MatplotlibDeprecationWarning: The get_cmap function was deprecated in Matplotlib 3.7 and will be removed two minor releases later. Use ``matplotlib.colormaps[name]`` or ``matplotlib.colormaps.get_cmap(obj)`` instead.\n",
      "  colors = plt.cm.get_cmap(\"Dark2\")\n"
     ]
    },
    {
     "ename": "KeyboardInterrupt",
     "evalue": "",
     "output_type": "error",
     "traceback": [
      "\u001b[1;31m---------------------------------------------------------------------------\u001b[0m",
      "\u001b[1;31mKeyboardInterrupt\u001b[0m                         Traceback (most recent call last)",
      "Cell \u001b[1;32mIn[77], line 8\u001b[0m\n\u001b[0;32m      6\u001b[0m calibration_displays \u001b[39m=\u001b[39m {}\n\u001b[0;32m      7\u001b[0m \u001b[39mfor\u001b[39;00m i, (clf, name) \u001b[39min\u001b[39;00m \u001b[39menumerate\u001b[39m(clf_list):\n\u001b[1;32m----> 8\u001b[0m     clf\u001b[39m.\u001b[39;49mfit(X_train, y_train)\n\u001b[0;32m      9\u001b[0m     display \u001b[39m=\u001b[39m CalibrationDisplay\u001b[39m.\u001b[39mfrom_estimator(\n\u001b[0;32m     10\u001b[0m         clf,\n\u001b[0;32m     11\u001b[0m         X_test,\n\u001b[1;32m   (...)\u001b[0m\n\u001b[0;32m     16\u001b[0m         color\u001b[39m=\u001b[39mcolors(i),\n\u001b[0;32m     17\u001b[0m     )\n\u001b[0;32m     18\u001b[0m     calibration_displays[name] \u001b[39m=\u001b[39m display\n",
      "File \u001b[1;32mc:\\Anaconda\\envs\\exam_pas_env\\Lib\\site-packages\\xgboost\\core.py:620\u001b[0m, in \u001b[0;36mrequire_keyword_args.<locals>.throw_if.<locals>.inner_f\u001b[1;34m(*args, **kwargs)\u001b[0m\n\u001b[0;32m    618\u001b[0m \u001b[39mfor\u001b[39;00m k, arg \u001b[39min\u001b[39;00m \u001b[39mzip\u001b[39m(sig\u001b[39m.\u001b[39mparameters, args):\n\u001b[0;32m    619\u001b[0m     kwargs[k] \u001b[39m=\u001b[39m arg\n\u001b[1;32m--> 620\u001b[0m \u001b[39mreturn\u001b[39;00m func(\u001b[39m*\u001b[39;49m\u001b[39m*\u001b[39;49mkwargs)\n",
      "File \u001b[1;32mc:\\Anaconda\\envs\\exam_pas_env\\Lib\\site-packages\\xgboost\\sklearn.py:1516\u001b[0m, in \u001b[0;36mXGBClassifier.fit\u001b[1;34m(self, X, y, sample_weight, base_margin, eval_set, eval_metric, early_stopping_rounds, verbose, xgb_model, sample_weight_eval_set, base_margin_eval_set, feature_weights, callbacks)\u001b[0m\n\u001b[0;32m   1488\u001b[0m (\n\u001b[0;32m   1489\u001b[0m     model,\n\u001b[0;32m   1490\u001b[0m     metric,\n\u001b[1;32m   (...)\u001b[0m\n\u001b[0;32m   1495\u001b[0m     xgb_model, eval_metric, params, early_stopping_rounds, callbacks\n\u001b[0;32m   1496\u001b[0m )\n\u001b[0;32m   1497\u001b[0m train_dmatrix, evals \u001b[39m=\u001b[39m _wrap_evaluation_matrices(\n\u001b[0;32m   1498\u001b[0m     missing\u001b[39m=\u001b[39m\u001b[39mself\u001b[39m\u001b[39m.\u001b[39mmissing,\n\u001b[0;32m   1499\u001b[0m     X\u001b[39m=\u001b[39mX,\n\u001b[1;32m   (...)\u001b[0m\n\u001b[0;32m   1513\u001b[0m     feature_types\u001b[39m=\u001b[39m\u001b[39mself\u001b[39m\u001b[39m.\u001b[39mfeature_types,\n\u001b[0;32m   1514\u001b[0m )\n\u001b[1;32m-> 1516\u001b[0m \u001b[39mself\u001b[39m\u001b[39m.\u001b[39m_Booster \u001b[39m=\u001b[39m train(\n\u001b[0;32m   1517\u001b[0m     params,\n\u001b[0;32m   1518\u001b[0m     train_dmatrix,\n\u001b[0;32m   1519\u001b[0m     \u001b[39mself\u001b[39;49m\u001b[39m.\u001b[39;49mget_num_boosting_rounds(),\n\u001b[0;32m   1520\u001b[0m     evals\u001b[39m=\u001b[39;49mevals,\n\u001b[0;32m   1521\u001b[0m     early_stopping_rounds\u001b[39m=\u001b[39;49mearly_stopping_rounds,\n\u001b[0;32m   1522\u001b[0m     evals_result\u001b[39m=\u001b[39;49mevals_result,\n\u001b[0;32m   1523\u001b[0m     obj\u001b[39m=\u001b[39;49mobj,\n\u001b[0;32m   1524\u001b[0m     custom_metric\u001b[39m=\u001b[39;49mmetric,\n\u001b[0;32m   1525\u001b[0m     verbose_eval\u001b[39m=\u001b[39;49mverbose,\n\u001b[0;32m   1526\u001b[0m     xgb_model\u001b[39m=\u001b[39;49mmodel,\n\u001b[0;32m   1527\u001b[0m     callbacks\u001b[39m=\u001b[39;49mcallbacks,\n\u001b[0;32m   1528\u001b[0m )\n\u001b[0;32m   1530\u001b[0m \u001b[39mif\u001b[39;00m \u001b[39mnot\u001b[39;00m \u001b[39mcallable\u001b[39m(\u001b[39mself\u001b[39m\u001b[39m.\u001b[39mobjective):\n\u001b[0;32m   1531\u001b[0m     \u001b[39mself\u001b[39m\u001b[39m.\u001b[39mobjective \u001b[39m=\u001b[39m params[\u001b[39m\"\u001b[39m\u001b[39mobjective\u001b[39m\u001b[39m\"\u001b[39m]\n",
      "File \u001b[1;32mc:\\Anaconda\\envs\\exam_pas_env\\Lib\\site-packages\\xgboost\\core.py:620\u001b[0m, in \u001b[0;36mrequire_keyword_args.<locals>.throw_if.<locals>.inner_f\u001b[1;34m(*args, **kwargs)\u001b[0m\n\u001b[0;32m    618\u001b[0m \u001b[39mfor\u001b[39;00m k, arg \u001b[39min\u001b[39;00m \u001b[39mzip\u001b[39m(sig\u001b[39m.\u001b[39mparameters, args):\n\u001b[0;32m    619\u001b[0m     kwargs[k] \u001b[39m=\u001b[39m arg\n\u001b[1;32m--> 620\u001b[0m \u001b[39mreturn\u001b[39;00m func(\u001b[39m*\u001b[39;49m\u001b[39m*\u001b[39;49mkwargs)\n",
      "File \u001b[1;32mc:\\Anaconda\\envs\\exam_pas_env\\Lib\\site-packages\\xgboost\\training.py:185\u001b[0m, in \u001b[0;36mtrain\u001b[1;34m(params, dtrain, num_boost_round, evals, obj, feval, maximize, early_stopping_rounds, evals_result, verbose_eval, xgb_model, callbacks, custom_metric)\u001b[0m\n\u001b[0;32m    183\u001b[0m \u001b[39mif\u001b[39;00m cb_container\u001b[39m.\u001b[39mbefore_iteration(bst, i, dtrain, evals):\n\u001b[0;32m    184\u001b[0m     \u001b[39mbreak\u001b[39;00m\n\u001b[1;32m--> 185\u001b[0m bst\u001b[39m.\u001b[39;49mupdate(dtrain, i, obj)\n\u001b[0;32m    186\u001b[0m \u001b[39mif\u001b[39;00m cb_container\u001b[39m.\u001b[39mafter_iteration(bst, i, dtrain, evals):\n\u001b[0;32m    187\u001b[0m     \u001b[39mbreak\u001b[39;00m\n",
      "File \u001b[1;32mc:\\Anaconda\\envs\\exam_pas_env\\Lib\\site-packages\\xgboost\\core.py:1918\u001b[0m, in \u001b[0;36mBooster.update\u001b[1;34m(self, dtrain, iteration, fobj)\u001b[0m\n\u001b[0;32m   1915\u001b[0m \u001b[39mself\u001b[39m\u001b[39m.\u001b[39m_validate_dmatrix_features(dtrain)\n\u001b[0;32m   1917\u001b[0m \u001b[39mif\u001b[39;00m fobj \u001b[39mis\u001b[39;00m \u001b[39mNone\u001b[39;00m:\n\u001b[1;32m-> 1918\u001b[0m     _check_call(_LIB\u001b[39m.\u001b[39;49mXGBoosterUpdateOneIter(\u001b[39mself\u001b[39;49m\u001b[39m.\u001b[39;49mhandle,\n\u001b[0;32m   1919\u001b[0m                                             ctypes\u001b[39m.\u001b[39;49mc_int(iteration),\n\u001b[0;32m   1920\u001b[0m                                             dtrain\u001b[39m.\u001b[39;49mhandle))\n\u001b[0;32m   1921\u001b[0m \u001b[39melse\u001b[39;00m:\n\u001b[0;32m   1922\u001b[0m     pred \u001b[39m=\u001b[39m \u001b[39mself\u001b[39m\u001b[39m.\u001b[39mpredict(dtrain, output_margin\u001b[39m=\u001b[39m\u001b[39mTrue\u001b[39;00m, training\u001b[39m=\u001b[39m\u001b[39mTrue\u001b[39;00m)\n",
      "\u001b[1;31mKeyboardInterrupt\u001b[0m: "
     ]
    },
    {
     "data": {
      "image/png": "[encoded data removed]",
      "text/plain": [
       "<Figure size 1000x1000 with 1 Axes>"
      ]
     },
     "metadata": {},
     "output_type": "display_data"
    }
   ],
   "source": [
    "fig = plt.figure(figsize=(10, 10))\n",
    "gs = GridSpec(2, 2)\n",
    "colors = plt.cm.get_cmap(\"Dark2\")\n",
    "\n",
    "ax_calibration_curve = fig.add_subplot(gs[:2, :2])\n",
    "calibration_displays = {}\n",
    "for i, (clf, name) in enumerate(clf_list):\n",
    "    clf.fit(X_train, y_train)\n",
    "    display = CalibrationDisplay.from_estimator(\n",
    "        clf,\n",
    "        X_test,\n",
    "        y_test,\n",
    "        n_bins=10,\n",
    "        name=name,\n",
    "        ax=ax_calibration_curve,\n",
    "        color=colors(i),\n",
    "    )\n",
    "    calibration_displays[name] = display\n",
    "\n",
    "ax_calibration_curve.grid()\n",
    "ax_calibration_curve.set_title(\"Calibration plots (XGBoost)\")"
   ]
  },
  {
   "cell_type": "code",
   "execution_count": null,
   "metadata": {},
   "outputs": [
    {
     "data": {
      "text/plain": [
       "{'0': {'precision': 0.8619091751621872,\n",
       "  'recall': 0.8908045977011494,\n",
       "  'f1-score': 0.8761186999528968,\n",
       "  'support': 1044},\n",
       " '1': {'precision': 0.6951871657754011,\n",
       "  'recall': 0.6356968215158925,\n",
       "  'f1-score': 0.6641123882503193,\n",
       "  'support': 409},\n",
       " 'accuracy': 0.8189951823812801,\n",
       " 'macro avg': {'precision': 0.7785481704687942,\n",
       "  'recall': 0.7632507096085209,\n",
       "  'f1-score': 0.7701155441016081,\n",
       "  'support': 1453},\n",
       " 'weighted avg': {'precision': 0.8149791670140829,\n",
       "  'recall': 0.8189951823812801,\n",
       "  'f1-score': 0.8164417684412972,\n",
       "  'support': 1453}}"
      ]
     },
     "execution_count": 61,
     "metadata": {},
     "output_type": "execute_result"
    }
   ],
   "source": [
    "# Make predictions on the test set\n",
    "y_pred = model_sigmoid.predict(X_test)\n",
    "\n",
    "# Model Accuracy, how often is the classifier correct?\n",
    "classification_report(y_test, y_pred, output_dict=True)"
   ]
  },
  {
   "attachments": {},
   "cell_type": "markdown",
   "metadata": {},
   "source": [
    "## Prediction for new sample"
   ]
  },
  {
   "cell_type": "code",
   "execution_count": 99,
   "metadata": {},
   "outputs": [],
   "source": [
    "with open('../models/xgboost_categorical_not_calibrated.pickle','wb') as f:\n",
    "    pickle.dump(model, f)"
   ]
  },
  {
   "cell_type": "code",
   "execution_count": 100,
   "metadata": {},
   "outputs": [],
   "source": [
    "with open('../models/xgboost_categorical_not_calibrated.pickle', 'rb') as f:\n",
    "  model_loaded = pickle.load(f)"
   ]
  },
  {
   "cell_type": "code",
   "execution_count": 101,
   "metadata": {},
   "outputs": [],
   "source": [
    "my_sample = {\n",
    " \"escore_bruto_p1_etapa1\": 6.034,\n",
    " \"escore_bruto_p2_etapa1\": 64.65,\n",
    " #\"nota_redacao_etapa1\": 9.733,\n",
    " \"escore_bruto_p1_etapa2\": 3.845,\n",
    " \"escore_bruto_p2_etapa2\": 63.826,\n",
    " #\"nota_redacao_etapa2\": 9.933,\n",
    " \"escore_bruto_p1_etapa3\": 7.14,\n",
    " \"escore_bruto_p2_etapa3\": 76.636,\n",
    " #\"nota_redacao_etapa3\": 9.931,\n",
    " #\"pseudo_argumento_final\": 70.36833333333334,\n",
    " #\"min_flag\": True,\n",
    " #\"median_flag\": True,\n",
    " #\"cotista\": 0,\n",
    " \"cotas_negros_flag\": 0,\n",
    " #\"publicas_flag\": 0,\n",
    " \"publicas1_flag\": 0,\n",
    " \"publicas2_flag\": 0,\n",
    " \"publicas3_flag\": 0,\n",
    " \"publicas4_flag\": 0,\n",
    " \"publicas5_flag\": 0,\n",
    " \"publicas6_flag\": 0,\n",
    " \"publicas7_flag\": 0,\n",
    " \"publicas8_flag\": 0,\n",
    " \"course\": \"MEDICINA (BACHARELADO)\"\n",
    " }"
   ]
  },
  {
   "cell_type": "code",
   "execution_count": 102,
   "metadata": {},
   "outputs": [],
   "source": [
    "import sys\n",
    "sys.path.append(\"../pipelines/\")\n",
    "from models.config import FEATURES\n",
    "from features.build_features import add_stats_features, add_pseudo_argumento_final"
   ]
  },
  {
   "cell_type": "code",
   "execution_count": 103,
   "metadata": {},
   "outputs": [],
   "source": [
    "approved_stats = pd.read_parquet('../data/interim/approved_stats_convocation_2019_2021.parquet')\n",
    "\n",
    "def preprocess_input_features(user_features: dict, model_features: list) -> pd.DataFrame:\n",
    "    new_sample = user_features\n",
    "    new_sample = pd.DataFrame([new_sample])\n",
    "\n",
    "    new_sample = add_pseudo_argumento_final(new_sample)\n",
    "    new_sample = add_stats_features(new_sample, approved_stats)\n",
    "\n",
    "    new_sample.course = new_sample.course.astype(cat_type)\n",
    "    new_sample = new_sample.reindex(columns=model_features)\n",
    "\n",
    "    return new_sample"
   ]
  },
  {
   "cell_type": "code",
   "execution_count": 104,
   "metadata": {},
   "outputs": [],
   "source": [
    "my_sample = preprocess_input_features(my_sample, model_features=FEATURES)"
   ]
  },
  {
   "cell_type": "code",
   "execution_count": 105,
   "metadata": {},
   "outputs": [
    {
     "data": {
      "text/plain": [
       "[{'escore_bruto_p1_etapa1': 7.758,\n",
       "  'escore_bruto_p2_etapa1': 39.364,\n",
       "  'escore_bruto_p1_etapa2': 6.152,\n",
       "  'escore_bruto_p2_etapa2': 36.255,\n",
       "  'escore_bruto_p1_etapa3': 6.426,\n",
       "  'escore_bruto_p2_etapa3': 33.32,\n",
       "  'pseudo_argumento_final': 35.30566666666667,\n",
       "  'min_flag': True,\n",
       "  'median_flag': False,\n",
       "  'cotas_negros_flag': 0,\n",
       "  'publicas1_flag': 0,\n",
       "  'publicas2_flag': 0,\n",
       "  'publicas3_flag': 0,\n",
       "  'publicas4_flag': 0,\n",
       "  'publicas5_flag': 1,\n",
       "  'publicas6_flag': 0,\n",
       "  'publicas7_flag': 1,\n",
       "  'publicas8_flag': 0,\n",
       "  'course': 'CIÊNCIA DA COMPUTAÇÃO (BACHARELADO)'}]"
      ]
     },
     "execution_count": 105,
     "metadata": {},
     "output_type": "execute_result"
    }
   ],
   "source": [
    "X_train.loc[495].head(1).to_dict('records')"
   ]
  },
  {
   "cell_type": "code",
   "execution_count": 106,
   "metadata": {},
   "outputs": [
    {
     "data": {
      "text/plain": [
       "{'escore_bruto_p1_etapa1': 0.287,\n",
       " 'escore_bruto_p2_etapa1': 28.157,\n",
       " 'escore_bruto_p1_etapa2': 2.307,\n",
       " 'escore_bruto_p2_etapa2': 42.262,\n",
       " 'escore_bruto_p1_etapa3': 0.714,\n",
       " 'escore_bruto_p2_etapa3': 34.747,\n",
       " 'pseudo_argumento_final': 36.153666666666666,\n",
       " 'min_flag': True,\n",
       " 'median_flag': False,\n",
       " 'cotas_negros_flag': 0,\n",
       " 'publicas1_flag': 0,\n",
       " 'publicas2_flag': 0,\n",
       " 'publicas3_flag': 0,\n",
       " 'publicas4_flag': 0,\n",
       " 'publicas5_flag': 0,\n",
       " 'publicas6_flag': 0,\n",
       " 'publicas7_flag': 1,\n",
       " 'publicas8_flag': 0,\n",
       " 'course': 'MEDICINA (BACHARELADO)'}"
      ]
     },
     "execution_count": 106,
     "metadata": {},
     "output_type": "execute_result"
    }
   ],
   "source": [
    "X_test.loc[3926].to_dict()"
   ]
  },
  {
   "cell_type": "code",
   "execution_count": 107,
   "metadata": {},
   "outputs": [
    {
     "data": {
      "text/html": [
       "<div>\n",
       "<style scoped>\n",
       "    .dataframe tbody tr th:only-of-type {\n",
       "        vertical-align: middle;\n",
       "    }\n",
       "\n",
       "    .dataframe tbody tr th {\n",
       "        vertical-align: top;\n",
       "    }\n",
       "\n",
       "    .dataframe thead th {\n",
       "        text-align: right;\n",
       "    }\n",
       "</style>\n",
       "<table border=\"1\" class=\"dataframe\">\n",
       "  <thead>\n",
       "    <tr style=\"text-align: right;\">\n",
       "      <th></th>\n",
       "      <th>escore_bruto_p1_etapa1</th>\n",
       "      <th>escore_bruto_p2_etapa1</th>\n",
       "      <th>escore_bruto_p1_etapa2</th>\n",
       "      <th>escore_bruto_p2_etapa2</th>\n",
       "      <th>escore_bruto_p1_etapa3</th>\n",
       "      <th>escore_bruto_p2_etapa3</th>\n",
       "      <th>pseudo_argumento_final</th>\n",
       "      <th>min_flag</th>\n",
       "      <th>median_flag</th>\n",
       "      <th>cotas_negros_flag</th>\n",
       "      <th>publicas1_flag</th>\n",
       "      <th>publicas2_flag</th>\n",
       "      <th>publicas3_flag</th>\n",
       "      <th>publicas4_flag</th>\n",
       "      <th>publicas5_flag</th>\n",
       "      <th>publicas6_flag</th>\n",
       "      <th>publicas7_flag</th>\n",
       "      <th>publicas8_flag</th>\n",
       "      <th>course</th>\n",
       "    </tr>\n",
       "  </thead>\n",
       "  <tbody>\n",
       "    <tr>\n",
       "      <th>3926</th>\n",
       "      <td>0.287</td>\n",
       "      <td>28.157</td>\n",
       "      <td>2.307</td>\n",
       "      <td>42.262</td>\n",
       "      <td>0.714</td>\n",
       "      <td>34.747</td>\n",
       "      <td>36.153667</td>\n",
       "      <td>True</td>\n",
       "      <td>False</td>\n",
       "      <td>0</td>\n",
       "      <td>0</td>\n",
       "      <td>0</td>\n",
       "      <td>0</td>\n",
       "      <td>0</td>\n",
       "      <td>0</td>\n",
       "      <td>0</td>\n",
       "      <td>1</td>\n",
       "      <td>0</td>\n",
       "      <td>MEDICINA (BACHARELADO)</td>\n",
       "    </tr>\n",
       "    <tr>\n",
       "      <th>3936</th>\n",
       "      <td>6.034</td>\n",
       "      <td>64.650</td>\n",
       "      <td>3.845</td>\n",
       "      <td>63.826</td>\n",
       "      <td>7.140</td>\n",
       "      <td>76.636</td>\n",
       "      <td>70.368333</td>\n",
       "      <td>True</td>\n",
       "      <td>True</td>\n",
       "      <td>0</td>\n",
       "      <td>0</td>\n",
       "      <td>0</td>\n",
       "      <td>0</td>\n",
       "      <td>0</td>\n",
       "      <td>0</td>\n",
       "      <td>0</td>\n",
       "      <td>0</td>\n",
       "      <td>0</td>\n",
       "      <td>MEDICINA (BACHARELADO)</td>\n",
       "    </tr>\n",
       "  </tbody>\n",
       "</table>\n",
       "</div>"
      ],
      "text/plain": [
       "      escore_bruto_p1_etapa1  escore_bruto_p2_etapa1  escore_bruto_p1_etapa2  \\\n",
       "3926                   0.287                  28.157                   2.307   \n",
       "3936                   6.034                  64.650                   3.845   \n",
       "\n",
       "      escore_bruto_p2_etapa2  escore_bruto_p1_etapa3  escore_bruto_p2_etapa3  \\\n",
       "3926                  42.262                   0.714                  34.747   \n",
       "3936                  63.826                   7.140                  76.636   \n",
       "\n",
       "      pseudo_argumento_final min_flag median_flag  cotas_negros_flag  \\\n",
       "3926               36.153667     True       False                  0   \n",
       "3936               70.368333     True        True                  0   \n",
       "\n",
       "      publicas1_flag  publicas2_flag  publicas3_flag  publicas4_flag  \\\n",
       "3926               0               0               0               0   \n",
       "3936               0               0               0               0   \n",
       "\n",
       "      publicas5_flag  publicas6_flag  publicas7_flag  publicas8_flag  \\\n",
       "3926               0               0               1               0   \n",
       "3936               0               0               0               0   \n",
       "\n",
       "                      course  \n",
       "3926  MEDICINA (BACHARELADO)  \n",
       "3936  MEDICINA (BACHARELADO)  "
      ]
     },
     "execution_count": 107,
     "metadata": {},
     "output_type": "execute_result"
    }
   ],
   "source": [
    "my_sample2 = X_test.loc[[3926, 3936]]\n",
    "#my_sample2['dist_min'] = my_sample2['dist_min'].astype(\"category\")\n",
    "#my_sample2['dist_median'] = my_sample2['dist_median'].astype(\"category\")\n",
    "my_sample2"
   ]
  },
  {
   "cell_type": "code",
   "execution_count": 108,
   "metadata": {},
   "outputs": [
    {
     "name": "stdout",
     "output_type": "stream",
     "text": [
      "<class 'pandas.core.frame.DataFrame'>\n",
      "RangeIndex: 1 entries, 0 to 0\n",
      "Data columns (total 19 columns):\n",
      " #   Column                  Non-Null Count  Dtype   \n",
      "---  ------                  --------------  -----   \n",
      " 0   escore_bruto_p1_etapa1  1 non-null      float64 \n",
      " 1   escore_bruto_p2_etapa1  1 non-null      float64 \n",
      " 2   escore_bruto_p1_etapa2  1 non-null      float64 \n",
      " 3   escore_bruto_p2_etapa2  1 non-null      float64 \n",
      " 4   escore_bruto_p1_etapa3  1 non-null      float64 \n",
      " 5   escore_bruto_p2_etapa3  1 non-null      float64 \n",
      " 6   pseudo_argumento_final  1 non-null      float64 \n",
      " 7   min_flag                1 non-null      bool    \n",
      " 8   median_flag             1 non-null      bool    \n",
      " 9   cotas_negros_flag       1 non-null      int64   \n",
      " 10  publicas1_flag          1 non-null      int64   \n",
      " 11  publicas2_flag          1 non-null      int64   \n",
      " 12  publicas3_flag          1 non-null      int64   \n",
      " 13  publicas4_flag          1 non-null      int64   \n",
      " 14  publicas5_flag          1 non-null      int64   \n",
      " 15  publicas6_flag          1 non-null      int64   \n",
      " 16  publicas7_flag          1 non-null      int64   \n",
      " 17  publicas8_flag          1 non-null      int64   \n",
      " 18  course                  1 non-null      category\n",
      "dtypes: bool(2), category(1), float64(7), int64(9)\n",
      "memory usage: 3.0 KB\n"
     ]
    }
   ],
   "source": [
    "my_sample.info()"
   ]
  },
  {
   "cell_type": "code",
   "execution_count": 109,
   "metadata": {},
   "outputs": [
    {
     "name": "stdout",
     "output_type": "stream",
     "text": [
      "[[0.17891103 0.82108897]]\n"
     ]
    }
   ],
   "source": [
    "print(model_loaded.predict_proba(my_sample))"
   ]
  },
  {
   "cell_type": "code",
   "execution_count": 56,
   "metadata": {},
   "outputs": [
    {
     "name": "stdout",
     "output_type": "stream",
     "text": [
      "[[0.22341824 0.77658176]]\n"
     ]
    }
   ],
   "source": [
    "print(model_loaded.predict_proba(my_sample))"
   ]
  },
  {
   "cell_type": "code",
   "execution_count": 57,
   "metadata": {},
   "outputs": [
    {
     "name": "stdout",
     "output_type": "stream",
     "text": [
      "[[0.22341824 0.77658176]]\n"
     ]
    }
   ],
   "source": [
    "print(model_loaded.predict_proba(my_sample))"
   ]
  },
  {
   "cell_type": "code",
   "execution_count": 59,
   "metadata": {},
   "outputs": [
    {
     "name": "stdout",
     "output_type": "stream",
     "text": [
      "[[0.22341824 0.77658176]]\n",
      "[[0.99154323 0.00845676]\n",
      " [0.22341824 0.77658176]]\n"
     ]
    }
   ],
   "source": [
    "print(model_loaded.predict_proba(my_sample))\n",
    "print(model_loaded.predict_proba(my_sample2))\n",
    "#print(model_sigmoid.predict_proba(my_sample))\n",
    "#print(model_sigmoid.predict_proba(X_test.head(13)))"
   ]
  },
  {
   "cell_type": "code",
   "execution_count": 65,
   "metadata": {},
   "outputs": [
    {
     "data": {
      "text/plain": [
       "{'escore_bruto_p1_etapa1': 0.287,\n",
       " 'escore_bruto_p2_etapa1': 28.157,\n",
       " 'escore_bruto_p1_etapa2': 2.307,\n",
       " 'escore_bruto_p2_etapa2': 42.262,\n",
       " 'escore_bruto_p1_etapa3': 0.714,\n",
       " 'escore_bruto_p2_etapa3': 34.747,\n",
       " 'pseudo_argumento_final': 36.153666666666666,\n",
       " 'min_flag': True,\n",
       " 'median_flag': False,\n",
       " 'cotas_negros_flag': 0,\n",
       " 'publicas1_flag': 0,\n",
       " 'publicas2_flag': 0,\n",
       " 'publicas3_flag': 0,\n",
       " 'publicas4_flag': 0,\n",
       " 'publicas5_flag': 0,\n",
       " 'publicas6_flag': 0,\n",
       " 'publicas7_flag': 1,\n",
       " 'publicas8_flag': 0,\n",
       " 'course': 'MEDICINA (BACHARELADO)'}"
      ]
     },
     "execution_count": 65,
     "metadata": {},
     "output_type": "execute_result"
    }
   ],
   "source": [
    "my_sample2.iloc[0].to_dict()"
   ]
  },
  {
   "cell_type": "code",
   "execution_count": 86,
   "metadata": {},
   "outputs": [
    {
     "name": "stdout",
     "output_type": "stream",
     "text": [
      "[[0.22341824 0.77658176]]\n",
      "[[0.99154323 0.00845676]\n",
      " [0.22341824 0.77658176]]\n"
     ]
    }
   ],
   "source": [
    "print(model.predict_proba(my_sample))\n",
    "print(model.predict_proba(my_sample2))\n",
    "#print(model_sigmoid.predict_proba(my_sample))\n",
    "#print(model_sigmoid.predict_proba(X_test.head(13)))"
   ]
  }
 ],
 "metadata": {
  "kernelspec": {
   "display_name": "base",
   "language": "python",
   "name": "python3"
  },
  "language_info": {
   "codemirror_mode": {
    "name": "ipython",
    "version": 3
   },
   "file_extension": ".py",
   "mimetype": "text/x-python",
   "name": "python",
   "nbconvert_exporter": "python",
   "pygments_lexer": "ipython3",
   "version": "3.11.4"
  },
  "orig_nbformat": 4
 },
 "nbformat": 4,
 "nbformat_minor": 2
}
