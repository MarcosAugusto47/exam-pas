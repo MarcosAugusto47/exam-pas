{
 "cells": [
  {
   "cell_type": "code",
   "execution_count": 1,
   "metadata": {},
   "outputs": [],
   "source": [
    "import pandas as pd\n",
    "import config\n",
    "\n",
    "from sklearn.model_selection import train_test_split\n",
    "from sklearn.metrics import classification_report\n",
    "\n",
    "import pickle\n",
    "pd.set_option('display.max_rows', None)"
   ]
  },
  {
   "cell_type": "code",
   "execution_count": 2,
   "metadata": {},
   "outputs": [],
   "source": [
    "df = pd.read_parquet('../data/processed/scores_approvals_2020_2022.parquet')\n",
    "df2 = pd.read_parquet('../data/processed/scores_approvals_2019_2021_new.parquet')\n",
    "approvals_stats = pd.read_parquet('../data/interim/approved_stats_2019_2021_new.parquet')"
   ]
  },
  {
   "cell_type": "code",
   "execution_count": 3,
   "metadata": {},
   "outputs": [
    {
     "name": "stdout",
     "output_type": "stream",
     "text": [
      "(7263, 41)\n",
      "(7263, 46)\n"
     ]
    }
   ],
   "source": [
    "print(df.shape)\n",
    "df = pd.merge(df, approvals_stats, on='course', how='left')\n",
    "print(df.shape)\n",
    "df['dist_min'] = df['pseudo_argumento_final'] - df['min']\n",
    "df['min_flag'] = df['pseudo_argumento_final'] > df['min']\n",
    "\n",
    "df['dist_max'] = df['pseudo_argumento_final'] - df['max']\n",
    "df['dist_median'] = df['pseudo_argumento_final'] - df['median']\n",
    "\n",
    "df['dist_mean'] = df['pseudo_argumento_final'] - df['mean']\n",
    "df['mean_flag'] = df['pseudo_argumento_final'] > df['mean']"
   ]
  },
  {
   "cell_type": "code",
   "execution_count": 4,
   "metadata": {},
   "outputs": [],
   "source": [
    "FEATURES = [\n",
    "            'escore_bruto_p1_etapa1',\n",
    "            'escore_bruto_p2_etapa1',\n",
    "            'nota_redacao_etapa1',\n",
    "            'escore_bruto_p1_etapa2',\n",
    "            'escore_bruto_p2_etapa2',\n",
    "            'nota_redacao_etapa2',\n",
    "            'escore_bruto_p1_etapa3',\n",
    "            'escore_bruto_p2_etapa3',\n",
    "            'nota_redacao_etapa3',\n",
    "            'pseudo_argumento_final',\n",
    "            'dist_min',\n",
    "            #'dist_max',\n",
    "            'dist_mean',\n",
    "            'dist_median',\n",
    "            #'cotista',\n",
    "            'cotas_negros_flag',\n",
    "            'publicas_flag',\n",
    "            'publicas1_flag',\n",
    "            'publicas2_flag',\n",
    "            'publicas3_flag',\n",
    "            'publicas4_flag',\n",
    "            'publicas5_flag',\n",
    "            'publicas6_flag',\n",
    "            'publicas7_flag',\n",
    "            'publicas8_flag'\n",
    "            #'dist_min',\n",
    "            #'dist_max',\n",
    "            #'dist_mean',\n",
    "            #'dist_median',\n",
    "            #'course'\n",
    "            ]"
   ]
  },
  {
   "cell_type": "code",
   "execution_count": 5,
   "metadata": {},
   "outputs": [],
   "source": [
    "df = pd.get_dummies(df, columns=['course', 'min_flag', 'mean_flag'], drop_first=True)"
   ]
  },
  {
   "cell_type": "code",
   "execution_count": 6,
   "metadata": {},
   "outputs": [],
   "source": [
    "dummies = [feature for feature in df.columns if 'course_' in feature]\n",
    "dummies.append('min_flag_True')\n",
    "dummies.append('mean_flag_True')"
   ]
  },
  {
   "cell_type": "code",
   "execution_count": 7,
   "metadata": {},
   "outputs": [
    {
     "data": {
      "text/plain": [
       "115"
      ]
     },
     "execution_count": 7,
     "metadata": {},
     "output_type": "execute_result"
    }
   ],
   "source": [
    "FEATURES.extend(dummies)\n",
    "len(FEATURES)"
   ]
  },
  {
   "cell_type": "code",
   "execution_count": 8,
   "metadata": {},
   "outputs": [
    {
     "name": "stdout",
     "output_type": "stream",
     "text": [
      "(5810, 115)\n",
      "(5810,)\n"
     ]
    }
   ],
   "source": [
    "shuffled_df = df.sample(frac=1, random_state=42)\n",
    "X = shuffled_df[FEATURES] # features\n",
    "y = shuffled_df['label'] # labels\n",
    "X_train, X_test, y_train, y_test = train_test_split(X, y, test_size=0.2, random_state=47) # 70% training and 30% test\n",
    "\n",
    "print(X_train.shape)\n",
    "print(y_train.shape)"
   ]
  },
  {
   "cell_type": "code",
   "execution_count": 9,
   "metadata": {},
   "outputs": [],
   "source": [
    "X_train = X_train.fillna(0)"
   ]
  },
  {
   "cell_type": "code",
   "execution_count": 10,
   "metadata": {},
   "outputs": [
    {
     "data": {
      "text/plain": [
       "0    0.823408\n",
       "1    0.176592\n",
       "Name: label, dtype: float64"
      ]
     },
     "execution_count": 10,
     "metadata": {},
     "output_type": "execute_result"
    }
   ],
   "source": [
    "y_train.value_counts(normalize=True)"
   ]
  },
  {
   "cell_type": "code",
   "execution_count": 11,
   "metadata": {},
   "outputs": [
    {
     "data": {
      "text/plain": [
       "0    0.814178\n",
       "1    0.185822\n",
       "Name: label, dtype: float64"
      ]
     },
     "execution_count": 11,
     "metadata": {},
     "output_type": "execute_result"
    }
   ],
   "source": [
    "y_test.value_counts(normalize=True)"
   ]
  },
  {
   "cell_type": "code",
   "execution_count": 12,
   "metadata": {},
   "outputs": [
    {
     "name": "stdout",
     "output_type": "stream",
     "text": [
      "(8572, 41)\n",
      "(8572, 46)\n"
     ]
    }
   ],
   "source": [
    "print(df2.shape)\n",
    "df2 = pd.merge(df2, approvals_stats, on='course', how='left')\n",
    "print(df2.shape)\n",
    "df2['dist_min'] = df2['pseudo_argumento_final'] - df2['min']\n",
    "df2['min_flag'] = df2['pseudo_argumento_final'] > df2['min']\n",
    "\n",
    "df2['dist_max'] = df2['pseudo_argumento_final'] - df2['max']\n",
    "df2['dist_median'] = df2['pseudo_argumento_final'] - df2['median']\n",
    "\n",
    "df2['dist_mean'] = df2['pseudo_argumento_final'] - df2['mean']\n",
    "df2['mean_flag'] = df2['pseudo_argumento_final'] > df2['mean']\n",
    "\n",
    "df2 = pd.get_dummies(df2, columns=['course', 'min_flag', 'mean_flag'], drop_first=True)\n",
    "df2['course_MÚSICA (BACHARELADO)'] = 0\n",
    "\n",
    "\n",
    "df2_shuffled = df2.sample(frac=1, random_state=42)"
   ]
  },
  {
   "cell_type": "code",
   "execution_count": 13,
   "metadata": {},
   "outputs": [
    {
     "name": "stdout",
     "output_type": "stream",
     "text": [
      "(14382, 115)\n",
      "(14382,)\n"
     ]
    }
   ],
   "source": [
    "X_train = pd.concat([X_train, df2_shuffled[FEATURES]])\n",
    "y_train = pd.concat([y_train, df2_shuffled['label']])\n",
    "\n",
    "print(X_train.shape)\n",
    "print(y_train.shape)"
   ]
  },
  {
   "cell_type": "code",
   "execution_count": 14,
   "metadata": {},
   "outputs": [
    {
     "data": {
      "text/plain": [
       "0    1183\n",
       "1     270\n",
       "Name: label, dtype: int64"
      ]
     },
     "execution_count": 14,
     "metadata": {},
     "output_type": "execute_result"
    }
   ],
   "source": [
    "y_test.value_counts()"
   ]
  },
  {
   "cell_type": "code",
   "execution_count": 15,
   "metadata": {},
   "outputs": [],
   "source": [
    "from sklearn.linear_model import LogisticRegressionCV\n",
    "from sklearn.preprocessing import StandardScaler"
   ]
  },
  {
   "cell_type": "code",
   "execution_count": 16,
   "metadata": {},
   "outputs": [
    {
     "data": {
      "text/plain": [
       "['escore_bruto_p1_etapa1',\n",
       " 'escore_bruto_p2_etapa1',\n",
       " 'nota_redacao_etapa1',\n",
       " 'escore_bruto_p1_etapa2',\n",
       " 'escore_bruto_p2_etapa2',\n",
       " 'nota_redacao_etapa2',\n",
       " 'escore_bruto_p1_etapa3',\n",
       " 'escore_bruto_p2_etapa3',\n",
       " 'nota_redacao_etapa3',\n",
       " 'pseudo_argumento_final',\n",
       " 'dist_min']"
      ]
     },
     "execution_count": 16,
     "metadata": {},
     "output_type": "execute_result"
    }
   ],
   "source": [
    "columns_to_standardize = list(X_train.columns[:11])  # Example: standardizing columns 0 and 2\n",
    "columns_to_standardize"
   ]
  },
  {
   "cell_type": "code",
   "execution_count": 17,
   "metadata": {},
   "outputs": [],
   "source": [
    "X_train = X_train.fillna(0)\n",
    "X_test = X_test.fillna(0)"
   ]
  },
  {
   "cell_type": "code",
   "execution_count": 18,
   "metadata": {},
   "outputs": [],
   "source": [
    "# Standardize the selected columns in the training and test data\n",
    "scaler = StandardScaler()\n",
    "X_train[columns_to_standardize] = scaler.fit_transform(X_train[columns_to_standardize])\n",
    "X_test[columns_to_standardize] = scaler.transform(X_test[columns_to_standardize])"
   ]
  },
  {
   "cell_type": "code",
   "execution_count": 19,
   "metadata": {},
   "outputs": [
    {
     "data": {
      "text/plain": [
       "0    11260\n",
       "1     3122\n",
       "Name: label, dtype: int64"
      ]
     },
     "execution_count": 19,
     "metadata": {},
     "output_type": "execute_result"
    }
   ],
   "source": [
    "y_train.value_counts()"
   ]
  },
  {
   "cell_type": "code",
   "execution_count": 20,
   "metadata": {},
   "outputs": [
    {
     "data": {
      "text/plain": [
       "{'0': {'precision': 0.956482320942883,\n",
       "  'recall': 0.8918005071851226,\n",
       "  'f1-score': 0.9230096237970254,\n",
       "  'support': 1183},\n",
       " '1': {'precision': 0.6342857142857142,\n",
       "  'recall': 0.8222222222222222,\n",
       "  'f1-score': 0.7161290322580646,\n",
       "  'support': 270},\n",
       " 'accuracy': 0.8788713007570543,\n",
       " 'macro avg': {'precision': 0.7953840176142986,\n",
       "  'recall': 0.8570113647036723,\n",
       "  'f1-score': 0.819569328027545,\n",
       "  'support': 1453},\n",
       " 'weighted avg': {'precision': 0.8966109625138151,\n",
       "  'recall': 0.8788713007570543,\n",
       "  'f1-score': 0.8845665682460828,\n",
       "  'support': 1453}}"
      ]
     },
     "execution_count": 20,
     "metadata": {},
     "output_type": "execute_result"
    }
   ],
   "source": [
    "# Create a Logistic Regression model\n",
    "model = LogisticRegressionCV(solver='liblinear', cv=5, class_weight={0:1, 1:2}, max_iter=100)\n",
    "#model = LogisticRegressionCV(solver='liblinear', cv=5, max_iter=100)\n",
    "\n",
    "# Train the model on the training data\n",
    "model.fit(X_train, y_train)\n",
    "\n",
    "# Make predictions on the test set\n",
    "y_pred = model.predict(X_test)\n",
    "\n",
    "# Model Accuracy, how often is the classifier correct?\n",
    "classification_report(y_test, y_pred, output_dict=True)"
   ]
  },
  {
   "cell_type": "code",
   "execution_count": 21,
   "metadata": {},
   "outputs": [
    {
     "data": {
      "text/plain": [
       "{'0': {'precision': 0.9066558441558441,\n",
       "  'recall': 0.9442096365173288,\n",
       "  'f1-score': 0.9250517598343685,\n",
       "  'support': 1183},\n",
       " '1': {'precision': 0.7013574660633484,\n",
       "  'recall': 0.5740740740740741,\n",
       "  'f1-score': 0.6313645621181262,\n",
       "  'support': 270},\n",
       " 'accuracy': 0.8754301445285616,\n",
       " 'macro avg': {'precision': 0.8040066551095962,\n",
       "  'recall': 0.7591418552957014,\n",
       "  'f1-score': 0.7782081609762473,\n",
       "  'support': 1453},\n",
       " 'weighted avg': {'precision': 0.8685067993623314,\n",
       "  'recall': 0.8754301445285616,\n",
       "  'f1-score': 0.8704780892332774,\n",
       "  'support': 1453}}"
      ]
     },
     "execution_count": 21,
     "metadata": {},
     "output_type": "execute_result"
    }
   ],
   "source": [
    "# Make predictions on the test set\n",
    "y_pred = model.predict_proba(X_test)[:, 1] > .7\n",
    "\n",
    "# Model Accuracy, how often is the classifier correct?\n",
    "classification_report(y_test, y_pred, output_dict=True)"
   ]
  },
  {
   "cell_type": "code",
   "execution_count": 22,
   "metadata": {},
   "outputs": [],
   "source": [
    "import numpy as np"
   ]
  },
  {
   "cell_type": "code",
   "execution_count": 23,
   "metadata": {},
   "outputs": [
    {
     "data": {
      "text/html": [
       "<div>\n",
       "<style scoped>\n",
       "    .dataframe tbody tr th:only-of-type {\n",
       "        vertical-align: middle;\n",
       "    }\n",
       "\n",
       "    .dataframe tbody tr th {\n",
       "        vertical-align: top;\n",
       "    }\n",
       "\n",
       "    .dataframe thead th {\n",
       "        text-align: right;\n",
       "    }\n",
       "</style>\n",
       "<table border=\"1\" class=\"dataframe\">\n",
       "  <thead>\n",
       "    <tr style=\"text-align: right;\">\n",
       "      <th></th>\n",
       "      <th>coef</th>\n",
       "    </tr>\n",
       "  </thead>\n",
       "  <tbody>\n",
       "    <tr>\n",
       "      <th>publicas8_flag</th>\n",
       "      <td>481.574947</td>\n",
       "    </tr>\n",
       "    <tr>\n",
       "      <th>course_ARTES VISUAIS (LICENCIATURA)</th>\n",
       "      <td>22.792754</td>\n",
       "    </tr>\n",
       "    <tr>\n",
       "      <th>course_LICENCIATURA EM FÍSICA</th>\n",
       "      <td>22.410042</td>\n",
       "    </tr>\n",
       "    <tr>\n",
       "      <th>publicas7_flag</th>\n",
       "      <td>19.171006</td>\n",
       "    </tr>\n",
       "    <tr>\n",
       "      <th>course_LÍNGUA E LITERATURA JAPONESA (LICENCIATURA)</th>\n",
       "      <td>16.102656</td>\n",
       "    </tr>\n",
       "    <tr>\n",
       "      <th>course_MÚSICA (LICENCIATURA)</th>\n",
       "      <td>14.141951</td>\n",
       "    </tr>\n",
       "    <tr>\n",
       "      <th>publicas6_flag</th>\n",
       "      <td>7.871438</td>\n",
       "    </tr>\n",
       "    <tr>\n",
       "      <th>course_MUSEOLOGIA (BACHARELADO)</th>\n",
       "      <td>7.341946</td>\n",
       "    </tr>\n",
       "    <tr>\n",
       "      <th>course_FÍSICA (BACHARELADO)</th>\n",
       "      <td>6.790147</td>\n",
       "    </tr>\n",
       "    <tr>\n",
       "      <th>course_HISTÓRIA (LICENCIATURA)</th>\n",
       "      <td>5.289873</td>\n",
       "    </tr>\n",
       "    <tr>\n",
       "      <th>course_ENGENHARIA DE REDES DE COMUNICAÇÃO (BACHARELADO)</th>\n",
       "      <td>5.209645</td>\n",
       "    </tr>\n",
       "    <tr>\n",
       "      <th>course_LICENCIATURA EM ARTES CÊNICAS</th>\n",
       "      <td>5.022333</td>\n",
       "    </tr>\n",
       "    <tr>\n",
       "      <th>publicas3_flag</th>\n",
       "      <td>4.731286</td>\n",
       "    </tr>\n",
       "    <tr>\n",
       "      <th>course_LETRAS – TRADUÇÃO – FRANCÊS (BACHARELADO)</th>\n",
       "      <td>4.342646</td>\n",
       "    </tr>\n",
       "    <tr>\n",
       "      <th>course_ENGENHARIA DE PRODUÇÃO (BACHARELADO)</th>\n",
       "      <td>4.333859</td>\n",
       "    </tr>\n",
       "    <tr>\n",
       "      <th>course_BIBLIOTECONOMIA (BACHARELADO)</th>\n",
       "      <td>4.203431</td>\n",
       "    </tr>\n",
       "    <tr>\n",
       "      <th>course_ESTATÍSTICA (BACHARELADO)</th>\n",
       "      <td>3.960677</td>\n",
       "    </tr>\n",
       "    <tr>\n",
       "      <th>course_CAMPUS UNB PLANALTINA (FUP) – NOTURNO CIÊNCIAS NATURAIS (LICENCIATURA)</th>\n",
       "      <td>3.952812</td>\n",
       "    </tr>\n",
       "    <tr>\n",
       "      <th>escore_bruto_p1_etapa2</th>\n",
       "      <td>3.894548</td>\n",
       "    </tr>\n",
       "    <tr>\n",
       "      <th>course_SAÚDE COLETIVA (BACHARELADO)</th>\n",
       "      <td>3.857253</td>\n",
       "    </tr>\n",
       "    <tr>\n",
       "      <th>publicas5_flag</th>\n",
       "      <td>3.834007</td>\n",
       "    </tr>\n",
       "    <tr>\n",
       "      <th>course_FILOSOFIA (BACHARELADO/LICENCIATURA)</th>\n",
       "      <td>3.721256</td>\n",
       "    </tr>\n",
       "    <tr>\n",
       "      <th>course_LETRAS – TRADUÇÃO ESPANHOL (BACHARELADO)</th>\n",
       "      <td>3.692015</td>\n",
       "    </tr>\n",
       "    <tr>\n",
       "      <th>course_LÍNGUA FRANCESA E RESPECTIVA LITERATURA (BACHARELADO/LICENCIATURA)</th>\n",
       "      <td>3.333964</td>\n",
       "    </tr>\n",
       "    <tr>\n",
       "      <th>cotas_negros_flag</th>\n",
       "      <td>3.172163</td>\n",
       "    </tr>\n",
       "    <tr>\n",
       "      <th>course_GEOFÍSICA (BACHARELADO)</th>\n",
       "      <td>2.727013</td>\n",
       "    </tr>\n",
       "    <tr>\n",
       "      <th>course_DIREITO (BACHARELADO)</th>\n",
       "      <td>2.666831</td>\n",
       "    </tr>\n",
       "    <tr>\n",
       "      <th>course_TEORIA, CRÍTICA E HISTÓRIA DA ARTE (BACHARELADO)</th>\n",
       "      <td>2.567535</td>\n",
       "    </tr>\n",
       "    <tr>\n",
       "      <th>course_LÍNGUA PORTUGUESA E RESPECTIVA LITERATURA (LICENCIATURA)</th>\n",
       "      <td>2.536066</td>\n",
       "    </tr>\n",
       "    <tr>\n",
       "      <th>course_QUÍMICA (BACHARELADO)</th>\n",
       "      <td>2.482433</td>\n",
       "    </tr>\n",
       "    <tr>\n",
       "      <th>course_ARQUIVOLOGIA (BACHARELADO)</th>\n",
       "      <td>2.428197</td>\n",
       "    </tr>\n",
       "    <tr>\n",
       "      <th>course_ENGENHARIA AMBIENTAL (BACHARELADO)</th>\n",
       "      <td>2.419082</td>\n",
       "    </tr>\n",
       "    <tr>\n",
       "      <th>course_LÍNGUA ESTRANGEIRA APLICADA – MULTILINGUISMO E SOCIEDADE DA INFORMAÇÃO (BACHARELADO)</th>\n",
       "      <td>2.318262</td>\n",
       "    </tr>\n",
       "    <tr>\n",
       "      <th>course_ARTES CÊNICAS - INTERPRETAÇÃO TEATRAL (BACHARELADO)</th>\n",
       "      <td>2.223039</td>\n",
       "    </tr>\n",
       "    <tr>\n",
       "      <th>course_GESTÃO AMBIENTAL (BACHARELADO)</th>\n",
       "      <td>2.138670</td>\n",
       "    </tr>\n",
       "    <tr>\n",
       "      <th>course_GEOLOGIA (BACHARELADO)</th>\n",
       "      <td>2.047326</td>\n",
       "    </tr>\n",
       "    <tr>\n",
       "      <th>course_ENGENHARIA FLORESTAL (BACHARELADO)</th>\n",
       "      <td>1.983560</td>\n",
       "    </tr>\n",
       "    <tr>\n",
       "      <th>course_CIÊNCIAS SOCIAIS – ANTROPOLOGIA / SOCIOLOGIA (BACHARELADO/LICENCIATURA)</th>\n",
       "      <td>1.982317</td>\n",
       "    </tr>\n",
       "    <tr>\n",
       "      <th>course_SERVIÇO SOCIAL (BACHARELADO)</th>\n",
       "      <td>1.931672</td>\n",
       "    </tr>\n",
       "    <tr>\n",
       "      <th>course_CIÊNCIAS AMBIENTAIS (BACHARELADO)</th>\n",
       "      <td>1.831979</td>\n",
       "    </tr>\n",
       "    <tr>\n",
       "      <th>course_ENGENHARIA MECÂNICA (BACHARELADO)</th>\n",
       "      <td>1.770648</td>\n",
       "    </tr>\n",
       "    <tr>\n",
       "      <th>course_ENGENHARIAS – AEROESPACIAL / AUTOMOTIVA / ELETRÔNICA / ENERGIA / SOFTWARE (BACHARELADOS)</th>\n",
       "      <td>1.741998</td>\n",
       "    </tr>\n",
       "    <tr>\n",
       "      <th>course_BIOTECNOLOGIA (BACHARELADO)</th>\n",
       "      <td>1.591239</td>\n",
       "    </tr>\n",
       "    <tr>\n",
       "      <th>dist_mean</th>\n",
       "      <td>1.491856</td>\n",
       "    </tr>\n",
       "    <tr>\n",
       "      <th>min_flag_True</th>\n",
       "      <td>1.440716</td>\n",
       "    </tr>\n",
       "    <tr>\n",
       "      <th>course_MÚSICA (BACHARELADO)</th>\n",
       "      <td>1.436098</td>\n",
       "    </tr>\n",
       "    <tr>\n",
       "      <th>course_MEDICINA (BACHARELADO)</th>\n",
       "      <td>1.370973</td>\n",
       "    </tr>\n",
       "    <tr>\n",
       "      <th>course_FILOSOFIA (LICENCIATURA)</th>\n",
       "      <td>1.365837</td>\n",
       "    </tr>\n",
       "    <tr>\n",
       "      <th>course_ENGENHARIA CIVIL (BACHARELADO)</th>\n",
       "      <td>1.347090</td>\n",
       "    </tr>\n",
       "    <tr>\n",
       "      <th>course_CIÊNCIAS CONTÁBEIS (BACHARELADO)</th>\n",
       "      <td>1.345554</td>\n",
       "    </tr>\n",
       "    <tr>\n",
       "      <th>course_LICENCIATURA EM MATEMÁTICA</th>\n",
       "      <td>1.322678</td>\n",
       "    </tr>\n",
       "    <tr>\n",
       "      <th>course_GESTÃO DE POLÍTICAS PÚBLICAS (BACHARELADO)</th>\n",
       "      <td>1.264507</td>\n",
       "    </tr>\n",
       "    <tr>\n",
       "      <th>course_COMPUTAÇÃO (LICENCIATURA)</th>\n",
       "      <td>1.249736</td>\n",
       "    </tr>\n",
       "    <tr>\n",
       "      <th>course_MATEMÁTICA (BACHARELADO/LICENCIATURA)</th>\n",
       "      <td>1.244509</td>\n",
       "    </tr>\n",
       "    <tr>\n",
       "      <th>course_LÍNGUA ESPANHOLA E LITERATURA ESPANHOLA E HISPANO - AMERICANA (LICENCIATURA)</th>\n",
       "      <td>1.200766</td>\n",
       "    </tr>\n",
       "    <tr>\n",
       "      <th>course_TERAPIA OCUPACIONAL (BACHARELADO)</th>\n",
       "      <td>1.195919</td>\n",
       "    </tr>\n",
       "    <tr>\n",
       "      <th>course_HISTÓRIA (BACHARELADO/LICENCIATURA )</th>\n",
       "      <td>1.193559</td>\n",
       "    </tr>\n",
       "    <tr>\n",
       "      <th>course_COMUNICAÇÃO ORGANIZACIONAL (BACHARELADO)</th>\n",
       "      <td>1.136454</td>\n",
       "    </tr>\n",
       "    <tr>\n",
       "      <th>escore_bruto_p1_etapa1</th>\n",
       "      <td>1.127123</td>\n",
       "    </tr>\n",
       "    <tr>\n",
       "      <th>course_RELAÇÕES INTERNACIONAIS (BACHARELADO)</th>\n",
       "      <td>1.121647</td>\n",
       "    </tr>\n",
       "    <tr>\n",
       "      <th>course_PEDAGOGIA (LICENCIATURA)</th>\n",
       "      <td>1.112803</td>\n",
       "    </tr>\n",
       "    <tr>\n",
       "      <th>course_QUÍMICA TECNOLÓGICA (BACHARELADO)</th>\n",
       "      <td>1.103159</td>\n",
       "    </tr>\n",
       "    <tr>\n",
       "      <th>mean_flag_True</th>\n",
       "      <td>1.074602</td>\n",
       "    </tr>\n",
       "    <tr>\n",
       "      <th>nota_redacao_etapa2</th>\n",
       "      <td>1.059514</td>\n",
       "    </tr>\n",
       "    <tr>\n",
       "      <th>course_LETRAS – PORTUGUÊS DO BRASIL COMO SEGUNDA LÍNGUA (LICENCIATURA)</th>\n",
       "      <td>1.045406</td>\n",
       "    </tr>\n",
       "    <tr>\n",
       "      <th>nota_redacao_etapa1</th>\n",
       "      <td>1.036281</td>\n",
       "    </tr>\n",
       "    <tr>\n",
       "      <th>course_LICENCIATURA EM CIÊNCIAS BIOLÓGICAS</th>\n",
       "      <td>1.006768</td>\n",
       "    </tr>\n",
       "    <tr>\n",
       "      <th>escore_bruto_p1_etapa3</th>\n",
       "      <td>0.992384</td>\n",
       "    </tr>\n",
       "    <tr>\n",
       "      <th>escore_bruto_p2_etapa2</th>\n",
       "      <td>0.981064</td>\n",
       "    </tr>\n",
       "    <tr>\n",
       "      <th>course_LETRAS – TRADUÇÃO – INGLÊS (BACHARELADO)</th>\n",
       "      <td>0.976048</td>\n",
       "    </tr>\n",
       "    <tr>\n",
       "      <th>nota_redacao_etapa3</th>\n",
       "      <td>0.970399</td>\n",
       "    </tr>\n",
       "    <tr>\n",
       "      <th>course_TURISMO (BACHARELADO)</th>\n",
       "      <td>0.960753</td>\n",
       "    </tr>\n",
       "    <tr>\n",
       "      <th>course_CIÊNCIA POLÍTICA (BACHARELADO)</th>\n",
       "      <td>0.928860</td>\n",
       "    </tr>\n",
       "    <tr>\n",
       "      <th>publicas4_flag</th>\n",
       "      <td>0.917069</td>\n",
       "    </tr>\n",
       "    <tr>\n",
       "      <th>course_GESTÃO DE AGRONEGÓCIO (BACHARELADO)</th>\n",
       "      <td>0.906453</td>\n",
       "    </tr>\n",
       "    <tr>\n",
       "      <th>escore_bruto_p2_etapa1</th>\n",
       "      <td>0.906436</td>\n",
       "    </tr>\n",
       "    <tr>\n",
       "      <th>dist_median</th>\n",
       "      <td>0.877965</td>\n",
       "    </tr>\n",
       "    <tr>\n",
       "      <th>pseudo_argumento_final</th>\n",
       "      <td>0.844408</td>\n",
       "    </tr>\n",
       "    <tr>\n",
       "      <th>course_COMUNICAÇÃO SOCIAL – AUDIOVISUAL (BACHARELADO)</th>\n",
       "      <td>0.843185</td>\n",
       "    </tr>\n",
       "    <tr>\n",
       "      <th>escore_bruto_p2_etapa3</th>\n",
       "      <td>0.769832</td>\n",
       "    </tr>\n",
       "    <tr>\n",
       "      <th>course_ENGENHARIA ELÉTRICA (BACHARELADO)</th>\n",
       "      <td>0.759560</td>\n",
       "    </tr>\n",
       "    <tr>\n",
       "      <th>course_NOTURNO ADMINISTRAÇÃO (BACHARELADO)</th>\n",
       "      <td>0.757219</td>\n",
       "    </tr>\n",
       "    <tr>\n",
       "      <th>course_ENGENHARIA DE COMPUTAÇÃO (BACHARELADO)</th>\n",
       "      <td>0.745939</td>\n",
       "    </tr>\n",
       "    <tr>\n",
       "      <th>course_FARMÁCIA (BACHARELADO)</th>\n",
       "      <td>0.672881</td>\n",
       "    </tr>\n",
       "    <tr>\n",
       "      <th>course_FONOAUDIOLOGIA (BACHARELADO)</th>\n",
       "      <td>0.636590</td>\n",
       "    </tr>\n",
       "    <tr>\n",
       "      <th>course_LICENCIATURA EM QUÍMICA</th>\n",
       "      <td>0.593821</td>\n",
       "    </tr>\n",
       "    <tr>\n",
       "      <th>course_ENGENHARIA QUÍMICA (BACHARELADO)</th>\n",
       "      <td>0.553566</td>\n",
       "    </tr>\n",
       "    <tr>\n",
       "      <th>publicas1_flag</th>\n",
       "      <td>0.546786</td>\n",
       "    </tr>\n",
       "    <tr>\n",
       "      <th>course_DIURNO ADMINISTRAÇÃO (BACHARELADO)</th>\n",
       "      <td>0.542523</td>\n",
       "    </tr>\n",
       "    <tr>\n",
       "      <th>course_CIÊNCIAS BIOLÓGICAS (BACHARELADO)</th>\n",
       "      <td>0.523225</td>\n",
       "    </tr>\n",
       "    <tr>\n",
       "      <th>course_COMUNICAÇÃO SOCIAL - PUBLICIDADE E PROPAGANDA (BACHARELADO)</th>\n",
       "      <td>0.512133</td>\n",
       "    </tr>\n",
       "    <tr>\n",
       "      <th>course_FISIOTERAPIA (BACHARELADO)</th>\n",
       "      <td>0.488343</td>\n",
       "    </tr>\n",
       "    <tr>\n",
       "      <th>course_CIÊNCIAS ECONÔMICAS (BACHARELADO)</th>\n",
       "      <td>0.485338</td>\n",
       "    </tr>\n",
       "    <tr>\n",
       "      <th>course_CAMPUS UNB CEILÂNDIA (FCE) ENFERMAGEM (BACHARELADO)</th>\n",
       "      <td>0.474578</td>\n",
       "    </tr>\n",
       "    <tr>\n",
       "      <th>course_LÍNGUA PORTUGUESA E RESPECTIVA LITERATURA (BACHARELADO/LICENCIATURA)</th>\n",
       "      <td>0.420081</td>\n",
       "    </tr>\n",
       "    <tr>\n",
       "      <th>course_ARQUITETURA E URBANISMO (BACHARELADO)</th>\n",
       "      <td>0.400496</td>\n",
       "    </tr>\n",
       "    <tr>\n",
       "      <th>course_EDUCAÇÃO FÍSICA (LICENCIATURA)</th>\n",
       "      <td>0.396716</td>\n",
       "    </tr>\n",
       "    <tr>\n",
       "      <th>course_CIÊNCIA DA COMPUTAÇÃO (BACHARELADO)</th>\n",
       "      <td>0.391399</td>\n",
       "    </tr>\n",
       "    <tr>\n",
       "      <th>course_ENGENHARIA MECATRÔNICA – CONTROLE E AUTOMAÇÃO (BACHARELADO)</th>\n",
       "      <td>0.366751</td>\n",
       "    </tr>\n",
       "    <tr>\n",
       "      <th>course_CAMPUS UNB PLANALTINA (FUP) – DIURNO CIÊNCIAS NATURAIS (LICENCIATURA)</th>\n",
       "      <td>0.354625</td>\n",
       "    </tr>\n",
       "    <tr>\n",
       "      <th>course_GEOGRAFIA (BACHARELADO/LICENCIATURA)</th>\n",
       "      <td>0.352838</td>\n",
       "    </tr>\n",
       "    <tr>\n",
       "      <th>course_GESTÃO DO AGRONEGÓCIO (BACHARELADO)</th>\n",
       "      <td>0.348361</td>\n",
       "    </tr>\n",
       "    <tr>\n",
       "      <th>course_ARTES VISUAIS (BACHARELADO)</th>\n",
       "      <td>0.340446</td>\n",
       "    </tr>\n",
       "    <tr>\n",
       "      <th>course_JORNALISMO (BACHARELADO)</th>\n",
       "      <td>0.306563</td>\n",
       "    </tr>\n",
       "    <tr>\n",
       "      <th>course_NUTRIÇÃO (BACHARELADO)</th>\n",
       "      <td>0.296954</td>\n",
       "    </tr>\n",
       "    <tr>\n",
       "      <th>course_ODONTOLOGIA (BACHARELADO)</th>\n",
       "      <td>0.258024</td>\n",
       "    </tr>\n",
       "    <tr>\n",
       "      <th>course_PSICOLOGIA (BACHARELADO / LICENCIATURA / PSICÓLOGO)</th>\n",
       "      <td>0.208838</td>\n",
       "    </tr>\n",
       "    <tr>\n",
       "      <th>course_LÍNGUA INGLESA E RESPECTIVA LITERATURA (BACHARELADO/LICENCIATURA)</th>\n",
       "      <td>0.207688</td>\n",
       "    </tr>\n",
       "    <tr>\n",
       "      <th>dist_min</th>\n",
       "      <td>0.197813</td>\n",
       "    </tr>\n",
       "    <tr>\n",
       "      <th>course_EDUCAÇÃO FÍSICA (BACHARELADO)</th>\n",
       "      <td>0.193210</td>\n",
       "    </tr>\n",
       "    <tr>\n",
       "      <th>publicas_flag</th>\n",
       "      <td>0.179201</td>\n",
       "    </tr>\n",
       "    <tr>\n",
       "      <th>course_DESIGN – PROGRAMAÇÃO VISUAL/PROJETO DO PRODUTO (BACHARELADO)</th>\n",
       "      <td>0.174014</td>\n",
       "    </tr>\n",
       "    <tr>\n",
       "      <th>course_MEDICINA VETERINÁRIA (BACHARELADO)</th>\n",
       "      <td>0.152754</td>\n",
       "    </tr>\n",
       "    <tr>\n",
       "      <th>course_ENFERMAGEM (BACHARELADO)</th>\n",
       "      <td>0.137694</td>\n",
       "    </tr>\n",
       "    <tr>\n",
       "      <th>publicas2_flag</th>\n",
       "      <td>0.109297</td>\n",
       "    </tr>\n",
       "  </tbody>\n",
       "</table>\n",
       "</div>"
      ],
      "text/plain": [
       "                                                          coef\n",
       "publicas8_flag                                      481.574947\n",
       "course_ARTES VISUAIS (LICENCIATURA)                  22.792754\n",
       "course_LICENCIATURA EM FÍSICA                        22.410042\n",
       "publicas7_flag                                       19.171006\n",
       "course_LÍNGUA E LITERATURA JAPONESA (LICENCIATURA)   16.102656\n",
       "course_MÚSICA (LICENCIATURA)                         14.141951\n",
       "publicas6_flag                                        7.871438\n",
       "course_MUSEOLOGIA (BACHARELADO)                       7.341946\n",
       "course_FÍSICA (BACHARELADO)                           6.790147\n",
       "course_HISTÓRIA (LICENCIATURA)                        5.289873\n",
       "course_ENGENHARIA DE REDES DE COMUNICAÇÃO (BACH...    5.209645\n",
       "course_LICENCIATURA EM ARTES CÊNICAS                  5.022333\n",
       "publicas3_flag                                        4.731286\n",
       "course_LETRAS – TRADUÇÃO – FRANCÊS (BACHARELADO)      4.342646\n",
       "course_ENGENHARIA DE PRODUÇÃO (BACHARELADO)           4.333859\n",
       "course_BIBLIOTECONOMIA (BACHARELADO)                  4.203431\n",
       "course_ESTATÍSTICA (BACHARELADO)                      3.960677\n",
       "course_CAMPUS UNB PLANALTINA (FUP) – NOTURNO CI...    3.952812\n",
       "escore_bruto_p1_etapa2                                3.894548\n",
       "course_SAÚDE COLETIVA (BACHARELADO)                   3.857253\n",
       "publicas5_flag                                        3.834007\n",
       "course_FILOSOFIA (BACHARELADO/LICENCIATURA)           3.721256\n",
       "course_LETRAS – TRADUÇÃO ESPANHOL (BACHARELADO)       3.692015\n",
       "course_LÍNGUA FRANCESA E RESPECTIVA LITERATURA ...    3.333964\n",
       "cotas_negros_flag                                     3.172163\n",
       "course_GEOFÍSICA (BACHARELADO)                        2.727013\n",
       "course_DIREITO (BACHARELADO)                          2.666831\n",
       "course_TEORIA, CRÍTICA E HISTÓRIA DA ARTE (BACH...    2.567535\n",
       "course_LÍNGUA PORTUGUESA E RESPECTIVA LITERATUR...    2.536066\n",
       "course_QUÍMICA (BACHARELADO)                          2.482433\n",
       "course_ARQUIVOLOGIA (BACHARELADO)                     2.428197\n",
       "course_ENGENHARIA AMBIENTAL (BACHARELADO)             2.419082\n",
       "course_LÍNGUA ESTRANGEIRA APLICADA – MULTILINGU...    2.318262\n",
       "course_ARTES CÊNICAS - INTERPRETAÇÃO TEATRAL (B...    2.223039\n",
       "course_GESTÃO AMBIENTAL (BACHARELADO)                 2.138670\n",
       "course_GEOLOGIA (BACHARELADO)                         2.047326\n",
       "course_ENGENHARIA FLORESTAL (BACHARELADO)             1.983560\n",
       "course_CIÊNCIAS SOCIAIS – ANTROPOLOGIA / SOCIOL...    1.982317\n",
       "course_SERVIÇO SOCIAL (BACHARELADO)                   1.931672\n",
       "course_CIÊNCIAS AMBIENTAIS (BACHARELADO)              1.831979\n",
       "course_ENGENHARIA MECÂNICA (BACHARELADO)              1.770648\n",
       "course_ENGENHARIAS – AEROESPACIAL / AUTOMOTIVA ...    1.741998\n",
       "course_BIOTECNOLOGIA (BACHARELADO)                    1.591239\n",
       "dist_mean                                             1.491856\n",
       "min_flag_True                                         1.440716\n",
       "course_MÚSICA (BACHARELADO)                           1.436098\n",
       "course_MEDICINA (BACHARELADO)                         1.370973\n",
       "course_FILOSOFIA (LICENCIATURA)                       1.365837\n",
       "course_ENGENHARIA CIVIL (BACHARELADO)                 1.347090\n",
       "course_CIÊNCIAS CONTÁBEIS (BACHARELADO)               1.345554\n",
       "course_LICENCIATURA EM MATEMÁTICA                     1.322678\n",
       "course_GESTÃO DE POLÍTICAS PÚBLICAS (BACHARELADO)     1.264507\n",
       "course_COMPUTAÇÃO (LICENCIATURA)                      1.249736\n",
       "course_MATEMÁTICA (BACHARELADO/LICENCIATURA)          1.244509\n",
       "course_LÍNGUA ESPANHOLA E LITERATURA ESPANHOLA ...    1.200766\n",
       "course_TERAPIA OCUPACIONAL (BACHARELADO)              1.195919\n",
       "course_HISTÓRIA (BACHARELADO/LICENCIATURA )           1.193559\n",
       "course_COMUNICAÇÃO ORGANIZACIONAL (BACHARELADO)       1.136454\n",
       "escore_bruto_p1_etapa1                                1.127123\n",
       "course_RELAÇÕES INTERNACIONAIS (BACHARELADO)          1.121647\n",
       "course_PEDAGOGIA (LICENCIATURA)                       1.112803\n",
       "course_QUÍMICA TECNOLÓGICA (BACHARELADO)              1.103159\n",
       "mean_flag_True                                        1.074602\n",
       "nota_redacao_etapa2                                   1.059514\n",
       "course_LETRAS – PORTUGUÊS DO BRASIL COMO SEGUND...    1.045406\n",
       "nota_redacao_etapa1                                   1.036281\n",
       "course_LICENCIATURA EM CIÊNCIAS BIOLÓGICAS            1.006768\n",
       "escore_bruto_p1_etapa3                                0.992384\n",
       "escore_bruto_p2_etapa2                                0.981064\n",
       "course_LETRAS – TRADUÇÃO – INGLÊS (BACHARELADO)       0.976048\n",
       "nota_redacao_etapa3                                   0.970399\n",
       "course_TURISMO (BACHARELADO)                          0.960753\n",
       "course_CIÊNCIA POLÍTICA (BACHARELADO)                 0.928860\n",
       "publicas4_flag                                        0.917069\n",
       "course_GESTÃO DE AGRONEGÓCIO (BACHARELADO)            0.906453\n",
       "escore_bruto_p2_etapa1                                0.906436\n",
       "dist_median                                           0.877965\n",
       "pseudo_argumento_final                                0.844408\n",
       "course_COMUNICAÇÃO SOCIAL – AUDIOVISUAL (BACHAR...    0.843185\n",
       "escore_bruto_p2_etapa3                                0.769832\n",
       "course_ENGENHARIA ELÉTRICA (BACHARELADO)              0.759560\n",
       "course_NOTURNO ADMINISTRAÇÃO (BACHARELADO)            0.757219\n",
       "course_ENGENHARIA DE COMPUTAÇÃO (BACHARELADO)         0.745939\n",
       "course_FARMÁCIA (BACHARELADO)                         0.672881\n",
       "course_FONOAUDIOLOGIA (BACHARELADO)                   0.636590\n",
       "course_LICENCIATURA EM QUÍMICA                        0.593821\n",
       "course_ENGENHARIA QUÍMICA (BACHARELADO)               0.553566\n",
       "publicas1_flag                                        0.546786\n",
       "course_DIURNO ADMINISTRAÇÃO (BACHARELADO)             0.542523\n",
       "course_CIÊNCIAS BIOLÓGICAS (BACHARELADO)              0.523225\n",
       "course_COMUNICAÇÃO SOCIAL - PUBLICIDADE E PROPA...    0.512133\n",
       "course_FISIOTERAPIA (BACHARELADO)                     0.488343\n",
       "course_CIÊNCIAS ECONÔMICAS (BACHARELADO)              0.485338\n",
       "course_CAMPUS UNB CEILÂNDIA (FCE) ENFERMAGEM (B...    0.474578\n",
       "course_LÍNGUA PORTUGUESA E RESPECTIVA LITERATUR...    0.420081\n",
       "course_ARQUITETURA E URBANISMO (BACHARELADO)          0.400496\n",
       "course_EDUCAÇÃO FÍSICA (LICENCIATURA)                 0.396716\n",
       "course_CIÊNCIA DA COMPUTAÇÃO (BACHARELADO)            0.391399\n",
       "course_ENGENHARIA MECATRÔNICA – CONTROLE E AUTO...    0.366751\n",
       "course_CAMPUS UNB PLANALTINA (FUP) – DIURNO CIÊ...    0.354625\n",
       "course_GEOGRAFIA (BACHARELADO/LICENCIATURA)           0.352838\n",
       "course_GESTÃO DO AGRONEGÓCIO (BACHARELADO)            0.348361\n",
       "course_ARTES VISUAIS (BACHARELADO)                    0.340446\n",
       "course_JORNALISMO (BACHARELADO)                       0.306563\n",
       "course_NUTRIÇÃO (BACHARELADO)                         0.296954\n",
       "course_ODONTOLOGIA (BACHARELADO)                      0.258024\n",
       "course_PSICOLOGIA (BACHARELADO / LICENCIATURA /...    0.208838\n",
       "course_LÍNGUA INGLESA E RESPECTIVA LITERATURA (...    0.207688\n",
       "dist_min                                              0.197813\n",
       "course_EDUCAÇÃO FÍSICA (BACHARELADO)                  0.193210\n",
       "publicas_flag                                         0.179201\n",
       "course_DESIGN – PROGRAMAÇÃO VISUAL/PROJETO DO P...    0.174014\n",
       "course_MEDICINA VETERINÁRIA (BACHARELADO)             0.152754\n",
       "course_ENFERMAGEM (BACHARELADO)                       0.137694\n",
       "publicas2_flag                                        0.109297"
      ]
     },
     "execution_count": 23,
     "metadata": {},
     "output_type": "execute_result"
    }
   ],
   "source": [
    "odds = np.exp(model.coef_[0])\n",
    "pd.DataFrame(odds, \n",
    "             X.columns, \n",
    "             columns=['coef'])\\\n",
    "            .sort_values(by='coef', ascending=False)"
   ]
  },
  {
   "cell_type": "code",
   "execution_count": null,
   "metadata": {},
   "outputs": [],
   "source": []
  },
  {
   "cell_type": "code",
   "execution_count": 27,
   "metadata": {},
   "outputs": [
    {
     "name": "stderr",
     "output_type": "stream",
     "text": [
      "c:\\Anaconda\\lib\\site-packages\\sklearn\\metrics\\_classification.py:1344: UndefinedMetricWarning: Precision and F-score are ill-defined and being set to 0.0 in labels with no predicted samples. Use `zero_division` parameter to control this behavior.\n",
      "  _warn_prf(average, modifier, msg_start, len(result))\n",
      "c:\\Anaconda\\lib\\site-packages\\sklearn\\metrics\\_classification.py:1344: UndefinedMetricWarning: Precision and F-score are ill-defined and being set to 0.0 in labels with no predicted samples. Use `zero_division` parameter to control this behavior.\n",
      "  _warn_prf(average, modifier, msg_start, len(result))\n",
      "c:\\Anaconda\\lib\\site-packages\\sklearn\\metrics\\_classification.py:1344: UndefinedMetricWarning: Precision and F-score are ill-defined and being set to 0.0 in labels with no predicted samples. Use `zero_division` parameter to control this behavior.\n",
      "  _warn_prf(average, modifier, msg_start, len(result))\n"
     ]
    },
    {
     "data": {
      "text/plain": [
       "{'0': {'precision': 0.9583333333333334,\n",
       "  'recall': 1.0,\n",
       "  'f1-score': 0.9787234042553191,\n",
       "  'support': 138},\n",
       " '1': {'precision': 0.0, 'recall': 0.0, 'f1-score': 0.0, 'support': 6},\n",
       " 'accuracy': 0.9583333333333334,\n",
       " 'macro avg': {'precision': 0.4791666666666667,\n",
       "  'recall': 0.5,\n",
       "  'f1-score': 0.48936170212765956,\n",
       "  'support': 144},\n",
       " 'weighted avg': {'precision': 0.9184027777777778,\n",
       "  'recall': 0.9583333333333334,\n",
       "  'f1-score': 0.9379432624113474,\n",
       "  'support': 144}}"
      ]
     },
     "execution_count": 27,
     "metadata": {},
     "output_type": "execute_result"
    }
   ],
   "source": [
    "#course='ENGENHARIAS – AEROESPACIAL / AUTOMOTIVA / ELETRÔNICA / ENERGIA / SOFTWARE (BACHARELADOS)'\n",
    "course='course_MEDICINA (BACHARELADO)'\n",
    "classification_report(y_test[X_test[course]==1], y_pred[X_test[course]==1], output_dict=True)"
   ]
  },
  {
   "attachments": {},
   "cell_type": "markdown",
   "metadata": {},
   "source": [
    "## Model Calibration"
   ]
  },
  {
   "cell_type": "code",
   "execution_count": 76,
   "metadata": {},
   "outputs": [],
   "source": [
    "import matplotlib.pyplot as plt\n",
    "from matplotlib.gridspec import GridSpec\n",
    "from sklearn.calibration import CalibratedClassifierCV, CalibrationDisplay"
   ]
  },
  {
   "cell_type": "code",
   "execution_count": 77,
   "metadata": {},
   "outputs": [],
   "source": [
    "model_sigmoid = CalibratedClassifierCV(model, cv=3, method=\"isotonic\")"
   ]
  },
  {
   "cell_type": "code",
   "execution_count": 78,
   "metadata": {},
   "outputs": [],
   "source": [
    "clf_list = [(model, \"XGBoost\"), (model_sigmoid, \"XGBoost + Isotonic\")]"
   ]
  },
  {
   "cell_type": "code",
   "execution_count": 79,
   "metadata": {},
   "outputs": [
    {
     "data": {
      "text/plain": [
       "Text(0.5, 1.0, 'Calibration plots (XGBoost)')"
      ]
     },
     "execution_count": 79,
     "metadata": {},
     "output_type": "execute_result"
    },
    {
     "data": {
      "image/png": "[encoded data removed]",
      "text/plain": [
       "<Figure size 720x720 with 1 Axes>"
      ]
     },
     "metadata": {
      "needs_background": "light"
     },
     "output_type": "display_data"
    }
   ],
   "source": [
    "fig = plt.figure(figsize=(10, 10))\n",
    "gs = GridSpec(2, 2)\n",
    "colors = plt.cm.get_cmap(\"Dark2\")\n",
    "\n",
    "ax_calibration_curve = fig.add_subplot(gs[:2, :2])\n",
    "calibration_displays = {}\n",
    "for i, (clf, name) in enumerate(clf_list):\n",
    "    clf.fit(X_train, y_train)\n",
    "    display = CalibrationDisplay.from_estimator(\n",
    "        clf,\n",
    "        X_test,\n",
    "        y_test,\n",
    "        n_bins=10,\n",
    "        name=name,\n",
    "        ax=ax_calibration_curve,\n",
    "        color=colors(i),\n",
    "    )\n",
    "    calibration_displays[name] = display\n",
    "\n",
    "ax_calibration_curve.grid()\n",
    "ax_calibration_curve.set_title(\"Calibration plots (XGBoost)\")"
   ]
  },
  {
   "cell_type": "code",
   "execution_count": 80,
   "metadata": {},
   "outputs": [
    {
     "data": {
      "text/plain": [
       "{'0': {'precision': 0.929225645295587,\n",
       "  'recall': 0.9433643279797126,\n",
       "  'f1-score': 0.9362416107382552,\n",
       "  'support': 1183},\n",
       " '1': {'precision': 0.7341269841269841,\n",
       "  'recall': 0.6851851851851852,\n",
       "  'f1-score': 0.7088122605363985,\n",
       "  'support': 270},\n",
       " 'accuracy': 0.8953888506538197,\n",
       " 'macro avg': {'precision': 0.8316763147112856,\n",
       "  'recall': 0.8142747565824489,\n",
       "  'f1-score': 0.8225269356373268,\n",
       "  'support': 1453},\n",
       " 'weighted avg': {'precision': 0.8929719367508364,\n",
       "  'recall': 0.8953888506538197,\n",
       "  'f1-score': 0.8939801347888393,\n",
       "  'support': 1453}}"
      ]
     },
     "execution_count": 80,
     "metadata": {},
     "output_type": "execute_result"
    }
   ],
   "source": [
    "# Make predictions on the test set\n",
    "y_pred = model_sigmoid.predict(X_test)\n",
    "\n",
    "# Model Accuracy, how often is the classifier correct?\n",
    "classification_report(y_test, y_pred, output_dict=True)"
   ]
  },
  {
   "attachments": {},
   "cell_type": "markdown",
   "metadata": {},
   "source": [
    "## Prediction for new sample"
   ]
  },
  {
   "cell_type": "code",
   "execution_count": 82,
   "metadata": {},
   "outputs": [],
   "source": [
    "with open('xgboost_categorical_calibrated.pickle','wb') as f:\n",
    "    pickle.dump(model_sigmoid, f)"
   ]
  },
  {
   "cell_type": "code",
   "execution_count": 26,
   "metadata": {},
   "outputs": [],
   "source": [
    "with open('../ml_dev/models/xgboost_categorical_calibrated.pickle', 'rb') as f:\n",
    "  model_loaded = pickle.load(f)"
   ]
  },
  {
   "cell_type": "code",
   "execution_count": 83,
   "metadata": {},
   "outputs": [],
   "source": [
    "def preprocess_input_features(features: dict) -> pd.DataFrame:\n",
    "    new_sample = features\n",
    "    new_sample = pd.DataFrame([new_sample])\n",
    "    new_sample.course = new_sample.course.astype(cat_type)\n",
    "    return new_sample"
   ]
  },
  {
   "cell_type": "code",
   "execution_count": 119,
   "metadata": {},
   "outputs": [],
   "source": [
    "my_sample = {\n",
    "\"escore_bruto_p1_etapa1\": 6.034,\n",
    " \"escore_bruto_p2_etapa1\": 64.65,\n",
    " \"nota_redacao_etapa1\": 9.733,\n",
    " \"escore_bruto_p1_etapa2\": 3.845,\n",
    " \"escore_bruto_p2_etapa2\": 63.826,\n",
    " \"nota_redacao_etapa2\": 9.933,\n",
    " \"escore_bruto_p1_etapa3\": 7.14,\n",
    " \"escore_bruto_p2_etapa3\": 76.636,\n",
    " \"nota_redacao_etapa3\": 9.931,\n",
    " \"pseudo_argumento_final\": 70.36833333333334,\n",
    " \"cotista\": 0,\n",
    " \"cotas_negros_flag\": 0,\n",
    " \"publicas_flag\": 0,\n",
    " \"publicas1_flag\": 0,\n",
    " \"publicas2_flag\": 0,\n",
    " \"publicas3_flag\": 0,\n",
    " \"publicas4_flag\": 0,\n",
    " \"publicas5_flag\": 0,\n",
    " \"publicas6_flag\": 0,\n",
    " \"publicas7_flag\": 0,\n",
    " \"publicas8_flag\": 0,\n",
    " \"dist_min\": True,\n",
    " \"course\": \"MEDICINA (BACHARELADO)\"\n",
    " }"
   ]
  },
  {
   "cell_type": "code",
   "execution_count": 116,
   "metadata": {},
   "outputs": [],
   "source": [
    "my_sample = preprocess_input_features(my_sample)"
   ]
  },
  {
   "cell_type": "code",
   "execution_count": 117,
   "metadata": {},
   "outputs": [],
   "source": [
    "my_sample2 = X_test.loc[[3926, 3936]]"
   ]
  },
  {
   "cell_type": "code",
   "execution_count": 118,
   "metadata": {},
   "outputs": [
    {
     "name": "stdout",
     "output_type": "stream",
     "text": [
      "[[0.8205844  0.17941557]]\n",
      "[[0.9960371  0.00396285]\n",
      " [0.8711974  0.1288026 ]]\n"
     ]
    }
   ],
   "source": [
    "print(model.predict_proba(my_sample))\n",
    "print(model.predict_proba(my_sample2))\n",
    "#print(model_sigmoid.predict_proba(my_sample))\n",
    "#print(model_sigmoid.predict_proba(X_test.head(13)))"
   ]
  }
 ],
 "metadata": {
  "kernelspec": {
   "display_name": "base",
   "language": "python",
   "name": "python3"
  },
  "language_info": {
   "codemirror_mode": {
    "name": "ipython",
    "version": 3
   },
   "file_extension": ".py",
   "mimetype": "text/x-python",
   "name": "python",
   "nbconvert_exporter": "python",
   "pygments_lexer": "ipython3",
   "version": "3.9.7"
  },
  "orig_nbformat": 4
 },
 "nbformat": 4,
 "nbformat_minor": 2
}
